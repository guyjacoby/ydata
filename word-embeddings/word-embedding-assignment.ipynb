{
 "cells": [
  {
   "cell_type": "markdown",
   "metadata": {},
   "source": [
    "# Word Embedding - Home Assigment\n",
    "## Dr. Omri Allouche 2018. YData Deep Learning Course\n",
    "\n",
    "[Open in Google Colab](https://colab.research.google.com/github/omriallouche/deep_learning_course/blob/master/DL_word_embedding_assignment.ipynb)\n",
    "    \n",
    "    \n",
    "In this exercise, you'll use word vectors trained on a corpus of 380,000 lyrics of songs from MetroLyrics (https://www.kaggle.com/gyani95/380000-lyrics-from-metrolyrics).  \n",
    "The dataset contains these fields for each song, in CSV format:\n",
    "1. index\n",
    "1. song\n",
    "1. year\n",
    "1. artist\n",
    "1. genre\n",
    "1. lyrics\n",
    "\n",
    "Before doing this exercise, we recommend that you go over the \"Bag of words meets bag of popcorn\" tutorial (https://www.kaggle.com/c/word2vec-nlp-tutorial)\n",
    "\n",
    "Other recommended resources:\n",
    "- https://rare-technologies.com/word2vec-tutorial/\n",
    "- https://www.kaggle.com/pierremegret/gensim-word2vec-tutorial"
   ]
  },
  {
   "cell_type": "markdown",
   "metadata": {},
   "source": [
    "### Train word vectors\n",
    "Train word vectors using the Skipgram Word2vec algorithm and the gensim package.\n",
    "Make sure you perform the following:\n",
    "- Tokenize words\n",
    "- Lowercase all words\n",
    "- Remove punctuation marks\n",
    "- Remove rare words\n",
    "- Remove stopwords\n",
    "\n",
    "Use 300 as the dimension of the word vectors. Try different context sizes."
   ]
  },
  {
   "cell_type": "code",
   "execution_count": 90,
   "metadata": {
    "ExecuteTime": {
     "end_time": "2020-09-02T17:17:14.246982Z",
     "start_time": "2020-09-02T17:17:14.239971Z"
    }
   },
   "outputs": [],
   "source": [
    "import numpy as np\n",
    "import pandas as pd\n",
    "import os\n",
    "import re\n",
    "import nltk\n",
    "from time import time\n",
    "from nltk.corpus import stopwords\n",
    "from gensim.models import Word2Vec\n",
    "import multiprocessing\n",
    "\n",
    "import logging  # Setting up the loggings to monitor gensim\n",
    "logging.basicConfig(format=\"%(levelname)s - %(asctime)s: %(message)s\", datefmt= '%H:%M:%S', level=logging.INFO)"
   ]
  },
  {
   "cell_type": "code",
   "execution_count": 91,
   "metadata": {
    "ExecuteTime": {
     "end_time": "2020-09-02T17:17:18.865164Z",
     "start_time": "2020-09-02T17:17:15.885141Z"
    }
   },
   "outputs": [],
   "source": [
    "train = pd.read_csv('data/lyrics.csv', index_col=0)"
   ]
  },
  {
   "cell_type": "code",
   "execution_count": 92,
   "metadata": {
    "ExecuteTime": {
     "end_time": "2020-09-02T17:17:19.896137Z",
     "start_time": "2020-09-02T17:17:19.801090Z"
    }
   },
   "outputs": [],
   "source": [
    "train.dropna(subset=['lyrics'], inplace=True)"
   ]
  },
  {
   "cell_type": "code",
   "execution_count": 11,
   "metadata": {
    "ExecuteTime": {
     "end_time": "2020-09-02T10:32:34.706802Z",
     "start_time": "2020-09-02T10:32:33.077482Z"
    }
   },
   "outputs": [
    {
     "name": "stderr",
     "output_type": "stream",
     "text": [
      "[nltk_data] Downloading package stopwords to\n",
      "[nltk_data]     C:\\Users\\guyja\\AppData\\Roaming\\nltk_data...\n",
      "[nltk_data]   Package stopwords is already up-to-date!\n"
     ]
    },
    {
     "data": {
      "text/plain": [
       "True"
      ]
     },
     "execution_count": 11,
     "metadata": {},
     "output_type": "execute_result"
    }
   ],
   "source": [
    "nltk.download('stopwords')"
   ]
  },
  {
   "cell_type": "code",
   "execution_count": 93,
   "metadata": {
    "ExecuteTime": {
     "end_time": "2020-09-02T17:17:27.493782Z",
     "start_time": "2020-09-02T17:17:27.479781Z"
    }
   },
   "outputs": [],
   "source": [
    "stops = set(stopwords.words('english'))\n",
    "def lyrics_to_words (lyrics):\n",
    "    letters_only = re.sub(\"[^a-zA-Z]\", \" \", lyrics)\n",
    "    words = letters_only.lower().split()\n",
    "    meaningful_words = [word for word in words if not word in stops]\n",
    "    return meaningful_words"
   ]
  },
  {
   "cell_type": "code",
   "execution_count": 94,
   "metadata": {
    "ExecuteTime": {
     "end_time": "2020-09-02T17:18:07.747205Z",
     "start_time": "2020-09-02T17:17:29.144204Z"
    }
   },
   "outputs": [
    {
     "name": "stdout",
     "output_type": "stream",
     "text": [
      "0.64 mins\n"
     ]
    }
   ],
   "source": [
    "t = time()\n",
    "train['clean_lyrics'] = train.lyrics.apply(lambda x: lyrics_to_words(x))\n",
    "print('{} mins'.format(round((time() - t) / 60, 2)))"
   ]
  },
  {
   "cell_type": "code",
   "execution_count": 20,
   "metadata": {
    "ExecuteTime": {
     "end_time": "2020-09-02T10:41:34.240178Z",
     "start_time": "2020-09-02T10:41:34.223173Z"
    }
   },
   "outputs": [],
   "source": [
    "sentences = train.clean_lyrics.to_list()"
   ]
  },
  {
   "cell_type": "code",
   "execution_count": 21,
   "metadata": {
    "ExecuteTime": {
     "end_time": "2020-09-02T11:24:50.257887Z",
     "start_time": "2020-09-02T11:24:50.225876Z"
    }
   },
   "outputs": [],
   "source": [
    "# w2v_model = Word2Vec(min_count=20,\n",
    "#                      window=5,\n",
    "#                      size=300,\n",
    "#                      sample=6e-5, \n",
    "#                      alpha=0.03, \n",
    "#                      min_alpha=0.0007, \n",
    "#                      negative=20,\n",
    "#                      workers=4,\n",
    "#                      sg=1)"
   ]
  },
  {
   "cell_type": "code",
   "execution_count": 22,
   "metadata": {
    "ExecuteTime": {
     "end_time": "2020-09-02T11:25:22.173155Z",
     "start_time": "2020-09-02T11:25:05.852154Z"
    }
   },
   "outputs": [
    {
     "name": "stderr",
     "output_type": "stream",
     "text": [
      "INFO - 14:25:05: collecting all words and their counts\n",
      "INFO - 14:25:05: PROGRESS: at sentence #0, processed 0 words, keeping 0 word types\n",
      "INFO - 14:25:06: PROGRESS: at sentence #10000, processed 1147030 words, keeping 56164 word types\n",
      "INFO - 14:25:06: PROGRESS: at sentence #20000, processed 2369372 words, keeping 91682 word types\n",
      "INFO - 14:25:06: PROGRESS: at sentence #30000, processed 3538230 words, keeping 107963 word types\n",
      "INFO - 14:25:06: PROGRESS: at sentence #40000, processed 4799852 words, keeping 130265 word types\n",
      "INFO - 14:25:06: PROGRESS: at sentence #50000, processed 5939943 words, keeping 151445 word types\n",
      "INFO - 14:25:07: PROGRESS: at sentence #60000, processed 7172080 words, keeping 169102 word types\n",
      "INFO - 14:25:07: PROGRESS: at sentence #70000, processed 8313429 words, keeping 184275 word types\n",
      "INFO - 14:25:07: PROGRESS: at sentence #80000, processed 9500307 words, keeping 197297 word types\n",
      "INFO - 14:25:07: PROGRESS: at sentence #90000, processed 10810672 words, keeping 214358 word types\n",
      "INFO - 14:25:08: PROGRESS: at sentence #100000, processed 12146954 words, keeping 230925 word types\n",
      "INFO - 14:25:08: PROGRESS: at sentence #110000, processed 13298911 words, keeping 243042 word types\n",
      "INFO - 14:25:08: PROGRESS: at sentence #120000, processed 14532444 words, keeping 253073 word types\n",
      "INFO - 14:25:08: PROGRESS: at sentence #130000, processed 15771885 words, keeping 265856 word types\n",
      "INFO - 14:25:08: PROGRESS: at sentence #140000, processed 16923898 words, keeping 277999 word types\n",
      "INFO - 14:25:09: PROGRESS: at sentence #150000, processed 18089195 words, keeping 286652 word types\n",
      "INFO - 14:25:09: PROGRESS: at sentence #160000, processed 19238036 words, keeping 297671 word types\n",
      "INFO - 14:25:09: PROGRESS: at sentence #170000, processed 20358687 words, keeping 305743 word types\n",
      "INFO - 14:25:09: PROGRESS: at sentence #180000, processed 21572638 words, keeping 319702 word types\n",
      "INFO - 14:25:10: PROGRESS: at sentence #190000, processed 22868718 words, keeping 331367 word types\n",
      "INFO - 14:25:10: PROGRESS: at sentence #200000, processed 24019344 words, keeping 343775 word types\n",
      "INFO - 14:25:10: PROGRESS: at sentence #210000, processed 25131584 words, keeping 355121 word types\n",
      "INFO - 14:25:10: PROGRESS: at sentence #220000, processed 26370473 words, keeping 365142 word types\n",
      "INFO - 14:25:10: PROGRESS: at sentence #230000, processed 27529232 words, keeping 373626 word types\n",
      "INFO - 14:25:11: PROGRESS: at sentence #240000, processed 28769838 words, keeping 384551 word types\n",
      "INFO - 14:25:11: PROGRESS: at sentence #250000, processed 29844276 words, keeping 394457 word types\n",
      "INFO - 14:25:11: PROGRESS: at sentence #260000, processed 31198810 words, keeping 405354 word types\n",
      "INFO - 14:25:11: collected 411382 word types from a corpus of 31973755 raw words and 266557 sentences\n",
      "INFO - 14:25:11: Loading a fresh vocabulary\n",
      "INFO - 14:25:11: effective_min_count=20 retains 45511 unique words (11% of original 411382, drops 365871)\n",
      "INFO - 14:25:11: effective_min_count=20 leaves 30900620 word corpus (96% of original 31973755, drops 1073135)\n",
      "INFO - 14:25:12: deleting the raw counts dictionary of 411382 items\n",
      "INFO - 14:25:12: sample=6e-05 downsamples 974 most-common words\n",
      "INFO - 14:25:12: downsampling leaves estimated 17366516 word corpus (56.2% of prior 30900620)\n",
      "INFO - 14:25:12: estimated required memory for 45511 words and 300 dimensions: 131981900 bytes\n",
      "INFO - 14:25:12: resetting layer weights\n"
     ]
    },
    {
     "name": "stdout",
     "output_type": "stream",
     "text": [
      "Time to build vocab: 0.27 mins\n"
     ]
    }
   ],
   "source": [
    "# t = time()\n",
    "\n",
    "# w2v_model.build_vocab(sentences, progress_per=10000)\n",
    "\n",
    "# print('Time to build vocab: {} mins'.format(round((time() - t) / 60, 2)))"
   ]
  },
  {
   "cell_type": "code",
   "execution_count": 23,
   "metadata": {
    "ExecuteTime": {
     "end_time": "2020-09-02T12:11:21.515664Z",
     "start_time": "2020-09-02T11:25:35.368800Z"
    },
    "scrolled": true
   },
   "outputs": [
    {
     "name": "stderr",
     "output_type": "stream",
     "text": [
      "INFO - 14:25:35: training model with 4 workers on 45511 vocabulary and 300 features, using sg=1 hs=0 sample=6e-05 negative=20 window=5\n",
      "INFO - 14:25:36: EPOCH 1 - PROGRESS: at 0.33% examples, 73326 words/s, in_qsize 7, out_qsize 0\n",
      "INFO - 14:25:37: EPOCH 1 - PROGRESS: at 0.76% examples, 75968 words/s, in_qsize 7, out_qsize 0\n",
      "INFO - 14:25:38: EPOCH 1 - PROGRESS: at 1.43% examples, 79306 words/s, in_qsize 7, out_qsize 0\n",
      "INFO - 14:25:39: EPOCH 1 - PROGRESS: at 2.07% examples, 81111 words/s, in_qsize 7, out_qsize 0\n",
      "INFO - 14:25:40: EPOCH 1 - PROGRESS: at 2.38% examples, 81163 words/s, in_qsize 7, out_qsize 0\n",
      "INFO - 14:25:41: EPOCH 1 - PROGRESS: at 3.03% examples, 81003 words/s, in_qsize 7, out_qsize 0\n",
      "INFO - 14:25:42: EPOCH 1 - PROGRESS: at 3.59% examples, 80337 words/s, in_qsize 7, out_qsize 0\n",
      "INFO - 14:25:43: EPOCH 1 - PROGRESS: at 4.19% examples, 80825 words/s, in_qsize 7, out_qsize 0\n",
      "INFO - 14:25:44: EPOCH 1 - PROGRESS: at 4.74% examples, 81438 words/s, in_qsize 7, out_qsize 0\n",
      "INFO - 14:25:45: EPOCH 1 - PROGRESS: at 5.20% examples, 81718 words/s, in_qsize 7, out_qsize 0\n",
      "INFO - 14:25:46: EPOCH 1 - PROGRESS: at 5.56% examples, 81919 words/s, in_qsize 7, out_qsize 0\n",
      "INFO - 14:25:48: EPOCH 1 - PROGRESS: at 6.06% examples, 82231 words/s, in_qsize 7, out_qsize 0\n",
      "INFO - 14:25:49: EPOCH 1 - PROGRESS: at 6.44% examples, 82381 words/s, in_qsize 7, out_qsize 0\n",
      "INFO - 14:25:50: EPOCH 1 - PROGRESS: at 7.02% examples, 82276 words/s, in_qsize 7, out_qsize 0\n",
      "INFO - 14:25:51: EPOCH 1 - PROGRESS: at 7.52% examples, 82395 words/s, in_qsize 8, out_qsize 0\n",
      "INFO - 14:25:52: EPOCH 1 - PROGRESS: at 8.09% examples, 82522 words/s, in_qsize 7, out_qsize 0\n",
      "INFO - 14:25:53: EPOCH 1 - PROGRESS: at 8.72% examples, 82131 words/s, in_qsize 7, out_qsize 0\n",
      "INFO - 14:25:54: EPOCH 1 - PROGRESS: at 9.12% examples, 82211 words/s, in_qsize 7, out_qsize 0\n",
      "INFO - 14:25:55: EPOCH 1 - PROGRESS: at 9.59% examples, 82246 words/s, in_qsize 7, out_qsize 0\n",
      "INFO - 14:25:56: EPOCH 1 - PROGRESS: at 10.12% examples, 82079 words/s, in_qsize 7, out_qsize 0\n",
      "INFO - 14:25:57: EPOCH 1 - PROGRESS: at 10.53% examples, 80952 words/s, in_qsize 8, out_qsize 0\n",
      "INFO - 14:25:58: EPOCH 1 - PROGRESS: at 11.10% examples, 80614 words/s, in_qsize 7, out_qsize 0\n",
      "INFO - 14:25:59: EPOCH 1 - PROGRESS: at 11.36% examples, 79938 words/s, in_qsize 7, out_qsize 0\n",
      "INFO - 14:26:00: EPOCH 1 - PROGRESS: at 11.60% examples, 79141 words/s, in_qsize 7, out_qsize 0\n",
      "INFO - 14:26:01: EPOCH 1 - PROGRESS: at 11.91% examples, 78622 words/s, in_qsize 7, out_qsize 0\n",
      "INFO - 14:26:02: EPOCH 1 - PROGRESS: at 12.35% examples, 78129 words/s, in_qsize 7, out_qsize 0\n",
      "INFO - 14:26:03: EPOCH 1 - PROGRESS: at 12.95% examples, 78060 words/s, in_qsize 7, out_qsize 0\n",
      "INFO - 14:26:04: EPOCH 1 - PROGRESS: at 13.46% examples, 78102 words/s, in_qsize 7, out_qsize 0\n",
      "INFO - 14:26:05: EPOCH 1 - PROGRESS: at 13.90% examples, 78387 words/s, in_qsize 7, out_qsize 0\n",
      "INFO - 14:26:06: EPOCH 1 - PROGRESS: at 14.43% examples, 78367 words/s, in_qsize 7, out_qsize 0\n",
      "INFO - 14:26:07: EPOCH 1 - PROGRESS: at 14.72% examples, 78334 words/s, in_qsize 7, out_qsize 0\n",
      "INFO - 14:26:08: EPOCH 1 - PROGRESS: at 15.08% examples, 78266 words/s, in_qsize 7, out_qsize 0\n",
      "INFO - 14:26:09: EPOCH 1 - PROGRESS: at 15.48% examples, 77882 words/s, in_qsize 7, out_qsize 0\n",
      "INFO - 14:26:10: EPOCH 1 - PROGRESS: at 15.94% examples, 78079 words/s, in_qsize 7, out_qsize 0\n",
      "INFO - 14:26:12: EPOCH 1 - PROGRESS: at 16.47% examples, 78190 words/s, in_qsize 7, out_qsize 0\n",
      "INFO - 14:26:13: EPOCH 1 - PROGRESS: at 17.00% examples, 77944 words/s, in_qsize 7, out_qsize 0\n",
      "INFO - 14:26:14: EPOCH 1 - PROGRESS: at 17.51% examples, 77956 words/s, in_qsize 7, out_qsize 0\n",
      "INFO - 14:26:15: EPOCH 1 - PROGRESS: at 18.03% examples, 78165 words/s, in_qsize 7, out_qsize 0\n",
      "INFO - 14:26:16: EPOCH 1 - PROGRESS: at 18.64% examples, 78325 words/s, in_qsize 7, out_qsize 0\n",
      "INFO - 14:26:17: EPOCH 1 - PROGRESS: at 19.15% examples, 78333 words/s, in_qsize 7, out_qsize 0\n",
      "INFO - 14:26:18: EPOCH 1 - PROGRESS: at 19.63% examples, 78447 words/s, in_qsize 7, out_qsize 0\n",
      "INFO - 14:26:19: EPOCH 1 - PROGRESS: at 20.04% examples, 78281 words/s, in_qsize 7, out_qsize 0\n",
      "INFO - 14:26:20: EPOCH 1 - PROGRESS: at 20.62% examples, 78353 words/s, in_qsize 7, out_qsize 0\n",
      "INFO - 14:26:21: EPOCH 1 - PROGRESS: at 21.12% examples, 78275 words/s, in_qsize 7, out_qsize 0\n",
      "INFO - 14:26:22: EPOCH 1 - PROGRESS: at 21.60% examples, 78325 words/s, in_qsize 7, out_qsize 0\n",
      "INFO - 14:26:23: EPOCH 1 - PROGRESS: at 21.93% examples, 77747 words/s, in_qsize 8, out_qsize 0\n",
      "INFO - 14:26:24: EPOCH 1 - PROGRESS: at 22.16% examples, 77206 words/s, in_qsize 7, out_qsize 0\n",
      "INFO - 14:26:25: EPOCH 1 - PROGRESS: at 22.49% examples, 76883 words/s, in_qsize 7, out_qsize 0\n",
      "INFO - 14:26:26: EPOCH 1 - PROGRESS: at 22.87% examples, 76685 words/s, in_qsize 7, out_qsize 0\n",
      "INFO - 14:26:27: EPOCH 1 - PROGRESS: at 23.23% examples, 76403 words/s, in_qsize 7, out_qsize 0\n",
      "INFO - 14:26:28: EPOCH 1 - PROGRESS: at 23.78% examples, 76477 words/s, in_qsize 7, out_qsize 0\n",
      "INFO - 14:26:30: EPOCH 1 - PROGRESS: at 24.31% examples, 76476 words/s, in_qsize 8, out_qsize 0\n",
      "INFO - 14:26:31: EPOCH 1 - PROGRESS: at 24.93% examples, 76647 words/s, in_qsize 7, out_qsize 0\n",
      "INFO - 14:26:32: EPOCH 1 - PROGRESS: at 25.53% examples, 76849 words/s, in_qsize 7, out_qsize 0\n",
      "INFO - 14:26:33: EPOCH 1 - PROGRESS: at 25.99% examples, 76750 words/s, in_qsize 8, out_qsize 0\n",
      "INFO - 14:26:34: EPOCH 1 - PROGRESS: at 26.54% examples, 76769 words/s, in_qsize 7, out_qsize 0\n",
      "INFO - 14:26:35: EPOCH 1 - PROGRESS: at 27.04% examples, 76816 words/s, in_qsize 7, out_qsize 0\n",
      "INFO - 14:26:36: EPOCH 1 - PROGRESS: at 27.38% examples, 76687 words/s, in_qsize 7, out_qsize 0\n",
      "INFO - 14:26:37: EPOCH 1 - PROGRESS: at 27.75% examples, 76386 words/s, in_qsize 7, out_qsize 0\n",
      "INFO - 14:26:38: EPOCH 1 - PROGRESS: at 28.31% examples, 76476 words/s, in_qsize 7, out_qsize 0\n",
      "INFO - 14:26:39: EPOCH 1 - PROGRESS: at 28.53% examples, 76199 words/s, in_qsize 8, out_qsize 0\n",
      "INFO - 14:26:40: EPOCH 1 - PROGRESS: at 28.93% examples, 76118 words/s, in_qsize 8, out_qsize 0\n",
      "INFO - 14:26:41: EPOCH 1 - PROGRESS: at 29.36% examples, 75945 words/s, in_qsize 7, out_qsize 0\n",
      "INFO - 14:26:42: EPOCH 1 - PROGRESS: at 29.67% examples, 75518 words/s, in_qsize 7, out_qsize 0\n",
      "INFO - 14:26:43: EPOCH 1 - PROGRESS: at 30.09% examples, 75307 words/s, in_qsize 7, out_qsize 0\n",
      "INFO - 14:26:44: EPOCH 1 - PROGRESS: at 30.51% examples, 75121 words/s, in_qsize 7, out_qsize 0\n",
      "INFO - 14:26:45: EPOCH 1 - PROGRESS: at 30.92% examples, 74982 words/s, in_qsize 7, out_qsize 0\n",
      "INFO - 14:26:46: EPOCH 1 - PROGRESS: at 31.42% examples, 75014 words/s, in_qsize 7, out_qsize 0\n",
      "INFO - 14:26:47: EPOCH 1 - PROGRESS: at 31.79% examples, 74911 words/s, in_qsize 7, out_qsize 0\n",
      "INFO - 14:26:48: EPOCH 1 - PROGRESS: at 32.13% examples, 75023 words/s, in_qsize 7, out_qsize 0\n",
      "INFO - 14:26:50: EPOCH 1 - PROGRESS: at 32.51% examples, 74978 words/s, in_qsize 8, out_qsize 0\n",
      "INFO - 14:26:51: EPOCH 1 - PROGRESS: at 32.84% examples, 74863 words/s, in_qsize 7, out_qsize 0\n",
      "INFO - 14:26:52: EPOCH 1 - PROGRESS: at 33.19% examples, 74667 words/s, in_qsize 7, out_qsize 0\n",
      "INFO - 14:26:53: EPOCH 1 - PROGRESS: at 33.59% examples, 74500 words/s, in_qsize 7, out_qsize 0\n",
      "INFO - 14:26:54: EPOCH 1 - PROGRESS: at 34.08% examples, 74538 words/s, in_qsize 7, out_qsize 0\n",
      "INFO - 14:26:55: EPOCH 1 - PROGRESS: at 34.38% examples, 74523 words/s, in_qsize 7, out_qsize 0\n",
      "INFO - 14:26:56: EPOCH 1 - PROGRESS: at 34.65% examples, 74346 words/s, in_qsize 8, out_qsize 0\n",
      "INFO - 14:26:57: EPOCH 1 - PROGRESS: at 34.77% examples, 74253 words/s, in_qsize 8, out_qsize 0\n",
      "INFO - 14:26:58: EPOCH 1 - PROGRESS: at 35.10% examples, 74163 words/s, in_qsize 8, out_qsize 0\n",
      "INFO - 14:26:59: EPOCH 1 - PROGRESS: at 35.60% examples, 74171 words/s, in_qsize 7, out_qsize 0\n",
      "INFO - 14:27:00: EPOCH 1 - PROGRESS: at 36.10% examples, 74296 words/s, in_qsize 7, out_qsize 0\n",
      "INFO - 14:27:01: EPOCH 1 - PROGRESS: at 36.59% examples, 74403 words/s, in_qsize 7, out_qsize 0\n",
      "INFO - 14:27:02: EPOCH 1 - PROGRESS: at 37.05% examples, 74453 words/s, in_qsize 7, out_qsize 0\n",
      "INFO - 14:27:03: EPOCH 1 - PROGRESS: at 37.54% examples, 74535 words/s, in_qsize 7, out_qsize 0\n",
      "INFO - 14:27:04: EPOCH 1 - PROGRESS: at 37.96% examples, 74607 words/s, in_qsize 7, out_qsize 0\n"
     ]
    },
    {
     "name": "stderr",
     "output_type": "stream",
     "text": [
      "INFO - 14:27:05: EPOCH 1 - PROGRESS: at 38.33% examples, 74534 words/s, in_qsize 7, out_qsize 0\n",
      "INFO - 14:27:07: EPOCH 1 - PROGRESS: at 38.88% examples, 74545 words/s, in_qsize 7, out_qsize 0\n",
      "INFO - 14:27:08: EPOCH 1 - PROGRESS: at 39.37% examples, 74587 words/s, in_qsize 7, out_qsize 0\n",
      "INFO - 14:27:09: EPOCH 1 - PROGRESS: at 39.84% examples, 74530 words/s, in_qsize 7, out_qsize 0\n",
      "INFO - 14:27:10: EPOCH 1 - PROGRESS: at 40.34% examples, 74409 words/s, in_qsize 7, out_qsize 0\n",
      "INFO - 14:27:11: EPOCH 1 - PROGRESS: at 40.68% examples, 74234 words/s, in_qsize 7, out_qsize 0\n",
      "INFO - 14:27:12: EPOCH 1 - PROGRESS: at 41.29% examples, 74263 words/s, in_qsize 7, out_qsize 0\n",
      "INFO - 14:27:13: EPOCH 1 - PROGRESS: at 41.63% examples, 74170 words/s, in_qsize 7, out_qsize 0\n",
      "INFO - 14:27:14: EPOCH 1 - PROGRESS: at 41.96% examples, 74216 words/s, in_qsize 7, out_qsize 0\n",
      "INFO - 14:27:15: EPOCH 1 - PROGRESS: at 42.48% examples, 74197 words/s, in_qsize 7, out_qsize 0\n",
      "INFO - 14:27:16: EPOCH 1 - PROGRESS: at 42.89% examples, 74152 words/s, in_qsize 7, out_qsize 0\n",
      "INFO - 14:27:17: EPOCH 1 - PROGRESS: at 43.40% examples, 74190 words/s, in_qsize 7, out_qsize 0\n",
      "INFO - 14:27:18: EPOCH 1 - PROGRESS: at 43.84% examples, 74187 words/s, in_qsize 7, out_qsize 0\n",
      "INFO - 14:27:19: EPOCH 1 - PROGRESS: at 44.37% examples, 74290 words/s, in_qsize 7, out_qsize 0\n",
      "INFO - 14:27:20: EPOCH 1 - PROGRESS: at 44.77% examples, 74375 words/s, in_qsize 7, out_qsize 0\n",
      "INFO - 14:27:21: EPOCH 1 - PROGRESS: at 45.41% examples, 74467 words/s, in_qsize 7, out_qsize 0\n",
      "INFO - 14:27:22: EPOCH 1 - PROGRESS: at 45.76% examples, 74473 words/s, in_qsize 7, out_qsize 0\n",
      "INFO - 14:27:23: EPOCH 1 - PROGRESS: at 46.30% examples, 74574 words/s, in_qsize 7, out_qsize 0\n",
      "INFO - 14:27:24: EPOCH 1 - PROGRESS: at 46.78% examples, 74644 words/s, in_qsize 7, out_qsize 0\n",
      "INFO - 14:27:25: EPOCH 1 - PROGRESS: at 47.14% examples, 74661 words/s, in_qsize 7, out_qsize 0\n",
      "INFO - 14:27:27: EPOCH 1 - PROGRESS: at 47.52% examples, 74584 words/s, in_qsize 8, out_qsize 0\n",
      "INFO - 14:27:28: EPOCH 1 - PROGRESS: at 48.05% examples, 74632 words/s, in_qsize 8, out_qsize 0\n",
      "INFO - 14:27:29: EPOCH 1 - PROGRESS: at 48.49% examples, 74728 words/s, in_qsize 7, out_qsize 0\n",
      "INFO - 14:27:30: EPOCH 1 - PROGRESS: at 48.96% examples, 74747 words/s, in_qsize 7, out_qsize 0\n",
      "INFO - 14:27:31: EPOCH 1 - PROGRESS: at 49.49% examples, 74827 words/s, in_qsize 7, out_qsize 0\n",
      "INFO - 14:27:32: EPOCH 1 - PROGRESS: at 49.93% examples, 74902 words/s, in_qsize 7, out_qsize 0\n",
      "INFO - 14:27:33: EPOCH 1 - PROGRESS: at 50.44% examples, 75005 words/s, in_qsize 7, out_qsize 0\n",
      "INFO - 14:27:34: EPOCH 1 - PROGRESS: at 51.01% examples, 75005 words/s, in_qsize 7, out_qsize 0\n",
      "INFO - 14:27:35: EPOCH 1 - PROGRESS: at 51.29% examples, 74867 words/s, in_qsize 7, out_qsize 0\n",
      "INFO - 14:27:36: EPOCH 1 - PROGRESS: at 51.80% examples, 74897 words/s, in_qsize 7, out_qsize 0\n",
      "INFO - 14:27:37: EPOCH 1 - PROGRESS: at 52.31% examples, 74896 words/s, in_qsize 7, out_qsize 0\n",
      "INFO - 14:27:38: EPOCH 1 - PROGRESS: at 52.78% examples, 74869 words/s, in_qsize 8, out_qsize 0\n",
      "INFO - 14:27:39: EPOCH 1 - PROGRESS: at 53.22% examples, 74825 words/s, in_qsize 7, out_qsize 0\n",
      "INFO - 14:27:40: EPOCH 1 - PROGRESS: at 53.46% examples, 74641 words/s, in_qsize 8, out_qsize 0\n",
      "INFO - 14:27:41: EPOCH 1 - PROGRESS: at 53.85% examples, 74606 words/s, in_qsize 7, out_qsize 0\n",
      "INFO - 14:27:42: EPOCH 1 - PROGRESS: at 54.22% examples, 74383 words/s, in_qsize 7, out_qsize 0\n",
      "INFO - 14:27:43: EPOCH 1 - PROGRESS: at 54.64% examples, 74249 words/s, in_qsize 7, out_qsize 0\n",
      "INFO - 14:27:44: EPOCH 1 - PROGRESS: at 55.06% examples, 74235 words/s, in_qsize 7, out_qsize 0\n",
      "INFO - 14:27:45: EPOCH 1 - PROGRESS: at 55.52% examples, 74229 words/s, in_qsize 7, out_qsize 0\n",
      "INFO - 14:27:46: EPOCH 1 - PROGRESS: at 55.94% examples, 74174 words/s, in_qsize 7, out_qsize 0\n",
      "INFO - 14:27:48: EPOCH 1 - PROGRESS: at 56.44% examples, 74122 words/s, in_qsize 7, out_qsize 0\n",
      "INFO - 14:27:49: EPOCH 1 - PROGRESS: at 56.81% examples, 74055 words/s, in_qsize 7, out_qsize 0\n",
      "INFO - 14:27:50: EPOCH 1 - PROGRESS: at 57.33% examples, 74128 words/s, in_qsize 7, out_qsize 0\n",
      "INFO - 14:27:51: EPOCH 1 - PROGRESS: at 57.85% examples, 74217 words/s, in_qsize 8, out_qsize 0\n",
      "INFO - 14:27:52: EPOCH 1 - PROGRESS: at 58.39% examples, 74290 words/s, in_qsize 7, out_qsize 0\n",
      "INFO - 14:27:53: EPOCH 1 - PROGRESS: at 58.86% examples, 74313 words/s, in_qsize 7, out_qsize 0\n",
      "INFO - 14:27:54: EPOCH 1 - PROGRESS: at 59.39% examples, 74371 words/s, in_qsize 7, out_qsize 0\n",
      "INFO - 14:27:55: EPOCH 1 - PROGRESS: at 59.97% examples, 74434 words/s, in_qsize 7, out_qsize 0\n",
      "INFO - 14:27:56: EPOCH 1 - PROGRESS: at 60.56% examples, 74505 words/s, in_qsize 7, out_qsize 0\n",
      "INFO - 14:27:57: EPOCH 1 - PROGRESS: at 61.05% examples, 74521 words/s, in_qsize 7, out_qsize 0\n",
      "INFO - 14:27:58: EPOCH 1 - PROGRESS: at 61.53% examples, 74543 words/s, in_qsize 7, out_qsize 0\n",
      "INFO - 14:27:59: EPOCH 1 - PROGRESS: at 62.17% examples, 74591 words/s, in_qsize 7, out_qsize 0\n",
      "INFO - 14:28:00: EPOCH 1 - PROGRESS: at 62.53% examples, 74617 words/s, in_qsize 7, out_qsize 0\n",
      "INFO - 14:28:01: EPOCH 1 - PROGRESS: at 63.05% examples, 74666 words/s, in_qsize 7, out_qsize 0\n",
      "INFO - 14:28:02: EPOCH 1 - PROGRESS: at 63.59% examples, 74668 words/s, in_qsize 7, out_qsize 0\n",
      "INFO - 14:28:03: EPOCH 1 - PROGRESS: at 64.16% examples, 74709 words/s, in_qsize 7, out_qsize 0\n",
      "INFO - 14:28:04: EPOCH 1 - PROGRESS: at 64.68% examples, 74718 words/s, in_qsize 7, out_qsize 0\n",
      "INFO - 14:28:05: EPOCH 1 - PROGRESS: at 65.19% examples, 74737 words/s, in_qsize 7, out_qsize 0\n",
      "INFO - 14:28:07: EPOCH 1 - PROGRESS: at 65.66% examples, 74782 words/s, in_qsize 7, out_qsize 0\n",
      "INFO - 14:28:08: EPOCH 1 - PROGRESS: at 66.25% examples, 74821 words/s, in_qsize 7, out_qsize 0\n",
      "INFO - 14:28:09: EPOCH 1 - PROGRESS: at 66.62% examples, 74863 words/s, in_qsize 7, out_qsize 0\n",
      "INFO - 14:28:10: EPOCH 1 - PROGRESS: at 67.03% examples, 74913 words/s, in_qsize 7, out_qsize 0\n",
      "INFO - 14:28:11: EPOCH 1 - PROGRESS: at 67.50% examples, 74961 words/s, in_qsize 7, out_qsize 0\n",
      "INFO - 14:28:12: EPOCH 1 - PROGRESS: at 67.96% examples, 74994 words/s, in_qsize 8, out_qsize 0\n",
      "INFO - 14:28:13: EPOCH 1 - PROGRESS: at 68.36% examples, 74907 words/s, in_qsize 7, out_qsize 0\n",
      "INFO - 14:28:14: EPOCH 1 - PROGRESS: at 68.73% examples, 74948 words/s, in_qsize 8, out_qsize 0\n",
      "INFO - 14:28:15: EPOCH 1 - PROGRESS: at 69.10% examples, 74946 words/s, in_qsize 8, out_qsize 1\n",
      "INFO - 14:28:16: EPOCH 1 - PROGRESS: at 69.54% examples, 74992 words/s, in_qsize 7, out_qsize 0\n",
      "INFO - 14:28:17: EPOCH 1 - PROGRESS: at 70.05% examples, 75011 words/s, in_qsize 7, out_qsize 0\n",
      "INFO - 14:28:18: EPOCH 1 - PROGRESS: at 70.57% examples, 74997 words/s, in_qsize 7, out_qsize 0\n",
      "INFO - 14:28:19: EPOCH 1 - PROGRESS: at 71.05% examples, 75060 words/s, in_qsize 7, out_qsize 0\n",
      "INFO - 14:28:20: EPOCH 1 - PROGRESS: at 71.37% examples, 75060 words/s, in_qsize 7, out_qsize 0\n",
      "INFO - 14:28:21: EPOCH 1 - PROGRESS: at 71.86% examples, 75095 words/s, in_qsize 7, out_qsize 0\n",
      "INFO - 14:28:22: EPOCH 1 - PROGRESS: at 72.31% examples, 75103 words/s, in_qsize 7, out_qsize 0\n",
      "INFO - 14:28:23: EPOCH 1 - PROGRESS: at 72.77% examples, 75103 words/s, in_qsize 7, out_qsize 0\n",
      "INFO - 14:28:24: EPOCH 1 - PROGRESS: at 73.21% examples, 75108 words/s, in_qsize 7, out_qsize 0\n",
      "INFO - 14:28:25: EPOCH 1 - PROGRESS: at 73.49% examples, 75072 words/s, in_qsize 7, out_qsize 0\n",
      "INFO - 14:28:27: EPOCH 1 - PROGRESS: at 74.00% examples, 75053 words/s, in_qsize 7, out_qsize 0\n",
      "INFO - 14:28:28: EPOCH 1 - PROGRESS: at 74.67% examples, 75070 words/s, in_qsize 7, out_qsize 0\n",
      "INFO - 14:28:29: EPOCH 1 - PROGRESS: at 74.90% examples, 74817 words/s, in_qsize 8, out_qsize 0\n",
      "INFO - 14:28:30: EPOCH 1 - PROGRESS: at 75.22% examples, 74612 words/s, in_qsize 7, out_qsize 0\n",
      "INFO - 14:28:31: EPOCH 1 - PROGRESS: at 75.52% examples, 74442 words/s, in_qsize 7, out_qsize 0\n",
      "INFO - 14:28:32: EPOCH 1 - PROGRESS: at 75.81% examples, 74319 words/s, in_qsize 7, out_qsize 0\n",
      "INFO - 14:28:33: EPOCH 1 - PROGRESS: at 76.20% examples, 74315 words/s, in_qsize 7, out_qsize 0\n",
      "INFO - 14:28:34: EPOCH 1 - PROGRESS: at 76.70% examples, 74290 words/s, in_qsize 7, out_qsize 0\n",
      "INFO - 14:28:35: EPOCH 1 - PROGRESS: at 77.14% examples, 74268 words/s, in_qsize 7, out_qsize 0\n"
     ]
    },
    {
     "name": "stderr",
     "output_type": "stream",
     "text": [
      "INFO - 14:28:36: EPOCH 1 - PROGRESS: at 77.72% examples, 74292 words/s, in_qsize 7, out_qsize 0\n",
      "INFO - 14:28:37: EPOCH 1 - PROGRESS: at 78.23% examples, 74307 words/s, in_qsize 7, out_qsize 0\n",
      "INFO - 14:28:38: EPOCH 1 - PROGRESS: at 78.83% examples, 74311 words/s, in_qsize 7, out_qsize 0\n",
      "INFO - 14:28:39: EPOCH 1 - PROGRESS: at 79.28% examples, 74333 words/s, in_qsize 7, out_qsize 0\n",
      "INFO - 14:28:40: EPOCH 1 - PROGRESS: at 79.76% examples, 74322 words/s, in_qsize 7, out_qsize 0\n",
      "INFO - 14:28:41: EPOCH 1 - PROGRESS: at 80.23% examples, 74305 words/s, in_qsize 7, out_qsize 0\n",
      "INFO - 14:28:43: EPOCH 1 - PROGRESS: at 80.55% examples, 74280 words/s, in_qsize 7, out_qsize 0\n",
      "INFO - 14:28:44: EPOCH 1 - PROGRESS: at 80.76% examples, 74225 words/s, in_qsize 7, out_qsize 0\n",
      "INFO - 14:28:45: EPOCH 1 - PROGRESS: at 81.21% examples, 74179 words/s, in_qsize 7, out_qsize 0\n",
      "INFO - 14:28:46: EPOCH 1 - PROGRESS: at 81.74% examples, 74197 words/s, in_qsize 7, out_qsize 0\n",
      "INFO - 14:28:47: EPOCH 1 - PROGRESS: at 82.07% examples, 74146 words/s, in_qsize 7, out_qsize 0\n",
      "INFO - 14:28:48: EPOCH 1 - PROGRESS: at 82.50% examples, 74048 words/s, in_qsize 7, out_qsize 0\n",
      "INFO - 14:28:49: EPOCH 1 - PROGRESS: at 82.81% examples, 73857 words/s, in_qsize 7, out_qsize 0\n",
      "INFO - 14:28:50: EPOCH 1 - PROGRESS: at 83.01% examples, 73702 words/s, in_qsize 7, out_qsize 0\n",
      "INFO - 14:28:51: EPOCH 1 - PROGRESS: at 83.32% examples, 73547 words/s, in_qsize 7, out_qsize 0\n",
      "INFO - 14:28:52: EPOCH 1 - PROGRESS: at 83.60% examples, 73444 words/s, in_qsize 7, out_qsize 0\n",
      "INFO - 14:28:53: EPOCH 1 - PROGRESS: at 84.10% examples, 73360 words/s, in_qsize 7, out_qsize 0\n",
      "INFO - 14:28:54: EPOCH 1 - PROGRESS: at 84.50% examples, 73296 words/s, in_qsize 7, out_qsize 0\n",
      "INFO - 14:28:55: EPOCH 1 - PROGRESS: at 84.88% examples, 73181 words/s, in_qsize 8, out_qsize 0\n",
      "INFO - 14:28:56: EPOCH 1 - PROGRESS: at 85.20% examples, 73015 words/s, in_qsize 7, out_qsize 0\n",
      "INFO - 14:28:58: EPOCH 1 - PROGRESS: at 85.42% examples, 72926 words/s, in_qsize 7, out_qsize 0\n",
      "INFO - 14:28:59: EPOCH 1 - PROGRESS: at 85.93% examples, 72933 words/s, in_qsize 7, out_qsize 0\n",
      "INFO - 14:29:00: EPOCH 1 - PROGRESS: at 86.36% examples, 72926 words/s, in_qsize 7, out_qsize 0\n",
      "INFO - 14:29:01: EPOCH 1 - PROGRESS: at 86.54% examples, 72908 words/s, in_qsize 7, out_qsize 0\n",
      "INFO - 14:29:02: EPOCH 1 - PROGRESS: at 86.76% examples, 72905 words/s, in_qsize 7, out_qsize 0\n",
      "INFO - 14:29:03: EPOCH 1 - PROGRESS: at 87.25% examples, 72902 words/s, in_qsize 7, out_qsize 0\n",
      "INFO - 14:29:04: EPOCH 1 - PROGRESS: at 87.72% examples, 72900 words/s, in_qsize 7, out_qsize 0\n",
      "INFO - 14:29:05: EPOCH 1 - PROGRESS: at 88.25% examples, 72912 words/s, in_qsize 7, out_qsize 0\n",
      "INFO - 14:29:06: EPOCH 1 - PROGRESS: at 88.78% examples, 72924 words/s, in_qsize 7, out_qsize 0\n",
      "INFO - 14:29:07: EPOCH 1 - PROGRESS: at 89.21% examples, 72935 words/s, in_qsize 7, out_qsize 0\n",
      "INFO - 14:29:08: EPOCH 1 - PROGRESS: at 89.70% examples, 72936 words/s, in_qsize 7, out_qsize 0\n",
      "INFO - 14:29:09: EPOCH 1 - PROGRESS: at 90.29% examples, 72958 words/s, in_qsize 7, out_qsize 0\n",
      "INFO - 14:29:10: EPOCH 1 - PROGRESS: at 90.85% examples, 72967 words/s, in_qsize 7, out_qsize 0\n",
      "INFO - 14:29:11: EPOCH 1 - PROGRESS: at 91.36% examples, 72996 words/s, in_qsize 7, out_qsize 0\n",
      "INFO - 14:29:13: EPOCH 1 - PROGRESS: at 91.73% examples, 72911 words/s, in_qsize 7, out_qsize 0\n",
      "INFO - 14:29:14: EPOCH 1 - PROGRESS: at 92.20% examples, 72885 words/s, in_qsize 7, out_qsize 0\n",
      "INFO - 14:29:15: EPOCH 1 - PROGRESS: at 92.55% examples, 72805 words/s, in_qsize 7, out_qsize 0\n",
      "INFO - 14:29:16: EPOCH 1 - PROGRESS: at 93.00% examples, 72816 words/s, in_qsize 7, out_qsize 0\n",
      "INFO - 14:29:17: EPOCH 1 - PROGRESS: at 93.53% examples, 72845 words/s, in_qsize 7, out_qsize 0\n",
      "INFO - 14:29:18: EPOCH 1 - PROGRESS: at 93.95% examples, 72809 words/s, in_qsize 8, out_qsize 0\n",
      "INFO - 14:29:19: EPOCH 1 - PROGRESS: at 94.36% examples, 72862 words/s, in_qsize 7, out_qsize 0\n",
      "INFO - 14:29:20: EPOCH 1 - PROGRESS: at 94.68% examples, 72796 words/s, in_qsize 7, out_qsize 0\n",
      "INFO - 14:29:21: EPOCH 1 - PROGRESS: at 95.07% examples, 72794 words/s, in_qsize 7, out_qsize 0\n",
      "INFO - 14:29:22: EPOCH 1 - PROGRESS: at 95.49% examples, 72765 words/s, in_qsize 7, out_qsize 0\n",
      "INFO - 14:29:23: EPOCH 1 - PROGRESS: at 95.65% examples, 72694 words/s, in_qsize 7, out_qsize 0\n",
      "INFO - 14:29:24: EPOCH 1 - PROGRESS: at 95.97% examples, 72604 words/s, in_qsize 7, out_qsize 0\n",
      "INFO - 14:29:25: EPOCH 1 - PROGRESS: at 96.40% examples, 72635 words/s, in_qsize 7, out_qsize 0\n",
      "INFO - 14:29:26: EPOCH 1 - PROGRESS: at 96.84% examples, 72600 words/s, in_qsize 7, out_qsize 0\n",
      "INFO - 14:29:27: EPOCH 1 - PROGRESS: at 97.13% examples, 72615 words/s, in_qsize 7, out_qsize 0\n",
      "INFO - 14:29:28: EPOCH 1 - PROGRESS: at 97.63% examples, 72630 words/s, in_qsize 7, out_qsize 0\n",
      "INFO - 14:29:29: EPOCH 1 - PROGRESS: at 98.10% examples, 72654 words/s, in_qsize 7, out_qsize 0\n",
      "INFO - 14:29:30: EPOCH 1 - PROGRESS: at 98.54% examples, 72641 words/s, in_qsize 7, out_qsize 0\n",
      "INFO - 14:29:31: EPOCH 1 - PROGRESS: at 98.88% examples, 72604 words/s, in_qsize 7, out_qsize 0\n",
      "INFO - 14:29:33: EPOCH 1 - PROGRESS: at 99.26% examples, 72570 words/s, in_qsize 7, out_qsize 0\n",
      "INFO - 14:29:34: EPOCH 1 - PROGRESS: at 99.52% examples, 72467 words/s, in_qsize 7, out_qsize 0\n",
      "INFO - 14:29:34: worker thread finished; awaiting finish of 3 more threads\n",
      "INFO - 14:29:34: worker thread finished; awaiting finish of 2 more threads\n",
      "INFO - 14:29:35: worker thread finished; awaiting finish of 1 more threads\n",
      "INFO - 14:29:35: worker thread finished; awaiting finish of 0 more threads\n",
      "INFO - 14:29:35: EPOCH - 1 : training on 31973755 raw words (17367531 effective words) took 239.7s, 72457 effective words/s\n",
      "INFO - 14:29:36: EPOCH 2 - PROGRESS: at 0.29% examples, 65827 words/s, in_qsize 7, out_qsize 0\n",
      "INFO - 14:29:37: EPOCH 2 - PROGRESS: at 0.65% examples, 66516 words/s, in_qsize 7, out_qsize 0\n",
      "INFO - 14:29:38: EPOCH 2 - PROGRESS: at 1.07% examples, 64509 words/s, in_qsize 7, out_qsize 0\n",
      "INFO - 14:29:39: EPOCH 2 - PROGRESS: at 1.59% examples, 64215 words/s, in_qsize 7, out_qsize 0\n",
      "INFO - 14:29:40: EPOCH 2 - PROGRESS: at 2.11% examples, 66104 words/s, in_qsize 7, out_qsize 0\n",
      "INFO - 14:29:41: EPOCH 2 - PROGRESS: at 2.32% examples, 64584 words/s, in_qsize 8, out_qsize 0\n",
      "INFO - 14:29:42: EPOCH 2 - PROGRESS: at 2.70% examples, 63724 words/s, in_qsize 7, out_qsize 0\n",
      "INFO - 14:29:43: EPOCH 2 - PROGRESS: at 3.22% examples, 64785 words/s, in_qsize 7, out_qsize 0\n",
      "INFO - 14:29:44: EPOCH 2 - PROGRESS: at 3.76% examples, 64987 words/s, in_qsize 7, out_qsize 0\n",
      "INFO - 14:29:45: EPOCH 2 - PROGRESS: at 4.19% examples, 64280 words/s, in_qsize 7, out_qsize 0\n",
      "INFO - 14:29:46: EPOCH 2 - PROGRESS: at 4.46% examples, 62841 words/s, in_qsize 7, out_qsize 0\n",
      "INFO - 14:29:47: EPOCH 2 - PROGRESS: at 4.84% examples, 61976 words/s, in_qsize 7, out_qsize 0\n",
      "INFO - 14:29:49: EPOCH 2 - PROGRESS: at 5.22% examples, 62278 words/s, in_qsize 7, out_qsize 0\n",
      "INFO - 14:29:50: EPOCH 2 - PROGRESS: at 5.54% examples, 62946 words/s, in_qsize 7, out_qsize 0\n",
      "INFO - 14:29:51: EPOCH 2 - PROGRESS: at 5.88% examples, 62950 words/s, in_qsize 7, out_qsize 0\n",
      "INFO - 14:29:52: EPOCH 2 - PROGRESS: at 6.23% examples, 63588 words/s, in_qsize 7, out_qsize 0\n",
      "INFO - 14:29:53: EPOCH 2 - PROGRESS: at 6.68% examples, 63722 words/s, in_qsize 7, out_qsize 0\n",
      "INFO - 14:29:54: EPOCH 2 - PROGRESS: at 7.10% examples, 63447 words/s, in_qsize 7, out_qsize 0\n",
      "INFO - 14:29:55: EPOCH 2 - PROGRESS: at 7.46% examples, 62996 words/s, in_qsize 7, out_qsize 0\n",
      "INFO - 14:29:56: EPOCH 2 - PROGRESS: at 7.84% examples, 62525 words/s, in_qsize 7, out_qsize 0\n",
      "INFO - 14:29:57: EPOCH 2 - PROGRESS: at 8.31% examples, 62455 words/s, in_qsize 7, out_qsize 0\n",
      "INFO - 14:29:58: EPOCH 2 - PROGRESS: at 8.88% examples, 62818 words/s, in_qsize 7, out_qsize 0\n",
      "INFO - 14:29:59: EPOCH 2 - PROGRESS: at 9.10% examples, 62501 words/s, in_qsize 7, out_qsize 0\n",
      "INFO - 14:30:00: EPOCH 2 - PROGRESS: at 9.26% examples, 61839 words/s, in_qsize 7, out_qsize 0\n",
      "INFO - 14:30:01: EPOCH 2 - PROGRESS: at 9.61% examples, 61501 words/s, in_qsize 7, out_qsize 0\n",
      "INFO - 14:30:02: EPOCH 2 - PROGRESS: at 10.01% examples, 61360 words/s, in_qsize 7, out_qsize 0\n",
      "INFO - 14:30:04: EPOCH 2 - PROGRESS: at 10.45% examples, 61224 words/s, in_qsize 7, out_qsize 0\n"
     ]
    },
    {
     "name": "stderr",
     "output_type": "stream",
     "text": [
      "INFO - 14:30:05: EPOCH 2 - PROGRESS: at 10.95% examples, 61432 words/s, in_qsize 7, out_qsize 0\n",
      "INFO - 14:30:06: EPOCH 2 - PROGRESS: at 11.24% examples, 61559 words/s, in_qsize 7, out_qsize 0\n",
      "INFO - 14:30:07: EPOCH 2 - PROGRESS: at 11.57% examples, 61677 words/s, in_qsize 8, out_qsize 1\n",
      "INFO - 14:30:08: EPOCH 2 - PROGRESS: at 11.76% examples, 61460 words/s, in_qsize 7, out_qsize 0\n",
      "INFO - 14:30:09: EPOCH 2 - PROGRESS: at 12.29% examples, 61756 words/s, in_qsize 7, out_qsize 0\n",
      "INFO - 14:30:10: EPOCH 2 - PROGRESS: at 12.88% examples, 62161 words/s, in_qsize 7, out_qsize 0\n",
      "INFO - 14:30:11: EPOCH 2 - PROGRESS: at 13.31% examples, 62414 words/s, in_qsize 7, out_qsize 0\n",
      "INFO - 14:30:12: EPOCH 2 - PROGRESS: at 13.77% examples, 62517 words/s, in_qsize 8, out_qsize 0\n",
      "INFO - 14:30:13: EPOCH 2 - PROGRESS: at 14.13% examples, 62674 words/s, in_qsize 7, out_qsize 0\n",
      "INFO - 14:30:14: EPOCH 2 - PROGRESS: at 14.54% examples, 62627 words/s, in_qsize 7, out_qsize 0\n",
      "INFO - 14:30:15: EPOCH 2 - PROGRESS: at 14.86% examples, 63066 words/s, in_qsize 7, out_qsize 0\n",
      "INFO - 14:30:16: EPOCH 2 - PROGRESS: at 15.22% examples, 63222 words/s, in_qsize 7, out_qsize 0\n",
      "INFO - 14:30:17: EPOCH 2 - PROGRESS: at 15.59% examples, 63383 words/s, in_qsize 7, out_qsize 0\n",
      "INFO - 14:30:18: EPOCH 2 - PROGRESS: at 15.96% examples, 63696 words/s, in_qsize 7, out_qsize 0\n",
      "INFO - 14:30:19: EPOCH 2 - PROGRESS: at 16.43% examples, 63753 words/s, in_qsize 7, out_qsize 0\n",
      "INFO - 14:30:20: EPOCH 2 - PROGRESS: at 16.90% examples, 63910 words/s, in_qsize 7, out_qsize 0\n",
      "INFO - 14:30:21: EPOCH 2 - PROGRESS: at 17.40% examples, 64064 words/s, in_qsize 7, out_qsize 0\n",
      "INFO - 14:30:22: EPOCH 2 - PROGRESS: at 17.71% examples, 64123 words/s, in_qsize 7, out_qsize 0\n",
      "INFO - 14:30:23: EPOCH 2 - PROGRESS: at 18.22% examples, 64209 words/s, in_qsize 7, out_qsize 0\n",
      "INFO - 14:30:24: EPOCH 2 - PROGRESS: at 18.66% examples, 64208 words/s, in_qsize 8, out_qsize 0\n",
      "INFO - 14:30:25: EPOCH 2 - PROGRESS: at 19.07% examples, 64210 words/s, in_qsize 7, out_qsize 0\n",
      "INFO - 14:30:27: EPOCH 2 - PROGRESS: at 19.49% examples, 64132 words/s, in_qsize 7, out_qsize 0\n",
      "INFO - 14:30:28: EPOCH 2 - PROGRESS: at 19.77% examples, 64219 words/s, in_qsize 7, out_qsize 0\n",
      "INFO - 14:30:29: EPOCH 2 - PROGRESS: at 20.11% examples, 64110 words/s, in_qsize 7, out_qsize 0\n",
      "INFO - 14:30:30: EPOCH 2 - PROGRESS: at 20.62% examples, 64182 words/s, in_qsize 7, out_qsize 0\n",
      "INFO - 14:30:31: EPOCH 2 - PROGRESS: at 21.05% examples, 64216 words/s, in_qsize 7, out_qsize 0\n",
      "INFO - 14:30:32: EPOCH 2 - PROGRESS: at 21.49% examples, 64251 words/s, in_qsize 7, out_qsize 0\n",
      "INFO - 14:30:33: EPOCH 2 - PROGRESS: at 21.93% examples, 64395 words/s, in_qsize 7, out_qsize 0\n",
      "INFO - 14:30:34: EPOCH 2 - PROGRESS: at 22.21% examples, 64507 words/s, in_qsize 7, out_qsize 0\n",
      "INFO - 14:30:35: EPOCH 2 - PROGRESS: at 22.61% examples, 64569 words/s, in_qsize 7, out_qsize 0\n",
      "INFO - 14:30:36: EPOCH 2 - PROGRESS: at 22.98% examples, 64534 words/s, in_qsize 7, out_qsize 0\n",
      "INFO - 14:30:37: EPOCH 2 - PROGRESS: at 23.39% examples, 64509 words/s, in_qsize 7, out_qsize 0\n",
      "INFO - 14:30:38: EPOCH 2 - PROGRESS: at 23.78% examples, 64439 words/s, in_qsize 7, out_qsize 0\n",
      "INFO - 14:30:39: EPOCH 2 - PROGRESS: at 24.19% examples, 64418 words/s, in_qsize 7, out_qsize 0\n",
      "INFO - 14:30:40: EPOCH 2 - PROGRESS: at 24.66% examples, 64496 words/s, in_qsize 7, out_qsize 0\n",
      "INFO - 14:30:41: EPOCH 2 - PROGRESS: at 25.17% examples, 64562 words/s, in_qsize 7, out_qsize 0\n",
      "INFO - 14:30:42: EPOCH 2 - PROGRESS: at 25.71% examples, 64720 words/s, in_qsize 7, out_qsize 0\n",
      "INFO - 14:30:43: EPOCH 2 - PROGRESS: at 26.06% examples, 64752 words/s, in_qsize 7, out_qsize 0\n",
      "INFO - 14:30:44: EPOCH 2 - PROGRESS: at 26.57% examples, 64850 words/s, in_qsize 7, out_qsize 0\n",
      "INFO - 14:30:46: EPOCH 2 - PROGRESS: at 27.04% examples, 64909 words/s, in_qsize 7, out_qsize 0\n",
      "INFO - 14:30:47: EPOCH 2 - PROGRESS: at 27.41% examples, 65055 words/s, in_qsize 7, out_qsize 0\n",
      "INFO - 14:30:48: EPOCH 2 - PROGRESS: at 27.79% examples, 65099 words/s, in_qsize 7, out_qsize 0\n",
      "INFO - 14:30:49: EPOCH 2 - PROGRESS: at 28.30% examples, 65144 words/s, in_qsize 7, out_qsize 0\n",
      "INFO - 14:30:50: EPOCH 2 - PROGRESS: at 28.64% examples, 65291 words/s, in_qsize 7, out_qsize 0\n",
      "INFO - 14:30:51: EPOCH 2 - PROGRESS: at 29.08% examples, 65434 words/s, in_qsize 7, out_qsize 0\n",
      "INFO - 14:30:52: EPOCH 2 - PROGRESS: at 29.44% examples, 65513 words/s, in_qsize 7, out_qsize 0\n",
      "INFO - 14:30:53: EPOCH 2 - PROGRESS: at 29.99% examples, 65608 words/s, in_qsize 7, out_qsize 0\n",
      "INFO - 14:30:54: EPOCH 2 - PROGRESS: at 30.48% examples, 65705 words/s, in_qsize 7, out_qsize 0\n",
      "INFO - 14:30:55: EPOCH 2 - PROGRESS: at 30.94% examples, 65798 words/s, in_qsize 7, out_qsize 0\n",
      "INFO - 14:30:56: EPOCH 2 - PROGRESS: at 31.48% examples, 65957 words/s, in_qsize 7, out_qsize 0\n",
      "INFO - 14:30:57: EPOCH 2 - PROGRESS: at 31.83% examples, 65992 words/s, in_qsize 7, out_qsize 0\n",
      "INFO - 14:30:58: EPOCH 2 - PROGRESS: at 32.15% examples, 66198 words/s, in_qsize 7, out_qsize 0\n",
      "INFO - 14:30:59: EPOCH 2 - PROGRESS: at 32.64% examples, 66303 words/s, in_qsize 7, out_qsize 0\n",
      "INFO - 14:31:00: EPOCH 2 - PROGRESS: at 32.95% examples, 66253 words/s, in_qsize 7, out_qsize 0\n",
      "INFO - 14:31:01: EPOCH 2 - PROGRESS: at 33.36% examples, 66167 words/s, in_qsize 7, out_qsize 0\n",
      "INFO - 14:31:03: EPOCH 2 - PROGRESS: at 33.64% examples, 66104 words/s, in_qsize 7, out_qsize 0\n",
      "INFO - 14:31:04: EPOCH 2 - PROGRESS: at 34.14% examples, 66178 words/s, in_qsize 7, out_qsize 0\n",
      "INFO - 14:31:05: EPOCH 2 - PROGRESS: at 34.42% examples, 66338 words/s, in_qsize 7, out_qsize 0\n",
      "INFO - 14:31:06: EPOCH 2 - PROGRESS: at 34.68% examples, 66282 words/s, in_qsize 8, out_qsize 0\n",
      "INFO - 14:31:07: EPOCH 2 - PROGRESS: at 34.87% examples, 66237 words/s, in_qsize 7, out_qsize 0\n",
      "INFO - 14:31:08: EPOCH 2 - PROGRESS: at 35.10% examples, 66080 words/s, in_qsize 7, out_qsize 0\n",
      "INFO - 14:31:09: EPOCH 2 - PROGRESS: at 35.49% examples, 65988 words/s, in_qsize 6, out_qsize 1\n",
      "INFO - 14:31:10: EPOCH 2 - PROGRESS: at 35.96% examples, 66008 words/s, in_qsize 8, out_qsize 0\n",
      "INFO - 14:31:11: EPOCH 2 - PROGRESS: at 36.30% examples, 66019 words/s, in_qsize 7, out_qsize 0\n",
      "INFO - 14:31:12: EPOCH 2 - PROGRESS: at 36.73% examples, 66015 words/s, in_qsize 8, out_qsize 0\n",
      "INFO - 14:31:13: EPOCH 2 - PROGRESS: at 37.07% examples, 66085 words/s, in_qsize 7, out_qsize 0\n",
      "INFO - 14:31:14: EPOCH 2 - PROGRESS: at 37.54% examples, 66167 words/s, in_qsize 7, out_qsize 0\n",
      "INFO - 14:31:15: EPOCH 2 - PROGRESS: at 37.82% examples, 66178 words/s, in_qsize 7, out_qsize 0\n",
      "INFO - 14:31:16: EPOCH 2 - PROGRESS: at 38.29% examples, 66328 words/s, in_qsize 7, out_qsize 0\n",
      "INFO - 14:31:17: EPOCH 2 - PROGRESS: at 38.69% examples, 66345 words/s, in_qsize 7, out_qsize 0\n",
      "INFO - 14:31:18: EPOCH 2 - PROGRESS: at 39.17% examples, 66358 words/s, in_qsize 7, out_qsize 0\n",
      "INFO - 14:31:19: EPOCH 2 - PROGRESS: at 39.71% examples, 66437 words/s, in_qsize 7, out_qsize 0\n",
      "INFO - 14:31:20: EPOCH 2 - PROGRESS: at 40.20% examples, 66549 words/s, in_qsize 7, out_qsize 0\n",
      "INFO - 14:31:21: EPOCH 2 - PROGRESS: at 40.60% examples, 66455 words/s, in_qsize 7, out_qsize 0\n",
      "INFO - 14:31:22: EPOCH 2 - PROGRESS: at 41.01% examples, 66449 words/s, in_qsize 8, out_qsize 0\n",
      "INFO - 14:31:24: EPOCH 2 - PROGRESS: at 41.46% examples, 66375 words/s, in_qsize 7, out_qsize 0\n",
      "INFO - 14:31:25: EPOCH 2 - PROGRESS: at 41.72% examples, 66275 words/s, in_qsize 7, out_qsize 0\n",
      "INFO - 14:31:26: EPOCH 2 - PROGRESS: at 41.99% examples, 66286 words/s, in_qsize 7, out_qsize 0\n",
      "INFO - 14:31:27: EPOCH 2 - PROGRESS: at 42.43% examples, 66216 words/s, in_qsize 8, out_qsize 0\n",
      "INFO - 14:31:28: EPOCH 2 - PROGRESS: at 42.80% examples, 66181 words/s, in_qsize 7, out_qsize 0\n",
      "INFO - 14:31:29: EPOCH 2 - PROGRESS: at 43.26% examples, 66311 words/s, in_qsize 7, out_qsize 0\n",
      "INFO - 14:31:30: EPOCH 2 - PROGRESS: at 43.67% examples, 66276 words/s, in_qsize 8, out_qsize 0\n",
      "INFO - 14:31:31: EPOCH 2 - PROGRESS: at 44.18% examples, 66330 words/s, in_qsize 8, out_qsize 0\n",
      "INFO - 14:31:32: EPOCH 2 - PROGRESS: at 44.64% examples, 66435 words/s, in_qsize 7, out_qsize 0\n",
      "INFO - 14:31:33: EPOCH 2 - PROGRESS: at 44.99% examples, 66389 words/s, in_qsize 7, out_qsize 0\n",
      "INFO - 14:31:34: EPOCH 2 - PROGRESS: at 45.54% examples, 66451 words/s, in_qsize 7, out_qsize 0\n"
     ]
    },
    {
     "name": "stderr",
     "output_type": "stream",
     "text": [
      "INFO - 14:31:35: EPOCH 2 - PROGRESS: at 45.99% examples, 66617 words/s, in_qsize 7, out_qsize 0\n",
      "INFO - 14:31:36: EPOCH 2 - PROGRESS: at 46.40% examples, 66633 words/s, in_qsize 7, out_qsize 0\n",
      "INFO - 14:31:37: EPOCH 2 - PROGRESS: at 46.79% examples, 66658 words/s, in_qsize 7, out_qsize 0\n",
      "INFO - 14:31:38: EPOCH 2 - PROGRESS: at 47.14% examples, 66700 words/s, in_qsize 7, out_qsize 0\n",
      "INFO - 14:31:39: EPOCH 2 - PROGRESS: at 47.49% examples, 66673 words/s, in_qsize 7, out_qsize 0\n",
      "INFO - 14:31:40: EPOCH 2 - PROGRESS: at 47.93% examples, 66706 words/s, in_qsize 7, out_qsize 0\n",
      "INFO - 14:31:41: EPOCH 2 - PROGRESS: at 48.24% examples, 66668 words/s, in_qsize 7, out_qsize 0\n",
      "INFO - 14:31:43: EPOCH 2 - PROGRESS: at 48.64% examples, 66573 words/s, in_qsize 7, out_qsize 0\n",
      "INFO - 14:31:44: EPOCH 2 - PROGRESS: at 49.01% examples, 66514 words/s, in_qsize 7, out_qsize 0\n",
      "INFO - 14:31:45: EPOCH 2 - PROGRESS: at 49.33% examples, 66349 words/s, in_qsize 8, out_qsize 0\n",
      "INFO - 14:31:46: EPOCH 2 - PROGRESS: at 49.66% examples, 66311 words/s, in_qsize 7, out_qsize 0\n",
      "INFO - 14:31:47: EPOCH 2 - PROGRESS: at 49.89% examples, 66122 words/s, in_qsize 7, out_qsize 0\n",
      "INFO - 14:31:48: EPOCH 2 - PROGRESS: at 50.10% examples, 65855 words/s, in_qsize 7, out_qsize 0\n",
      "INFO - 14:31:49: EPOCH 2 - PROGRESS: at 50.40% examples, 65774 words/s, in_qsize 7, out_qsize 0\n",
      "INFO - 14:31:50: EPOCH 2 - PROGRESS: at 50.76% examples, 65662 words/s, in_qsize 7, out_qsize 0\n",
      "INFO - 14:31:51: EPOCH 2 - PROGRESS: at 51.10% examples, 65550 words/s, in_qsize 7, out_qsize 0\n",
      "INFO - 14:31:52: EPOCH 2 - PROGRESS: at 51.48% examples, 65404 words/s, in_qsize 7, out_qsize 0\n",
      "INFO - 14:31:53: EPOCH 2 - PROGRESS: at 51.78% examples, 65235 words/s, in_qsize 8, out_qsize 0\n",
      "INFO - 14:31:55: EPOCH 2 - PROGRESS: at 52.15% examples, 65082 words/s, in_qsize 8, out_qsize 0\n",
      "INFO - 14:31:56: EPOCH 2 - PROGRESS: at 52.53% examples, 64978 words/s, in_qsize 7, out_qsize 0\n",
      "INFO - 14:31:57: EPOCH 2 - PROGRESS: at 52.90% examples, 64938 words/s, in_qsize 7, out_qsize 0\n",
      "INFO - 14:31:58: EPOCH 2 - PROGRESS: at 53.24% examples, 64849 words/s, in_qsize 7, out_qsize 0\n",
      "INFO - 14:31:59: EPOCH 2 - PROGRESS: at 53.49% examples, 64706 words/s, in_qsize 7, out_qsize 0\n",
      "INFO - 14:32:00: EPOCH 2 - PROGRESS: at 53.77% examples, 64576 words/s, in_qsize 7, out_qsize 0\n",
      "INFO - 14:32:01: EPOCH 2 - PROGRESS: at 54.10% examples, 64481 words/s, in_qsize 7, out_qsize 0\n",
      "INFO - 14:32:02: EPOCH 2 - PROGRESS: at 54.48% examples, 64434 words/s, in_qsize 7, out_qsize 0\n",
      "INFO - 14:32:03: EPOCH 2 - PROGRESS: at 54.83% examples, 64319 words/s, in_qsize 7, out_qsize 0\n",
      "INFO - 14:32:04: EPOCH 2 - PROGRESS: at 55.22% examples, 64304 words/s, in_qsize 7, out_qsize 0\n",
      "INFO - 14:32:05: EPOCH 2 - PROGRESS: at 55.52% examples, 64198 words/s, in_qsize 7, out_qsize 0\n",
      "INFO - 14:32:06: EPOCH 2 - PROGRESS: at 55.86% examples, 64166 words/s, in_qsize 7, out_qsize 0\n",
      "INFO - 14:32:07: EPOCH 2 - PROGRESS: at 56.19% examples, 64050 words/s, in_qsize 7, out_qsize 0\n",
      "INFO - 14:32:08: EPOCH 2 - PROGRESS: at 56.60% examples, 64019 words/s, in_qsize 7, out_qsize 0\n",
      "INFO - 14:32:10: EPOCH 2 - PROGRESS: at 56.94% examples, 63956 words/s, in_qsize 7, out_qsize 0\n",
      "INFO - 14:32:11: EPOCH 2 - PROGRESS: at 57.32% examples, 63930 words/s, in_qsize 7, out_qsize 0\n",
      "INFO - 14:32:12: EPOCH 2 - PROGRESS: at 57.55% examples, 63833 words/s, in_qsize 7, out_qsize 0\n",
      "INFO - 14:32:13: EPOCH 2 - PROGRESS: at 57.91% examples, 63767 words/s, in_qsize 7, out_qsize 0\n",
      "INFO - 14:32:14: EPOCH 2 - PROGRESS: at 58.21% examples, 63631 words/s, in_qsize 7, out_qsize 0\n",
      "INFO - 14:32:15: EPOCH 2 - PROGRESS: at 58.55% examples, 63522 words/s, in_qsize 7, out_qsize 0\n",
      "INFO - 14:32:16: EPOCH 2 - PROGRESS: at 58.81% examples, 63434 words/s, in_qsize 8, out_qsize 0\n",
      "INFO - 14:32:17: EPOCH 2 - PROGRESS: at 59.17% examples, 63343 words/s, in_qsize 7, out_qsize 0\n",
      "INFO - 14:32:18: EPOCH 2 - PROGRESS: at 59.52% examples, 63324 words/s, in_qsize 7, out_qsize 0\n",
      "INFO - 14:32:19: EPOCH 2 - PROGRESS: at 59.94% examples, 63324 words/s, in_qsize 7, out_qsize 0\n",
      "INFO - 14:32:20: EPOCH 2 - PROGRESS: at 60.32% examples, 63276 words/s, in_qsize 7, out_qsize 0\n",
      "INFO - 14:32:21: EPOCH 2 - PROGRESS: at 60.80% examples, 63301 words/s, in_qsize 7, out_qsize 0\n",
      "INFO - 14:32:22: EPOCH 2 - PROGRESS: at 61.20% examples, 63297 words/s, in_qsize 7, out_qsize 0\n",
      "INFO - 14:32:23: EPOCH 2 - PROGRESS: at 61.56% examples, 63292 words/s, in_qsize 7, out_qsize 0\n",
      "INFO - 14:32:24: EPOCH 2 - PROGRESS: at 62.10% examples, 63324 words/s, in_qsize 7, out_qsize 0\n",
      "INFO - 14:32:25: EPOCH 2 - PROGRESS: at 62.48% examples, 63317 words/s, in_qsize 7, out_qsize 0\n",
      "INFO - 14:32:26: EPOCH 2 - PROGRESS: at 62.78% examples, 63306 words/s, in_qsize 7, out_qsize 0\n",
      "INFO - 14:32:27: EPOCH 2 - PROGRESS: at 63.14% examples, 63309 words/s, in_qsize 7, out_qsize 0\n",
      "INFO - 14:32:28: EPOCH 2 - PROGRESS: at 63.62% examples, 63301 words/s, in_qsize 7, out_qsize 0\n",
      "INFO - 14:32:29: EPOCH 2 - PROGRESS: at 64.10% examples, 63316 words/s, in_qsize 7, out_qsize 0\n",
      "INFO - 14:32:31: EPOCH 2 - PROGRESS: at 64.53% examples, 63319 words/s, in_qsize 7, out_qsize 0\n",
      "INFO - 14:32:32: EPOCH 2 - PROGRESS: at 64.94% examples, 63345 words/s, in_qsize 7, out_qsize 0\n",
      "INFO - 14:32:33: EPOCH 2 - PROGRESS: at 65.28% examples, 63284 words/s, in_qsize 7, out_qsize 0\n",
      "INFO - 14:32:34: EPOCH 2 - PROGRESS: at 65.72% examples, 63326 words/s, in_qsize 7, out_qsize 0\n",
      "INFO - 14:32:35: EPOCH 2 - PROGRESS: at 66.25% examples, 63343 words/s, in_qsize 7, out_qsize 0\n",
      "INFO - 14:32:36: EPOCH 2 - PROGRESS: at 66.61% examples, 63406 words/s, in_qsize 7, out_qsize 0\n",
      "INFO - 14:32:37: EPOCH 2 - PROGRESS: at 66.88% examples, 63397 words/s, in_qsize 7, out_qsize 0\n",
      "INFO - 14:32:38: EPOCH 2 - PROGRESS: at 67.29% examples, 63384 words/s, in_qsize 7, out_qsize 0\n",
      "INFO - 14:32:39: EPOCH 2 - PROGRESS: at 67.65% examples, 63462 words/s, in_qsize 7, out_qsize 0\n",
      "INFO - 14:32:40: EPOCH 2 - PROGRESS: at 68.04% examples, 63497 words/s, in_qsize 7, out_qsize 0\n",
      "INFO - 14:32:41: EPOCH 2 - PROGRESS: at 68.46% examples, 63532 words/s, in_qsize 7, out_qsize 0\n",
      "INFO - 14:32:42: EPOCH 2 - PROGRESS: at 68.76% examples, 63550 words/s, in_qsize 7, out_qsize 0\n",
      "INFO - 14:32:43: EPOCH 2 - PROGRESS: at 69.10% examples, 63558 words/s, in_qsize 8, out_qsize 0\n",
      "INFO - 14:32:44: EPOCH 2 - PROGRESS: at 69.56% examples, 63636 words/s, in_qsize 7, out_qsize 0\n",
      "INFO - 14:32:45: EPOCH 2 - PROGRESS: at 70.02% examples, 63688 words/s, in_qsize 7, out_qsize 0\n",
      "INFO - 14:32:47: EPOCH 2 - PROGRESS: at 70.48% examples, 63725 words/s, in_qsize 7, out_qsize 0\n",
      "INFO - 14:32:48: EPOCH 2 - PROGRESS: at 70.88% examples, 63703 words/s, in_qsize 7, out_qsize 0\n",
      "INFO - 14:32:49: EPOCH 2 - PROGRESS: at 71.16% examples, 63735 words/s, in_qsize 7, out_qsize 0\n",
      "INFO - 14:32:50: EPOCH 2 - PROGRESS: at 71.58% examples, 63773 words/s, in_qsize 7, out_qsize 0\n",
      "INFO - 14:32:51: EPOCH 2 - PROGRESS: at 71.99% examples, 63821 words/s, in_qsize 7, out_qsize 0\n",
      "INFO - 14:32:52: EPOCH 2 - PROGRESS: at 72.31% examples, 63797 words/s, in_qsize 8, out_qsize 0\n",
      "INFO - 14:32:53: EPOCH 2 - PROGRESS: at 72.69% examples, 63740 words/s, in_qsize 7, out_qsize 0\n",
      "INFO - 14:32:54: EPOCH 2 - PROGRESS: at 73.11% examples, 63750 words/s, in_qsize 7, out_qsize 0\n",
      "INFO - 14:32:55: EPOCH 2 - PROGRESS: at 73.39% examples, 63726 words/s, in_qsize 7, out_qsize 0\n",
      "INFO - 14:32:56: EPOCH 2 - PROGRESS: at 73.86% examples, 63798 words/s, in_qsize 7, out_qsize 0\n",
      "INFO - 14:32:57: EPOCH 2 - PROGRESS: at 74.43% examples, 63842 words/s, in_qsize 7, out_qsize 0\n",
      "INFO - 14:32:58: EPOCH 2 - PROGRESS: at 74.95% examples, 63862 words/s, in_qsize 7, out_qsize 0\n",
      "INFO - 14:32:59: EPOCH 2 - PROGRESS: at 75.33% examples, 63877 words/s, in_qsize 7, out_qsize 0\n",
      "INFO - 14:33:00: EPOCH 2 - PROGRESS: at 75.70% examples, 63845 words/s, in_qsize 7, out_qsize 0\n",
      "INFO - 14:33:01: EPOCH 2 - PROGRESS: at 75.92% examples, 63773 words/s, in_qsize 8, out_qsize 0\n",
      "INFO - 14:33:03: EPOCH 2 - PROGRESS: at 76.22% examples, 63675 words/s, in_qsize 7, out_qsize 0\n",
      "INFO - 14:33:04: EPOCH 2 - PROGRESS: at 76.61% examples, 63593 words/s, in_qsize 7, out_qsize 0\n",
      "INFO - 14:33:05: EPOCH 2 - PROGRESS: at 76.88% examples, 63501 words/s, in_qsize 7, out_qsize 0\n",
      "INFO - 14:33:06: EPOCH 2 - PROGRESS: at 77.33% examples, 63487 words/s, in_qsize 7, out_qsize 0\n"
     ]
    },
    {
     "name": "stderr",
     "output_type": "stream",
     "text": [
      "INFO - 14:33:07: EPOCH 2 - PROGRESS: at 77.79% examples, 63481 words/s, in_qsize 7, out_qsize 0\n",
      "INFO - 14:33:08: EPOCH 2 - PROGRESS: at 78.13% examples, 63406 words/s, in_qsize 7, out_qsize 0\n",
      "INFO - 14:33:09: EPOCH 2 - PROGRESS: at 78.65% examples, 63417 words/s, in_qsize 7, out_qsize 0\n",
      "INFO - 14:33:10: EPOCH 2 - PROGRESS: at 79.10% examples, 63429 words/s, in_qsize 7, out_qsize 0\n",
      "INFO - 14:33:11: EPOCH 2 - PROGRESS: at 79.31% examples, 63346 words/s, in_qsize 7, out_qsize 0\n",
      "INFO - 14:33:12: EPOCH 2 - PROGRESS: at 79.66% examples, 63275 words/s, in_qsize 7, out_qsize 0\n",
      "INFO - 14:33:13: EPOCH 2 - PROGRESS: at 80.14% examples, 63294 words/s, in_qsize 7, out_qsize 0\n",
      "INFO - 14:33:14: EPOCH 2 - PROGRESS: at 80.44% examples, 63245 words/s, in_qsize 7, out_qsize 0\n",
      "INFO - 14:33:15: EPOCH 2 - PROGRESS: at 80.60% examples, 63218 words/s, in_qsize 7, out_qsize 0\n",
      "INFO - 14:33:16: EPOCH 2 - PROGRESS: at 80.84% examples, 63172 words/s, in_qsize 7, out_qsize 0\n",
      "INFO - 14:33:17: EPOCH 2 - PROGRESS: at 81.28% examples, 63203 words/s, in_qsize 7, out_qsize 0\n",
      "INFO - 14:33:18: EPOCH 2 - PROGRESS: at 81.62% examples, 63149 words/s, in_qsize 7, out_qsize 0\n",
      "INFO - 14:33:20: EPOCH 2 - PROGRESS: at 81.84% examples, 63030 words/s, in_qsize 7, out_qsize 0\n",
      "INFO - 14:33:21: EPOCH 2 - PROGRESS: at 82.21% examples, 63021 words/s, in_qsize 7, out_qsize 0\n",
      "INFO - 14:33:22: EPOCH 2 - PROGRESS: at 82.66% examples, 63039 words/s, in_qsize 7, out_qsize 0\n",
      "INFO - 14:33:23: EPOCH 2 - PROGRESS: at 83.01% examples, 63005 words/s, in_qsize 7, out_qsize 0\n",
      "INFO - 14:33:24: EPOCH 2 - PROGRESS: at 83.45% examples, 62985 words/s, in_qsize 7, out_qsize 0\n",
      "INFO - 14:33:25: EPOCH 2 - PROGRESS: at 83.77% examples, 62966 words/s, in_qsize 7, out_qsize 0\n",
      "INFO - 14:33:26: EPOCH 2 - PROGRESS: at 84.35% examples, 63004 words/s, in_qsize 7, out_qsize 0\n",
      "INFO - 14:33:27: EPOCH 2 - PROGRESS: at 84.85% examples, 63025 words/s, in_qsize 7, out_qsize 0\n",
      "INFO - 14:33:28: EPOCH 2 - PROGRESS: at 85.23% examples, 63006 words/s, in_qsize 7, out_qsize 0\n",
      "INFO - 14:33:29: EPOCH 2 - PROGRESS: at 85.57% examples, 63027 words/s, in_qsize 7, out_qsize 0\n",
      "INFO - 14:33:30: EPOCH 2 - PROGRESS: at 86.01% examples, 63019 words/s, in_qsize 7, out_qsize 0\n",
      "INFO - 14:33:32: EPOCH 2 - PROGRESS: at 86.36% examples, 63006 words/s, in_qsize 7, out_qsize 0\n",
      "INFO - 14:33:33: EPOCH 2 - PROGRESS: at 86.53% examples, 63020 words/s, in_qsize 7, out_qsize 0\n",
      "INFO - 14:33:34: EPOCH 2 - PROGRESS: at 86.68% examples, 63046 words/s, in_qsize 7, out_qsize 0\n",
      "INFO - 14:33:35: EPOCH 2 - PROGRESS: at 87.16% examples, 63063 words/s, in_qsize 7, out_qsize 0\n",
      "INFO - 14:33:36: EPOCH 2 - PROGRESS: at 87.59% examples, 63085 words/s, in_qsize 7, out_qsize 0\n",
      "INFO - 14:33:37: EPOCH 2 - PROGRESS: at 88.09% examples, 63128 words/s, in_qsize 7, out_qsize 0\n",
      "INFO - 14:33:38: EPOCH 2 - PROGRESS: at 88.65% examples, 63146 words/s, in_qsize 7, out_qsize 0\n",
      "INFO - 14:33:39: EPOCH 2 - PROGRESS: at 89.04% examples, 63178 words/s, in_qsize 7, out_qsize 0\n",
      "INFO - 14:33:40: EPOCH 2 - PROGRESS: at 89.27% examples, 63105 words/s, in_qsize 7, out_qsize 0\n",
      "INFO - 14:33:41: EPOCH 2 - PROGRESS: at 89.67% examples, 63083 words/s, in_qsize 7, out_qsize 0\n",
      "INFO - 14:33:42: EPOCH 2 - PROGRESS: at 90.14% examples, 63104 words/s, in_qsize 7, out_qsize 0\n",
      "INFO - 14:33:43: EPOCH 2 - PROGRESS: at 90.50% examples, 63091 words/s, in_qsize 7, out_qsize 0\n",
      "INFO - 14:33:44: EPOCH 2 - PROGRESS: at 90.85% examples, 63021 words/s, in_qsize 7, out_qsize 0\n",
      "INFO - 14:33:45: EPOCH 2 - PROGRESS: at 91.20% examples, 63015 words/s, in_qsize 7, out_qsize 0\n",
      "INFO - 14:33:46: EPOCH 2 - PROGRESS: at 91.52% examples, 62934 words/s, in_qsize 7, out_qsize 0\n",
      "INFO - 14:33:47: EPOCH 2 - PROGRESS: at 91.84% examples, 62908 words/s, in_qsize 7, out_qsize 0\n",
      "INFO - 14:33:48: EPOCH 2 - PROGRESS: at 92.27% examples, 62888 words/s, in_qsize 7, out_qsize 0\n",
      "INFO - 14:33:49: EPOCH 2 - PROGRESS: at 92.57% examples, 62816 words/s, in_qsize 7, out_qsize 0\n",
      "INFO - 14:33:50: EPOCH 2 - PROGRESS: at 93.00% examples, 62837 words/s, in_qsize 7, out_qsize 0\n",
      "INFO - 14:33:51: EPOCH 2 - PROGRESS: at 93.43% examples, 62835 words/s, in_qsize 7, out_qsize 0\n",
      "INFO - 14:33:53: EPOCH 2 - PROGRESS: at 93.87% examples, 62823 words/s, in_qsize 8, out_qsize 1\n",
      "INFO - 14:33:54: EPOCH 2 - PROGRESS: at 94.25% examples, 62825 words/s, in_qsize 7, out_qsize 0\n",
      "INFO - 14:33:55: EPOCH 2 - PROGRESS: at 94.53% examples, 62858 words/s, in_qsize 7, out_qsize 0\n",
      "INFO - 14:33:56: EPOCH 2 - PROGRESS: at 94.91% examples, 62895 words/s, in_qsize 8, out_qsize 0\n",
      "INFO - 14:33:57: EPOCH 2 - PROGRESS: at 95.28% examples, 62880 words/s, in_qsize 7, out_qsize 0\n",
      "INFO - 14:33:58: EPOCH 2 - PROGRESS: at 95.56% examples, 62857 words/s, in_qsize 7, out_qsize 0\n",
      "INFO - 14:33:59: EPOCH 2 - PROGRESS: at 95.72% examples, 62869 words/s, in_qsize 7, out_qsize 0\n",
      "INFO - 14:34:00: EPOCH 2 - PROGRESS: at 96.10% examples, 62860 words/s, in_qsize 7, out_qsize 0\n",
      "INFO - 14:34:01: EPOCH 2 - PROGRESS: at 96.48% examples, 62857 words/s, in_qsize 7, out_qsize 0\n",
      "INFO - 14:34:02: EPOCH 2 - PROGRESS: at 96.86% examples, 62838 words/s, in_qsize 7, out_qsize 0\n",
      "INFO - 14:34:03: EPOCH 2 - PROGRESS: at 97.09% examples, 62811 words/s, in_qsize 7, out_qsize 0\n",
      "INFO - 14:34:04: EPOCH 2 - PROGRESS: at 97.50% examples, 62826 words/s, in_qsize 7, out_qsize 0\n",
      "INFO - 14:34:05: EPOCH 2 - PROGRESS: at 97.98% examples, 62873 words/s, in_qsize 7, out_qsize 0\n",
      "INFO - 14:34:06: EPOCH 2 - PROGRESS: at 98.45% examples, 62907 words/s, in_qsize 7, out_qsize 0\n",
      "INFO - 14:34:07: EPOCH 2 - PROGRESS: at 98.81% examples, 62911 words/s, in_qsize 7, out_qsize 0\n",
      "INFO - 14:34:08: EPOCH 2 - PROGRESS: at 99.15% examples, 62922 words/s, in_qsize 7, out_qsize 0\n",
      "INFO - 14:34:09: EPOCH 2 - PROGRESS: at 99.38% examples, 62860 words/s, in_qsize 7, out_qsize 0\n",
      "INFO - 14:34:10: EPOCH 2 - PROGRESS: at 99.76% examples, 62859 words/s, in_qsize 6, out_qsize 0\n",
      "INFO - 14:34:11: worker thread finished; awaiting finish of 3 more threads\n",
      "INFO - 14:34:11: worker thread finished; awaiting finish of 2 more threads\n",
      "INFO - 14:34:11: worker thread finished; awaiting finish of 1 more threads\n",
      "INFO - 14:34:11: worker thread finished; awaiting finish of 0 more threads\n",
      "INFO - 14:34:11: EPOCH - 2 : training on 31973755 raw words (17365080 effective words) took 276.2s, 62862 effective words/s\n",
      "INFO - 14:34:12: EPOCH 3 - PROGRESS: at 0.17% examples, 43469 words/s, in_qsize 7, out_qsize 0\n",
      "INFO - 14:34:13: EPOCH 3 - PROGRESS: at 0.54% examples, 51443 words/s, in_qsize 7, out_qsize 0\n",
      "INFO - 14:34:14: EPOCH 3 - PROGRESS: at 1.04% examples, 60312 words/s, in_qsize 7, out_qsize 0\n",
      "INFO - 14:34:15: EPOCH 3 - PROGRESS: at 1.54% examples, 60749 words/s, in_qsize 7, out_qsize 0\n",
      "INFO - 14:34:16: EPOCH 3 - PROGRESS: at 2.04% examples, 61485 words/s, in_qsize 7, out_qsize 0\n",
      "INFO - 14:34:17: EPOCH 3 - PROGRESS: at 2.31% examples, 61829 words/s, in_qsize 7, out_qsize 0\n",
      "INFO - 14:34:18: EPOCH 3 - PROGRESS: at 2.58% examples, 60187 words/s, in_qsize 7, out_qsize 0\n",
      "INFO - 14:34:19: EPOCH 3 - PROGRESS: at 3.03% examples, 59843 words/s, in_qsize 7, out_qsize 0\n",
      "INFO - 14:34:20: EPOCH 3 - PROGRESS: at 3.45% examples, 60141 words/s, in_qsize 7, out_qsize 0\n",
      "INFO - 14:34:22: EPOCH 3 - PROGRESS: at 4.04% examples, 61445 words/s, in_qsize 7, out_qsize 0\n",
      "INFO - 14:34:23: EPOCH 3 - PROGRESS: at 4.43% examples, 61784 words/s, in_qsize 7, out_qsize 0\n",
      "INFO - 14:34:24: EPOCH 3 - PROGRESS: at 4.86% examples, 60823 words/s, in_qsize 7, out_qsize 0\n",
      "INFO - 14:34:25: EPOCH 3 - PROGRESS: at 5.20% examples, 59965 words/s, in_qsize 8, out_qsize 0\n",
      "INFO - 14:34:26: EPOCH 3 - PROGRESS: at 5.50% examples, 59656 words/s, in_qsize 7, out_qsize 0\n",
      "INFO - 14:34:27: EPOCH 3 - PROGRESS: at 5.79% examples, 59902 words/s, in_qsize 7, out_qsize 0\n",
      "INFO - 14:34:29: EPOCH 3 - PROGRESS: at 6.06% examples, 58786 words/s, in_qsize 8, out_qsize 0\n",
      "INFO - 14:34:30: EPOCH 3 - PROGRESS: at 6.40% examples, 60038 words/s, in_qsize 7, out_qsize 0\n",
      "INFO - 14:34:31: EPOCH 3 - PROGRESS: at 6.86% examples, 60059 words/s, in_qsize 7, out_qsize 0\n",
      "INFO - 14:34:32: EPOCH 3 - PROGRESS: at 7.35% examples, 60643 words/s, in_qsize 7, out_qsize 0\n",
      "INFO - 14:34:33: EPOCH 3 - PROGRESS: at 7.71% examples, 60670 words/s, in_qsize 7, out_qsize 0\n",
      "INFO - 14:34:34: EPOCH 3 - PROGRESS: at 8.28% examples, 61244 words/s, in_qsize 7, out_qsize 0\n"
     ]
    },
    {
     "name": "stderr",
     "output_type": "stream",
     "text": [
      "INFO - 14:34:35: EPOCH 3 - PROGRESS: at 8.72% examples, 61169 words/s, in_qsize 7, out_qsize 0\n",
      "INFO - 14:34:36: EPOCH 3 - PROGRESS: at 9.07% examples, 60655 words/s, in_qsize 8, out_qsize 0\n",
      "INFO - 14:34:37: EPOCH 3 - PROGRESS: at 9.26% examples, 60516 words/s, in_qsize 7, out_qsize 0\n",
      "INFO - 14:34:38: EPOCH 3 - PROGRESS: at 9.70% examples, 60824 words/s, in_qsize 7, out_qsize 0\n",
      "INFO - 14:34:39: EPOCH 3 - PROGRESS: at 10.16% examples, 60807 words/s, in_qsize 7, out_qsize 0\n",
      "INFO - 14:34:40: EPOCH 3 - PROGRESS: at 10.69% examples, 61189 words/s, in_qsize 7, out_qsize 0\n",
      "INFO - 14:34:41: EPOCH 3 - PROGRESS: at 11.13% examples, 61208 words/s, in_qsize 7, out_qsize 0\n",
      "INFO - 14:34:43: EPOCH 3 - PROGRESS: at 11.51% examples, 61554 words/s, in_qsize 7, out_qsize 0\n",
      "INFO - 14:34:44: EPOCH 3 - PROGRESS: at 11.71% examples, 61840 words/s, in_qsize 7, out_qsize 0\n",
      "INFO - 14:34:45: EPOCH 3 - PROGRESS: at 11.99% examples, 61283 words/s, in_qsize 7, out_qsize 0\n",
      "INFO - 14:34:46: EPOCH 3 - PROGRESS: at 12.57% examples, 61383 words/s, in_qsize 7, out_qsize 0\n",
      "INFO - 14:34:47: EPOCH 3 - PROGRESS: at 12.97% examples, 61159 words/s, in_qsize 7, out_qsize 0\n",
      "INFO - 14:34:48: EPOCH 3 - PROGRESS: at 13.21% examples, 60593 words/s, in_qsize 7, out_qsize 0\n",
      "INFO - 14:34:49: EPOCH 3 - PROGRESS: at 13.71% examples, 60489 words/s, in_qsize 7, out_qsize 0\n",
      "INFO - 14:34:50: EPOCH 3 - PROGRESS: at 14.02% examples, 60480 words/s, in_qsize 7, out_qsize 0\n",
      "INFO - 14:34:51: EPOCH 3 - PROGRESS: at 14.43% examples, 60447 words/s, in_qsize 8, out_qsize 0\n",
      "INFO - 14:34:52: EPOCH 3 - PROGRESS: at 14.59% examples, 60001 words/s, in_qsize 7, out_qsize 0\n",
      "INFO - 14:34:54: EPOCH 3 - PROGRESS: at 14.80% examples, 59684 words/s, in_qsize 7, out_qsize 0\n",
      "INFO - 14:34:55: EPOCH 3 - PROGRESS: at 15.05% examples, 59571 words/s, in_qsize 7, out_qsize 0\n",
      "INFO - 14:34:56: EPOCH 3 - PROGRESS: at 15.43% examples, 59747 words/s, in_qsize 7, out_qsize 0\n",
      "INFO - 14:34:57: EPOCH 3 - PROGRESS: at 15.74% examples, 59572 words/s, in_qsize 8, out_qsize 1\n",
      "INFO - 14:34:58: EPOCH 3 - PROGRESS: at 16.01% examples, 59484 words/s, in_qsize 7, out_qsize 0\n",
      "INFO - 14:34:59: EPOCH 3 - PROGRESS: at 16.43% examples, 59234 words/s, in_qsize 8, out_qsize 0\n",
      "INFO - 14:35:00: EPOCH 3 - PROGRESS: at 16.90% examples, 59361 words/s, in_qsize 7, out_qsize 0\n",
      "INFO - 14:35:01: EPOCH 3 - PROGRESS: at 17.44% examples, 59644 words/s, in_qsize 7, out_qsize 0\n",
      "INFO - 14:35:02: EPOCH 3 - PROGRESS: at 17.77% examples, 59810 words/s, in_qsize 7, out_qsize 0\n",
      "INFO - 14:35:03: EPOCH 3 - PROGRESS: at 18.43% examples, 60051 words/s, in_qsize 7, out_qsize 0\n",
      "INFO - 14:35:04: EPOCH 3 - PROGRESS: at 18.83% examples, 60204 words/s, in_qsize 7, out_qsize 0\n",
      "INFO - 14:35:06: EPOCH 3 - PROGRESS: at 19.33% examples, 60494 words/s, in_qsize 7, out_qsize 0\n",
      "INFO - 14:35:07: EPOCH 3 - PROGRESS: at 19.66% examples, 60671 words/s, in_qsize 7, out_qsize 0\n",
      "INFO - 14:35:08: EPOCH 3 - PROGRESS: at 20.04% examples, 60799 words/s, in_qsize 7, out_qsize 0\n",
      "INFO - 14:35:09: EPOCH 3 - PROGRESS: at 20.47% examples, 60830 words/s, in_qsize 7, out_qsize 0\n",
      "INFO - 14:35:10: EPOCH 3 - PROGRESS: at 20.90% examples, 60935 words/s, in_qsize 7, out_qsize 0\n",
      "INFO - 14:35:11: EPOCH 3 - PROGRESS: at 21.34% examples, 61096 words/s, in_qsize 7, out_qsize 0\n",
      "INFO - 14:35:12: EPOCH 3 - PROGRESS: at 21.78% examples, 61239 words/s, in_qsize 7, out_qsize 0\n",
      "INFO - 14:35:13: EPOCH 3 - PROGRESS: at 22.09% examples, 61211 words/s, in_qsize 7, out_qsize 0\n",
      "INFO - 14:35:14: EPOCH 3 - PROGRESS: at 22.45% examples, 61377 words/s, in_qsize 7, out_qsize 0\n",
      "INFO - 14:35:15: EPOCH 3 - PROGRESS: at 22.84% examples, 61501 words/s, in_qsize 7, out_qsize 0\n",
      "INFO - 14:35:16: EPOCH 3 - PROGRESS: at 23.27% examples, 61632 words/s, in_qsize 7, out_qsize 0\n",
      "INFO - 14:35:17: EPOCH 3 - PROGRESS: at 23.62% examples, 61610 words/s, in_qsize 7, out_qsize 0\n",
      "INFO - 14:35:18: EPOCH 3 - PROGRESS: at 24.10% examples, 61394 words/s, in_qsize 7, out_qsize 0\n",
      "INFO - 14:35:19: EPOCH 3 - PROGRESS: at 24.45% examples, 61323 words/s, in_qsize 7, out_qsize 0\n",
      "INFO - 14:35:20: EPOCH 3 - PROGRESS: at 24.93% examples, 61421 words/s, in_qsize 7, out_qsize 0\n",
      "INFO - 14:35:22: EPOCH 3 - PROGRESS: at 25.44% examples, 61577 words/s, in_qsize 7, out_qsize 0\n",
      "INFO - 14:35:23: EPOCH 3 - PROGRESS: at 25.87% examples, 61525 words/s, in_qsize 7, out_qsize 0\n",
      "INFO - 14:35:24: EPOCH 3 - PROGRESS: at 26.21% examples, 61540 words/s, in_qsize 7, out_qsize 0\n",
      "INFO - 14:35:25: EPOCH 3 - PROGRESS: at 26.67% examples, 61464 words/s, in_qsize 7, out_qsize 0\n",
      "INFO - 14:35:26: EPOCH 3 - PROGRESS: at 27.08% examples, 61471 words/s, in_qsize 7, out_qsize 0\n",
      "INFO - 14:35:27: EPOCH 3 - PROGRESS: at 27.41% examples, 61546 words/s, in_qsize 7, out_qsize 0\n",
      "INFO - 14:35:28: EPOCH 3 - PROGRESS: at 27.74% examples, 61450 words/s, in_qsize 7, out_qsize 0\n",
      "INFO - 14:35:29: EPOCH 3 - PROGRESS: at 28.31% examples, 61643 words/s, in_qsize 7, out_qsize 0\n",
      "INFO - 14:35:30: EPOCH 3 - PROGRESS: at 28.56% examples, 61699 words/s, in_qsize 7, out_qsize 0\n",
      "INFO - 14:35:31: EPOCH 3 - PROGRESS: at 29.02% examples, 61862 words/s, in_qsize 7, out_qsize 0\n",
      "INFO - 14:35:32: EPOCH 3 - PROGRESS: at 29.39% examples, 61904 words/s, in_qsize 7, out_qsize 0\n",
      "INFO - 14:35:33: EPOCH 3 - PROGRESS: at 29.89% examples, 62059 words/s, in_qsize 7, out_qsize 0\n",
      "INFO - 14:35:34: EPOCH 3 - PROGRESS: at 30.32% examples, 62092 words/s, in_qsize 7, out_qsize 0\n",
      "INFO - 14:35:35: EPOCH 3 - PROGRESS: at 30.81% examples, 62280 words/s, in_qsize 7, out_qsize 0\n",
      "INFO - 14:35:36: EPOCH 3 - PROGRESS: at 31.21% examples, 62258 words/s, in_qsize 7, out_qsize 0\n",
      "INFO - 14:35:38: EPOCH 3 - PROGRESS: at 31.65% examples, 62308 words/s, in_qsize 7, out_qsize 0\n",
      "INFO - 14:35:39: EPOCH 3 - PROGRESS: at 32.02% examples, 62485 words/s, in_qsize 7, out_qsize 0\n",
      "INFO - 14:35:40: EPOCH 3 - PROGRESS: at 32.25% examples, 62571 words/s, in_qsize 7, out_qsize 0\n",
      "INFO - 14:35:41: EPOCH 3 - PROGRESS: at 32.71% examples, 62627 words/s, in_qsize 8, out_qsize 0\n",
      "INFO - 14:35:42: EPOCH 3 - PROGRESS: at 33.06% examples, 62683 words/s, in_qsize 7, out_qsize 0\n",
      "INFO - 14:35:43: EPOCH 3 - PROGRESS: at 33.50% examples, 62688 words/s, in_qsize 7, out_qsize 0\n",
      "INFO - 14:35:44: EPOCH 3 - PROGRESS: at 33.77% examples, 62693 words/s, in_qsize 7, out_qsize 0\n",
      "INFO - 14:35:45: EPOCH 3 - PROGRESS: at 34.21% examples, 62810 words/s, in_qsize 7, out_qsize 0\n",
      "INFO - 14:35:46: EPOCH 3 - PROGRESS: at 34.45% examples, 62895 words/s, in_qsize 7, out_qsize 0\n",
      "INFO - 14:35:47: EPOCH 3 - PROGRESS: at 34.71% examples, 62840 words/s, in_qsize 8, out_qsize 0\n",
      "INFO - 14:35:48: EPOCH 3 - PROGRESS: at 34.89% examples, 62713 words/s, in_qsize 7, out_qsize 0\n",
      "INFO - 14:35:49: EPOCH 3 - PROGRESS: at 35.20% examples, 62681 words/s, in_qsize 7, out_qsize 0\n",
      "INFO - 14:35:51: EPOCH 3 - PROGRESS: at 35.73% examples, 62793 words/s, in_qsize 8, out_qsize 0\n",
      "INFO - 14:35:52: EPOCH 3 - PROGRESS: at 36.13% examples, 62865 words/s, in_qsize 7, out_qsize 0\n",
      "INFO - 14:35:53: EPOCH 3 - PROGRESS: at 36.56% examples, 62983 words/s, in_qsize 7, out_qsize 0\n",
      "INFO - 14:35:54: EPOCH 3 - PROGRESS: at 36.94% examples, 62944 words/s, in_qsize 7, out_qsize 0\n",
      "INFO - 14:35:55: EPOCH 3 - PROGRESS: at 37.40% examples, 63092 words/s, in_qsize 7, out_qsize 0\n",
      "INFO - 14:35:56: EPOCH 3 - PROGRESS: at 37.74% examples, 63110 words/s, in_qsize 7, out_qsize 0\n",
      "INFO - 14:35:57: EPOCH 3 - PROGRESS: at 38.10% examples, 63206 words/s, in_qsize 7, out_qsize 0\n",
      "INFO - 14:35:58: EPOCH 3 - PROGRESS: at 38.52% examples, 63191 words/s, in_qsize 7, out_qsize 0\n",
      "INFO - 14:35:59: EPOCH 3 - PROGRESS: at 39.03% examples, 63224 words/s, in_qsize 7, out_qsize 0\n",
      "INFO - 14:36:00: EPOCH 3 - PROGRESS: at 39.52% examples, 63362 words/s, in_qsize 7, out_qsize 0\n",
      "INFO - 14:36:01: EPOCH 3 - PROGRESS: at 39.87% examples, 63302 words/s, in_qsize 7, out_qsize 0\n",
      "INFO - 14:36:02: EPOCH 3 - PROGRESS: at 40.34% examples, 63255 words/s, in_qsize 7, out_qsize 0\n",
      "INFO - 14:36:04: EPOCH 3 - PROGRESS: at 40.66% examples, 63221 words/s, in_qsize 7, out_qsize 0\n",
      "INFO - 14:36:05: EPOCH 3 - PROGRESS: at 41.17% examples, 63164 words/s, in_qsize 7, out_qsize 0\n",
      "INFO - 14:36:06: EPOCH 3 - PROGRESS: at 41.56% examples, 63210 words/s, in_qsize 7, out_qsize 0\n",
      "INFO - 14:36:07: EPOCH 3 - PROGRESS: at 41.87% examples, 63288 words/s, in_qsize 8, out_qsize 0\n"
     ]
    },
    {
     "name": "stderr",
     "output_type": "stream",
     "text": [
      "INFO - 14:36:08: EPOCH 3 - PROGRESS: at 42.31% examples, 63305 words/s, in_qsize 8, out_qsize 0\n",
      "INFO - 14:36:09: EPOCH 3 - PROGRESS: at 42.76% examples, 63388 words/s, in_qsize 7, out_qsize 0\n",
      "INFO - 14:36:10: EPOCH 3 - PROGRESS: at 43.18% examples, 63430 words/s, in_qsize 7, out_qsize 0\n",
      "INFO - 14:36:11: EPOCH 3 - PROGRESS: at 43.66% examples, 63517 words/s, in_qsize 7, out_qsize 0\n",
      "INFO - 14:36:12: EPOCH 3 - PROGRESS: at 44.15% examples, 63588 words/s, in_qsize 7, out_qsize 0\n",
      "INFO - 14:36:13: EPOCH 3 - PROGRESS: at 44.51% examples, 63622 words/s, in_qsize 8, out_qsize 0\n",
      "INFO - 14:36:14: EPOCH 3 - PROGRESS: at 44.81% examples, 63608 words/s, in_qsize 7, out_qsize 0\n",
      "INFO - 14:36:15: EPOCH 3 - PROGRESS: at 45.33% examples, 63658 words/s, in_qsize 7, out_qsize 0\n",
      "INFO - 14:36:16: EPOCH 3 - PROGRESS: at 45.76% examples, 63779 words/s, in_qsize 7, out_qsize 0\n",
      "INFO - 14:36:17: EPOCH 3 - PROGRESS: at 46.19% examples, 63868 words/s, in_qsize 7, out_qsize 0\n",
      "INFO - 14:36:18: EPOCH 3 - PROGRESS: at 46.67% examples, 63936 words/s, in_qsize 7, out_qsize 0\n",
      "INFO - 14:36:19: EPOCH 3 - PROGRESS: at 46.97% examples, 63943 words/s, in_qsize 7, out_qsize 0\n",
      "INFO - 14:36:20: EPOCH 3 - PROGRESS: at 47.43% examples, 64041 words/s, in_qsize 7, out_qsize 0\n",
      "INFO - 14:36:21: EPOCH 3 - PROGRESS: at 47.83% examples, 64100 words/s, in_qsize 7, out_qsize 0\n",
      "INFO - 14:36:22: EPOCH 3 - PROGRESS: at 48.12% examples, 64138 words/s, in_qsize 7, out_qsize 0\n",
      "INFO - 14:36:23: EPOCH 3 - PROGRESS: at 48.54% examples, 64156 words/s, in_qsize 7, out_qsize 0\n",
      "INFO - 14:36:25: EPOCH 3 - PROGRESS: at 48.96% examples, 64159 words/s, in_qsize 7, out_qsize 0\n",
      "INFO - 14:36:26: EPOCH 3 - PROGRESS: at 49.33% examples, 64082 words/s, in_qsize 7, out_qsize 0\n",
      "INFO - 14:36:27: EPOCH 3 - PROGRESS: at 49.69% examples, 64077 words/s, in_qsize 7, out_qsize 0\n",
      "INFO - 14:36:28: EPOCH 3 - PROGRESS: at 50.10% examples, 64062 words/s, in_qsize 7, out_qsize 0\n",
      "INFO - 14:36:29: EPOCH 3 - PROGRESS: at 50.54% examples, 64171 words/s, in_qsize 7, out_qsize 0\n",
      "INFO - 14:36:30: EPOCH 3 - PROGRESS: at 51.04% examples, 64195 words/s, in_qsize 7, out_qsize 0\n",
      "INFO - 14:36:31: EPOCH 3 - PROGRESS: at 51.40% examples, 64282 words/s, in_qsize 7, out_qsize 0\n",
      "INFO - 14:36:32: EPOCH 3 - PROGRESS: at 51.86% examples, 64272 words/s, in_qsize 7, out_qsize 0\n",
      "INFO - 14:36:33: EPOCH 3 - PROGRESS: at 52.41% examples, 64327 words/s, in_qsize 7, out_qsize 0\n",
      "INFO - 14:36:34: EPOCH 3 - PROGRESS: at 52.87% examples, 64429 words/s, in_qsize 7, out_qsize 0\n",
      "INFO - 14:36:35: EPOCH 3 - PROGRESS: at 53.26% examples, 64427 words/s, in_qsize 7, out_qsize 0\n",
      "INFO - 14:36:36: EPOCH 3 - PROGRESS: at 53.72% examples, 64522 words/s, in_qsize 7, out_qsize 0\n",
      "INFO - 14:36:37: EPOCH 3 - PROGRESS: at 54.18% examples, 64601 words/s, in_qsize 7, out_qsize 0\n",
      "INFO - 14:36:39: EPOCH 3 - PROGRESS: at 54.68% examples, 64594 words/s, in_qsize 7, out_qsize 0\n",
      "INFO - 14:36:40: EPOCH 3 - PROGRESS: at 55.17% examples, 64666 words/s, in_qsize 7, out_qsize 0\n",
      "INFO - 14:36:41: EPOCH 3 - PROGRESS: at 55.62% examples, 64752 words/s, in_qsize 7, out_qsize 0\n",
      "INFO - 14:36:42: EPOCH 3 - PROGRESS: at 56.07% examples, 64761 words/s, in_qsize 7, out_qsize 0\n",
      "INFO - 14:36:43: EPOCH 3 - PROGRESS: at 56.60% examples, 64790 words/s, in_qsize 7, out_qsize 0\n",
      "INFO - 14:36:44: EPOCH 3 - PROGRESS: at 57.00% examples, 64863 words/s, in_qsize 7, out_qsize 0\n",
      "INFO - 14:36:45: EPOCH 3 - PROGRESS: at 57.43% examples, 64910 words/s, in_qsize 8, out_qsize 0\n",
      "INFO - 14:36:46: EPOCH 3 - PROGRESS: at 57.95% examples, 64982 words/s, in_qsize 7, out_qsize 0\n",
      "INFO - 14:36:47: EPOCH 3 - PROGRESS: at 58.39% examples, 65034 words/s, in_qsize 7, out_qsize 0\n",
      "INFO - 14:36:48: EPOCH 3 - PROGRESS: at 58.79% examples, 65012 words/s, in_qsize 7, out_qsize 0\n",
      "INFO - 14:36:49: EPOCH 3 - PROGRESS: at 59.24% examples, 65028 words/s, in_qsize 7, out_qsize 0\n",
      "INFO - 14:36:50: EPOCH 3 - PROGRESS: at 59.71% examples, 65111 words/s, in_qsize 7, out_qsize 0\n",
      "INFO - 14:36:51: EPOCH 3 - PROGRESS: at 60.23% examples, 65162 words/s, in_qsize 7, out_qsize 0\n",
      "INFO - 14:36:52: EPOCH 3 - PROGRESS: at 60.68% examples, 65169 words/s, in_qsize 7, out_qsize 0\n",
      "INFO - 14:36:53: EPOCH 3 - PROGRESS: at 61.09% examples, 65169 words/s, in_qsize 7, out_qsize 0\n",
      "INFO - 14:36:55: EPOCH 3 - PROGRESS: at 61.53% examples, 65164 words/s, in_qsize 7, out_qsize 0\n",
      "INFO - 14:36:56: EPOCH 3 - PROGRESS: at 62.06% examples, 65176 words/s, in_qsize 7, out_qsize 0\n",
      "INFO - 14:36:57: EPOCH 3 - PROGRESS: at 62.49% examples, 65204 words/s, in_qsize 7, out_qsize 0\n",
      "INFO - 14:36:58: EPOCH 3 - PROGRESS: at 62.82% examples, 65163 words/s, in_qsize 7, out_qsize 0\n",
      "INFO - 14:36:59: EPOCH 3 - PROGRESS: at 63.25% examples, 65220 words/s, in_qsize 7, out_qsize 0\n",
      "INFO - 14:37:00: EPOCH 3 - PROGRESS: at 63.85% examples, 65277 words/s, in_qsize 7, out_qsize 0\n",
      "INFO - 14:37:01: EPOCH 3 - PROGRESS: at 64.34% examples, 65285 words/s, in_qsize 7, out_qsize 0\n",
      "INFO - 14:37:02: EPOCH 3 - PROGRESS: at 64.79% examples, 65334 words/s, in_qsize 7, out_qsize 0\n",
      "INFO - 14:37:03: EPOCH 3 - PROGRESS: at 65.19% examples, 65335 words/s, in_qsize 7, out_qsize 0\n",
      "INFO - 14:37:04: EPOCH 3 - PROGRESS: at 65.66% examples, 65380 words/s, in_qsize 7, out_qsize 0\n",
      "INFO - 14:37:05: EPOCH 3 - PROGRESS: at 66.25% examples, 65441 words/s, in_qsize 7, out_qsize 0\n",
      "INFO - 14:37:06: EPOCH 3 - PROGRESS: at 66.62% examples, 65501 words/s, in_qsize 7, out_qsize 0\n",
      "INFO - 14:37:07: EPOCH 3 - PROGRESS: at 66.88% examples, 65508 words/s, in_qsize 7, out_qsize 0\n",
      "INFO - 14:37:09: EPOCH 3 - PROGRESS: at 67.34% examples, 65562 words/s, in_qsize 7, out_qsize 0\n",
      "INFO - 14:37:10: EPOCH 3 - PROGRESS: at 67.77% examples, 65618 words/s, in_qsize 7, out_qsize 0\n",
      "INFO - 14:37:11: EPOCH 3 - PROGRESS: at 68.09% examples, 65619 words/s, in_qsize 7, out_qsize 0\n",
      "INFO - 14:37:12: EPOCH 3 - PROGRESS: at 68.51% examples, 65649 words/s, in_qsize 7, out_qsize 0\n",
      "INFO - 14:37:13: EPOCH 3 - PROGRESS: at 68.81% examples, 65661 words/s, in_qsize 7, out_qsize 0\n",
      "INFO - 14:37:14: EPOCH 3 - PROGRESS: at 69.16% examples, 65680 words/s, in_qsize 7, out_qsize 0\n",
      "INFO - 14:37:15: EPOCH 3 - PROGRESS: at 69.68% examples, 65751 words/s, in_qsize 7, out_qsize 0\n",
      "INFO - 14:37:16: EPOCH 3 - PROGRESS: at 70.08% examples, 65778 words/s, in_qsize 7, out_qsize 0\n",
      "INFO - 14:37:17: EPOCH 3 - PROGRESS: at 70.57% examples, 65814 words/s, in_qsize 7, out_qsize 0\n",
      "INFO - 14:37:18: EPOCH 3 - PROGRESS: at 70.99% examples, 65833 words/s, in_qsize 7, out_qsize 0\n",
      "INFO - 14:37:19: EPOCH 3 - PROGRESS: at 71.33% examples, 65850 words/s, in_qsize 7, out_qsize 0\n",
      "INFO - 14:37:20: EPOCH 3 - PROGRESS: at 71.75% examples, 65896 words/s, in_qsize 7, out_qsize 0\n",
      "INFO - 14:37:21: EPOCH 3 - PROGRESS: at 72.13% examples, 65874 words/s, in_qsize 7, out_qsize 0\n",
      "INFO - 14:37:22: EPOCH 3 - PROGRESS: at 72.50% examples, 65848 words/s, in_qsize 7, out_qsize 0\n",
      "INFO - 14:37:23: EPOCH 3 - PROGRESS: at 72.92% examples, 65846 words/s, in_qsize 7, out_qsize 0\n",
      "INFO - 14:37:24: EPOCH 3 - PROGRESS: at 73.23% examples, 65815 words/s, in_qsize 7, out_qsize 0\n",
      "INFO - 14:37:25: EPOCH 3 - PROGRESS: at 73.53% examples, 65865 words/s, in_qsize 7, out_qsize 0\n",
      "INFO - 14:37:26: EPOCH 3 - PROGRESS: at 74.00% examples, 65862 words/s, in_qsize 7, out_qsize 0\n",
      "INFO - 14:37:28: EPOCH 3 - PROGRESS: at 74.51% examples, 65828 words/s, in_qsize 7, out_qsize 0\n",
      "INFO - 14:37:29: EPOCH 3 - PROGRESS: at 74.98% examples, 65795 words/s, in_qsize 7, out_qsize 0\n",
      "INFO - 14:37:30: EPOCH 3 - PROGRESS: at 75.36% examples, 65804 words/s, in_qsize 7, out_qsize 0\n",
      "INFO - 14:37:31: EPOCH 3 - PROGRESS: at 75.77% examples, 65819 words/s, in_qsize 7, out_qsize 0\n",
      "INFO - 14:37:32: EPOCH 3 - PROGRESS: at 76.06% examples, 65739 words/s, in_qsize 7, out_qsize 0\n",
      "INFO - 14:37:33: EPOCH 3 - PROGRESS: at 76.36% examples, 65635 words/s, in_qsize 7, out_qsize 0\n",
      "INFO - 14:37:34: EPOCH 3 - PROGRESS: at 76.59% examples, 65473 words/s, in_qsize 7, out_qsize 0\n",
      "INFO - 14:37:35: EPOCH 3 - PROGRESS: at 76.88% examples, 65403 words/s, in_qsize 7, out_qsize 0\n",
      "INFO - 14:37:36: EPOCH 3 - PROGRESS: at 77.33% examples, 65401 words/s, in_qsize 7, out_qsize 0\n",
      "INFO - 14:37:37: EPOCH 3 - PROGRESS: at 77.79% examples, 65393 words/s, in_qsize 8, out_qsize 0\n",
      "INFO - 14:37:38: EPOCH 3 - PROGRESS: at 78.12% examples, 65308 words/s, in_qsize 7, out_qsize 0\n"
     ]
    },
    {
     "name": "stderr",
     "output_type": "stream",
     "text": [
      "INFO - 14:37:39: EPOCH 3 - PROGRESS: at 78.62% examples, 65282 words/s, in_qsize 7, out_qsize 0\n",
      "INFO - 14:37:40: EPOCH 3 - PROGRESS: at 79.03% examples, 65265 words/s, in_qsize 7, out_qsize 0\n",
      "INFO - 14:37:41: EPOCH 3 - PROGRESS: at 79.37% examples, 65269 words/s, in_qsize 7, out_qsize 0\n",
      "INFO - 14:37:42: EPOCH 3 - PROGRESS: at 79.76% examples, 65233 words/s, in_qsize 7, out_qsize 0\n",
      "INFO - 14:37:43: EPOCH 3 - PROGRESS: at 80.21% examples, 65231 words/s, in_qsize 7, out_qsize 0\n",
      "INFO - 14:37:44: EPOCH 3 - PROGRESS: at 80.50% examples, 65182 words/s, in_qsize 7, out_qsize 0\n",
      "INFO - 14:37:45: EPOCH 3 - PROGRESS: at 80.65% examples, 65176 words/s, in_qsize 7, out_qsize 0\n",
      "INFO - 14:37:46: EPOCH 3 - PROGRESS: at 81.04% examples, 65169 words/s, in_qsize 7, out_qsize 0\n",
      "INFO - 14:37:48: EPOCH 3 - PROGRESS: at 81.46% examples, 65145 words/s, in_qsize 7, out_qsize 0\n",
      "INFO - 14:37:49: EPOCH 3 - PROGRESS: at 81.87% examples, 65164 words/s, in_qsize 7, out_qsize 0\n",
      "INFO - 14:37:50: EPOCH 3 - PROGRESS: at 82.21% examples, 65133 words/s, in_qsize 7, out_qsize 0\n",
      "INFO - 14:37:51: EPOCH 3 - PROGRESS: at 82.49% examples, 64999 words/s, in_qsize 7, out_qsize 0\n",
      "INFO - 14:37:52: EPOCH 3 - PROGRESS: at 82.95% examples, 64962 words/s, in_qsize 7, out_qsize 0\n",
      "INFO - 14:37:53: EPOCH 3 - PROGRESS: at 83.24% examples, 64930 words/s, in_qsize 7, out_qsize 0\n",
      "INFO - 14:37:54: EPOCH 3 - PROGRESS: at 83.54% examples, 64846 words/s, in_qsize 7, out_qsize 0\n",
      "INFO - 14:37:55: EPOCH 3 - PROGRESS: at 83.93% examples, 64837 words/s, in_qsize 7, out_qsize 0\n",
      "INFO - 14:37:56: EPOCH 3 - PROGRESS: at 84.42% examples, 64875 words/s, in_qsize 7, out_qsize 0\n",
      "INFO - 14:37:57: EPOCH 3 - PROGRESS: at 84.88% examples, 64856 words/s, in_qsize 7, out_qsize 0\n",
      "INFO - 14:37:58: EPOCH 3 - PROGRESS: at 85.22% examples, 64813 words/s, in_qsize 7, out_qsize 0\n",
      "INFO - 14:37:59: EPOCH 3 - PROGRESS: at 85.61% examples, 64833 words/s, in_qsize 7, out_qsize 0\n",
      "INFO - 14:38:00: EPOCH 3 - PROGRESS: at 86.03% examples, 64823 words/s, in_qsize 7, out_qsize 0\n",
      "INFO - 14:38:01: EPOCH 3 - PROGRESS: at 86.36% examples, 64785 words/s, in_qsize 7, out_qsize 0\n",
      "INFO - 14:38:02: EPOCH 3 - PROGRESS: at 86.50% examples, 64690 words/s, in_qsize 7, out_qsize 0\n",
      "INFO - 14:38:04: EPOCH 3 - PROGRESS: at 86.62% examples, 64668 words/s, in_qsize 7, out_qsize 0\n",
      "INFO - 14:38:05: EPOCH 3 - PROGRESS: at 87.02% examples, 64691 words/s, in_qsize 7, out_qsize 0\n",
      "INFO - 14:38:06: EPOCH 3 - PROGRESS: at 87.45% examples, 64702 words/s, in_qsize 7, out_qsize 0\n",
      "INFO - 14:38:07: EPOCH 3 - PROGRESS: at 87.88% examples, 64682 words/s, in_qsize 8, out_qsize 0\n",
      "INFO - 14:38:08: EPOCH 3 - PROGRESS: at 88.30% examples, 64603 words/s, in_qsize 8, out_qsize 0\n",
      "INFO - 14:38:09: EPOCH 3 - PROGRESS: at 88.75% examples, 64577 words/s, in_qsize 8, out_qsize 0\n",
      "INFO - 14:38:10: EPOCH 3 - PROGRESS: at 89.05% examples, 64460 words/s, in_qsize 7, out_qsize 0\n",
      "INFO - 14:38:11: EPOCH 3 - PROGRESS: at 89.22% examples, 64348 words/s, in_qsize 7, out_qsize 0\n",
      "INFO - 14:38:12: EPOCH 3 - PROGRESS: at 89.58% examples, 64262 words/s, in_qsize 7, out_qsize 0\n",
      "INFO - 14:38:14: EPOCH 3 - PROGRESS: at 89.97% examples, 64195 words/s, in_qsize 7, out_qsize 0\n",
      "INFO - 14:38:15: EPOCH 3 - PROGRESS: at 90.32% examples, 64116 words/s, in_qsize 7, out_qsize 0\n",
      "INFO - 14:38:16: EPOCH 3 - PROGRESS: at 90.61% examples, 64036 words/s, in_qsize 7, out_qsize 0\n",
      "INFO - 14:38:17: EPOCH 3 - PROGRESS: at 90.92% examples, 63917 words/s, in_qsize 8, out_qsize 0\n",
      "INFO - 14:38:18: EPOCH 3 - PROGRESS: at 91.19% examples, 63841 words/s, in_qsize 8, out_qsize 0\n",
      "INFO - 14:38:19: EPOCH 3 - PROGRESS: at 91.52% examples, 63740 words/s, in_qsize 7, out_qsize 0\n",
      "INFO - 14:38:20: EPOCH 3 - PROGRESS: at 91.93% examples, 63798 words/s, in_qsize 7, out_qsize 0\n",
      "INFO - 14:38:21: EPOCH 3 - PROGRESS: at 92.49% examples, 63816 words/s, in_qsize 7, out_qsize 0\n",
      "INFO - 14:38:22: EPOCH 3 - PROGRESS: at 92.87% examples, 63796 words/s, in_qsize 7, out_qsize 0\n",
      "INFO - 14:38:23: EPOCH 3 - PROGRESS: at 93.17% examples, 63783 words/s, in_qsize 7, out_qsize 0\n",
      "INFO - 14:38:25: EPOCH 3 - PROGRESS: at 93.72% examples, 63784 words/s, in_qsize 7, out_qsize 0\n",
      "INFO - 14:38:26: EPOCH 3 - PROGRESS: at 94.00% examples, 63775 words/s, in_qsize 7, out_qsize 0\n",
      "INFO - 14:38:27: EPOCH 3 - PROGRESS: at 94.36% examples, 63767 words/s, in_qsize 7, out_qsize 0\n",
      "INFO - 14:38:28: EPOCH 3 - PROGRESS: at 94.78% examples, 63777 words/s, in_qsize 7, out_qsize 0\n",
      "INFO - 14:38:29: EPOCH 3 - PROGRESS: at 95.12% examples, 63771 words/s, in_qsize 7, out_qsize 0\n",
      "INFO - 14:38:30: EPOCH 3 - PROGRESS: at 95.49% examples, 63746 words/s, in_qsize 7, out_qsize 0\n",
      "INFO - 14:38:31: EPOCH 3 - PROGRESS: at 95.65% examples, 63755 words/s, in_qsize 7, out_qsize 0\n",
      "INFO - 14:38:32: EPOCH 3 - PROGRESS: at 96.04% examples, 63793 words/s, in_qsize 7, out_qsize 0\n",
      "INFO - 14:38:33: EPOCH 3 - PROGRESS: at 96.48% examples, 63802 words/s, in_qsize 7, out_qsize 0\n",
      "INFO - 14:38:34: EPOCH 3 - PROGRESS: at 96.91% examples, 63853 words/s, in_qsize 7, out_qsize 0\n",
      "INFO - 14:38:35: EPOCH 3 - PROGRESS: at 97.27% examples, 63880 words/s, in_qsize 7, out_qsize 0\n",
      "INFO - 14:38:36: EPOCH 3 - PROGRESS: at 97.73% examples, 63905 words/s, in_qsize 7, out_qsize 0\n",
      "INFO - 14:38:37: EPOCH 3 - PROGRESS: at 98.08% examples, 63891 words/s, in_qsize 7, out_qsize 0\n",
      "INFO - 14:38:38: EPOCH 3 - PROGRESS: at 98.48% examples, 63888 words/s, in_qsize 8, out_qsize 0\n",
      "INFO - 14:38:40: EPOCH 3 - PROGRESS: at 98.85% examples, 63882 words/s, in_qsize 7, out_qsize 0\n",
      "INFO - 14:38:41: EPOCH 3 - PROGRESS: at 99.26% examples, 63932 words/s, in_qsize 7, out_qsize 0\n",
      "INFO - 14:38:42: EPOCH 3 - PROGRESS: at 99.61% examples, 63957 words/s, in_qsize 7, out_qsize 0\n",
      "INFO - 14:38:42: worker thread finished; awaiting finish of 3 more threads\n",
      "INFO - 14:38:42: worker thread finished; awaiting finish of 2 more threads\n",
      "INFO - 14:38:42: worker thread finished; awaiting finish of 1 more threads\n",
      "INFO - 14:38:42: worker thread finished; awaiting finish of 0 more threads\n",
      "INFO - 14:38:42: EPOCH - 3 : training on 31973755 raw words (17367759 effective words) took 271.5s, 63963 effective words/s\n",
      "INFO - 14:38:44: EPOCH 4 - PROGRESS: at 0.29% examples, 62558 words/s, in_qsize 7, out_qsize 0\n",
      "INFO - 14:38:45: EPOCH 4 - PROGRESS: at 0.63% examples, 64423 words/s, in_qsize 7, out_qsize 0\n",
      "INFO - 14:38:46: EPOCH 4 - PROGRESS: at 1.22% examples, 67819 words/s, in_qsize 7, out_qsize 0\n",
      "INFO - 14:38:47: EPOCH 4 - PROGRESS: at 1.88% examples, 69989 words/s, in_qsize 7, out_qsize 0\n",
      "INFO - 14:38:48: EPOCH 4 - PROGRESS: at 2.27% examples, 69430 words/s, in_qsize 7, out_qsize 0\n",
      "INFO - 14:38:49: EPOCH 4 - PROGRESS: at 2.61% examples, 69749 words/s, in_qsize 7, out_qsize 0\n",
      "INFO - 14:38:50: EPOCH 4 - PROGRESS: at 3.13% examples, 70976 words/s, in_qsize 7, out_qsize 0\n",
      "INFO - 14:38:51: EPOCH 4 - PROGRESS: at 3.62% examples, 70477 words/s, in_qsize 7, out_qsize 0\n",
      "INFO - 14:38:52: EPOCH 4 - PROGRESS: at 4.19% examples, 71029 words/s, in_qsize 7, out_qsize 0\n",
      "INFO - 14:38:53: EPOCH 4 - PROGRESS: at 4.59% examples, 70548 words/s, in_qsize 7, out_qsize 0\n",
      "INFO - 14:38:54: EPOCH 4 - PROGRESS: at 5.07% examples, 71044 words/s, in_qsize 8, out_qsize 0\n",
      "INFO - 14:38:55: EPOCH 4 - PROGRESS: at 5.50% examples, 71298 words/s, in_qsize 7, out_qsize 0\n",
      "INFO - 14:38:56: EPOCH 4 - PROGRESS: at 5.88% examples, 71909 words/s, in_qsize 7, out_qsize 0\n",
      "INFO - 14:38:58: EPOCH 4 - PROGRESS: at 6.23% examples, 71880 words/s, in_qsize 7, out_qsize 0\n",
      "INFO - 14:38:59: EPOCH 4 - PROGRESS: at 6.76% examples, 72041 words/s, in_qsize 7, out_qsize 0\n",
      "INFO - 14:39:00: EPOCH 4 - PROGRESS: at 7.22% examples, 71802 words/s, in_qsize 7, out_qsize 0\n",
      "INFO - 14:39:01: EPOCH 4 - PROGRESS: at 7.62% examples, 71757 words/s, in_qsize 7, out_qsize 0\n",
      "INFO - 14:39:02: EPOCH 4 - PROGRESS: at 8.13% examples, 71726 words/s, in_qsize 7, out_qsize 0\n",
      "INFO - 14:39:03: EPOCH 4 - PROGRESS: at 8.72% examples, 71745 words/s, in_qsize 7, out_qsize 0\n",
      "INFO - 14:39:04: EPOCH 4 - PROGRESS: at 9.10% examples, 71803 words/s, in_qsize 7, out_qsize 0\n",
      "INFO - 14:39:05: EPOCH 4 - PROGRESS: at 9.45% examples, 71511 words/s, in_qsize 7, out_qsize 0\n",
      "INFO - 14:39:06: EPOCH 4 - PROGRESS: at 9.96% examples, 71733 words/s, in_qsize 7, out_qsize 0\n",
      "INFO - 14:39:07: EPOCH 4 - PROGRESS: at 10.45% examples, 71781 words/s, in_qsize 7, out_qsize 0\n"
     ]
    },
    {
     "name": "stderr",
     "output_type": "stream",
     "text": [
      "INFO - 14:39:08: EPOCH 4 - PROGRESS: at 11.00% examples, 71749 words/s, in_qsize 7, out_qsize 0\n",
      "INFO - 14:39:09: EPOCH 4 - PROGRESS: at 11.28% examples, 71678 words/s, in_qsize 7, out_qsize 0\n",
      "INFO - 14:39:10: EPOCH 4 - PROGRESS: at 11.62% examples, 71702 words/s, in_qsize 7, out_qsize 0\n",
      "INFO - 14:39:11: EPOCH 4 - PROGRESS: at 11.99% examples, 71462 words/s, in_qsize 7, out_qsize 0\n",
      "INFO - 14:39:12: EPOCH 4 - PROGRESS: at 12.57% examples, 71537 words/s, in_qsize 7, out_qsize 0\n",
      "INFO - 14:39:13: EPOCH 4 - PROGRESS: at 13.02% examples, 71523 words/s, in_qsize 7, out_qsize 0\n",
      "INFO - 14:39:15: EPOCH 4 - PROGRESS: at 13.59% examples, 71621 words/s, in_qsize 7, out_qsize 0\n",
      "INFO - 14:39:16: EPOCH 4 - PROGRESS: at 13.98% examples, 71846 words/s, in_qsize 7, out_qsize 0\n",
      "INFO - 14:39:17: EPOCH 4 - PROGRESS: at 14.43% examples, 71614 words/s, in_qsize 7, out_qsize 0\n",
      "INFO - 14:39:18: EPOCH 4 - PROGRESS: at 14.67% examples, 71491 words/s, in_qsize 7, out_qsize 0\n",
      "INFO - 14:39:19: EPOCH 4 - PROGRESS: at 15.04% examples, 71579 words/s, in_qsize 7, out_qsize 0\n",
      "INFO - 14:39:20: EPOCH 4 - PROGRESS: at 15.50% examples, 71443 words/s, in_qsize 7, out_qsize 0\n",
      "INFO - 14:39:21: EPOCH 4 - PROGRESS: at 15.94% examples, 71697 words/s, in_qsize 7, out_qsize 0\n",
      "INFO - 14:39:22: EPOCH 4 - PROGRESS: at 16.36% examples, 71568 words/s, in_qsize 7, out_qsize 0\n",
      "INFO - 14:39:23: EPOCH 4 - PROGRESS: at 16.80% examples, 71396 words/s, in_qsize 7, out_qsize 0\n",
      "INFO - 14:39:24: EPOCH 4 - PROGRESS: at 17.27% examples, 71169 words/s, in_qsize 7, out_qsize 0\n",
      "INFO - 14:39:25: EPOCH 4 - PROGRESS: at 17.57% examples, 70965 words/s, in_qsize 7, out_qsize 0\n",
      "INFO - 14:39:26: EPOCH 4 - PROGRESS: at 18.03% examples, 70973 words/s, in_qsize 7, out_qsize 0\n",
      "INFO - 14:39:27: EPOCH 4 - PROGRESS: at 18.50% examples, 70753 words/s, in_qsize 8, out_qsize 0\n",
      "INFO - 14:39:28: EPOCH 4 - PROGRESS: at 18.96% examples, 70701 words/s, in_qsize 7, out_qsize 0\n",
      "INFO - 14:39:29: EPOCH 4 - PROGRESS: at 19.47% examples, 70613 words/s, in_qsize 7, out_qsize 0\n",
      "INFO - 14:39:31: EPOCH 4 - PROGRESS: at 19.74% examples, 70488 words/s, in_qsize 7, out_qsize 0\n",
      "INFO - 14:39:32: EPOCH 4 - PROGRESS: at 20.12% examples, 70477 words/s, in_qsize 7, out_qsize 0\n",
      "INFO - 14:39:33: EPOCH 4 - PROGRESS: at 20.47% examples, 70071 words/s, in_qsize 7, out_qsize 0\n",
      "INFO - 14:39:34: EPOCH 4 - PROGRESS: at 20.87% examples, 69788 words/s, in_qsize 7, out_qsize 0\n",
      "INFO - 14:39:35: EPOCH 4 - PROGRESS: at 21.26% examples, 69597 words/s, in_qsize 8, out_qsize 0\n",
      "INFO - 14:39:36: EPOCH 4 - PROGRESS: at 21.64% examples, 69548 words/s, in_qsize 7, out_qsize 0\n",
      "INFO - 14:39:37: EPOCH 4 - PROGRESS: at 22.02% examples, 69393 words/s, in_qsize 7, out_qsize 0\n",
      "INFO - 14:39:38: EPOCH 4 - PROGRESS: at 22.32% examples, 68877 words/s, in_qsize 7, out_qsize 0\n",
      "INFO - 14:39:39: EPOCH 4 - PROGRESS: at 22.60% examples, 68384 words/s, in_qsize 7, out_qsize 0\n",
      "INFO - 14:39:40: EPOCH 4 - PROGRESS: at 22.84% examples, 67864 words/s, in_qsize 7, out_qsize 0\n",
      "INFO - 14:39:41: EPOCH 4 - PROGRESS: at 23.15% examples, 67622 words/s, in_qsize 7, out_qsize 0\n",
      "INFO - 14:39:43: EPOCH 4 - PROGRESS: at 23.49% examples, 67284 words/s, in_qsize 7, out_qsize 0\n",
      "INFO - 14:39:44: EPOCH 4 - PROGRESS: at 23.78% examples, 66856 words/s, in_qsize 7, out_qsize 0\n",
      "INFO - 14:39:45: EPOCH 4 - PROGRESS: at 24.24% examples, 66883 words/s, in_qsize 7, out_qsize 0\n",
      "INFO - 14:39:46: EPOCH 4 - PROGRESS: at 24.72% examples, 66890 words/s, in_qsize 8, out_qsize 0\n",
      "INFO - 14:39:47: EPOCH 4 - PROGRESS: at 25.21% examples, 66960 words/s, in_qsize 7, out_qsize 0\n",
      "INFO - 14:39:48: EPOCH 4 - PROGRESS: at 25.71% examples, 66945 words/s, in_qsize 7, out_qsize 0\n",
      "INFO - 14:39:49: EPOCH 4 - PROGRESS: at 26.09% examples, 67032 words/s, in_qsize 7, out_qsize 0\n",
      "INFO - 14:39:50: EPOCH 4 - PROGRESS: at 26.62% examples, 67147 words/s, in_qsize 7, out_qsize 0\n",
      "INFO - 14:39:51: EPOCH 4 - PROGRESS: at 27.08% examples, 67145 words/s, in_qsize 7, out_qsize 0\n",
      "INFO - 14:39:52: EPOCH 4 - PROGRESS: at 27.47% examples, 67307 words/s, in_qsize 7, out_qsize 0\n",
      "INFO - 14:39:53: EPOCH 4 - PROGRESS: at 27.84% examples, 67275 words/s, in_qsize 7, out_qsize 0\n",
      "INFO - 14:39:54: EPOCH 4 - PROGRESS: at 28.31% examples, 67258 words/s, in_qsize 7, out_qsize 0\n",
      "INFO - 14:39:55: EPOCH 4 - PROGRESS: at 28.61% examples, 67399 words/s, in_qsize 7, out_qsize 0\n",
      "INFO - 14:39:56: EPOCH 4 - PROGRESS: at 29.02% examples, 67354 words/s, in_qsize 7, out_qsize 0\n",
      "INFO - 14:39:57: EPOCH 4 - PROGRESS: at 29.39% examples, 67337 words/s, in_qsize 7, out_qsize 0\n",
      "INFO - 14:39:58: EPOCH 4 - PROGRESS: at 29.92% examples, 67514 words/s, in_qsize 7, out_qsize 0\n",
      "INFO - 14:39:59: EPOCH 4 - PROGRESS: at 30.35% examples, 67462 words/s, in_qsize 7, out_qsize 0\n",
      "INFO - 14:40:00: EPOCH 4 - PROGRESS: at 30.74% examples, 67322 words/s, in_qsize 7, out_qsize 0\n",
      "INFO - 14:40:02: EPOCH 4 - PROGRESS: at 31.18% examples, 67268 words/s, in_qsize 7, out_qsize 0\n",
      "INFO - 14:40:03: EPOCH 4 - PROGRESS: at 31.58% examples, 67180 words/s, in_qsize 7, out_qsize 0\n",
      "INFO - 14:40:04: EPOCH 4 - PROGRESS: at 31.91% examples, 67140 words/s, in_qsize 7, out_qsize 0\n",
      "INFO - 14:40:05: EPOCH 4 - PROGRESS: at 32.25% examples, 67296 words/s, in_qsize 7, out_qsize 0\n",
      "INFO - 14:40:06: EPOCH 4 - PROGRESS: at 32.70% examples, 67295 words/s, in_qsize 7, out_qsize 0\n",
      "INFO - 14:40:07: EPOCH 4 - PROGRESS: at 32.98% examples, 67225 words/s, in_qsize 7, out_qsize 0\n",
      "INFO - 14:40:08: EPOCH 4 - PROGRESS: at 33.34% examples, 67072 words/s, in_qsize 7, out_qsize 0\n",
      "INFO - 14:40:09: EPOCH 4 - PROGRESS: at 33.65% examples, 67113 words/s, in_qsize 7, out_qsize 0\n",
      "INFO - 14:40:10: EPOCH 4 - PROGRESS: at 34.16% examples, 67206 words/s, in_qsize 7, out_qsize 0\n",
      "INFO - 14:40:11: EPOCH 4 - PROGRESS: at 34.42% examples, 67216 words/s, in_qsize 7, out_qsize 0\n",
      "INFO - 14:40:12: EPOCH 4 - PROGRESS: at 34.61% examples, 66896 words/s, in_qsize 7, out_qsize 0\n",
      "INFO - 14:40:13: EPOCH 4 - PROGRESS: at 34.73% examples, 66648 words/s, in_qsize 7, out_qsize 0\n",
      "INFO - 14:40:14: EPOCH 4 - PROGRESS: at 34.98% examples, 66633 words/s, in_qsize 7, out_qsize 0\n",
      "INFO - 14:40:16: EPOCH 4 - PROGRESS: at 35.44% examples, 66711 words/s, in_qsize 7, out_qsize 0\n",
      "INFO - 14:40:17: EPOCH 4 - PROGRESS: at 35.96% examples, 66810 words/s, in_qsize 7, out_qsize 0\n",
      "INFO - 14:40:18: EPOCH 4 - PROGRESS: at 36.30% examples, 66800 words/s, in_qsize 8, out_qsize 0\n",
      "INFO - 14:40:19: EPOCH 4 - PROGRESS: at 36.73% examples, 66770 words/s, in_qsize 7, out_qsize 0\n",
      "INFO - 14:40:20: EPOCH 4 - PROGRESS: at 37.11% examples, 66955 words/s, in_qsize 7, out_qsize 0\n",
      "INFO - 14:40:21: EPOCH 4 - PROGRESS: at 37.56% examples, 66879 words/s, in_qsize 7, out_qsize 0\n",
      "INFO - 14:40:22: EPOCH 4 - PROGRESS: at 37.96% examples, 66915 words/s, in_qsize 7, out_qsize 0\n",
      "INFO - 14:40:23: EPOCH 4 - PROGRESS: at 38.33% examples, 66888 words/s, in_qsize 7, out_qsize 0\n",
      "INFO - 14:40:24: EPOCH 4 - PROGRESS: at 38.88% examples, 66961 words/s, in_qsize 7, out_qsize 0\n",
      "INFO - 14:40:25: EPOCH 4 - PROGRESS: at 39.37% examples, 67081 words/s, in_qsize 7, out_qsize 0\n",
      "INFO - 14:40:26: EPOCH 4 - PROGRESS: at 39.84% examples, 67117 words/s, in_qsize 7, out_qsize 0\n",
      "INFO - 14:40:27: EPOCH 4 - PROGRESS: at 40.34% examples, 67200 words/s, in_qsize 7, out_qsize 0\n",
      "INFO - 14:40:29: EPOCH 4 - PROGRESS: at 40.67% examples, 67142 words/s, in_qsize 7, out_qsize 0\n",
      "INFO - 14:40:30: EPOCH 4 - PROGRESS: at 41.32% examples, 67218 words/s, in_qsize 7, out_qsize 0\n",
      "INFO - 14:40:31: EPOCH 4 - PROGRESS: at 41.72% examples, 67267 words/s, in_qsize 7, out_qsize 0\n",
      "INFO - 14:40:32: EPOCH 4 - PROGRESS: at 42.12% examples, 67356 words/s, in_qsize 7, out_qsize 0\n",
      "INFO - 14:40:33: EPOCH 4 - PROGRESS: at 42.55% examples, 67283 words/s, in_qsize 7, out_qsize 0\n",
      "INFO - 14:40:34: EPOCH 4 - PROGRESS: at 43.01% examples, 67399 words/s, in_qsize 7, out_qsize 0\n",
      "INFO - 14:40:35: EPOCH 4 - PROGRESS: at 43.43% examples, 67385 words/s, in_qsize 7, out_qsize 0\n",
      "INFO - 14:40:36: EPOCH 4 - PROGRESS: at 43.84% examples, 67400 words/s, in_qsize 7, out_qsize 0\n",
      "INFO - 14:40:37: EPOCH 4 - PROGRESS: at 44.28% examples, 67393 words/s, in_qsize 7, out_qsize 0\n",
      "INFO - 14:40:38: EPOCH 4 - PROGRESS: at 44.68% examples, 67418 words/s, in_qsize 7, out_qsize 0\n",
      "INFO - 14:40:39: EPOCH 4 - PROGRESS: at 44.99% examples, 67338 words/s, in_qsize 7, out_qsize 0\n"
     ]
    },
    {
     "name": "stderr",
     "output_type": "stream",
     "text": [
      "INFO - 14:40:40: EPOCH 4 - PROGRESS: at 45.50% examples, 67363 words/s, in_qsize 7, out_qsize 0\n",
      "INFO - 14:40:41: EPOCH 4 - PROGRESS: at 45.82% examples, 67384 words/s, in_qsize 7, out_qsize 0\n",
      "INFO - 14:40:42: EPOCH 4 - PROGRESS: at 46.24% examples, 67349 words/s, in_qsize 7, out_qsize 0\n",
      "INFO - 14:40:44: EPOCH 4 - PROGRESS: at 46.71% examples, 67294 words/s, in_qsize 7, out_qsize 0\n",
      "INFO - 14:40:45: EPOCH 4 - PROGRESS: at 46.98% examples, 67322 words/s, in_qsize 7, out_qsize 0\n",
      "INFO - 14:40:46: EPOCH 4 - PROGRESS: at 47.43% examples, 67305 words/s, in_qsize 7, out_qsize 0\n",
      "INFO - 14:40:47: EPOCH 4 - PROGRESS: at 47.80% examples, 67309 words/s, in_qsize 7, out_qsize 0\n",
      "INFO - 14:40:48: EPOCH 4 - PROGRESS: at 48.10% examples, 67226 words/s, in_qsize 7, out_qsize 0\n",
      "INFO - 14:40:49: EPOCH 4 - PROGRESS: at 48.51% examples, 67207 words/s, in_qsize 7, out_qsize 0\n",
      "INFO - 14:40:50: EPOCH 4 - PROGRESS: at 48.96% examples, 67202 words/s, in_qsize 8, out_qsize 0\n",
      "INFO - 14:40:51: EPOCH 4 - PROGRESS: at 49.33% examples, 67181 words/s, in_qsize 8, out_qsize 0\n",
      "INFO - 14:40:52: EPOCH 4 - PROGRESS: at 49.69% examples, 67142 words/s, in_qsize 7, out_qsize 0\n",
      "INFO - 14:40:53: EPOCH 4 - PROGRESS: at 50.09% examples, 67120 words/s, in_qsize 7, out_qsize 0\n",
      "INFO - 14:40:54: EPOCH 4 - PROGRESS: at 50.48% examples, 67090 words/s, in_qsize 7, out_qsize 0\n",
      "INFO - 14:40:55: EPOCH 4 - PROGRESS: at 51.03% examples, 67154 words/s, in_qsize 7, out_qsize 0\n",
      "INFO - 14:40:56: EPOCH 4 - PROGRESS: at 51.29% examples, 67111 words/s, in_qsize 7, out_qsize 0\n",
      "INFO - 14:40:57: EPOCH 4 - PROGRESS: at 51.78% examples, 67164 words/s, in_qsize 8, out_qsize 0\n",
      "INFO - 14:40:58: EPOCH 4 - PROGRESS: at 52.18% examples, 67145 words/s, in_qsize 7, out_qsize 0\n",
      "INFO - 14:40:59: EPOCH 4 - PROGRESS: at 52.57% examples, 67136 words/s, in_qsize 7, out_qsize 0\n",
      "INFO - 14:41:00: EPOCH 4 - PROGRESS: at 53.00% examples, 67153 words/s, in_qsize 7, out_qsize 0\n",
      "INFO - 14:41:01: EPOCH 4 - PROGRESS: at 53.38% examples, 67107 words/s, in_qsize 7, out_qsize 0\n",
      "INFO - 14:41:03: EPOCH 4 - PROGRESS: at 53.74% examples, 67031 words/s, in_qsize 7, out_qsize 0\n",
      "INFO - 14:41:04: EPOCH 4 - PROGRESS: at 54.06% examples, 66923 words/s, in_qsize 8, out_qsize 0\n",
      "INFO - 14:41:05: EPOCH 4 - PROGRESS: at 54.56% examples, 66929 words/s, in_qsize 7, out_qsize 0\n",
      "INFO - 14:41:06: EPOCH 4 - PROGRESS: at 55.04% examples, 66973 words/s, in_qsize 7, out_qsize 0\n",
      "INFO - 14:41:07: EPOCH 4 - PROGRESS: at 55.37% examples, 66857 words/s, in_qsize 8, out_qsize 0\n",
      "INFO - 14:41:08: EPOCH 4 - PROGRESS: at 55.66% examples, 66735 words/s, in_qsize 8, out_qsize 0\n",
      "INFO - 14:41:09: EPOCH 4 - PROGRESS: at 56.07% examples, 66677 words/s, in_qsize 8, out_qsize 0\n",
      "INFO - 14:41:10: EPOCH 4 - PROGRESS: at 56.60% examples, 66694 words/s, in_qsize 7, out_qsize 0\n",
      "INFO - 14:41:11: EPOCH 4 - PROGRESS: at 57.06% examples, 66758 words/s, in_qsize 7, out_qsize 0\n",
      "INFO - 14:41:12: EPOCH 4 - PROGRESS: at 57.50% examples, 66836 words/s, in_qsize 7, out_qsize 0\n",
      "INFO - 14:41:13: EPOCH 4 - PROGRESS: at 57.94% examples, 66807 words/s, in_qsize 7, out_qsize 0\n",
      "INFO - 14:41:14: EPOCH 4 - PROGRESS: at 58.44% examples, 66882 words/s, in_qsize 7, out_qsize 0\n",
      "INFO - 14:41:16: EPOCH 4 - PROGRESS: at 58.79% examples, 66841 words/s, in_qsize 7, out_qsize 0\n",
      "INFO - 14:41:17: EPOCH 4 - PROGRESS: at 59.28% examples, 66882 words/s, in_qsize 8, out_qsize 0\n",
      "INFO - 14:41:18: EPOCH 4 - PROGRESS: at 59.68% examples, 66859 words/s, in_qsize 7, out_qsize 0\n",
      "INFO - 14:41:19: EPOCH 4 - PROGRESS: at 60.11% examples, 66853 words/s, in_qsize 7, out_qsize 0\n",
      "INFO - 14:41:20: EPOCH 4 - PROGRESS: at 60.65% examples, 66877 words/s, in_qsize 7, out_qsize 0\n",
      "INFO - 14:41:21: EPOCH 4 - PROGRESS: at 61.12% examples, 66940 words/s, in_qsize 7, out_qsize 0\n",
      "INFO - 14:41:22: EPOCH 4 - PROGRESS: at 61.53% examples, 66930 words/s, in_qsize 7, out_qsize 0\n",
      "INFO - 14:41:23: EPOCH 4 - PROGRESS: at 62.06% examples, 66938 words/s, in_qsize 7, out_qsize 0\n",
      "INFO - 14:41:24: EPOCH 4 - PROGRESS: at 62.49% examples, 66982 words/s, in_qsize 7, out_qsize 0\n",
      "INFO - 14:41:25: EPOCH 4 - PROGRESS: at 62.82% examples, 66960 words/s, in_qsize 7, out_qsize 0\n",
      "INFO - 14:41:26: EPOCH 4 - PROGRESS: at 63.11% examples, 66866 words/s, in_qsize 7, out_qsize 0\n",
      "INFO - 14:41:27: EPOCH 4 - PROGRESS: at 63.42% examples, 66722 words/s, in_qsize 7, out_qsize 0\n",
      "INFO - 14:41:28: EPOCH 4 - PROGRESS: at 63.89% examples, 66639 words/s, in_qsize 7, out_qsize 0\n",
      "INFO - 14:41:29: EPOCH 4 - PROGRESS: at 64.28% examples, 66572 words/s, in_qsize 7, out_qsize 0\n",
      "INFO - 14:41:30: EPOCH 4 - PROGRESS: at 64.64% examples, 66497 words/s, in_qsize 7, out_qsize 0\n",
      "INFO - 14:41:31: EPOCH 4 - PROGRESS: at 64.97% examples, 66446 words/s, in_qsize 8, out_qsize 0\n",
      "INFO - 14:41:33: EPOCH 4 - PROGRESS: at 65.28% examples, 66282 words/s, in_qsize 7, out_qsize 0\n",
      "INFO - 14:41:34: EPOCH 4 - PROGRESS: at 65.63% examples, 66176 words/s, in_qsize 8, out_qsize 0\n",
      "INFO - 14:41:35: EPOCH 4 - PROGRESS: at 66.01% examples, 66066 words/s, in_qsize 7, out_qsize 0\n",
      "INFO - 14:41:36: EPOCH 4 - PROGRESS: at 66.37% examples, 66027 words/s, in_qsize 7, out_qsize 0\n",
      "INFO - 14:41:37: EPOCH 4 - PROGRESS: at 66.62% examples, 65903 words/s, in_qsize 8, out_qsize 0\n",
      "INFO - 14:41:38: EPOCH 4 - PROGRESS: at 66.88% examples, 65864 words/s, in_qsize 7, out_qsize 0\n",
      "INFO - 14:41:39: EPOCH 4 - PROGRESS: at 67.16% examples, 65671 words/s, in_qsize 7, out_qsize 0\n",
      "INFO - 14:41:40: EPOCH 4 - PROGRESS: at 67.50% examples, 65607 words/s, in_qsize 7, out_qsize 0\n",
      "INFO - 14:41:41: EPOCH 4 - PROGRESS: at 67.79% examples, 65508 words/s, in_qsize 7, out_qsize 0\n",
      "INFO - 14:41:43: EPOCH 4 - PROGRESS: at 68.04% examples, 65376 words/s, in_qsize 7, out_qsize 0\n",
      "INFO - 14:41:44: EPOCH 4 - PROGRESS: at 68.39% examples, 65207 words/s, in_qsize 8, out_qsize 0\n",
      "INFO - 14:41:45: EPOCH 4 - PROGRESS: at 68.54% examples, 65112 words/s, in_qsize 7, out_qsize 0\n",
      "INFO - 14:41:46: EPOCH 4 - PROGRESS: at 68.78% examples, 65036 words/s, in_qsize 7, out_qsize 0\n",
      "INFO - 14:41:47: EPOCH 4 - PROGRESS: at 69.12% examples, 65030 words/s, in_qsize 7, out_qsize 0\n",
      "INFO - 14:41:48: EPOCH 4 - PROGRESS: at 69.43% examples, 64904 words/s, in_qsize 7, out_qsize 0\n",
      "INFO - 14:41:49: EPOCH 4 - PROGRESS: at 69.72% examples, 64703 words/s, in_qsize 7, out_qsize 0\n",
      "INFO - 14:41:50: EPOCH 4 - PROGRESS: at 69.94% examples, 64574 words/s, in_qsize 7, out_qsize 0\n",
      "INFO - 14:41:52: EPOCH 4 - PROGRESS: at 70.21% examples, 64429 words/s, in_qsize 7, out_qsize 0\n",
      "INFO - 14:41:53: EPOCH 4 - PROGRESS: at 70.57% examples, 64357 words/s, in_qsize 7, out_qsize 0\n",
      "INFO - 14:41:54: EPOCH 4 - PROGRESS: at 70.90% examples, 64277 words/s, in_qsize 7, out_qsize 0\n",
      "INFO - 14:41:55: EPOCH 4 - PROGRESS: at 71.05% examples, 64091 words/s, in_qsize 7, out_qsize 0\n",
      "INFO - 14:41:56: EPOCH 4 - PROGRESS: at 71.19% examples, 63965 words/s, in_qsize 7, out_qsize 0\n",
      "INFO - 14:41:57: EPOCH 4 - PROGRESS: at 71.51% examples, 63888 words/s, in_qsize 8, out_qsize 0\n",
      "INFO - 14:41:58: EPOCH 4 - PROGRESS: at 71.78% examples, 63822 words/s, in_qsize 7, out_qsize 0\n",
      "INFO - 14:41:59: EPOCH 4 - PROGRESS: at 72.16% examples, 63782 words/s, in_qsize 7, out_qsize 0\n",
      "INFO - 14:42:00: EPOCH 4 - PROGRESS: at 72.64% examples, 63828 words/s, in_qsize 7, out_qsize 0\n",
      "INFO - 14:42:01: EPOCH 4 - PROGRESS: at 73.09% examples, 63858 words/s, in_qsize 7, out_qsize 0\n",
      "INFO - 14:42:02: EPOCH 4 - PROGRESS: at 73.31% examples, 63802 words/s, in_qsize 7, out_qsize 0\n",
      "INFO - 14:42:03: EPOCH 4 - PROGRESS: at 73.62% examples, 63852 words/s, in_qsize 7, out_qsize 0\n",
      "INFO - 14:42:04: EPOCH 4 - PROGRESS: at 74.10% examples, 63885 words/s, in_qsize 7, out_qsize 0\n",
      "INFO - 14:42:05: EPOCH 4 - PROGRESS: at 74.73% examples, 63908 words/s, in_qsize 7, out_qsize 0\n",
      "INFO - 14:42:06: EPOCH 4 - PROGRESS: at 75.19% examples, 63928 words/s, in_qsize 7, out_qsize 0\n",
      "INFO - 14:42:08: EPOCH 4 - PROGRESS: at 75.63% examples, 63950 words/s, in_qsize 7, out_qsize 0\n",
      "INFO - 14:42:09: EPOCH 4 - PROGRESS: at 75.92% examples, 63957 words/s, in_qsize 7, out_qsize 0\n",
      "INFO - 14:42:10: EPOCH 4 - PROGRESS: at 76.36% examples, 63977 words/s, in_qsize 7, out_qsize 0\n",
      "INFO - 14:42:11: EPOCH 4 - PROGRESS: at 76.73% examples, 63983 words/s, in_qsize 7, out_qsize 0\n",
      "INFO - 14:42:12: EPOCH 4 - PROGRESS: at 77.11% examples, 63927 words/s, in_qsize 7, out_qsize 0\n"
     ]
    },
    {
     "name": "stderr",
     "output_type": "stream",
     "text": [
      "INFO - 14:42:13: EPOCH 4 - PROGRESS: at 77.55% examples, 63875 words/s, in_qsize 8, out_qsize 0\n",
      "INFO - 14:42:14: EPOCH 4 - PROGRESS: at 78.00% examples, 63847 words/s, in_qsize 7, out_qsize 0\n",
      "INFO - 14:42:15: EPOCH 4 - PROGRESS: at 78.58% examples, 63895 words/s, in_qsize 7, out_qsize 0\n",
      "INFO - 14:42:16: EPOCH 4 - PROGRESS: at 79.03% examples, 63878 words/s, in_qsize 7, out_qsize 0\n",
      "INFO - 14:42:17: EPOCH 4 - PROGRESS: at 79.37% examples, 63896 words/s, in_qsize 7, out_qsize 0\n",
      "INFO - 14:42:18: EPOCH 4 - PROGRESS: at 79.65% examples, 63771 words/s, in_qsize 6, out_qsize 1\n",
      "INFO - 14:42:19: EPOCH 4 - PROGRESS: at 79.98% examples, 63712 words/s, in_qsize 7, out_qsize 0\n",
      "INFO - 14:42:21: EPOCH 4 - PROGRESS: at 80.42% examples, 63723 words/s, in_qsize 7, out_qsize 0\n",
      "INFO - 14:42:22: EPOCH 4 - PROGRESS: at 80.61% examples, 63723 words/s, in_qsize 7, out_qsize 0\n",
      "INFO - 14:42:23: EPOCH 4 - PROGRESS: at 80.95% examples, 63721 words/s, in_qsize 7, out_qsize 0\n",
      "INFO - 14:42:24: EPOCH 4 - PROGRESS: at 81.39% examples, 63759 words/s, in_qsize 7, out_qsize 0\n",
      "INFO - 14:42:25: EPOCH 4 - PROGRESS: at 81.76% examples, 63726 words/s, in_qsize 7, out_qsize 0\n",
      "INFO - 14:42:26: EPOCH 4 - PROGRESS: at 82.00% examples, 63650 words/s, in_qsize 7, out_qsize 0\n",
      "INFO - 14:42:27: EPOCH 4 - PROGRESS: at 82.33% examples, 63561 words/s, in_qsize 7, out_qsize 0\n",
      "INFO - 14:42:28: EPOCH 4 - PROGRESS: at 82.76% examples, 63523 words/s, in_qsize 7, out_qsize 0\n",
      "INFO - 14:42:29: EPOCH 4 - PROGRESS: at 83.15% examples, 63549 words/s, in_qsize 7, out_qsize 0\n",
      "INFO - 14:42:30: EPOCH 4 - PROGRESS: at 83.64% examples, 63549 words/s, in_qsize 7, out_qsize 0\n",
      "INFO - 14:42:31: EPOCH 4 - PROGRESS: at 84.10% examples, 63554 words/s, in_qsize 7, out_qsize 0\n",
      "INFO - 14:42:32: EPOCH 4 - PROGRESS: at 84.63% examples, 63615 words/s, in_qsize 7, out_qsize 0\n",
      "INFO - 14:42:33: EPOCH 4 - PROGRESS: at 85.05% examples, 63581 words/s, in_qsize 7, out_qsize 0\n",
      "INFO - 14:42:35: EPOCH 4 - PROGRESS: at 85.33% examples, 63593 words/s, in_qsize 7, out_qsize 0\n",
      "INFO - 14:42:36: EPOCH 4 - PROGRESS: at 85.82% examples, 63610 words/s, in_qsize 7, out_qsize 0\n",
      "INFO - 14:42:37: EPOCH 4 - PROGRESS: at 86.24% examples, 63646 words/s, in_qsize 7, out_qsize 0\n",
      "INFO - 14:42:38: EPOCH 4 - PROGRESS: at 86.46% examples, 63609 words/s, in_qsize 7, out_qsize 0\n",
      "INFO - 14:42:39: EPOCH 4 - PROGRESS: at 86.58% examples, 63605 words/s, in_qsize 7, out_qsize 0\n",
      "INFO - 14:42:40: EPOCH 4 - PROGRESS: at 86.85% examples, 63628 words/s, in_qsize 7, out_qsize 0\n",
      "INFO - 14:42:41: EPOCH 4 - PROGRESS: at 87.37% examples, 63670 words/s, in_qsize 7, out_qsize 0\n",
      "INFO - 14:42:42: EPOCH 4 - PROGRESS: at 87.70% examples, 63622 words/s, in_qsize 7, out_qsize 0\n",
      "INFO - 14:42:43: EPOCH 4 - PROGRESS: at 88.00% examples, 63572 words/s, in_qsize 7, out_qsize 0\n",
      "INFO - 14:42:44: EPOCH 4 - PROGRESS: at 88.50% examples, 63573 words/s, in_qsize 7, out_qsize 0\n",
      "INFO - 14:42:45: EPOCH 4 - PROGRESS: at 88.93% examples, 63574 words/s, in_qsize 7, out_qsize 0\n",
      "INFO - 14:42:46: EPOCH 4 - PROGRESS: at 89.27% examples, 63553 words/s, in_qsize 7, out_qsize 0\n",
      "INFO - 14:42:47: EPOCH 4 - PROGRESS: at 89.64% examples, 63482 words/s, in_qsize 7, out_qsize 0\n",
      "INFO - 14:42:48: EPOCH 4 - PROGRESS: at 89.90% examples, 63373 words/s, in_qsize 7, out_qsize 0\n",
      "INFO - 14:42:49: EPOCH 4 - PROGRESS: at 90.21% examples, 63278 words/s, in_qsize 7, out_qsize 0\n",
      "INFO - 14:42:50: EPOCH 4 - PROGRESS: at 90.61% examples, 63275 words/s, in_qsize 7, out_qsize 0\n",
      "INFO - 14:42:51: EPOCH 4 - PROGRESS: at 91.00% examples, 63272 words/s, in_qsize 7, out_qsize 0\n",
      "INFO - 14:42:52: EPOCH 4 - PROGRESS: at 91.32% examples, 63190 words/s, in_qsize 7, out_qsize 0\n",
      "INFO - 14:42:54: EPOCH 4 - PROGRESS: at 91.61% examples, 63084 words/s, in_qsize 7, out_qsize 0\n",
      "INFO - 14:42:55: EPOCH 4 - PROGRESS: at 91.91% examples, 63051 words/s, in_qsize 7, out_qsize 0\n",
      "INFO - 14:42:56: EPOCH 4 - PROGRESS: at 92.30% examples, 63014 words/s, in_qsize 7, out_qsize 0\n",
      "INFO - 14:42:57: EPOCH 4 - PROGRESS: at 92.57% examples, 62901 words/s, in_qsize 7, out_qsize 0\n",
      "INFO - 14:42:58: EPOCH 4 - PROGRESS: at 92.92% examples, 62869 words/s, in_qsize 8, out_qsize 0\n",
      "INFO - 14:42:59: EPOCH 4 - PROGRESS: at 93.23% examples, 62822 words/s, in_qsize 7, out_qsize 0\n",
      "INFO - 14:43:00: EPOCH 4 - PROGRESS: at 93.69% examples, 62832 words/s, in_qsize 7, out_qsize 0\n",
      "INFO - 14:43:01: EPOCH 4 - PROGRESS: at 93.97% examples, 62772 words/s, in_qsize 7, out_qsize 0\n",
      "INFO - 14:43:02: EPOCH 4 - PROGRESS: at 94.35% examples, 62790 words/s, in_qsize 7, out_qsize 0\n",
      "INFO - 14:43:03: EPOCH 4 - PROGRESS: at 94.68% examples, 62779 words/s, in_qsize 7, out_qsize 0\n",
      "INFO - 14:43:04: EPOCH 4 - PROGRESS: at 95.07% examples, 62819 words/s, in_qsize 7, out_qsize 0\n",
      "INFO - 14:43:05: EPOCH 4 - PROGRESS: at 95.43% examples, 62781 words/s, in_qsize 7, out_qsize 0\n",
      "INFO - 14:43:06: EPOCH 4 - PROGRESS: at 95.58% examples, 62688 words/s, in_qsize 8, out_qsize 0\n",
      "INFO - 14:43:08: EPOCH 4 - PROGRESS: at 95.65% examples, 62540 words/s, in_qsize 7, out_qsize 0\n",
      "INFO - 14:43:09: EPOCH 4 - PROGRESS: at 95.98% examples, 62511 words/s, in_qsize 8, out_qsize 0\n",
      "INFO - 14:43:10: EPOCH 4 - PROGRESS: at 96.34% examples, 62504 words/s, in_qsize 7, out_qsize 0\n",
      "INFO - 14:43:11: EPOCH 4 - PROGRESS: at 96.77% examples, 62499 words/s, in_qsize 8, out_qsize 0\n",
      "INFO - 14:43:12: EPOCH 4 - PROGRESS: at 96.97% examples, 62455 words/s, in_qsize 7, out_qsize 0\n",
      "INFO - 14:43:13: EPOCH 4 - PROGRESS: at 97.23% examples, 62395 words/s, in_qsize 6, out_qsize 1\n",
      "INFO - 14:43:14: EPOCH 4 - PROGRESS: at 97.63% examples, 62387 words/s, in_qsize 7, out_qsize 0\n",
      "INFO - 14:43:15: EPOCH 4 - PROGRESS: at 98.02% examples, 62380 words/s, in_qsize 8, out_qsize 0\n",
      "INFO - 14:43:16: EPOCH 4 - PROGRESS: at 98.42% examples, 62388 words/s, in_qsize 7, out_qsize 0\n",
      "INFO - 14:43:17: EPOCH 4 - PROGRESS: at 98.78% examples, 62400 words/s, in_qsize 7, out_qsize 0\n",
      "INFO - 14:43:18: EPOCH 4 - PROGRESS: at 99.11% examples, 62411 words/s, in_qsize 7, out_qsize 0\n",
      "INFO - 14:43:19: EPOCH 4 - PROGRESS: at 99.42% examples, 62422 words/s, in_qsize 7, out_qsize 0\n",
      "INFO - 14:43:20: EPOCH 4 - PROGRESS: at 99.90% examples, 62427 words/s, in_qsize 3, out_qsize 1\n",
      "INFO - 14:43:20: worker thread finished; awaiting finish of 3 more threads\n",
      "INFO - 14:43:20: worker thread finished; awaiting finish of 2 more threads\n",
      "INFO - 14:43:21: worker thread finished; awaiting finish of 1 more threads\n",
      "INFO - 14:43:21: worker thread finished; awaiting finish of 0 more threads\n",
      "INFO - 14:43:21: EPOCH - 4 : training on 31973755 raw words (17368396 effective words) took 278.2s, 62432 effective words/s\n",
      "INFO - 14:43:22: EPOCH 5 - PROGRESS: at 0.17% examples, 46373 words/s, in_qsize 8, out_qsize 0\n",
      "INFO - 14:43:23: EPOCH 5 - PROGRESS: at 0.54% examples, 51440 words/s, in_qsize 7, out_qsize 0\n",
      "INFO - 14:43:24: EPOCH 5 - PROGRESS: at 0.91% examples, 52927 words/s, in_qsize 8, out_qsize 0\n",
      "INFO - 14:43:25: EPOCH 5 - PROGRESS: at 1.41% examples, 54958 words/s, in_qsize 7, out_qsize 0\n",
      "INFO - 14:43:26: EPOCH 5 - PROGRESS: at 1.88% examples, 53996 words/s, in_qsize 7, out_qsize 0\n",
      "INFO - 14:43:27: EPOCH 5 - PROGRESS: at 2.17% examples, 52398 words/s, in_qsize 7, out_qsize 0\n",
      "INFO - 14:43:28: EPOCH 5 - PROGRESS: at 2.31% examples, 50505 words/s, in_qsize 7, out_qsize 0\n",
      "INFO - 14:43:30: EPOCH 5 - PROGRESS: at 2.54% examples, 49034 words/s, in_qsize 7, out_qsize 0\n",
      "INFO - 14:43:31: EPOCH 5 - PROGRESS: at 2.88% examples, 48257 words/s, in_qsize 7, out_qsize 0\n",
      "INFO - 14:43:32: EPOCH 5 - PROGRESS: at 3.24% examples, 49108 words/s, in_qsize 7, out_qsize 0\n",
      "INFO - 14:43:33: EPOCH 5 - PROGRESS: at 3.59% examples, 48002 words/s, in_qsize 7, out_qsize 0\n",
      "INFO - 14:43:34: EPOCH 5 - PROGRESS: at 4.04% examples, 48573 words/s, in_qsize 7, out_qsize 0\n",
      "INFO - 14:43:35: EPOCH 5 - PROGRESS: at 4.43% examples, 49552 words/s, in_qsize 7, out_qsize 0\n",
      "INFO - 14:43:37: EPOCH 5 - PROGRESS: at 4.86% examples, 49607 words/s, in_qsize 7, out_qsize 0\n",
      "INFO - 14:43:38: EPOCH 5 - PROGRESS: at 5.09% examples, 49523 words/s, in_qsize 6, out_qsize 1\n",
      "INFO - 14:43:39: EPOCH 5 - PROGRESS: at 5.39% examples, 49932 words/s, in_qsize 7, out_qsize 0\n",
      "INFO - 14:43:40: EPOCH 5 - PROGRESS: at 5.70% examples, 50101 words/s, in_qsize 7, out_qsize 0\n",
      "INFO - 14:43:41: EPOCH 5 - PROGRESS: at 5.93% examples, 49575 words/s, in_qsize 7, out_qsize 0\n"
     ]
    },
    {
     "name": "stderr",
     "output_type": "stream",
     "text": [
      "INFO - 14:43:42: EPOCH 5 - PROGRESS: at 6.19% examples, 49701 words/s, in_qsize 7, out_qsize 0\n",
      "INFO - 14:43:43: EPOCH 5 - PROGRESS: at 6.44% examples, 49925 words/s, in_qsize 7, out_qsize 0\n",
      "INFO - 14:43:44: EPOCH 5 - PROGRESS: at 6.86% examples, 50087 words/s, in_qsize 7, out_qsize 0\n",
      "INFO - 14:43:45: EPOCH 5 - PROGRESS: at 7.32% examples, 50833 words/s, in_qsize 7, out_qsize 0\n",
      "INFO - 14:43:46: EPOCH 5 - PROGRESS: at 7.67% examples, 51303 words/s, in_qsize 7, out_qsize 0\n",
      "INFO - 14:43:47: EPOCH 5 - PROGRESS: at 8.13% examples, 51809 words/s, in_qsize 7, out_qsize 0\n",
      "INFO - 14:43:49: EPOCH 5 - PROGRESS: at 8.59% examples, 51822 words/s, in_qsize 7, out_qsize 0\n",
      "INFO - 14:43:50: EPOCH 5 - PROGRESS: at 8.99% examples, 51930 words/s, in_qsize 7, out_qsize 0\n",
      "INFO - 14:43:51: EPOCH 5 - PROGRESS: at 9.14% examples, 52270 words/s, in_qsize 7, out_qsize 0\n",
      "INFO - 14:43:52: EPOCH 5 - PROGRESS: at 9.61% examples, 52978 words/s, in_qsize 7, out_qsize 0\n",
      "INFO - 14:43:53: EPOCH 5 - PROGRESS: at 10.08% examples, 53439 words/s, in_qsize 7, out_qsize 0\n",
      "INFO - 14:43:54: EPOCH 5 - PROGRESS: at 10.54% examples, 53754 words/s, in_qsize 7, out_qsize 0\n",
      "INFO - 14:43:55: EPOCH 5 - PROGRESS: at 11.00% examples, 53858 words/s, in_qsize 7, out_qsize 0\n",
      "INFO - 14:43:56: EPOCH 5 - PROGRESS: at 11.24% examples, 54035 words/s, in_qsize 7, out_qsize 0\n",
      "INFO - 14:43:57: EPOCH 5 - PROGRESS: at 11.57% examples, 54192 words/s, in_qsize 7, out_qsize 0\n",
      "INFO - 14:43:58: EPOCH 5 - PROGRESS: at 11.83% examples, 54528 words/s, in_qsize 8, out_qsize 0\n",
      "INFO - 14:43:59: EPOCH 5 - PROGRESS: at 12.27% examples, 54780 words/s, in_qsize 7, out_qsize 0\n",
      "INFO - 14:44:00: EPOCH 5 - PROGRESS: at 12.80% examples, 54958 words/s, in_qsize 7, out_qsize 0\n",
      "INFO - 14:44:01: EPOCH 5 - PROGRESS: at 13.21% examples, 55480 words/s, in_qsize 7, out_qsize 0\n",
      "INFO - 14:44:02: EPOCH 5 - PROGRESS: at 13.71% examples, 55673 words/s, in_qsize 8, out_qsize 0\n",
      "INFO - 14:44:03: EPOCH 5 - PROGRESS: at 14.06% examples, 56005 words/s, in_qsize 7, out_qsize 0\n",
      "INFO - 14:44:04: EPOCH 5 - PROGRESS: at 14.53% examples, 56371 words/s, in_qsize 7, out_qsize 0\n",
      "INFO - 14:44:06: EPOCH 5 - PROGRESS: at 14.77% examples, 56560 words/s, in_qsize 7, out_qsize 0\n",
      "INFO - 14:44:07: EPOCH 5 - PROGRESS: at 15.19% examples, 57005 words/s, in_qsize 7, out_qsize 0\n",
      "INFO - 14:44:08: EPOCH 5 - PROGRESS: at 15.48% examples, 57102 words/s, in_qsize 7, out_qsize 0\n",
      "INFO - 14:44:09: EPOCH 5 - PROGRESS: at 15.86% examples, 57347 words/s, in_qsize 7, out_qsize 0\n",
      "INFO - 14:44:10: EPOCH 5 - PROGRESS: at 16.20% examples, 57496 words/s, in_qsize 7, out_qsize 0\n",
      "INFO - 14:44:11: EPOCH 5 - PROGRESS: at 16.73% examples, 57700 words/s, in_qsize 7, out_qsize 0\n",
      "INFO - 14:44:12: EPOCH 5 - PROGRESS: at 17.17% examples, 57881 words/s, in_qsize 7, out_qsize 0\n",
      "INFO - 14:44:13: EPOCH 5 - PROGRESS: at 17.55% examples, 57891 words/s, in_qsize 7, out_qsize 0\n",
      "INFO - 14:44:14: EPOCH 5 - PROGRESS: at 17.92% examples, 57916 words/s, in_qsize 7, out_qsize 0\n",
      "INFO - 14:44:15: EPOCH 5 - PROGRESS: at 18.43% examples, 57940 words/s, in_qsize 7, out_qsize 0\n",
      "INFO - 14:44:16: EPOCH 5 - PROGRESS: at 18.79% examples, 57990 words/s, in_qsize 7, out_qsize 0\n",
      "INFO - 14:44:17: EPOCH 5 - PROGRESS: at 19.15% examples, 58006 words/s, in_qsize 7, out_qsize 0\n",
      "INFO - 14:44:18: EPOCH 5 - PROGRESS: at 19.57% examples, 58117 words/s, in_qsize 7, out_qsize 0\n",
      "INFO - 14:44:19: EPOCH 5 - PROGRESS: at 19.88% examples, 58241 words/s, in_qsize 7, out_qsize 0\n",
      "INFO - 14:44:20: EPOCH 5 - PROGRESS: at 20.27% examples, 58266 words/s, in_qsize 7, out_qsize 0\n",
      "INFO - 14:44:21: EPOCH 5 - PROGRESS: at 20.70% examples, 58401 words/s, in_qsize 8, out_qsize 0\n",
      "INFO - 14:44:22: EPOCH 5 - PROGRESS: at 21.11% examples, 58415 words/s, in_qsize 7, out_qsize 0\n",
      "INFO - 14:44:24: EPOCH 5 - PROGRESS: at 21.43% examples, 58329 words/s, in_qsize 7, out_qsize 0\n",
      "INFO - 14:44:25: EPOCH 5 - PROGRESS: at 21.84% examples, 58453 words/s, in_qsize 7, out_qsize 0\n",
      "INFO - 14:44:26: EPOCH 5 - PROGRESS: at 22.14% examples, 58492 words/s, in_qsize 7, out_qsize 0\n",
      "INFO - 14:44:27: EPOCH 5 - PROGRESS: at 22.45% examples, 58582 words/s, in_qsize 7, out_qsize 0\n",
      "INFO - 14:44:28: EPOCH 5 - PROGRESS: at 22.73% examples, 58573 words/s, in_qsize 7, out_qsize 0\n",
      "INFO - 14:44:29: EPOCH 5 - PROGRESS: at 23.15% examples, 58632 words/s, in_qsize 7, out_qsize 0\n",
      "INFO - 14:44:30: EPOCH 5 - PROGRESS: at 23.52% examples, 58623 words/s, in_qsize 7, out_qsize 0\n",
      "INFO - 14:44:31: EPOCH 5 - PROGRESS: at 24.06% examples, 58843 words/s, in_qsize 8, out_qsize 0\n",
      "INFO - 14:44:32: EPOCH 5 - PROGRESS: at 24.45% examples, 58925 words/s, in_qsize 7, out_qsize 0\n",
      "INFO - 14:44:33: EPOCH 5 - PROGRESS: at 24.93% examples, 59021 words/s, in_qsize 7, out_qsize 0\n",
      "INFO - 14:44:34: EPOCH 5 - PROGRESS: at 25.38% examples, 59149 words/s, in_qsize 7, out_qsize 0\n",
      "INFO - 14:44:35: EPOCH 5 - PROGRESS: at 25.84% examples, 59177 words/s, in_qsize 7, out_qsize 0\n",
      "INFO - 14:44:36: EPOCH 5 - PROGRESS: at 26.16% examples, 59164 words/s, in_qsize 7, out_qsize 0\n",
      "INFO - 14:44:37: EPOCH 5 - PROGRESS: at 26.67% examples, 59347 words/s, in_qsize 7, out_qsize 0\n",
      "INFO - 14:44:38: EPOCH 5 - PROGRESS: at 27.08% examples, 59358 words/s, in_qsize 7, out_qsize 0\n",
      "INFO - 14:44:39: EPOCH 5 - PROGRESS: at 27.42% examples, 59487 words/s, in_qsize 7, out_qsize 0\n",
      "INFO - 14:44:40: EPOCH 5 - PROGRESS: at 27.84% examples, 59584 words/s, in_qsize 7, out_qsize 0\n",
      "INFO - 14:44:41: EPOCH 5 - PROGRESS: at 28.30% examples, 59687 words/s, in_qsize 7, out_qsize 0\n",
      "INFO - 14:44:43: EPOCH 5 - PROGRESS: at 28.55% examples, 59695 words/s, in_qsize 7, out_qsize 0\n",
      "INFO - 14:44:44: EPOCH 5 - PROGRESS: at 28.93% examples, 59786 words/s, in_qsize 7, out_qsize 0\n",
      "INFO - 14:44:45: EPOCH 5 - PROGRESS: at 29.29% examples, 59767 words/s, in_qsize 7, out_qsize 0\n",
      "INFO - 14:44:46: EPOCH 5 - PROGRESS: at 29.72% examples, 59910 words/s, in_qsize 7, out_qsize 0\n",
      "INFO - 14:44:47: EPOCH 5 - PROGRESS: at 30.18% examples, 60057 words/s, in_qsize 7, out_qsize 0\n",
      "INFO - 14:44:48: EPOCH 5 - PROGRESS: at 30.66% examples, 60166 words/s, in_qsize 7, out_qsize 0\n",
      "INFO - 14:44:49: EPOCH 5 - PROGRESS: at 31.06% examples, 60169 words/s, in_qsize 7, out_qsize 0\n",
      "INFO - 14:44:50: EPOCH 5 - PROGRESS: at 31.51% examples, 60308 words/s, in_qsize 7, out_qsize 0\n",
      "INFO - 14:44:51: EPOCH 5 - PROGRESS: at 31.78% examples, 60194 words/s, in_qsize 7, out_qsize 0\n",
      "INFO - 14:44:52: EPOCH 5 - PROGRESS: at 32.11% examples, 60375 words/s, in_qsize 7, out_qsize 0\n",
      "INFO - 14:44:53: EPOCH 5 - PROGRESS: at 32.42% examples, 60486 words/s, in_qsize 7, out_qsize 0\n",
      "INFO - 14:44:54: EPOCH 5 - PROGRESS: at 32.79% examples, 60560 words/s, in_qsize 7, out_qsize 0\n",
      "INFO - 14:44:55: EPOCH 5 - PROGRESS: at 33.17% examples, 60643 words/s, in_qsize 7, out_qsize 0\n",
      "INFO - 14:44:56: EPOCH 5 - PROGRESS: at 33.59% examples, 60671 words/s, in_qsize 7, out_qsize 0\n",
      "INFO - 14:44:57: EPOCH 5 - PROGRESS: at 33.91% examples, 60620 words/s, in_qsize 7, out_qsize 0\n",
      "INFO - 14:44:58: EPOCH 5 - PROGRESS: at 34.29% examples, 60681 words/s, in_qsize 7, out_qsize 0\n",
      "INFO - 14:44:59: EPOCH 5 - PROGRESS: at 34.53% examples, 60787 words/s, in_qsize 8, out_qsize 0\n",
      "INFO - 14:45:00: EPOCH 5 - PROGRESS: at 34.74% examples, 60831 words/s, in_qsize 7, out_qsize 0\n",
      "INFO - 14:45:01: EPOCH 5 - PROGRESS: at 35.05% examples, 60939 words/s, in_qsize 7, out_qsize 0\n",
      "INFO - 14:45:02: EPOCH 5 - PROGRESS: at 35.44% examples, 61025 words/s, in_qsize 7, out_qsize 0\n",
      "INFO - 14:45:03: EPOCH 5 - PROGRESS: at 35.90% examples, 61090 words/s, in_qsize 7, out_qsize 0\n",
      "INFO - 14:45:05: EPOCH 5 - PROGRESS: at 36.22% examples, 61119 words/s, in_qsize 7, out_qsize 0\n",
      "INFO - 14:45:06: EPOCH 5 - PROGRESS: at 36.73% examples, 61201 words/s, in_qsize 7, out_qsize 0\n",
      "INFO - 14:45:07: EPOCH 5 - PROGRESS: at 37.05% examples, 61138 words/s, in_qsize 7, out_qsize 0\n",
      "INFO - 14:45:08: EPOCH 5 - PROGRESS: at 37.37% examples, 60967 words/s, in_qsize 7, out_qsize 0\n",
      "INFO - 14:45:09: EPOCH 5 - PROGRESS: at 37.61% examples, 60830 words/s, in_qsize 7, out_qsize 0\n",
      "INFO - 14:45:10: EPOCH 5 - PROGRESS: at 37.96% examples, 60708 words/s, in_qsize 7, out_qsize 0\n",
      "INFO - 14:45:12: EPOCH 5 - PROGRESS: at 38.33% examples, 60664 words/s, in_qsize 7, out_qsize 0\n",
      "INFO - 14:45:13: EPOCH 5 - PROGRESS: at 38.56% examples, 60512 words/s, in_qsize 7, out_qsize 0\n"
     ]
    },
    {
     "name": "stderr",
     "output_type": "stream",
     "text": [
      "INFO - 14:45:14: EPOCH 5 - PROGRESS: at 39.03% examples, 60435 words/s, in_qsize 7, out_qsize 0\n",
      "INFO - 14:45:15: EPOCH 5 - PROGRESS: at 39.41% examples, 60404 words/s, in_qsize 7, out_qsize 0\n",
      "INFO - 14:45:16: EPOCH 5 - PROGRESS: at 39.81% examples, 60395 words/s, in_qsize 7, out_qsize 0\n",
      "INFO - 14:45:17: EPOCH 5 - PROGRESS: at 40.20% examples, 60394 words/s, in_qsize 7, out_qsize 0\n",
      "INFO - 14:45:18: EPOCH 5 - PROGRESS: at 40.60% examples, 60358 words/s, in_qsize 7, out_qsize 0\n",
      "INFO - 14:45:19: EPOCH 5 - PROGRESS: at 41.03% examples, 60438 words/s, in_qsize 7, out_qsize 0\n",
      "INFO - 14:45:20: EPOCH 5 - PROGRESS: at 41.46% examples, 60403 words/s, in_qsize 7, out_qsize 0\n",
      "INFO - 14:45:21: EPOCH 5 - PROGRESS: at 41.72% examples, 60312 words/s, in_qsize 7, out_qsize 0\n",
      "INFO - 14:45:22: EPOCH 5 - PROGRESS: at 41.96% examples, 60296 words/s, in_qsize 8, out_qsize 0\n",
      "INFO - 14:45:24: EPOCH 5 - PROGRESS: at 42.28% examples, 60151 words/s, in_qsize 7, out_qsize 0\n",
      "INFO - 14:45:25: EPOCH 5 - PROGRESS: at 42.66% examples, 60104 words/s, in_qsize 7, out_qsize 0\n",
      "INFO - 14:45:26: EPOCH 5 - PROGRESS: at 43.01% examples, 60065 words/s, in_qsize 8, out_qsize 0\n",
      "INFO - 14:45:27: EPOCH 5 - PROGRESS: at 43.36% examples, 60030 words/s, in_qsize 7, out_qsize 0\n",
      "INFO - 14:45:28: EPOCH 5 - PROGRESS: at 43.75% examples, 60020 words/s, in_qsize 7, out_qsize 0\n",
      "INFO - 14:45:29: EPOCH 5 - PROGRESS: at 44.15% examples, 59994 words/s, in_qsize 7, out_qsize 0\n",
      "INFO - 14:45:30: EPOCH 5 - PROGRESS: at 44.46% examples, 59933 words/s, in_qsize 7, out_qsize 0\n",
      "INFO - 14:45:31: EPOCH 5 - PROGRESS: at 44.77% examples, 59987 words/s, in_qsize 8, out_qsize 0\n",
      "INFO - 14:45:32: EPOCH 5 - PROGRESS: at 45.30% examples, 60068 words/s, in_qsize 7, out_qsize 0\n",
      "INFO - 14:45:33: EPOCH 5 - PROGRESS: at 45.59% examples, 60116 words/s, in_qsize 7, out_qsize 0\n",
      "INFO - 14:45:34: EPOCH 5 - PROGRESS: at 46.04% examples, 60189 words/s, in_qsize 7, out_qsize 0\n",
      "INFO - 14:45:35: EPOCH 5 - PROGRESS: at 46.54% examples, 60257 words/s, in_qsize 7, out_qsize 0\n",
      "INFO - 14:45:37: EPOCH 5 - PROGRESS: at 46.78% examples, 60114 words/s, in_qsize 7, out_qsize 0\n",
      "INFO - 14:45:38: EPOCH 5 - PROGRESS: at 46.97% examples, 59898 words/s, in_qsize 7, out_qsize 0\n",
      "INFO - 14:45:39: EPOCH 5 - PROGRESS: at 47.23% examples, 59810 words/s, in_qsize 7, out_qsize 0\n",
      "INFO - 14:45:40: EPOCH 5 - PROGRESS: at 47.47% examples, 59730 words/s, in_qsize 7, out_qsize 0\n",
      "INFO - 14:45:41: EPOCH 5 - PROGRESS: at 47.80% examples, 59626 words/s, in_qsize 7, out_qsize 0\n",
      "INFO - 14:45:42: EPOCH 5 - PROGRESS: at 48.06% examples, 59463 words/s, in_qsize 7, out_qsize 0\n",
      "INFO - 14:45:43: EPOCH 5 - PROGRESS: at 48.38% examples, 59403 words/s, in_qsize 7, out_qsize 0\n",
      "INFO - 14:45:44: EPOCH 5 - PROGRESS: at 48.74% examples, 59375 words/s, in_qsize 7, out_qsize 0\n",
      "INFO - 14:45:45: EPOCH 5 - PROGRESS: at 49.10% examples, 59294 words/s, in_qsize 7, out_qsize 0\n",
      "INFO - 14:45:46: EPOCH 5 - PROGRESS: at 49.37% examples, 59279 words/s, in_qsize 7, out_qsize 0\n",
      "INFO - 14:45:48: EPOCH 5 - PROGRESS: at 49.69% examples, 59282 words/s, in_qsize 7, out_qsize 0\n",
      "INFO - 14:45:49: EPOCH 5 - PROGRESS: at 49.96% examples, 59187 words/s, in_qsize 7, out_qsize 0\n",
      "INFO - 14:45:50: EPOCH 5 - PROGRESS: at 50.22% examples, 59130 words/s, in_qsize 7, out_qsize 0\n",
      "INFO - 14:45:51: EPOCH 5 - PROGRESS: at 50.62% examples, 59113 words/s, in_qsize 7, out_qsize 0\n",
      "INFO - 14:45:52: EPOCH 5 - PROGRESS: at 51.04% examples, 59123 words/s, in_qsize 7, out_qsize 0\n",
      "INFO - 14:45:53: EPOCH 5 - PROGRESS: at 51.33% examples, 59171 words/s, in_qsize 7, out_qsize 0\n",
      "INFO - 14:45:54: EPOCH 5 - PROGRESS: at 51.73% examples, 59144 words/s, in_qsize 7, out_qsize 0\n",
      "INFO - 14:45:55: EPOCH 5 - PROGRESS: at 52.15% examples, 59176 words/s, in_qsize 7, out_qsize 0\n",
      "INFO - 14:45:56: EPOCH 5 - PROGRESS: at 52.53% examples, 59155 words/s, in_qsize 7, out_qsize 0\n",
      "INFO - 14:45:57: EPOCH 5 - PROGRESS: at 52.90% examples, 59157 words/s, in_qsize 7, out_qsize 0\n",
      "INFO - 14:45:58: EPOCH 5 - PROGRESS: at 53.26% examples, 59093 words/s, in_qsize 7, out_qsize 0\n",
      "INFO - 14:45:59: EPOCH 5 - PROGRESS: at 53.62% examples, 59045 words/s, in_qsize 7, out_qsize 0\n",
      "INFO - 14:46:01: EPOCH 5 - PROGRESS: at 54.00% examples, 59015 words/s, in_qsize 7, out_qsize 0\n",
      "INFO - 14:46:02: EPOCH 5 - PROGRESS: at 54.43% examples, 59005 words/s, in_qsize 8, out_qsize 0\n",
      "INFO - 14:46:03: EPOCH 5 - PROGRESS: at 54.83% examples, 58975 words/s, in_qsize 8, out_qsize 0\n",
      "INFO - 14:46:04: EPOCH 5 - PROGRESS: at 55.25% examples, 58966 words/s, in_qsize 7, out_qsize 0\n",
      "INFO - 14:46:05: EPOCH 5 - PROGRESS: at 55.58% examples, 58973 words/s, in_qsize 7, out_qsize 0\n",
      "INFO - 14:46:06: EPOCH 5 - PROGRESS: at 55.95% examples, 58981 words/s, in_qsize 7, out_qsize 0\n",
      "INFO - 14:46:07: EPOCH 5 - PROGRESS: at 56.44% examples, 59026 words/s, in_qsize 7, out_qsize 0\n",
      "INFO - 14:46:08: EPOCH 5 - PROGRESS: at 56.84% examples, 59071 words/s, in_qsize 7, out_qsize 0\n",
      "INFO - 14:46:09: EPOCH 5 - PROGRESS: at 57.28% examples, 59119 words/s, in_qsize 7, out_qsize 0\n",
      "INFO - 14:46:10: EPOCH 5 - PROGRESS: at 57.64% examples, 59203 words/s, in_qsize 7, out_qsize 0\n",
      "INFO - 14:46:11: EPOCH 5 - PROGRESS: at 58.10% examples, 59241 words/s, in_qsize 7, out_qsize 0\n",
      "INFO - 14:46:12: EPOCH 5 - PROGRESS: at 58.55% examples, 59297 words/s, in_qsize 7, out_qsize 0\n",
      "INFO - 14:46:14: EPOCH 5 - PROGRESS: at 58.92% examples, 59309 words/s, in_qsize 7, out_qsize 0\n",
      "INFO - 14:46:15: EPOCH 5 - PROGRESS: at 59.39% examples, 59382 words/s, in_qsize 7, out_qsize 0\n",
      "INFO - 14:46:16: EPOCH 5 - PROGRESS: at 59.87% examples, 59422 words/s, in_qsize 7, out_qsize 0\n",
      "INFO - 14:46:17: EPOCH 5 - PROGRESS: at 60.37% examples, 59504 words/s, in_qsize 7, out_qsize 0\n",
      "INFO - 14:46:18: EPOCH 5 - PROGRESS: at 60.87% examples, 59522 words/s, in_qsize 7, out_qsize 0\n",
      "INFO - 14:46:19: EPOCH 5 - PROGRESS: at 61.29% examples, 59577 words/s, in_qsize 7, out_qsize 0\n",
      "INFO - 14:46:20: EPOCH 5 - PROGRESS: at 61.69% examples, 59617 words/s, in_qsize 7, out_qsize 0\n",
      "INFO - 14:46:21: EPOCH 5 - PROGRESS: at 62.19% examples, 59646 words/s, in_qsize 7, out_qsize 0\n",
      "INFO - 14:46:22: EPOCH 5 - PROGRESS: at 62.53% examples, 59707 words/s, in_qsize 7, out_qsize 0\n",
      "INFO - 14:46:23: EPOCH 5 - PROGRESS: at 62.98% examples, 59752 words/s, in_qsize 7, out_qsize 0\n",
      "INFO - 14:46:24: EPOCH 5 - PROGRESS: at 63.38% examples, 59806 words/s, in_qsize 7, out_qsize 0\n",
      "INFO - 14:46:25: EPOCH 5 - PROGRESS: at 63.96% examples, 59867 words/s, in_qsize 7, out_qsize 0\n",
      "INFO - 14:46:26: EPOCH 5 - PROGRESS: at 64.39% examples, 59881 words/s, in_qsize 7, out_qsize 0\n",
      "INFO - 14:46:27: EPOCH 5 - PROGRESS: at 64.84% examples, 59957 words/s, in_qsize 8, out_qsize 0\n",
      "INFO - 14:46:28: EPOCH 5 - PROGRESS: at 65.23% examples, 59988 words/s, in_qsize 7, out_qsize 0\n",
      "INFO - 14:46:29: EPOCH 5 - PROGRESS: at 65.63% examples, 60010 words/s, in_qsize 8, out_qsize 0\n",
      "INFO - 14:46:31: EPOCH 5 - PROGRESS: at 66.18% examples, 60059 words/s, in_qsize 7, out_qsize 0\n",
      "INFO - 14:46:32: EPOCH 5 - PROGRESS: at 66.55% examples, 60105 words/s, in_qsize 7, out_qsize 0\n",
      "INFO - 14:46:33: EPOCH 5 - PROGRESS: at 66.77% examples, 60140 words/s, in_qsize 7, out_qsize 0\n",
      "INFO - 14:46:34: EPOCH 5 - PROGRESS: at 67.19% examples, 60164 words/s, in_qsize 7, out_qsize 0\n",
      "INFO - 14:46:35: EPOCH 5 - PROGRESS: at 67.51% examples, 60208 words/s, in_qsize 7, out_qsize 0\n",
      "INFO - 14:46:36: EPOCH 5 - PROGRESS: at 67.98% examples, 60269 words/s, in_qsize 7, out_qsize 0\n",
      "INFO - 14:46:37: EPOCH 5 - PROGRESS: at 68.41% examples, 60324 words/s, in_qsize 7, out_qsize 0\n",
      "INFO - 14:46:38: EPOCH 5 - PROGRESS: at 68.66% examples, 60349 words/s, in_qsize 7, out_qsize 0\n",
      "INFO - 14:46:39: EPOCH 5 - PROGRESS: at 68.96% examples, 60352 words/s, in_qsize 7, out_qsize 0\n",
      "INFO - 14:46:40: EPOCH 5 - PROGRESS: at 69.31% examples, 60409 words/s, in_qsize 7, out_qsize 0\n",
      "INFO - 14:46:41: EPOCH 5 - PROGRESS: at 69.83% examples, 60459 words/s, in_qsize 7, out_qsize 0\n",
      "INFO - 14:46:42: EPOCH 5 - PROGRESS: at 70.26% examples, 60506 words/s, in_qsize 7, out_qsize 0\n",
      "INFO - 14:46:43: EPOCH 5 - PROGRESS: at 70.64% examples, 60506 words/s, in_qsize 7, out_qsize 0\n",
      "INFO - 14:46:44: EPOCH 5 - PROGRESS: at 71.01% examples, 60552 words/s, in_qsize 7, out_qsize 0\n",
      "INFO - 14:46:45: EPOCH 5 - PROGRESS: at 71.33% examples, 60563 words/s, in_qsize 7, out_qsize 0\n"
     ]
    },
    {
     "name": "stderr",
     "output_type": "stream",
     "text": [
      "INFO - 14:46:46: EPOCH 5 - PROGRESS: at 71.75% examples, 60627 words/s, in_qsize 7, out_qsize 0\n",
      "INFO - 14:46:48: EPOCH 5 - PROGRESS: at 72.16% examples, 60623 words/s, in_qsize 7, out_qsize 0\n",
      "INFO - 14:46:49: EPOCH 5 - PROGRESS: at 72.62% examples, 60649 words/s, in_qsize 7, out_qsize 0\n",
      "INFO - 14:46:50: EPOCH 5 - PROGRESS: at 72.98% examples, 60642 words/s, in_qsize 7, out_qsize 0\n",
      "INFO - 14:46:51: EPOCH 5 - PROGRESS: at 73.31% examples, 60657 words/s, in_qsize 7, out_qsize 0\n",
      "INFO - 14:46:52: EPOCH 5 - PROGRESS: at 73.59% examples, 60664 words/s, in_qsize 7, out_qsize 0\n",
      "INFO - 14:46:53: EPOCH 5 - PROGRESS: at 74.00% examples, 60627 words/s, in_qsize 7, out_qsize 0\n",
      "INFO - 14:46:54: EPOCH 5 - PROGRESS: at 74.67% examples, 60701 words/s, in_qsize 7, out_qsize 0\n",
      "INFO - 14:46:55: EPOCH 5 - PROGRESS: at 75.05% examples, 60678 words/s, in_qsize 7, out_qsize 0\n",
      "INFO - 14:46:56: EPOCH 5 - PROGRESS: at 75.40% examples, 60695 words/s, in_qsize 7, out_qsize 0\n",
      "INFO - 14:46:57: EPOCH 5 - PROGRESS: at 75.79% examples, 60681 words/s, in_qsize 7, out_qsize 0\n",
      "INFO - 14:46:58: EPOCH 5 - PROGRESS: at 76.01% examples, 60613 words/s, in_qsize 7, out_qsize 0\n",
      "INFO - 14:46:59: EPOCH 5 - PROGRESS: at 76.29% examples, 60549 words/s, in_qsize 7, out_qsize 1\n",
      "INFO - 14:47:01: EPOCH 5 - PROGRESS: at 76.61% examples, 60483 words/s, in_qsize 7, out_qsize 0\n",
      "INFO - 14:47:02: EPOCH 5 - PROGRESS: at 77.06% examples, 60528 words/s, in_qsize 7, out_qsize 0\n",
      "INFO - 14:47:03: EPOCH 5 - PROGRESS: at 77.59% examples, 60566 words/s, in_qsize 7, out_qsize 0\n",
      "INFO - 14:47:04: EPOCH 5 - PROGRESS: at 78.03% examples, 60573 words/s, in_qsize 7, out_qsize 0\n",
      "INFO - 14:47:05: EPOCH 5 - PROGRESS: at 78.54% examples, 60599 words/s, in_qsize 7, out_qsize 0\n",
      "INFO - 14:47:06: EPOCH 5 - PROGRESS: at 79.00% examples, 60640 words/s, in_qsize 7, out_qsize 0\n",
      "INFO - 14:47:07: EPOCH 5 - PROGRESS: at 79.34% examples, 60670 words/s, in_qsize 7, out_qsize 0\n",
      "INFO - 14:47:08: EPOCH 5 - PROGRESS: at 79.76% examples, 60672 words/s, in_qsize 7, out_qsize 0\n",
      "INFO - 14:47:09: EPOCH 5 - PROGRESS: at 80.14% examples, 60643 words/s, in_qsize 7, out_qsize 0\n",
      "INFO - 14:47:10: EPOCH 5 - PROGRESS: at 80.51% examples, 60671 words/s, in_qsize 7, out_qsize 0\n",
      "INFO - 14:47:11: EPOCH 5 - PROGRESS: at 80.67% examples, 60695 words/s, in_qsize 7, out_qsize 0\n",
      "INFO - 14:47:12: EPOCH 5 - PROGRESS: at 81.18% examples, 60758 words/s, in_qsize 7, out_qsize 0\n",
      "INFO - 14:47:13: EPOCH 5 - PROGRESS: at 81.62% examples, 60765 words/s, in_qsize 7, out_qsize 0\n",
      "INFO - 14:47:14: EPOCH 5 - PROGRESS: at 81.97% examples, 60799 words/s, in_qsize 7, out_qsize 0\n",
      "INFO - 14:47:15: EPOCH 5 - PROGRESS: at 82.47% examples, 60843 words/s, in_qsize 7, out_qsize 0\n",
      "INFO - 14:47:16: EPOCH 5 - PROGRESS: at 82.95% examples, 60854 words/s, in_qsize 7, out_qsize 0\n",
      "INFO - 14:47:17: EPOCH 5 - PROGRESS: at 83.32% examples, 60886 words/s, in_qsize 7, out_qsize 0\n",
      "INFO - 14:47:19: EPOCH 5 - PROGRESS: at 83.64% examples, 60867 words/s, in_qsize 7, out_qsize 0\n",
      "INFO - 14:47:20: EPOCH 5 - PROGRESS: at 84.10% examples, 60829 words/s, in_qsize 7, out_qsize 0\n",
      "INFO - 14:47:21: EPOCH 5 - PROGRESS: at 84.63% examples, 60879 words/s, in_qsize 7, out_qsize 0\n",
      "INFO - 14:47:22: EPOCH 5 - PROGRESS: at 85.16% examples, 60901 words/s, in_qsize 7, out_qsize 0\n",
      "INFO - 14:47:23: EPOCH 5 - PROGRESS: at 85.42% examples, 60936 words/s, in_qsize 7, out_qsize 0\n",
      "INFO - 14:47:24: EPOCH 5 - PROGRESS: at 85.89% examples, 60958 words/s, in_qsize 7, out_qsize 0\n",
      "INFO - 14:47:25: EPOCH 5 - PROGRESS: at 86.30% examples, 60967 words/s, in_qsize 7, out_qsize 0\n",
      "INFO - 14:47:26: EPOCH 5 - PROGRESS: at 86.50% examples, 60993 words/s, in_qsize 7, out_qsize 0\n",
      "INFO - 14:47:27: EPOCH 5 - PROGRESS: at 86.63% examples, 61012 words/s, in_qsize 7, out_qsize 0\n",
      "INFO - 14:47:28: EPOCH 5 - PROGRESS: at 87.04% examples, 61028 words/s, in_qsize 7, out_qsize 0\n",
      "INFO - 14:47:29: EPOCH 5 - PROGRESS: at 87.45% examples, 61047 words/s, in_qsize 7, out_qsize 0\n",
      "INFO - 14:47:30: EPOCH 5 - PROGRESS: at 87.95% examples, 61102 words/s, in_qsize 7, out_qsize 0\n",
      "INFO - 14:47:32: EPOCH 5 - PROGRESS: at 88.44% examples, 61124 words/s, in_qsize 7, out_qsize 0\n",
      "INFO - 14:47:33: EPOCH 5 - PROGRESS: at 88.89% examples, 61160 words/s, in_qsize 7, out_qsize 0\n",
      "INFO - 14:47:34: EPOCH 5 - PROGRESS: at 89.27% examples, 61161 words/s, in_qsize 7, out_qsize 0\n",
      "INFO - 14:47:35: EPOCH 5 - PROGRESS: at 89.79% examples, 61215 words/s, in_qsize 7, out_qsize 0\n",
      "INFO - 14:47:36: EPOCH 5 - PROGRESS: at 90.27% examples, 61232 words/s, in_qsize 7, out_qsize 0\n",
      "INFO - 14:47:37: EPOCH 5 - PROGRESS: at 90.67% examples, 61273 words/s, in_qsize 7, out_qsize 0\n",
      "INFO - 14:47:38: EPOCH 5 - PROGRESS: at 91.19% examples, 61310 words/s, in_qsize 7, out_qsize 0\n",
      "INFO - 14:47:39: EPOCH 5 - PROGRESS: at 91.61% examples, 61330 words/s, in_qsize 8, out_qsize 0\n",
      "INFO - 14:47:40: EPOCH 5 - PROGRESS: at 92.00% examples, 61345 words/s, in_qsize 7, out_qsize 0\n",
      "INFO - 14:47:41: EPOCH 5 - PROGRESS: at 92.55% examples, 61400 words/s, in_qsize 7, out_qsize 0\n",
      "INFO - 14:47:42: EPOCH 5 - PROGRESS: at 93.00% examples, 61378 words/s, in_qsize 7, out_qsize 0\n",
      "INFO - 14:47:43: EPOCH 5 - PROGRESS: at 93.43% examples, 61387 words/s, in_qsize 7, out_qsize 0\n",
      "INFO - 14:47:44: EPOCH 5 - PROGRESS: at 93.92% examples, 61455 words/s, in_qsize 7, out_qsize 0\n",
      "INFO - 14:47:45: EPOCH 5 - PROGRESS: at 94.32% examples, 61466 words/s, in_qsize 7, out_qsize 0\n",
      "INFO - 14:47:47: EPOCH 5 - PROGRESS: at 94.68% examples, 61508 words/s, in_qsize 7, out_qsize 0\n",
      "INFO - 14:47:48: EPOCH 5 - PROGRESS: at 95.09% examples, 61542 words/s, in_qsize 7, out_qsize 0\n",
      "INFO - 14:47:49: EPOCH 5 - PROGRESS: at 95.49% examples, 61546 words/s, in_qsize 7, out_qsize 0\n",
      "INFO - 14:47:50: EPOCH 5 - PROGRESS: at 95.65% examples, 61566 words/s, in_qsize 7, out_qsize 0\n",
      "INFO - 14:47:51: EPOCH 5 - PROGRESS: at 96.04% examples, 61611 words/s, in_qsize 7, out_qsize 0\n",
      "INFO - 14:47:52: EPOCH 5 - PROGRESS: at 96.48% examples, 61631 words/s, in_qsize 7, out_qsize 0\n",
      "INFO - 14:47:53: EPOCH 5 - PROGRESS: at 96.90% examples, 61659 words/s, in_qsize 7, out_qsize 0\n",
      "INFO - 14:47:54: EPOCH 5 - PROGRESS: at 97.20% examples, 61705 words/s, in_qsize 7, out_qsize 0\n",
      "INFO - 14:47:55: EPOCH 5 - PROGRESS: at 97.59% examples, 61725 words/s, in_qsize 7, out_qsize 0\n",
      "INFO - 14:47:56: EPOCH 5 - PROGRESS: at 98.02% examples, 61731 words/s, in_qsize 7, out_qsize 0\n",
      "INFO - 14:47:57: EPOCH 5 - PROGRESS: at 98.45% examples, 61755 words/s, in_qsize 7, out_qsize 0\n",
      "INFO - 14:47:58: EPOCH 5 - PROGRESS: at 98.75% examples, 61733 words/s, in_qsize 7, out_qsize 0\n",
      "INFO - 14:47:59: EPOCH 5 - PROGRESS: at 99.08% examples, 61755 words/s, in_qsize 7, out_qsize 0\n",
      "INFO - 14:48:00: EPOCH 5 - PROGRESS: at 99.40% examples, 61752 words/s, in_qsize 7, out_qsize 0\n",
      "INFO - 14:48:01: EPOCH 5 - PROGRESS: at 99.81% examples, 61756 words/s, in_qsize 5, out_qsize 0\n",
      "INFO - 14:48:02: worker thread finished; awaiting finish of 3 more threads\n",
      "INFO - 14:48:02: worker thread finished; awaiting finish of 2 more threads\n",
      "INFO - 14:48:02: worker thread finished; awaiting finish of 1 more threads\n",
      "INFO - 14:48:02: worker thread finished; awaiting finish of 0 more threads\n",
      "INFO - 14:48:02: EPOCH - 5 : training on 31973755 raw words (17366531 effective words) took 281.1s, 61771 effective words/s\n",
      "INFO - 14:48:03: EPOCH 6 - PROGRESS: at 0.17% examples, 47377 words/s, in_qsize 7, out_qsize 0\n",
      "INFO - 14:48:04: EPOCH 6 - PROGRESS: at 0.54% examples, 57086 words/s, in_qsize 7, out_qsize 0\n",
      "INFO - 14:48:05: EPOCH 6 - PROGRESS: at 0.91% examples, 59574 words/s, in_qsize 7, out_qsize 0\n",
      "INFO - 14:48:06: EPOCH 6 - PROGRESS: at 1.42% examples, 60407 words/s, in_qsize 8, out_qsize 0\n",
      "INFO - 14:48:07: EPOCH 6 - PROGRESS: at 1.94% examples, 61309 words/s, in_qsize 7, out_qsize 0\n",
      "INFO - 14:48:08: EPOCH 6 - PROGRESS: at 2.27% examples, 61205 words/s, in_qsize 7, out_qsize 0\n",
      "INFO - 14:48:09: EPOCH 6 - PROGRESS: at 2.51% examples, 59939 words/s, in_qsize 7, out_qsize 0\n",
      "INFO - 14:48:10: EPOCH 6 - PROGRESS: at 2.98% examples, 61251 words/s, in_qsize 7, out_qsize 0\n",
      "INFO - 14:48:11: EPOCH 6 - PROGRESS: at 3.41% examples, 61840 words/s, in_qsize 7, out_qsize 0\n",
      "INFO - 14:48:12: EPOCH 6 - PROGRESS: at 3.90% examples, 61888 words/s, in_qsize 8, out_qsize 0\n",
      "INFO - 14:48:13: EPOCH 6 - PROGRESS: at 4.29% examples, 61944 words/s, in_qsize 7, out_qsize 0\n"
     ]
    },
    {
     "name": "stderr",
     "output_type": "stream",
     "text": [
      "INFO - 14:48:14: EPOCH 6 - PROGRESS: at 4.65% examples, 61731 words/s, in_qsize 7, out_qsize 0\n",
      "INFO - 14:48:15: EPOCH 6 - PROGRESS: at 4.98% examples, 60138 words/s, in_qsize 7, out_qsize 0\n",
      "INFO - 14:48:16: EPOCH 6 - PROGRESS: at 5.22% examples, 59079 words/s, in_qsize 8, out_qsize 0\n",
      "INFO - 14:48:18: EPOCH 6 - PROGRESS: at 5.50% examples, 58696 words/s, in_qsize 7, out_qsize 0\n",
      "INFO - 14:48:19: EPOCH 6 - PROGRESS: at 5.82% examples, 58590 words/s, in_qsize 7, out_qsize 0\n",
      "INFO - 14:48:20: EPOCH 6 - PROGRESS: at 6.11% examples, 58044 words/s, in_qsize 7, out_qsize 0\n",
      "INFO - 14:48:21: EPOCH 6 - PROGRESS: at 6.44% examples, 59310 words/s, in_qsize 7, out_qsize 0\n",
      "INFO - 14:48:22: EPOCH 6 - PROGRESS: at 6.80% examples, 58276 words/s, in_qsize 7, out_qsize 0\n",
      "INFO - 14:48:23: EPOCH 6 - PROGRESS: at 7.17% examples, 58251 words/s, in_qsize 7, out_qsize 0\n",
      "INFO - 14:48:24: EPOCH 6 - PROGRESS: at 7.48% examples, 58196 words/s, in_qsize 7, out_qsize 0\n",
      "INFO - 14:48:25: EPOCH 6 - PROGRESS: at 7.92% examples, 58428 words/s, in_qsize 7, out_qsize 0\n",
      "INFO - 14:48:26: EPOCH 6 - PROGRESS: at 8.28% examples, 57929 words/s, in_qsize 7, out_qsize 0\n",
      "INFO - 14:48:27: EPOCH 6 - PROGRESS: at 8.69% examples, 57897 words/s, in_qsize 7, out_qsize 0\n",
      "INFO - 14:48:28: EPOCH 6 - PROGRESS: at 8.99% examples, 57066 words/s, in_qsize 7, out_qsize 0\n",
      "INFO - 14:48:29: EPOCH 6 - PROGRESS: at 9.13% examples, 56947 words/s, in_qsize 8, out_qsize 0\n",
      "INFO - 14:48:30: EPOCH 6 - PROGRESS: at 9.42% examples, 56532 words/s, in_qsize 7, out_qsize 0\n",
      "INFO - 14:48:32: EPOCH 6 - PROGRESS: at 9.73% examples, 56083 words/s, in_qsize 7, out_qsize 0\n",
      "INFO - 14:48:33: EPOCH 6 - PROGRESS: at 10.04% examples, 55160 words/s, in_qsize 7, out_qsize 0\n",
      "INFO - 14:48:34: EPOCH 6 - PROGRESS: at 10.35% examples, 54569 words/s, in_qsize 7, out_qsize 0\n",
      "INFO - 14:48:35: EPOCH 6 - PROGRESS: at 10.69% examples, 54332 words/s, in_qsize 7, out_qsize 0\n",
      "INFO - 14:48:36: EPOCH 6 - PROGRESS: at 11.00% examples, 53985 words/s, in_qsize 7, out_qsize 0\n",
      "INFO - 14:48:37: EPOCH 6 - PROGRESS: at 11.26% examples, 54277 words/s, in_qsize 7, out_qsize 0\n",
      "INFO - 14:48:38: EPOCH 6 - PROGRESS: at 11.58% examples, 54418 words/s, in_qsize 7, out_qsize 0\n",
      "INFO - 14:48:39: EPOCH 6 - PROGRESS: at 11.77% examples, 54464 words/s, in_qsize 7, out_qsize 0\n",
      "INFO - 14:48:40: EPOCH 6 - PROGRESS: at 12.18% examples, 54565 words/s, in_qsize 7, out_qsize 0\n",
      "INFO - 14:48:41: EPOCH 6 - PROGRESS: at 12.61% examples, 54659 words/s, in_qsize 7, out_qsize 0\n",
      "INFO - 14:48:42: EPOCH 6 - PROGRESS: at 13.00% examples, 54787 words/s, in_qsize 7, out_qsize 0\n",
      "INFO - 14:48:43: EPOCH 6 - PROGRESS: at 13.43% examples, 54706 words/s, in_qsize 7, out_qsize 0\n",
      "INFO - 14:48:45: EPOCH 6 - PROGRESS: at 13.81% examples, 54623 words/s, in_qsize 7, out_qsize 0\n",
      "INFO - 14:48:46: EPOCH 6 - PROGRESS: at 14.13% examples, 54646 words/s, in_qsize 7, out_qsize 0\n",
      "INFO - 14:48:47: EPOCH 6 - PROGRESS: at 14.53% examples, 54640 words/s, in_qsize 7, out_qsize 0\n",
      "INFO - 14:48:48: EPOCH 6 - PROGRESS: at 14.65% examples, 54485 words/s, in_qsize 7, out_qsize 0\n",
      "INFO - 14:48:49: EPOCH 6 - PROGRESS: at 14.90% examples, 54487 words/s, in_qsize 7, out_qsize 0\n",
      "INFO - 14:48:50: EPOCH 6 - PROGRESS: at 15.19% examples, 54297 words/s, in_qsize 7, out_qsize 0\n",
      "INFO - 14:48:51: EPOCH 6 - PROGRESS: at 15.50% examples, 54437 words/s, in_qsize 7, out_qsize 0\n",
      "INFO - 14:48:52: EPOCH 6 - PROGRESS: at 15.92% examples, 54943 words/s, in_qsize 7, out_qsize 0\n",
      "INFO - 14:48:53: EPOCH 6 - PROGRESS: at 16.28% examples, 55049 words/s, in_qsize 7, out_qsize 0\n",
      "INFO - 14:48:54: EPOCH 6 - PROGRESS: at 16.73% examples, 55116 words/s, in_qsize 7, out_qsize 0\n",
      "INFO - 14:48:56: EPOCH 6 - PROGRESS: at 17.13% examples, 55071 words/s, in_qsize 7, out_qsize 0\n",
      "INFO - 14:48:57: EPOCH 6 - PROGRESS: at 17.51% examples, 55120 words/s, in_qsize 8, out_qsize 0\n",
      "INFO - 14:48:58: EPOCH 6 - PROGRESS: at 17.74% examples, 54944 words/s, in_qsize 8, out_qsize 0\n",
      "INFO - 14:48:59: EPOCH 6 - PROGRESS: at 18.10% examples, 54791 words/s, in_qsize 7, out_qsize 0\n",
      "INFO - 14:49:00: EPOCH 6 - PROGRESS: at 18.44% examples, 54580 words/s, in_qsize 7, out_qsize 0\n",
      "INFO - 14:49:01: EPOCH 6 - PROGRESS: at 18.79% examples, 54591 words/s, in_qsize 7, out_qsize 0\n",
      "INFO - 14:49:02: EPOCH 6 - PROGRESS: at 19.15% examples, 54446 words/s, in_qsize 7, out_qsize 0\n",
      "INFO - 14:49:03: EPOCH 6 - PROGRESS: at 19.55% examples, 54427 words/s, in_qsize 7, out_qsize 0\n",
      "INFO - 14:49:04: EPOCH 6 - PROGRESS: at 19.63% examples, 54038 words/s, in_qsize 7, out_qsize 0\n",
      "INFO - 14:49:05: EPOCH 6 - PROGRESS: at 20.04% examples, 54314 words/s, in_qsize 7, out_qsize 0\n",
      "INFO - 14:49:06: EPOCH 6 - PROGRESS: at 20.46% examples, 54411 words/s, in_qsize 7, out_qsize 0\n",
      "INFO - 14:49:07: EPOCH 6 - PROGRESS: at 20.93% examples, 54648 words/s, in_qsize 7, out_qsize 0\n",
      "INFO - 14:49:09: EPOCH 6 - PROGRESS: at 21.31% examples, 54739 words/s, in_qsize 7, out_qsize 0\n",
      "INFO - 14:49:10: EPOCH 6 - PROGRESS: at 21.67% examples, 54863 words/s, in_qsize 7, out_qsize 0\n",
      "INFO - 14:49:11: EPOCH 6 - PROGRESS: at 22.02% examples, 54906 words/s, in_qsize 8, out_qsize 0\n",
      "INFO - 14:49:12: EPOCH 6 - PROGRESS: at 22.25% examples, 54899 words/s, in_qsize 7, out_qsize 0\n",
      "INFO - 14:49:13: EPOCH 6 - PROGRESS: at 22.61% examples, 55011 words/s, in_qsize 7, out_qsize 0\n",
      "INFO - 14:49:14: EPOCH 6 - PROGRESS: at 23.01% examples, 55167 words/s, in_qsize 7, out_qsize 0\n",
      "INFO - 14:49:15: EPOCH 6 - PROGRESS: at 23.43% examples, 55358 words/s, in_qsize 7, out_qsize 0\n",
      "INFO - 14:49:16: EPOCH 6 - PROGRESS: at 23.92% examples, 55526 words/s, in_qsize 8, out_qsize 0\n",
      "INFO - 14:49:17: EPOCH 6 - PROGRESS: at 24.29% examples, 55651 words/s, in_qsize 7, out_qsize 0\n",
      "INFO - 14:49:18: EPOCH 6 - PROGRESS: at 24.63% examples, 55559 words/s, in_qsize 7, out_qsize 0\n",
      "INFO - 14:49:19: EPOCH 6 - PROGRESS: at 25.00% examples, 55549 words/s, in_qsize 7, out_qsize 0\n",
      "INFO - 14:49:20: EPOCH 6 - PROGRESS: at 25.38% examples, 55582 words/s, in_qsize 7, out_qsize 0\n",
      "INFO - 14:49:21: EPOCH 6 - PROGRESS: at 25.87% examples, 55750 words/s, in_qsize 7, out_qsize 0\n",
      "INFO - 14:49:22: EPOCH 6 - PROGRESS: at 26.25% examples, 55858 words/s, in_qsize 7, out_qsize 0\n",
      "INFO - 14:49:23: EPOCH 6 - PROGRESS: at 26.78% examples, 56007 words/s, in_qsize 7, out_qsize 0\n",
      "INFO - 14:49:24: EPOCH 6 - PROGRESS: at 27.17% examples, 56085 words/s, in_qsize 7, out_qsize 0\n",
      "INFO - 14:49:25: EPOCH 6 - PROGRESS: at 27.51% examples, 56193 words/s, in_qsize 7, out_qsize 0\n",
      "INFO - 14:49:26: EPOCH 6 - PROGRESS: at 27.91% examples, 56334 words/s, in_qsize 7, out_qsize 0\n",
      "INFO - 14:49:27: EPOCH 6 - PROGRESS: at 28.38% examples, 56495 words/s, in_qsize 7, out_qsize 0\n",
      "INFO - 14:49:29: EPOCH 6 - PROGRESS: at 28.67% examples, 56507 words/s, in_qsize 8, out_qsize 0\n",
      "INFO - 14:49:30: EPOCH 6 - PROGRESS: at 29.11% examples, 56716 words/s, in_qsize 7, out_qsize 0\n",
      "INFO - 14:49:31: EPOCH 6 - PROGRESS: at 29.44% examples, 56806 words/s, in_qsize 7, out_qsize 0\n",
      "INFO - 14:49:32: EPOCH 6 - PROGRESS: at 29.95% examples, 56909 words/s, in_qsize 7, out_qsize 0\n",
      "INFO - 14:49:33: EPOCH 6 - PROGRESS: at 30.44% examples, 57050 words/s, in_qsize 7, out_qsize 0\n",
      "INFO - 14:49:34: EPOCH 6 - PROGRESS: at 30.83% examples, 57161 words/s, in_qsize 7, out_qsize 0\n",
      "INFO - 14:49:35: EPOCH 6 - PROGRESS: at 31.26% examples, 57279 words/s, in_qsize 7, out_qsize 0\n",
      "INFO - 14:49:36: EPOCH 6 - PROGRESS: at 31.72% examples, 57402 words/s, in_qsize 7, out_qsize 0\n",
      "INFO - 14:49:37: EPOCH 6 - PROGRESS: at 32.06% examples, 57576 words/s, in_qsize 7, out_qsize 0\n",
      "INFO - 14:49:38: EPOCH 6 - PROGRESS: at 32.27% examples, 57718 words/s, in_qsize 7, out_qsize 0\n",
      "INFO - 14:49:39: EPOCH 6 - PROGRESS: at 32.72% examples, 57796 words/s, in_qsize 7, out_qsize 0\n",
      "INFO - 14:49:40: EPOCH 6 - PROGRESS: at 33.06% examples, 57944 words/s, in_qsize 7, out_qsize 0\n",
      "INFO - 14:49:41: EPOCH 6 - PROGRESS: at 33.53% examples, 58052 words/s, in_qsize 7, out_qsize 0\n",
      "INFO - 14:49:42: EPOCH 6 - PROGRESS: at 33.81% examples, 58129 words/s, in_qsize 7, out_qsize 0\n",
      "INFO - 14:49:43: EPOCH 6 - PROGRESS: at 34.21% examples, 58227 words/s, in_qsize 7, out_qsize 0\n",
      "INFO - 14:49:44: EPOCH 6 - PROGRESS: at 34.45% examples, 58388 words/s, in_qsize 7, out_qsize 0\n",
      "INFO - 14:49:45: EPOCH 6 - PROGRESS: at 34.72% examples, 58429 words/s, in_qsize 8, out_qsize 0\n"
     ]
    },
    {
     "name": "stderr",
     "output_type": "stream",
     "text": [
      "INFO - 14:49:47: EPOCH 6 - PROGRESS: at 34.97% examples, 58502 words/s, in_qsize 7, out_qsize 0\n",
      "INFO - 14:49:48: EPOCH 6 - PROGRESS: at 35.33% examples, 58590 words/s, in_qsize 7, out_qsize 0\n",
      "INFO - 14:49:49: EPOCH 6 - PROGRESS: at 35.76% examples, 58660 words/s, in_qsize 7, out_qsize 0\n",
      "INFO - 14:49:50: EPOCH 6 - PROGRESS: at 36.13% examples, 58701 words/s, in_qsize 7, out_qsize 0\n",
      "INFO - 14:49:51: EPOCH 6 - PROGRESS: at 36.50% examples, 58714 words/s, in_qsize 8, out_qsize 0\n",
      "INFO - 14:49:52: EPOCH 6 - PROGRESS: at 36.93% examples, 58833 words/s, in_qsize 7, out_qsize 0\n",
      "INFO - 14:49:53: EPOCH 6 - PROGRESS: at 37.30% examples, 58920 words/s, in_qsize 7, out_qsize 0\n",
      "INFO - 14:49:54: EPOCH 6 - PROGRESS: at 37.61% examples, 58936 words/s, in_qsize 7, out_qsize 0\n",
      "INFO - 14:49:55: EPOCH 6 - PROGRESS: at 37.98% examples, 59009 words/s, in_qsize 7, out_qsize 0\n",
      "INFO - 14:49:56: EPOCH 6 - PROGRESS: at 38.44% examples, 59165 words/s, in_qsize 7, out_qsize 0\n",
      "INFO - 14:49:57: EPOCH 6 - PROGRESS: at 38.88% examples, 59165 words/s, in_qsize 8, out_qsize 0\n",
      "INFO - 14:49:58: EPOCH 6 - PROGRESS: at 39.33% examples, 59229 words/s, in_qsize 7, out_qsize 0\n",
      "INFO - 14:49:59: EPOCH 6 - PROGRESS: at 39.81% examples, 59327 words/s, in_qsize 7, out_qsize 0\n",
      "INFO - 14:50:00: EPOCH 6 - PROGRESS: at 40.23% examples, 59394 words/s, in_qsize 7, out_qsize 0\n",
      "INFO - 14:50:02: EPOCH 6 - PROGRESS: at 40.64% examples, 59417 words/s, in_qsize 8, out_qsize 0\n",
      "INFO - 14:50:03: EPOCH 6 - PROGRESS: at 41.21% examples, 59539 words/s, in_qsize 7, out_qsize 0\n",
      "INFO - 14:50:04: EPOCH 6 - PROGRESS: at 41.56% examples, 59550 words/s, in_qsize 7, out_qsize 0\n",
      "INFO - 14:50:05: EPOCH 6 - PROGRESS: at 41.86% examples, 59629 words/s, in_qsize 7, out_qsize 0\n",
      "INFO - 14:50:06: EPOCH 6 - PROGRESS: at 42.31% examples, 59718 words/s, in_qsize 7, out_qsize 0\n",
      "INFO - 14:50:07: EPOCH 6 - PROGRESS: at 42.76% examples, 59814 words/s, in_qsize 7, out_qsize 0\n",
      "INFO - 14:50:08: EPOCH 6 - PROGRESS: at 43.18% examples, 59849 words/s, in_qsize 7, out_qsize 0\n",
      "INFO - 14:50:09: EPOCH 6 - PROGRESS: at 43.60% examples, 59893 words/s, in_qsize 7, out_qsize 0\n",
      "INFO - 14:50:10: EPOCH 6 - PROGRESS: at 44.03% examples, 59937 words/s, in_qsize 7, out_qsize 0\n",
      "INFO - 14:50:11: EPOCH 6 - PROGRESS: at 44.45% examples, 60033 words/s, in_qsize 7, out_qsize 0\n",
      "INFO - 14:50:12: EPOCH 6 - PROGRESS: at 44.81% examples, 60125 words/s, in_qsize 7, out_qsize 0\n",
      "INFO - 14:50:13: EPOCH 6 - PROGRESS: at 45.30% examples, 60147 words/s, in_qsize 7, out_qsize 0\n",
      "INFO - 14:50:14: EPOCH 6 - PROGRESS: at 45.64% examples, 60255 words/s, in_qsize 7, out_qsize 0\n",
      "INFO - 14:50:15: EPOCH 6 - PROGRESS: at 46.06% examples, 60321 words/s, in_qsize 7, out_qsize 0\n",
      "INFO - 14:50:16: EPOCH 6 - PROGRESS: at 46.50% examples, 60420 words/s, in_qsize 7, out_qsize 0\n",
      "INFO - 14:50:17: EPOCH 6 - PROGRESS: at 46.82% examples, 60427 words/s, in_qsize 7, out_qsize 0\n",
      "INFO - 14:50:18: EPOCH 6 - PROGRESS: at 47.05% examples, 60379 words/s, in_qsize 7, out_qsize 0\n",
      "INFO - 14:50:19: EPOCH 6 - PROGRESS: at 47.44% examples, 60357 words/s, in_qsize 7, out_qsize 0\n",
      "INFO - 14:50:20: EPOCH 6 - PROGRESS: at 47.84% examples, 60363 words/s, in_qsize 7, out_qsize 0\n",
      "INFO - 14:50:22: EPOCH 6 - PROGRESS: at 48.12% examples, 60357 words/s, in_qsize 7, out_qsize 0\n",
      "INFO - 14:50:23: EPOCH 6 - PROGRESS: at 48.61% examples, 60479 words/s, in_qsize 7, out_qsize 0\n",
      "INFO - 14:50:24: EPOCH 6 - PROGRESS: at 48.96% examples, 60455 words/s, in_qsize 8, out_qsize 0\n",
      "INFO - 14:50:25: EPOCH 6 - PROGRESS: at 49.33% examples, 60490 words/s, in_qsize 7, out_qsize 0\n",
      "INFO - 14:50:26: EPOCH 6 - PROGRESS: at 49.69% examples, 60490 words/s, in_qsize 7, out_qsize 0\n",
      "INFO - 14:50:27: EPOCH 6 - PROGRESS: at 50.10% examples, 60540 words/s, in_qsize 7, out_qsize 0\n",
      "INFO - 14:50:28: EPOCH 6 - PROGRESS: at 50.44% examples, 60541 words/s, in_qsize 8, out_qsize 0\n",
      "INFO - 14:50:29: EPOCH 6 - PROGRESS: at 50.85% examples, 60476 words/s, in_qsize 7, out_qsize 0\n",
      "INFO - 14:50:30: EPOCH 6 - PROGRESS: at 51.16% examples, 60485 words/s, in_qsize 7, out_qsize 0\n",
      "INFO - 14:50:31: EPOCH 6 - PROGRESS: at 51.63% examples, 60569 words/s, in_qsize 7, out_qsize 0\n",
      "INFO - 14:50:32: EPOCH 6 - PROGRESS: at 52.08% examples, 60620 words/s, in_qsize 7, out_qsize 0\n",
      "INFO - 14:50:33: EPOCH 6 - PROGRESS: at 52.51% examples, 60614 words/s, in_qsize 7, out_qsize 0\n",
      "INFO - 14:50:34: EPOCH 6 - PROGRESS: at 52.90% examples, 60654 words/s, in_qsize 7, out_qsize 0\n",
      "INFO - 14:50:35: EPOCH 6 - PROGRESS: at 53.32% examples, 60706 words/s, in_qsize 7, out_qsize 0\n",
      "INFO - 14:50:36: EPOCH 6 - PROGRESS: at 53.72% examples, 60780 words/s, in_qsize 7, out_qsize 0\n",
      "INFO - 14:50:37: EPOCH 6 - PROGRESS: at 54.10% examples, 60810 words/s, in_qsize 7, out_qsize 0\n",
      "INFO - 14:50:38: EPOCH 6 - PROGRESS: at 54.56% examples, 60817 words/s, in_qsize 7, out_qsize 0\n",
      "INFO - 14:50:39: EPOCH 6 - PROGRESS: at 55.04% examples, 60911 words/s, in_qsize 8, out_qsize 0\n",
      "INFO - 14:50:40: EPOCH 6 - PROGRESS: at 55.46% examples, 60948 words/s, in_qsize 7, out_qsize 0\n",
      "INFO - 14:50:42: EPOCH 6 - PROGRESS: at 55.90% examples, 61022 words/s, in_qsize 7, out_qsize 0\n",
      "INFO - 14:50:43: EPOCH 6 - PROGRESS: at 56.33% examples, 61033 words/s, in_qsize 7, out_qsize 0\n",
      "INFO - 14:50:44: EPOCH 6 - PROGRESS: at 56.76% examples, 61095 words/s, in_qsize 7, out_qsize 0\n",
      "INFO - 14:50:45: EPOCH 6 - PROGRESS: at 57.19% examples, 61123 words/s, in_qsize 7, out_qsize 0\n",
      "INFO - 14:50:46: EPOCH 6 - PROGRESS: at 57.55% examples, 61158 words/s, in_qsize 7, out_qsize 0\n",
      "INFO - 14:50:47: EPOCH 6 - PROGRESS: at 58.07% examples, 61243 words/s, in_qsize 7, out_qsize 0\n",
      "INFO - 14:50:48: EPOCH 6 - PROGRESS: at 58.52% examples, 61266 words/s, in_qsize 7, out_qsize 0\n",
      "INFO - 14:50:49: EPOCH 6 - PROGRESS: at 58.90% examples, 61307 words/s, in_qsize 7, out_qsize 0\n",
      "INFO - 14:50:50: EPOCH 6 - PROGRESS: at 59.32% examples, 61348 words/s, in_qsize 7, out_qsize 0\n",
      "INFO - 14:50:51: EPOCH 6 - PROGRESS: at 59.82% examples, 61393 words/s, in_qsize 7, out_qsize 0\n",
      "INFO - 14:50:52: EPOCH 6 - PROGRESS: at 60.31% examples, 61453 words/s, in_qsize 7, out_qsize 0\n",
      "INFO - 14:50:53: EPOCH 6 - PROGRESS: at 60.80% examples, 61469 words/s, in_qsize 7, out_qsize 0\n",
      "INFO - 14:50:54: EPOCH 6 - PROGRESS: at 61.24% examples, 61507 words/s, in_qsize 8, out_qsize 0\n",
      "INFO - 14:50:55: EPOCH 6 - PROGRESS: at 61.66% examples, 61562 words/s, in_qsize 7, out_qsize 0\n",
      "INFO - 14:50:57: EPOCH 6 - PROGRESS: at 62.17% examples, 61536 words/s, in_qsize 7, out_qsize 0\n",
      "INFO - 14:50:58: EPOCH 6 - PROGRESS: at 62.52% examples, 61559 words/s, in_qsize 7, out_qsize 0\n",
      "INFO - 14:50:59: EPOCH 6 - PROGRESS: at 62.96% examples, 61584 words/s, in_qsize 7, out_qsize 0\n",
      "INFO - 14:51:00: EPOCH 6 - PROGRESS: at 63.38% examples, 61666 words/s, in_qsize 7, out_qsize 0\n",
      "INFO - 14:51:01: EPOCH 6 - PROGRESS: at 63.85% examples, 61613 words/s, in_qsize 7, out_qsize 0\n",
      "INFO - 14:51:02: EPOCH 6 - PROGRESS: at 64.21% examples, 61550 words/s, in_qsize 7, out_qsize 0\n",
      "INFO - 14:51:03: EPOCH 6 - PROGRESS: at 64.57% examples, 61539 words/s, in_qsize 7, out_qsize 0\n",
      "INFO - 14:51:04: EPOCH 6 - PROGRESS: at 64.91% examples, 61492 words/s, in_qsize 7, out_qsize 0\n",
      "INFO - 14:51:05: EPOCH 6 - PROGRESS: at 65.28% examples, 61506 words/s, in_qsize 7, out_qsize 0\n",
      "INFO - 14:51:06: EPOCH 6 - PROGRESS: at 65.82% examples, 61565 words/s, in_qsize 8, out_qsize 0\n",
      "INFO - 14:51:07: EPOCH 6 - PROGRESS: at 66.31% examples, 61622 words/s, in_qsize 7, out_qsize 0\n",
      "INFO - 14:51:08: EPOCH 6 - PROGRESS: at 66.62% examples, 61643 words/s, in_qsize 7, out_qsize 0\n",
      "INFO - 14:51:09: EPOCH 6 - PROGRESS: at 66.95% examples, 61693 words/s, in_qsize 7, out_qsize 0\n",
      "INFO - 14:51:10: EPOCH 6 - PROGRESS: at 67.34% examples, 61715 words/s, in_qsize 7, out_qsize 0\n",
      "INFO - 14:51:12: EPOCH 6 - PROGRESS: at 67.73% examples, 61772 words/s, in_qsize 7, out_qsize 0\n",
      "INFO - 14:51:13: EPOCH 6 - PROGRESS: at 68.07% examples, 61795 words/s, in_qsize 7, out_qsize 0\n",
      "INFO - 14:51:14: EPOCH 6 - PROGRESS: at 68.45% examples, 61786 words/s, in_qsize 7, out_qsize 0\n",
      "INFO - 14:51:15: EPOCH 6 - PROGRESS: at 68.76% examples, 61809 words/s, in_qsize 7, out_qsize 0\n",
      "INFO - 14:51:16: EPOCH 6 - PROGRESS: at 69.12% examples, 61849 words/s, in_qsize 7, out_qsize 0\n",
      "INFO - 14:51:17: EPOCH 6 - PROGRESS: at 69.50% examples, 61925 words/s, in_qsize 7, out_qsize 0\n"
     ]
    },
    {
     "name": "stderr",
     "output_type": "stream",
     "text": [
      "INFO - 14:51:18: EPOCH 6 - PROGRESS: at 69.92% examples, 61895 words/s, in_qsize 8, out_qsize 0\n",
      "INFO - 14:51:19: EPOCH 6 - PROGRESS: at 70.33% examples, 61892 words/s, in_qsize 7, out_qsize 0\n",
      "INFO - 14:51:20: EPOCH 6 - PROGRESS: at 70.82% examples, 61914 words/s, in_qsize 7, out_qsize 0\n",
      "INFO - 14:51:21: EPOCH 6 - PROGRESS: at 71.14% examples, 61977 words/s, in_qsize 7, out_qsize 0\n",
      "INFO - 14:51:22: EPOCH 6 - PROGRESS: at 71.51% examples, 61971 words/s, in_qsize 7, out_qsize 0\n",
      "INFO - 14:51:23: EPOCH 6 - PROGRESS: at 71.89% examples, 62005 words/s, in_qsize 7, out_qsize 0\n",
      "INFO - 14:51:24: EPOCH 6 - PROGRESS: at 72.27% examples, 62009 words/s, in_qsize 7, out_qsize 0\n",
      "INFO - 14:51:25: EPOCH 6 - PROGRESS: at 72.69% examples, 62045 words/s, in_qsize 7, out_qsize 0\n",
      "INFO - 14:51:26: EPOCH 6 - PROGRESS: at 73.07% examples, 62012 words/s, in_qsize 7, out_qsize 0\n",
      "INFO - 14:51:28: EPOCH 6 - PROGRESS: at 73.30% examples, 61985 words/s, in_qsize 7, out_qsize 0\n",
      "INFO - 14:51:29: EPOCH 6 - PROGRESS: at 73.59% examples, 62005 words/s, in_qsize 7, out_qsize 0\n",
      "INFO - 14:51:30: EPOCH 6 - PROGRESS: at 74.00% examples, 61987 words/s, in_qsize 7, out_qsize 0\n",
      "INFO - 14:51:31: EPOCH 6 - PROGRESS: at 74.61% examples, 62032 words/s, in_qsize 7, out_qsize 0\n",
      "INFO - 14:51:32: EPOCH 6 - PROGRESS: at 75.01% examples, 62007 words/s, in_qsize 8, out_qsize 0\n",
      "INFO - 14:51:33: EPOCH 6 - PROGRESS: at 75.36% examples, 62013 words/s, in_qsize 7, out_qsize 0\n",
      "INFO - 14:51:34: EPOCH 6 - PROGRESS: at 75.77% examples, 62049 words/s, in_qsize 7, out_qsize 0\n",
      "INFO - 14:51:35: EPOCH 6 - PROGRESS: at 76.08% examples, 62058 words/s, in_qsize 7, out_qsize 0\n",
      "INFO - 14:51:36: EPOCH 6 - PROGRESS: at 76.50% examples, 62085 words/s, in_qsize 7, out_qsize 0\n",
      "INFO - 14:51:37: EPOCH 6 - PROGRESS: at 76.88% examples, 62107 words/s, in_qsize 7, out_qsize 0\n",
      "INFO - 14:51:38: EPOCH 6 - PROGRESS: at 77.24% examples, 62074 words/s, in_qsize 8, out_qsize 0\n",
      "INFO - 14:51:39: EPOCH 6 - PROGRESS: at 77.69% examples, 62045 words/s, in_qsize 7, out_qsize 0\n",
      "INFO - 14:51:40: EPOCH 6 - PROGRESS: at 78.12% examples, 62048 words/s, in_qsize 7, out_qsize 0\n",
      "INFO - 14:51:41: EPOCH 6 - PROGRESS: at 78.69% examples, 62068 words/s, in_qsize 7, out_qsize 0\n",
      "INFO - 14:51:42: EPOCH 6 - PROGRESS: at 79.17% examples, 62150 words/s, in_qsize 7, out_qsize 0\n",
      "INFO - 14:51:43: EPOCH 6 - PROGRESS: at 79.57% examples, 62136 words/s, in_qsize 7, out_qsize 0\n",
      "INFO - 14:51:44: EPOCH 6 - PROGRESS: at 79.98% examples, 62155 words/s, in_qsize 7, out_qsize 0\n",
      "INFO - 14:51:45: EPOCH 6 - PROGRESS: at 80.46% examples, 62180 words/s, in_qsize 7, out_qsize 0\n",
      "INFO - 14:51:46: EPOCH 6 - PROGRESS: at 80.61% examples, 62175 words/s, in_qsize 7, out_qsize 0\n",
      "INFO - 14:51:48: EPOCH 6 - PROGRESS: at 80.99% examples, 62181 words/s, in_qsize 7, out_qsize 0\n",
      "INFO - 14:51:49: EPOCH 6 - PROGRESS: at 81.46% examples, 62231 words/s, in_qsize 7, out_qsize 0\n",
      "INFO - 14:51:50: EPOCH 6 - PROGRESS: at 81.87% examples, 62265 words/s, in_qsize 7, out_qsize 0\n",
      "INFO - 14:51:51: EPOCH 6 - PROGRESS: at 82.36% examples, 62302 words/s, in_qsize 7, out_qsize 0\n",
      "INFO - 14:51:52: EPOCH 6 - PROGRESS: at 82.91% examples, 62370 words/s, in_qsize 7, out_qsize 0\n",
      "INFO - 14:51:53: EPOCH 6 - PROGRESS: at 83.32% examples, 62363 words/s, in_qsize 7, out_qsize 0\n",
      "INFO - 14:51:54: EPOCH 6 - PROGRESS: at 83.69% examples, 62379 words/s, in_qsize 7, out_qsize 0\n",
      "INFO - 14:51:55: EPOCH 6 - PROGRESS: at 84.24% examples, 62393 words/s, in_qsize 8, out_qsize 0\n",
      "INFO - 14:51:56: EPOCH 6 - PROGRESS: at 84.74% examples, 62438 words/s, in_qsize 7, out_qsize 0\n",
      "INFO - 14:51:57: EPOCH 6 - PROGRESS: at 85.21% examples, 62470 words/s, in_qsize 7, out_qsize 0\n",
      "INFO - 14:51:59: EPOCH 6 - PROGRESS: at 85.48% examples, 62460 words/s, in_qsize 7, out_qsize 0\n",
      "INFO - 14:52:00: EPOCH 6 - PROGRESS: at 86.01% examples, 62488 words/s, in_qsize 7, out_qsize 0\n",
      "INFO - 14:52:01: EPOCH 6 - PROGRESS: at 86.43% examples, 62512 words/s, in_qsize 7, out_qsize 0\n",
      "INFO - 14:52:02: EPOCH 6 - PROGRESS: at 86.55% examples, 62533 words/s, in_qsize 7, out_qsize 0\n",
      "INFO - 14:52:03: EPOCH 6 - PROGRESS: at 86.80% examples, 62574 words/s, in_qsize 8, out_qsize 0\n",
      "INFO - 14:52:04: EPOCH 6 - PROGRESS: at 87.25% examples, 62569 words/s, in_qsize 7, out_qsize 0\n",
      "INFO - 14:52:05: EPOCH 6 - PROGRESS: at 87.72% examples, 62600 words/s, in_qsize 7, out_qsize 0\n",
      "INFO - 14:52:06: EPOCH 6 - PROGRESS: at 88.21% examples, 62631 words/s, in_qsize 7, out_qsize 0\n",
      "INFO - 14:52:07: EPOCH 6 - PROGRESS: at 88.75% examples, 62660 words/s, in_qsize 7, out_qsize 0\n",
      "INFO - 14:52:08: EPOCH 6 - PROGRESS: at 89.13% examples, 62685 words/s, in_qsize 8, out_qsize 0\n",
      "INFO - 14:52:09: EPOCH 6 - PROGRESS: at 89.52% examples, 62698 words/s, in_qsize 7, out_qsize 0\n",
      "INFO - 14:52:10: EPOCH 6 - PROGRESS: at 89.99% examples, 62726 words/s, in_qsize 7, out_qsize 0\n",
      "INFO - 14:52:11: EPOCH 6 - PROGRESS: at 90.44% examples, 62738 words/s, in_qsize 7, out_qsize 0\n",
      "INFO - 14:52:12: EPOCH 6 - PROGRESS: at 90.92% examples, 62757 words/s, in_qsize 7, out_qsize 0\n",
      "INFO - 14:52:13: EPOCH 6 - PROGRESS: at 91.36% examples, 62778 words/s, in_qsize 7, out_qsize 0\n",
      "INFO - 14:52:15: EPOCH 6 - PROGRESS: at 91.73% examples, 62783 words/s, in_qsize 7, out_qsize 0\n",
      "INFO - 14:52:16: EPOCH 6 - PROGRESS: at 92.30% examples, 62842 words/s, in_qsize 7, out_qsize 0\n",
      "INFO - 14:52:17: EPOCH 6 - PROGRESS: at 92.76% examples, 62871 words/s, in_qsize 8, out_qsize 0\n",
      "INFO - 14:52:18: EPOCH 6 - PROGRESS: at 93.06% examples, 62834 words/s, in_qsize 7, out_qsize 0\n",
      "INFO - 14:52:19: EPOCH 6 - PROGRESS: at 93.43% examples, 62735 words/s, in_qsize 7, out_qsize 0\n",
      "INFO - 14:52:20: EPOCH 6 - PROGRESS: at 93.86% examples, 62713 words/s, in_qsize 7, out_qsize 0\n",
      "INFO - 14:52:21: EPOCH 6 - PROGRESS: at 94.22% examples, 62711 words/s, in_qsize 8, out_qsize 0\n",
      "INFO - 14:52:22: EPOCH 6 - PROGRESS: at 94.36% examples, 62623 words/s, in_qsize 7, out_qsize 0\n",
      "INFO - 14:52:23: EPOCH 6 - PROGRESS: at 94.65% examples, 62566 words/s, in_qsize 7, out_qsize 0\n",
      "INFO - 14:52:24: EPOCH 6 - PROGRESS: at 94.97% examples, 62554 words/s, in_qsize 7, out_qsize 0\n",
      "INFO - 14:52:25: EPOCH 6 - PROGRESS: at 95.47% examples, 62598 words/s, in_qsize 7, out_qsize 0\n",
      "INFO - 14:52:27: EPOCH 6 - PROGRESS: at 95.61% examples, 62572 words/s, in_qsize 7, out_qsize 0\n",
      "INFO - 14:52:28: EPOCH 6 - PROGRESS: at 95.87% examples, 62566 words/s, in_qsize 7, out_qsize 0\n",
      "INFO - 14:52:29: EPOCH 6 - PROGRESS: at 96.24% examples, 62576 words/s, in_qsize 7, out_qsize 0\n",
      "INFO - 14:52:30: EPOCH 6 - PROGRESS: at 96.73% examples, 62615 words/s, in_qsize 7, out_qsize 0\n",
      "INFO - 14:52:31: EPOCH 6 - PROGRESS: at 97.05% examples, 62646 words/s, in_qsize 7, out_qsize 0\n",
      "INFO - 14:52:32: EPOCH 6 - PROGRESS: at 97.44% examples, 62683 words/s, in_qsize 7, out_qsize 0\n",
      "INFO - 14:52:33: EPOCH 6 - PROGRESS: at 97.88% examples, 62701 words/s, in_qsize 7, out_qsize 0\n",
      "INFO - 14:52:34: EPOCH 6 - PROGRESS: at 98.27% examples, 62697 words/s, in_qsize 7, out_qsize 0\n",
      "INFO - 14:52:35: EPOCH 6 - PROGRESS: at 98.69% examples, 62723 words/s, in_qsize 7, out_qsize 0\n",
      "INFO - 14:52:36: EPOCH 6 - PROGRESS: at 99.01% examples, 62738 words/s, in_qsize 7, out_qsize 0\n",
      "INFO - 14:52:37: EPOCH 6 - PROGRESS: at 99.38% examples, 62754 words/s, in_qsize 7, out_qsize 0\n",
      "INFO - 14:52:38: EPOCH 6 - PROGRESS: at 99.81% examples, 62770 words/s, in_qsize 5, out_qsize 0\n",
      "INFO - 14:52:38: worker thread finished; awaiting finish of 3 more threads\n",
      "INFO - 14:52:38: worker thread finished; awaiting finish of 2 more threads\n",
      "INFO - 14:52:38: worker thread finished; awaiting finish of 1 more threads\n",
      "INFO - 14:52:38: worker thread finished; awaiting finish of 0 more threads\n",
      "INFO - 14:52:38: EPOCH - 6 : training on 31973755 raw words (17369899 effective words) took 276.7s, 62778 effective words/s\n",
      "INFO - 14:52:39: EPOCH 7 - PROGRESS: at 0.20% examples, 52935 words/s, in_qsize 6, out_qsize 1\n",
      "INFO - 14:52:41: EPOCH 7 - PROGRESS: at 0.58% examples, 57372 words/s, in_qsize 7, out_qsize 0\n",
      "INFO - 14:52:42: EPOCH 7 - PROGRESS: at 0.91% examples, 57944 words/s, in_qsize 7, out_qsize 0\n",
      "INFO - 14:52:43: EPOCH 7 - PROGRESS: at 1.48% examples, 61264 words/s, in_qsize 7, out_qsize 0\n",
      "INFO - 14:52:44: EPOCH 7 - PROGRESS: at 1.95% examples, 60421 words/s, in_qsize 8, out_qsize 0\n"
     ]
    },
    {
     "name": "stderr",
     "output_type": "stream",
     "text": [
      "INFO - 14:52:45: EPOCH 7 - PROGRESS: at 2.30% examples, 61334 words/s, in_qsize 7, out_qsize 0\n",
      "INFO - 14:52:46: EPOCH 7 - PROGRESS: at 2.65% examples, 61646 words/s, in_qsize 7, out_qsize 0\n",
      "INFO - 14:52:47: EPOCH 7 - PROGRESS: at 3.13% examples, 62767 words/s, in_qsize 7, out_qsize 0\n",
      "INFO - 14:52:48: EPOCH 7 - PROGRESS: at 3.59% examples, 61814 words/s, in_qsize 7, out_qsize 0\n",
      "INFO - 14:52:49: EPOCH 7 - PROGRESS: at 4.04% examples, 61463 words/s, in_qsize 8, out_qsize 0\n",
      "INFO - 14:52:50: EPOCH 7 - PROGRESS: at 4.43% examples, 61945 words/s, in_qsize 7, out_qsize 0\n",
      "INFO - 14:52:51: EPOCH 7 - PROGRESS: at 4.94% examples, 63255 words/s, in_qsize 7, out_qsize 0\n",
      "INFO - 14:52:52: EPOCH 7 - PROGRESS: at 5.28% examples, 63260 words/s, in_qsize 8, out_qsize 0\n",
      "INFO - 14:52:53: EPOCH 7 - PROGRESS: at 5.56% examples, 62965 words/s, in_qsize 7, out_qsize 0\n",
      "INFO - 14:52:55: EPOCH 7 - PROGRESS: at 5.99% examples, 63790 words/s, in_qsize 7, out_qsize 0\n",
      "INFO - 14:52:56: EPOCH 7 - PROGRESS: at 6.35% examples, 64405 words/s, in_qsize 7, out_qsize 0\n",
      "INFO - 14:52:57: EPOCH 7 - PROGRESS: at 6.86% examples, 64658 words/s, in_qsize 7, out_qsize 0\n",
      "INFO - 14:52:58: EPOCH 7 - PROGRESS: at 7.35% examples, 64857 words/s, in_qsize 7, out_qsize 0\n",
      "INFO - 14:52:59: EPOCH 7 - PROGRESS: at 7.67% examples, 64822 words/s, in_qsize 7, out_qsize 0\n",
      "INFO - 14:53:00: EPOCH 7 - PROGRESS: at 8.13% examples, 64682 words/s, in_qsize 7, out_qsize 0\n",
      "INFO - 14:53:01: EPOCH 7 - PROGRESS: at 8.69% examples, 65046 words/s, in_qsize 7, out_qsize 0\n",
      "INFO - 14:53:02: EPOCH 7 - PROGRESS: at 9.07% examples, 64889 words/s, in_qsize 7, out_qsize 0\n",
      "INFO - 14:53:03: EPOCH 7 - PROGRESS: at 9.26% examples, 64861 words/s, in_qsize 7, out_qsize 0\n",
      "INFO - 14:53:04: EPOCH 7 - PROGRESS: at 9.73% examples, 64856 words/s, in_qsize 7, out_qsize 0\n",
      "INFO - 14:53:05: EPOCH 7 - PROGRESS: at 10.31% examples, 65212 words/s, in_qsize 8, out_qsize 0\n",
      "INFO - 14:53:06: EPOCH 7 - PROGRESS: at 10.79% examples, 65249 words/s, in_qsize 7, out_qsize 0\n",
      "INFO - 14:53:07: EPOCH 7 - PROGRESS: at 11.17% examples, 65335 words/s, in_qsize 7, out_qsize 0\n",
      "INFO - 14:53:08: EPOCH 7 - PROGRESS: at 11.54% examples, 65276 words/s, in_qsize 7, out_qsize 0\n",
      "INFO - 14:53:10: EPOCH 7 - PROGRESS: at 11.76% examples, 65299 words/s, in_qsize 7, out_qsize 0\n",
      "INFO - 14:53:11: EPOCH 7 - PROGRESS: at 12.18% examples, 65333 words/s, in_qsize 8, out_qsize 0\n",
      "INFO - 14:53:12: EPOCH 7 - PROGRESS: at 12.57% examples, 64860 words/s, in_qsize 7, out_qsize 0\n",
      "INFO - 14:53:13: EPOCH 7 - PROGRESS: at 13.02% examples, 64976 words/s, in_qsize 7, out_qsize 0\n",
      "INFO - 14:53:14: EPOCH 7 - PROGRESS: at 13.46% examples, 64841 words/s, in_qsize 7, out_qsize 0\n",
      "INFO - 14:53:15: EPOCH 7 - PROGRESS: at 13.85% examples, 65107 words/s, in_qsize 7, out_qsize 0\n",
      "INFO - 14:53:16: EPOCH 7 - PROGRESS: at 14.30% examples, 64918 words/s, in_qsize 7, out_qsize 0\n",
      "INFO - 14:53:17: EPOCH 7 - PROGRESS: at 14.59% examples, 64556 words/s, in_qsize 7, out_qsize 0\n",
      "INFO - 14:53:18: EPOCH 7 - PROGRESS: at 14.87% examples, 64481 words/s, in_qsize 7, out_qsize 0\n",
      "INFO - 14:53:19: EPOCH 7 - PROGRESS: at 15.24% examples, 64620 words/s, in_qsize 7, out_qsize 0\n",
      "INFO - 14:53:20: EPOCH 7 - PROGRESS: at 15.50% examples, 64315 words/s, in_qsize 7, out_qsize 0\n",
      "INFO - 14:53:21: EPOCH 7 - PROGRESS: at 15.83% examples, 64359 words/s, in_qsize 7, out_qsize 1\n",
      "INFO - 14:53:22: EPOCH 7 - PROGRESS: at 16.17% examples, 64257 words/s, in_qsize 7, out_qsize 0\n",
      "INFO - 14:53:23: EPOCH 7 - PROGRESS: at 16.64% examples, 64139 words/s, in_qsize 8, out_qsize 1\n",
      "INFO - 14:53:24: EPOCH 7 - PROGRESS: at 17.13% examples, 64347 words/s, in_qsize 7, out_qsize 0\n",
      "INFO - 14:53:25: EPOCH 7 - PROGRESS: at 17.54% examples, 64386 words/s, in_qsize 7, out_qsize 0\n",
      "INFO - 14:53:27: EPOCH 7 - PROGRESS: at 17.94% examples, 64537 words/s, in_qsize 7, out_qsize 0\n",
      "INFO - 14:53:28: EPOCH 7 - PROGRESS: at 18.55% examples, 64629 words/s, in_qsize 7, out_qsize 0\n",
      "INFO - 14:53:29: EPOCH 7 - PROGRESS: at 18.96% examples, 64649 words/s, in_qsize 7, out_qsize 0\n",
      "INFO - 14:53:30: EPOCH 7 - PROGRESS: at 19.47% examples, 64750 words/s, in_qsize 7, out_qsize 0\n",
      "INFO - 14:53:31: EPOCH 7 - PROGRESS: at 19.76% examples, 64739 words/s, in_qsize 7, out_qsize 0\n",
      "INFO - 14:53:32: EPOCH 7 - PROGRESS: at 20.21% examples, 64895 words/s, in_qsize 7, out_qsize 0\n",
      "INFO - 14:53:33: EPOCH 7 - PROGRESS: at 20.67% examples, 65048 words/s, in_qsize 7, out_qsize 0\n",
      "INFO - 14:53:34: EPOCH 7 - PROGRESS: at 21.11% examples, 65078 words/s, in_qsize 7, out_qsize 0\n",
      "INFO - 14:53:35: EPOCH 7 - PROGRESS: at 21.48% examples, 65018 words/s, in_qsize 7, out_qsize 0\n",
      "INFO - 14:53:36: EPOCH 7 - PROGRESS: at 21.95% examples, 65145 words/s, in_qsize 7, out_qsize 0\n",
      "INFO - 14:53:37: EPOCH 7 - PROGRESS: at 22.25% examples, 65238 words/s, in_qsize 7, out_qsize 0\n",
      "INFO - 14:53:38: EPOCH 7 - PROGRESS: at 22.63% examples, 65271 words/s, in_qsize 7, out_qsize 0\n",
      "INFO - 14:53:39: EPOCH 7 - PROGRESS: at 23.01% examples, 65301 words/s, in_qsize 7, out_qsize 0\n",
      "INFO - 14:53:40: EPOCH 7 - PROGRESS: at 23.43% examples, 65339 words/s, in_qsize 7, out_qsize 0\n",
      "INFO - 14:53:41: EPOCH 7 - PROGRESS: at 23.96% examples, 65380 words/s, in_qsize 7, out_qsize 0\n",
      "INFO - 14:53:42: EPOCH 7 - PROGRESS: at 24.31% examples, 65368 words/s, in_qsize 7, out_qsize 0\n",
      "INFO - 14:53:43: EPOCH 7 - PROGRESS: at 24.72% examples, 65260 words/s, in_qsize 8, out_qsize 0\n",
      "INFO - 14:53:45: EPOCH 7 - PROGRESS: at 25.13% examples, 65151 words/s, in_qsize 7, out_qsize 0\n",
      "INFO - 14:53:46: EPOCH 7 - PROGRESS: at 25.58% examples, 65183 words/s, in_qsize 7, out_qsize 0\n",
      "INFO - 14:53:47: EPOCH 7 - PROGRESS: at 26.01% examples, 65169 words/s, in_qsize 7, out_qsize 0\n",
      "INFO - 14:53:48: EPOCH 7 - PROGRESS: at 26.49% examples, 65270 words/s, in_qsize 7, out_qsize 0\n",
      "INFO - 14:53:49: EPOCH 7 - PROGRESS: at 26.93% examples, 65165 words/s, in_qsize 7, out_qsize 0\n",
      "INFO - 14:53:50: EPOCH 7 - PROGRESS: at 27.25% examples, 65160 words/s, in_qsize 7, out_qsize 0\n",
      "INFO - 14:53:51: EPOCH 7 - PROGRESS: at 27.53% examples, 64982 words/s, in_qsize 7, out_qsize 0\n",
      "INFO - 14:53:52: EPOCH 7 - PROGRESS: at 27.88% examples, 64874 words/s, in_qsize 7, out_qsize 0\n",
      "INFO - 14:53:53: EPOCH 7 - PROGRESS: at 28.37% examples, 64991 words/s, in_qsize 7, out_qsize 0\n",
      "INFO - 14:53:54: EPOCH 7 - PROGRESS: at 28.58% examples, 64929 words/s, in_qsize 7, out_qsize 0\n",
      "INFO - 14:53:55: EPOCH 7 - PROGRESS: at 28.95% examples, 64942 words/s, in_qsize 7, out_qsize 0\n",
      "INFO - 14:53:56: EPOCH 7 - PROGRESS: at 29.37% examples, 64897 words/s, in_qsize 7, out_qsize 0\n",
      "INFO - 14:53:57: EPOCH 7 - PROGRESS: at 29.83% examples, 64890 words/s, in_qsize 7, out_qsize 0\n",
      "INFO - 14:53:58: EPOCH 7 - PROGRESS: at 30.21% examples, 64818 words/s, in_qsize 7, out_qsize 0\n",
      "INFO - 14:53:59: EPOCH 7 - PROGRESS: at 30.57% examples, 64643 words/s, in_qsize 8, out_qsize 0\n",
      "INFO - 14:54:00: EPOCH 7 - PROGRESS: at 30.97% examples, 64679 words/s, in_qsize 7, out_qsize 0\n",
      "INFO - 14:54:01: EPOCH 7 - PROGRESS: at 31.36% examples, 64571 words/s, in_qsize 7, out_qsize 0\n",
      "INFO - 14:54:02: EPOCH 7 - PROGRESS: at 31.77% examples, 64555 words/s, in_qsize 7, out_qsize 0\n",
      "INFO - 14:54:04: EPOCH 7 - PROGRESS: at 32.06% examples, 64487 words/s, in_qsize 7, out_qsize 0\n",
      "INFO - 14:54:05: EPOCH 7 - PROGRESS: at 32.19% examples, 64365 words/s, in_qsize 8, out_qsize 0\n",
      "INFO - 14:54:06: EPOCH 7 - PROGRESS: at 32.53% examples, 64122 words/s, in_qsize 7, out_qsize 0\n",
      "INFO - 14:54:07: EPOCH 7 - PROGRESS: at 32.78% examples, 63970 words/s, in_qsize 7, out_qsize 0\n",
      "INFO - 14:54:08: EPOCH 7 - PROGRESS: at 33.06% examples, 63776 words/s, in_qsize 7, out_qsize 0\n",
      "INFO - 14:54:09: EPOCH 7 - PROGRESS: at 33.50% examples, 63652 words/s, in_qsize 7, out_qsize 0\n",
      "INFO - 14:54:10: EPOCH 7 - PROGRESS: at 33.77% examples, 63661 words/s, in_qsize 7, out_qsize 0\n",
      "INFO - 14:54:11: EPOCH 7 - PROGRESS: at 34.24% examples, 63796 words/s, in_qsize 7, out_qsize 0\n",
      "INFO - 14:54:12: EPOCH 7 - PROGRESS: at 34.47% examples, 63870 words/s, in_qsize 7, out_qsize 0\n",
      "INFO - 14:54:13: EPOCH 7 - PROGRESS: at 34.72% examples, 63884 words/s, in_qsize 7, out_qsize 0\n",
      "INFO - 14:54:15: EPOCH 7 - PROGRESS: at 34.98% examples, 63834 words/s, in_qsize 7, out_qsize 0\n",
      "INFO - 14:54:16: EPOCH 7 - PROGRESS: at 35.44% examples, 63943 words/s, in_qsize 7, out_qsize 0\n"
     ]
    },
    {
     "name": "stderr",
     "output_type": "stream",
     "text": [
      "INFO - 14:54:17: EPOCH 7 - PROGRESS: at 35.96% examples, 64061 words/s, in_qsize 7, out_qsize 0\n",
      "INFO - 14:54:18: EPOCH 7 - PROGRESS: at 36.32% examples, 64068 words/s, in_qsize 7, out_qsize 0\n",
      "INFO - 14:54:19: EPOCH 7 - PROGRESS: at 36.73% examples, 63999 words/s, in_qsize 8, out_qsize 1\n",
      "INFO - 14:54:20: EPOCH 7 - PROGRESS: at 37.08% examples, 64115 words/s, in_qsize 8, out_qsize 0\n",
      "INFO - 14:54:21: EPOCH 7 - PROGRESS: at 37.56% examples, 64175 words/s, in_qsize 7, out_qsize 0\n",
      "INFO - 14:54:22: EPOCH 7 - PROGRESS: at 37.86% examples, 64229 words/s, in_qsize 7, out_qsize 0\n",
      "INFO - 14:54:23: EPOCH 7 - PROGRESS: at 38.22% examples, 64234 words/s, in_qsize 7, out_qsize 0\n",
      "INFO - 14:54:24: EPOCH 7 - PROGRESS: at 38.56% examples, 64140 words/s, in_qsize 7, out_qsize 0\n",
      "INFO - 14:54:25: EPOCH 7 - PROGRESS: at 39.03% examples, 64143 words/s, in_qsize 7, out_qsize 0\n",
      "INFO - 14:54:26: EPOCH 7 - PROGRESS: at 39.40% examples, 64121 words/s, in_qsize 8, out_qsize 0\n",
      "INFO - 14:54:27: EPOCH 7 - PROGRESS: at 39.84% examples, 64128 words/s, in_qsize 7, out_qsize 0\n",
      "INFO - 14:54:28: EPOCH 7 - PROGRESS: at 40.29% examples, 64208 words/s, in_qsize 7, out_qsize 0\n",
      "INFO - 14:54:29: EPOCH 7 - PROGRESS: at 40.65% examples, 64127 words/s, in_qsize 7, out_qsize 0\n",
      "INFO - 14:54:31: EPOCH 7 - PROGRESS: at 41.17% examples, 64143 words/s, in_qsize 8, out_qsize 0\n",
      "INFO - 14:54:32: EPOCH 7 - PROGRESS: at 41.54% examples, 64116 words/s, in_qsize 7, out_qsize 0\n",
      "INFO - 14:54:33: EPOCH 7 - PROGRESS: at 41.81% examples, 64112 words/s, in_qsize 7, out_qsize 0\n",
      "INFO - 14:54:34: EPOCH 7 - PROGRESS: at 42.15% examples, 64030 words/s, in_qsize 7, out_qsize 0\n",
      "INFO - 14:54:35: EPOCH 7 - PROGRESS: at 42.53% examples, 63981 words/s, in_qsize 7, out_qsize 0\n",
      "INFO - 14:54:36: EPOCH 7 - PROGRESS: at 42.97% examples, 64069 words/s, in_qsize 7, out_qsize 0\n",
      "INFO - 14:54:37: EPOCH 7 - PROGRESS: at 43.43% examples, 64123 words/s, in_qsize 7, out_qsize 0\n",
      "INFO - 14:54:38: EPOCH 7 - PROGRESS: at 43.84% examples, 64148 words/s, in_qsize 7, out_qsize 0\n",
      "INFO - 14:54:39: EPOCH 7 - PROGRESS: at 44.28% examples, 64166 words/s, in_qsize 7, out_qsize 0\n",
      "INFO - 14:54:40: EPOCH 7 - PROGRESS: at 44.68% examples, 64192 words/s, in_qsize 7, out_qsize 0\n",
      "INFO - 14:54:41: EPOCH 7 - PROGRESS: at 45.11% examples, 64259 words/s, in_qsize 7, out_qsize 0\n",
      "INFO - 14:54:42: EPOCH 7 - PROGRESS: at 45.54% examples, 64244 words/s, in_qsize 7, out_qsize 0\n",
      "INFO - 14:54:43: EPOCH 7 - PROGRESS: at 45.88% examples, 64275 words/s, in_qsize 7, out_qsize 0\n",
      "INFO - 14:54:44: EPOCH 7 - PROGRESS: at 46.32% examples, 64382 words/s, in_qsize 7, out_qsize 0\n",
      "INFO - 14:54:45: EPOCH 7 - PROGRESS: at 46.75% examples, 64403 words/s, in_qsize 7, out_qsize 0\n",
      "INFO - 14:54:46: EPOCH 7 - PROGRESS: at 47.01% examples, 64407 words/s, in_qsize 7, out_qsize 0\n",
      "INFO - 14:54:47: EPOCH 7 - PROGRESS: at 47.44% examples, 64404 words/s, in_qsize 8, out_qsize 0\n",
      "INFO - 14:54:48: EPOCH 7 - PROGRESS: at 47.80% examples, 64375 words/s, in_qsize 7, out_qsize 0\n",
      "INFO - 14:54:50: EPOCH 7 - PROGRESS: at 48.10% examples, 64320 words/s, in_qsize 7, out_qsize 0\n",
      "INFO - 14:54:51: EPOCH 7 - PROGRESS: at 48.49% examples, 64228 words/s, in_qsize 7, out_qsize 0\n",
      "INFO - 14:54:52: EPOCH 7 - PROGRESS: at 48.86% examples, 64250 words/s, in_qsize 7, out_qsize 0\n",
      "INFO - 14:54:53: EPOCH 7 - PROGRESS: at 49.21% examples, 64108 words/s, in_qsize 8, out_qsize 0\n",
      "INFO - 14:54:54: EPOCH 7 - PROGRESS: at 49.62% examples, 63857 words/s, in_qsize 7, out_qsize 0\n",
      "INFO - 14:54:55: EPOCH 7 - PROGRESS: at 49.87% examples, 63781 words/s, in_qsize 7, out_qsize 0\n",
      "INFO - 14:54:57: EPOCH 7 - PROGRESS: at 50.18% examples, 63675 words/s, in_qsize 8, out_qsize 0\n",
      "INFO - 14:54:58: EPOCH 7 - PROGRESS: at 50.62% examples, 63704 words/s, in_qsize 7, out_qsize 0\n",
      "INFO - 14:54:59: EPOCH 7 - PROGRESS: at 51.00% examples, 63593 words/s, in_qsize 7, out_qsize 0\n",
      "INFO - 14:55:00: EPOCH 7 - PROGRESS: at 51.29% examples, 63602 words/s, in_qsize 7, out_qsize 0\n",
      "INFO - 14:55:01: EPOCH 7 - PROGRESS: at 51.74% examples, 63628 words/s, in_qsize 7, out_qsize 0\n",
      "INFO - 14:55:02: EPOCH 7 - PROGRESS: at 52.25% examples, 63729 words/s, in_qsize 7, out_qsize 0\n",
      "INFO - 14:55:03: EPOCH 7 - PROGRESS: at 52.60% examples, 63721 words/s, in_qsize 7, out_qsize 0\n",
      "INFO - 14:55:04: EPOCH 7 - PROGRESS: at 53.00% examples, 63678 words/s, in_qsize 7, out_qsize 0\n",
      "INFO - 14:55:05: EPOCH 7 - PROGRESS: at 53.38% examples, 63690 words/s, in_qsize 7, out_qsize 0\n",
      "INFO - 14:55:06: EPOCH 7 - PROGRESS: at 53.76% examples, 63744 words/s, in_qsize 7, out_qsize 0\n",
      "INFO - 14:55:07: EPOCH 7 - PROGRESS: at 54.22% examples, 63779 words/s, in_qsize 7, out_qsize 0\n",
      "INFO - 14:55:08: EPOCH 7 - PROGRESS: at 54.70% examples, 63763 words/s, in_qsize 7, out_qsize 0\n",
      "INFO - 14:55:09: EPOCH 7 - PROGRESS: at 55.06% examples, 63755 words/s, in_qsize 7, out_qsize 0\n",
      "INFO - 14:55:10: EPOCH 7 - PROGRESS: at 55.46% examples, 63744 words/s, in_qsize 7, out_qsize 0\n",
      "INFO - 14:55:11: EPOCH 7 - PROGRESS: at 55.90% examples, 63815 words/s, in_qsize 7, out_qsize 0\n",
      "INFO - 14:55:12: EPOCH 7 - PROGRESS: at 56.33% examples, 63801 words/s, in_qsize 7, out_qsize 0\n",
      "INFO - 14:55:13: EPOCH 7 - PROGRESS: at 56.79% examples, 63898 words/s, in_qsize 7, out_qsize 0\n",
      "INFO - 14:55:14: EPOCH 7 - PROGRESS: at 57.23% examples, 63865 words/s, in_qsize 7, out_qsize 0\n",
      "INFO - 14:55:15: EPOCH 7 - PROGRESS: at 57.55% examples, 63903 words/s, in_qsize 7, out_qsize 0\n",
      "INFO - 14:55:16: EPOCH 7 - PROGRESS: at 58.07% examples, 63982 words/s, in_qsize 7, out_qsize 0\n",
      "INFO - 14:55:18: EPOCH 7 - PROGRESS: at 58.52% examples, 64004 words/s, in_qsize 7, out_qsize 0\n",
      "INFO - 14:55:19: EPOCH 7 - PROGRESS: at 58.90% examples, 63989 words/s, in_qsize 7, out_qsize 0\n",
      "INFO - 14:55:20: EPOCH 7 - PROGRESS: at 59.32% examples, 64014 words/s, in_qsize 7, out_qsize 0\n",
      "INFO - 14:55:21: EPOCH 7 - PROGRESS: at 59.79% examples, 64065 words/s, in_qsize 7, out_qsize 0\n",
      "INFO - 14:55:22: EPOCH 7 - PROGRESS: at 60.23% examples, 64067 words/s, in_qsize 7, out_qsize 0\n",
      "INFO - 14:55:23: EPOCH 7 - PROGRESS: at 60.68% examples, 64083 words/s, in_qsize 7, out_qsize 0\n",
      "INFO - 14:55:24: EPOCH 7 - PROGRESS: at 61.05% examples, 64048 words/s, in_qsize 8, out_qsize 0\n",
      "INFO - 14:55:25: EPOCH 7 - PROGRESS: at 61.29% examples, 63869 words/s, in_qsize 7, out_qsize 0\n",
      "INFO - 14:55:26: EPOCH 7 - PROGRESS: at 61.66% examples, 63785 words/s, in_qsize 7, out_qsize 0\n",
      "INFO - 14:55:27: EPOCH 7 - PROGRESS: at 62.17% examples, 63733 words/s, in_qsize 7, out_qsize 0\n",
      "INFO - 14:55:28: EPOCH 7 - PROGRESS: at 62.49% examples, 63714 words/s, in_qsize 7, out_qsize 0\n",
      "INFO - 14:55:29: EPOCH 7 - PROGRESS: at 62.74% examples, 63648 words/s, in_qsize 7, out_qsize 0\n",
      "INFO - 14:55:30: EPOCH 7 - PROGRESS: at 63.14% examples, 63660 words/s, in_qsize 7, out_qsize 0\n",
      "INFO - 14:55:31: EPOCH 7 - PROGRESS: at 63.71% examples, 63680 words/s, in_qsize 7, out_qsize 0\n",
      "INFO - 14:55:32: EPOCH 7 - PROGRESS: at 64.13% examples, 63679 words/s, in_qsize 7, out_qsize 0\n",
      "INFO - 14:55:33: EPOCH 7 - PROGRESS: at 64.46% examples, 63599 words/s, in_qsize 7, out_qsize 0\n",
      "INFO - 14:55:35: EPOCH 7 - PROGRESS: at 64.81% examples, 63540 words/s, in_qsize 7, out_qsize 0\n",
      "INFO - 14:55:36: EPOCH 7 - PROGRESS: at 65.19% examples, 63517 words/s, in_qsize 7, out_qsize 0\n",
      "INFO - 14:55:37: EPOCH 7 - PROGRESS: at 65.56% examples, 63477 words/s, in_qsize 7, out_qsize 0\n",
      "INFO - 14:55:38: EPOCH 7 - PROGRESS: at 65.94% examples, 63425 words/s, in_qsize 7, out_qsize 0\n",
      "INFO - 14:55:39: EPOCH 7 - PROGRESS: at 66.31% examples, 63329 words/s, in_qsize 7, out_qsize 0\n",
      "INFO - 14:55:40: EPOCH 7 - PROGRESS: at 66.62% examples, 63309 words/s, in_qsize 8, out_qsize 0\n",
      "INFO - 14:55:41: EPOCH 7 - PROGRESS: at 66.83% examples, 63267 words/s, in_qsize 7, out_qsize 0\n",
      "INFO - 14:55:42: EPOCH 7 - PROGRESS: at 67.10% examples, 63136 words/s, in_qsize 7, out_qsize 0\n",
      "INFO - 14:55:44: EPOCH 7 - PROGRESS: at 67.38% examples, 62964 words/s, in_qsize 7, out_qsize 0\n",
      "INFO - 14:55:45: EPOCH 7 - PROGRESS: at 67.73% examples, 62927 words/s, in_qsize 7, out_qsize 0\n",
      "INFO - 14:55:46: EPOCH 7 - PROGRESS: at 68.09% examples, 62954 words/s, in_qsize 7, out_qsize 0\n",
      "INFO - 14:55:47: EPOCH 7 - PROGRESS: at 68.48% examples, 62966 words/s, in_qsize 7, out_qsize 0\n",
      "INFO - 14:55:48: EPOCH 7 - PROGRESS: at 68.79% examples, 63005 words/s, in_qsize 7, out_qsize 0\n"
     ]
    },
    {
     "name": "stderr",
     "output_type": "stream",
     "text": [
      "INFO - 14:55:49: EPOCH 7 - PROGRESS: at 69.12% examples, 62987 words/s, in_qsize 8, out_qsize 0\n",
      "INFO - 14:55:50: EPOCH 7 - PROGRESS: at 69.48% examples, 63025 words/s, in_qsize 7, out_qsize 0\n",
      "INFO - 14:55:51: EPOCH 7 - PROGRESS: at 69.94% examples, 63039 words/s, in_qsize 7, out_qsize 0\n",
      "INFO - 14:55:52: EPOCH 7 - PROGRESS: at 70.40% examples, 63068 words/s, in_qsize 7, out_qsize 0\n",
      "INFO - 14:55:53: EPOCH 7 - PROGRESS: at 70.82% examples, 63099 words/s, in_qsize 7, out_qsize 0\n",
      "INFO - 14:55:54: EPOCH 7 - PROGRESS: at 71.08% examples, 63047 words/s, in_qsize 7, out_qsize 0\n",
      "INFO - 14:55:55: EPOCH 7 - PROGRESS: at 71.37% examples, 63054 words/s, in_qsize 7, out_qsize 0\n",
      "INFO - 14:55:56: EPOCH 7 - PROGRESS: at 71.75% examples, 63077 words/s, in_qsize 7, out_qsize 0\n",
      "INFO - 14:55:57: EPOCH 7 - PROGRESS: at 72.16% examples, 63078 words/s, in_qsize 7, out_qsize 0\n",
      "INFO - 14:55:58: EPOCH 7 - PROGRESS: at 72.62% examples, 63104 words/s, in_qsize 7, out_qsize 0\n",
      "INFO - 14:55:59: EPOCH 7 - PROGRESS: at 73.03% examples, 63126 words/s, in_qsize 7, out_qsize 0\n",
      "INFO - 14:56:00: EPOCH 7 - PROGRESS: at 73.30% examples, 63120 words/s, in_qsize 7, out_qsize 0\n",
      "INFO - 14:56:01: EPOCH 7 - PROGRESS: at 73.62% examples, 63172 words/s, in_qsize 7, out_qsize 0\n",
      "INFO - 14:56:03: EPOCH 7 - PROGRESS: at 74.10% examples, 63201 words/s, in_qsize 7, out_qsize 0\n",
      "INFO - 14:56:04: EPOCH 7 - PROGRESS: at 74.73% examples, 63210 words/s, in_qsize 7, out_qsize 0\n",
      "INFO - 14:56:05: EPOCH 7 - PROGRESS: at 75.19% examples, 63236 words/s, in_qsize 7, out_qsize 0\n",
      "INFO - 14:56:06: EPOCH 7 - PROGRESS: at 75.63% examples, 63275 words/s, in_qsize 7, out_qsize 0\n",
      "INFO - 14:56:07: EPOCH 7 - PROGRESS: at 75.99% examples, 63346 words/s, in_qsize 7, out_qsize 0\n",
      "INFO - 14:56:08: EPOCH 7 - PROGRESS: at 76.39% examples, 63374 words/s, in_qsize 8, out_qsize 0\n",
      "INFO - 14:56:09: EPOCH 7 - PROGRESS: at 76.73% examples, 63364 words/s, in_qsize 8, out_qsize 0\n",
      "INFO - 14:56:10: EPOCH 7 - PROGRESS: at 77.24% examples, 63393 words/s, in_qsize 8, out_qsize 0\n",
      "INFO - 14:56:11: EPOCH 7 - PROGRESS: at 77.75% examples, 63414 words/s, in_qsize 7, out_qsize 0\n",
      "INFO - 14:56:12: EPOCH 7 - PROGRESS: at 78.21% examples, 63426 words/s, in_qsize 7, out_qsize 0\n",
      "INFO - 14:56:13: EPOCH 7 - PROGRESS: at 78.69% examples, 63417 words/s, in_qsize 7, out_qsize 0\n",
      "INFO - 14:56:14: EPOCH 7 - PROGRESS: at 79.10% examples, 63414 words/s, in_qsize 7, out_qsize 0\n",
      "INFO - 14:56:15: EPOCH 7 - PROGRESS: at 79.55% examples, 63458 words/s, in_qsize 7, out_qsize 0\n",
      "INFO - 14:56:16: EPOCH 7 - PROGRESS: at 79.96% examples, 63491 words/s, in_qsize 7, out_qsize 0\n",
      "INFO - 14:56:17: EPOCH 7 - PROGRESS: at 80.39% examples, 63483 words/s, in_qsize 7, out_qsize 0\n",
      "INFO - 14:56:18: EPOCH 7 - PROGRESS: at 80.60% examples, 63498 words/s, in_qsize 7, out_qsize 0\n",
      "INFO - 14:56:19: EPOCH 7 - PROGRESS: at 80.95% examples, 63517 words/s, in_qsize 7, out_qsize 0\n",
      "INFO - 14:56:20: EPOCH 7 - PROGRESS: at 81.35% examples, 63520 words/s, in_qsize 7, out_qsize 0\n",
      "INFO - 14:56:21: EPOCH 7 - PROGRESS: at 81.82% examples, 63589 words/s, in_qsize 7, out_qsize 0\n",
      "INFO - 14:56:22: EPOCH 7 - PROGRESS: at 82.21% examples, 63605 words/s, in_qsize 7, out_qsize 0\n",
      "INFO - 14:56:24: EPOCH 7 - PROGRESS: at 82.76% examples, 63631 words/s, in_qsize 7, out_qsize 0\n",
      "INFO - 14:56:25: EPOCH 7 - PROGRESS: at 83.15% examples, 63655 words/s, in_qsize 7, out_qsize 0\n",
      "INFO - 14:56:26: EPOCH 7 - PROGRESS: at 83.64% examples, 63690 words/s, in_qsize 7, out_qsize 0\n",
      "INFO - 14:56:27: EPOCH 7 - PROGRESS: at 84.08% examples, 63690 words/s, in_qsize 7, out_qsize 0\n",
      "INFO - 14:56:28: EPOCH 7 - PROGRESS: at 84.63% examples, 63746 words/s, in_qsize 7, out_qsize 0\n",
      "INFO - 14:56:29: EPOCH 7 - PROGRESS: at 85.13% examples, 63757 words/s, in_qsize 7, out_qsize 0\n",
      "INFO - 14:56:30: EPOCH 7 - PROGRESS: at 85.36% examples, 63746 words/s, in_qsize 7, out_qsize 0\n",
      "INFO - 14:56:31: EPOCH 7 - PROGRESS: at 85.89% examples, 63779 words/s, in_qsize 7, out_qsize 0\n",
      "INFO - 14:56:32: EPOCH 7 - PROGRESS: at 86.30% examples, 63775 words/s, in_qsize 7, out_qsize 0\n",
      "INFO - 14:56:33: EPOCH 7 - PROGRESS: at 86.47% examples, 63707 words/s, in_qsize 7, out_qsize 0\n",
      "INFO - 14:56:34: EPOCH 7 - PROGRESS: at 86.58% examples, 63649 words/s, in_qsize 7, out_qsize 0\n",
      "INFO - 14:56:35: EPOCH 7 - PROGRESS: at 86.80% examples, 63647 words/s, in_qsize 7, out_qsize 0\n",
      "INFO - 14:56:36: EPOCH 7 - PROGRESS: at 87.23% examples, 63635 words/s, in_qsize 7, out_qsize 0\n",
      "INFO - 14:56:38: EPOCH 7 - PROGRESS: at 87.59% examples, 63599 words/s, in_qsize 7, out_qsize 0\n",
      "INFO - 14:56:39: EPOCH 7 - PROGRESS: at 87.98% examples, 63568 words/s, in_qsize 7, out_qsize 0\n",
      "INFO - 14:56:40: EPOCH 7 - PROGRESS: at 88.44% examples, 63537 words/s, in_qsize 7, out_qsize 0\n",
      "INFO - 14:56:41: EPOCH 7 - PROGRESS: at 88.81% examples, 63482 words/s, in_qsize 7, out_qsize 0\n",
      "INFO - 14:56:42: EPOCH 7 - PROGRESS: at 89.15% examples, 63444 words/s, in_qsize 7, out_qsize 0\n",
      "INFO - 14:56:43: EPOCH 7 - PROGRESS: at 89.50% examples, 63402 words/s, in_qsize 8, out_qsize 0\n",
      "INFO - 14:56:44: EPOCH 7 - PROGRESS: at 89.87% examples, 63362 words/s, in_qsize 7, out_qsize 0\n",
      "INFO - 14:56:45: EPOCH 7 - PROGRESS: at 90.29% examples, 63338 words/s, in_qsize 7, out_qsize 0\n",
      "INFO - 14:56:46: EPOCH 7 - PROGRESS: at 90.64% examples, 63318 words/s, in_qsize 7, out_qsize 0\n",
      "INFO - 14:56:47: EPOCH 7 - PROGRESS: at 91.00% examples, 63290 words/s, in_qsize 8, out_qsize 0\n",
      "INFO - 14:56:48: EPOCH 7 - PROGRESS: at 91.32% examples, 63231 words/s, in_qsize 7, out_qsize 0\n",
      "INFO - 14:56:49: EPOCH 7 - PROGRESS: at 91.63% examples, 63155 words/s, in_qsize 7, out_qsize 0\n",
      "INFO - 14:56:50: EPOCH 7 - PROGRESS: at 92.16% examples, 63223 words/s, in_qsize 7, out_qsize 0\n",
      "INFO - 14:56:52: EPOCH 7 - PROGRESS: at 92.59% examples, 63215 words/s, in_qsize 7, out_qsize 0\n",
      "INFO - 14:56:53: EPOCH 7 - PROGRESS: at 92.95% examples, 63185 words/s, in_qsize 7, out_qsize 0\n",
      "INFO - 14:56:54: EPOCH 7 - PROGRESS: at 93.27% examples, 63154 words/s, in_qsize 7, out_qsize 0\n",
      "INFO - 14:56:55: EPOCH 7 - PROGRESS: at 93.72% examples, 63140 words/s, in_qsize 7, out_qsize 0\n",
      "INFO - 14:56:56: EPOCH 7 - PROGRESS: at 94.08% examples, 63170 words/s, in_qsize 7, out_qsize 0\n",
      "INFO - 14:56:57: EPOCH 7 - PROGRESS: at 94.47% examples, 63224 words/s, in_qsize 7, out_qsize 0\n",
      "INFO - 14:56:58: EPOCH 7 - PROGRESS: at 94.86% examples, 63251 words/s, in_qsize 7, out_qsize 0\n",
      "INFO - 14:56:59: EPOCH 7 - PROGRESS: at 95.28% examples, 63264 words/s, in_qsize 7, out_qsize 0\n",
      "INFO - 14:57:00: EPOCH 7 - PROGRESS: at 95.57% examples, 63232 words/s, in_qsize 7, out_qsize 0\n",
      "INFO - 14:57:01: EPOCH 7 - PROGRESS: at 95.72% examples, 63191 words/s, in_qsize 7, out_qsize 0\n",
      "INFO - 14:57:02: EPOCH 7 - PROGRESS: at 96.10% examples, 63150 words/s, in_qsize 7, out_qsize 0\n",
      "INFO - 14:57:03: EPOCH 7 - PROGRESS: at 96.37% examples, 63103 words/s, in_qsize 7, out_qsize 0\n",
      "INFO - 14:57:05: EPOCH 7 - PROGRESS: at 96.73% examples, 63021 words/s, in_qsize 7, out_qsize 0\n",
      "INFO - 14:57:06: EPOCH 7 - PROGRESS: at 97.02% examples, 62968 words/s, in_qsize 7, out_qsize 0\n",
      "INFO - 14:57:07: EPOCH 7 - PROGRESS: at 97.37% examples, 62940 words/s, in_qsize 7, out_qsize 0\n",
      "INFO - 14:57:08: EPOCH 7 - PROGRESS: at 97.77% examples, 62925 words/s, in_qsize 7, out_qsize 0\n",
      "INFO - 14:57:09: EPOCH 7 - PROGRESS: at 98.08% examples, 62890 words/s, in_qsize 7, out_qsize 0\n",
      "INFO - 14:57:10: EPOCH 7 - PROGRESS: at 98.48% examples, 62888 words/s, in_qsize 7, out_qsize 0\n",
      "INFO - 14:57:11: EPOCH 7 - PROGRESS: at 98.85% examples, 62857 words/s, in_qsize 7, out_qsize 0\n",
      "INFO - 14:57:13: EPOCH 7 - PROGRESS: at 99.20% examples, 62863 words/s, in_qsize 7, out_qsize 0\n",
      "INFO - 14:57:14: EPOCH 7 - PROGRESS: at 99.48% examples, 62826 words/s, in_qsize 8, out_qsize 0\n",
      "INFO - 14:57:15: worker thread finished; awaiting finish of 3 more threads\n",
      "INFO - 14:57:15: EPOCH 7 - PROGRESS: at 99.92% examples, 62805 words/s, in_qsize 2, out_qsize 1\n",
      "INFO - 14:57:15: worker thread finished; awaiting finish of 2 more threads\n",
      "INFO - 14:57:15: worker thread finished; awaiting finish of 1 more threads\n",
      "INFO - 14:57:15: worker thread finished; awaiting finish of 0 more threads\n",
      "INFO - 14:57:15: EPOCH - 7 : training on 31973755 raw words (17364092 effective words) took 276.4s, 62822 effective words/s\n"
     ]
    },
    {
     "name": "stderr",
     "output_type": "stream",
     "text": [
      "INFO - 14:57:16: EPOCH 8 - PROGRESS: at 0.17% examples, 40518 words/s, in_qsize 7, out_qsize 0\n",
      "INFO - 14:57:17: EPOCH 8 - PROGRESS: at 0.58% examples, 55560 words/s, in_qsize 6, out_qsize 1\n",
      "INFO - 14:57:18: EPOCH 8 - PROGRESS: at 1.07% examples, 58817 words/s, in_qsize 7, out_qsize 0\n",
      "INFO - 14:57:19: EPOCH 8 - PROGRESS: at 1.54% examples, 59797 words/s, in_qsize 7, out_qsize 0\n",
      "INFO - 14:57:20: EPOCH 8 - PROGRESS: at 2.07% examples, 61132 words/s, in_qsize 7, out_qsize 0\n",
      "INFO - 14:57:21: EPOCH 8 - PROGRESS: at 2.34% examples, 62145 words/s, in_qsize 7, out_qsize 0\n",
      "INFO - 14:57:22: EPOCH 8 - PROGRESS: at 2.73% examples, 62323 words/s, in_qsize 7, out_qsize 0\n",
      "INFO - 14:57:24: EPOCH 8 - PROGRESS: at 3.17% examples, 61897 words/s, in_qsize 7, out_qsize 0\n",
      "INFO - 14:57:25: EPOCH 8 - PROGRESS: at 3.67% examples, 62786 words/s, in_qsize 7, out_qsize 0\n",
      "INFO - 14:57:26: EPOCH 8 - PROGRESS: at 4.14% examples, 63034 words/s, in_qsize 7, out_qsize 0\n",
      "INFO - 14:57:27: EPOCH 8 - PROGRESS: at 4.46% examples, 62352 words/s, in_qsize 7, out_qsize 0\n",
      "INFO - 14:57:28: EPOCH 8 - PROGRESS: at 4.94% examples, 63206 words/s, in_qsize 7, out_qsize 0\n",
      "INFO - 14:57:29: EPOCH 8 - PROGRESS: at 5.25% examples, 62967 words/s, in_qsize 7, out_qsize 0\n",
      "INFO - 14:57:30: EPOCH 8 - PROGRESS: at 5.54% examples, 63253 words/s, in_qsize 7, out_qsize 0\n",
      "INFO - 14:57:31: EPOCH 8 - PROGRESS: at 5.93% examples, 63101 words/s, in_qsize 7, out_qsize 0\n",
      "INFO - 14:57:32: EPOCH 8 - PROGRESS: at 6.28% examples, 64096 words/s, in_qsize 7, out_qsize 0\n",
      "INFO - 14:57:33: EPOCH 8 - PROGRESS: at 6.80% examples, 64133 words/s, in_qsize 7, out_qsize 0\n",
      "INFO - 14:57:34: EPOCH 8 - PROGRESS: at 7.22% examples, 64053 words/s, in_qsize 7, out_qsize 0\n",
      "INFO - 14:57:35: EPOCH 8 - PROGRESS: at 7.59% examples, 64094 words/s, in_qsize 7, out_qsize 0\n",
      "INFO - 14:57:36: EPOCH 8 - PROGRESS: at 8.13% examples, 64337 words/s, in_qsize 7, out_qsize 0\n",
      "INFO - 14:57:37: EPOCH 8 - PROGRESS: at 8.69% examples, 64805 words/s, in_qsize 7, out_qsize 0\n",
      "INFO - 14:57:39: EPOCH 8 - PROGRESS: at 9.07% examples, 64208 words/s, in_qsize 7, out_qsize 0\n",
      "INFO - 14:57:40: EPOCH 8 - PROGRESS: at 9.23% examples, 63837 words/s, in_qsize 7, out_qsize 0\n",
      "INFO - 14:57:41: EPOCH 8 - PROGRESS: at 9.61% examples, 63587 words/s, in_qsize 8, out_qsize 0\n",
      "INFO - 14:57:42: EPOCH 8 - PROGRESS: at 10.12% examples, 63949 words/s, in_qsize 7, out_qsize 0\n",
      "INFO - 14:57:43: EPOCH 8 - PROGRESS: at 10.60% examples, 64024 words/s, in_qsize 7, out_qsize 0\n",
      "INFO - 14:57:44: EPOCH 8 - PROGRESS: at 11.10% examples, 64197 words/s, in_qsize 7, out_qsize 0\n",
      "INFO - 14:57:45: EPOCH 8 - PROGRESS: at 11.36% examples, 64161 words/s, in_qsize 7, out_qsize 0\n",
      "INFO - 14:57:46: EPOCH 8 - PROGRESS: at 11.62% examples, 64193 words/s, in_qsize 7, out_qsize 0\n",
      "INFO - 14:57:47: EPOCH 8 - PROGRESS: at 11.96% examples, 64136 words/s, in_qsize 7, out_qsize 0\n",
      "INFO - 14:57:48: EPOCH 8 - PROGRESS: at 12.44% examples, 64062 words/s, in_qsize 7, out_qsize 0\n",
      "INFO - 14:57:49: EPOCH 8 - PROGRESS: at 12.88% examples, 63896 words/s, in_qsize 7, out_qsize 0\n",
      "INFO - 14:57:50: EPOCH 8 - PROGRESS: at 13.26% examples, 63818 words/s, in_qsize 7, out_qsize 0\n",
      "INFO - 14:57:51: EPOCH 8 - PROGRESS: at 13.71% examples, 63449 words/s, in_qsize 8, out_qsize 0\n",
      "INFO - 14:57:53: EPOCH 8 - PROGRESS: at 14.06% examples, 63603 words/s, in_qsize 7, out_qsize 0\n",
      "INFO - 14:57:54: EPOCH 8 - PROGRESS: at 14.43% examples, 63359 words/s, in_qsize 7, out_qsize 0\n",
      "INFO - 14:57:55: EPOCH 8 - PROGRESS: at 14.65% examples, 63143 words/s, in_qsize 7, out_qsize 0\n",
      "INFO - 14:57:56: EPOCH 8 - PROGRESS: at 14.95% examples, 63212 words/s, in_qsize 7, out_qsize 0\n",
      "INFO - 14:57:57: EPOCH 8 - PROGRESS: at 15.36% examples, 63335 words/s, in_qsize 7, out_qsize 0\n",
      "INFO - 14:57:58: EPOCH 8 - PROGRESS: at 15.59% examples, 63080 words/s, in_qsize 7, out_qsize 0\n",
      "INFO - 14:57:59: EPOCH 8 - PROGRESS: at 15.92% examples, 62941 words/s, in_qsize 7, out_qsize 0\n",
      "INFO - 14:58:00: EPOCH 8 - PROGRESS: at 16.28% examples, 62903 words/s, in_qsize 7, out_qsize 0\n",
      "INFO - 14:58:01: EPOCH 8 - PROGRESS: at 16.77% examples, 62923 words/s, in_qsize 7, out_qsize 0\n",
      "INFO - 14:58:02: EPOCH 8 - PROGRESS: at 17.30% examples, 63084 words/s, in_qsize 7, out_qsize 0\n",
      "INFO - 14:58:03: EPOCH 8 - PROGRESS: at 17.55% examples, 62848 words/s, in_qsize 7, out_qsize 0\n",
      "INFO - 14:58:04: EPOCH 8 - PROGRESS: at 17.92% examples, 62609 words/s, in_qsize 8, out_qsize 0\n",
      "INFO - 14:58:05: EPOCH 8 - PROGRESS: at 18.43% examples, 62512 words/s, in_qsize 7, out_qsize 0\n",
      "INFO - 14:58:06: EPOCH 8 - PROGRESS: at 18.82% examples, 62608 words/s, in_qsize 7, out_qsize 0\n",
      "INFO - 14:58:08: EPOCH 8 - PROGRESS: at 19.33% examples, 62697 words/s, in_qsize 7, out_qsize 0\n",
      "INFO - 14:58:09: EPOCH 8 - PROGRESS: at 19.63% examples, 62707 words/s, in_qsize 7, out_qsize 0\n",
      "INFO - 14:58:10: EPOCH 8 - PROGRESS: at 20.04% examples, 62870 words/s, in_qsize 7, out_qsize 0\n",
      "INFO - 14:58:11: EPOCH 8 - PROGRESS: at 20.43% examples, 62770 words/s, in_qsize 7, out_qsize 0\n",
      "INFO - 14:58:12: EPOCH 8 - PROGRESS: at 20.87% examples, 62829 words/s, in_qsize 7, out_qsize 0\n",
      "INFO - 14:58:13: EPOCH 8 - PROGRESS: at 21.27% examples, 62742 words/s, in_qsize 7, out_qsize 0\n",
      "INFO - 14:58:14: EPOCH 8 - PROGRESS: at 21.60% examples, 62720 words/s, in_qsize 7, out_qsize 0\n",
      "INFO - 14:58:15: EPOCH 8 - PROGRESS: at 21.98% examples, 62663 words/s, in_qsize 7, out_qsize 0\n",
      "INFO - 14:58:16: EPOCH 8 - PROGRESS: at 22.30% examples, 62786 words/s, in_qsize 7, out_qsize 0\n",
      "INFO - 14:58:17: EPOCH 8 - PROGRESS: at 22.66% examples, 62789 words/s, in_qsize 7, out_qsize 0\n",
      "INFO - 14:58:18: EPOCH 8 - PROGRESS: at 23.01% examples, 62670 words/s, in_qsize 7, out_qsize 0\n",
      "INFO - 14:58:19: EPOCH 8 - PROGRESS: at 23.39% examples, 62620 words/s, in_qsize 7, out_qsize 0\n",
      "INFO - 14:58:20: EPOCH 8 - PROGRESS: at 23.78% examples, 62559 words/s, in_qsize 7, out_qsize 0\n",
      "INFO - 14:58:21: EPOCH 8 - PROGRESS: at 24.16% examples, 62437 words/s, in_qsize 7, out_qsize 0\n",
      "INFO - 14:58:22: EPOCH 8 - PROGRESS: at 24.49% examples, 62275 words/s, in_qsize 7, out_qsize 0\n",
      "INFO - 14:58:24: EPOCH 8 - PROGRESS: at 24.90% examples, 62174 words/s, in_qsize 8, out_qsize 0\n",
      "INFO - 14:58:25: EPOCH 8 - PROGRESS: at 25.21% examples, 61841 words/s, in_qsize 7, out_qsize 0\n",
      "INFO - 14:58:26: EPOCH 8 - PROGRESS: at 25.49% examples, 61555 words/s, in_qsize 7, out_qsize 0\n",
      "INFO - 14:58:27: EPOCH 8 - PROGRESS: at 25.83% examples, 61330 words/s, in_qsize 7, out_qsize 0\n",
      "INFO - 14:58:28: EPOCH 8 - PROGRESS: at 26.13% examples, 61269 words/s, in_qsize 7, out_qsize 0\n",
      "INFO - 14:58:29: EPOCH 8 - PROGRESS: at 26.49% examples, 60946 words/s, in_qsize 7, out_qsize 0\n",
      "INFO - 14:58:30: EPOCH 8 - PROGRESS: at 26.78% examples, 60568 words/s, in_qsize 7, out_qsize 0\n",
      "INFO - 14:58:31: EPOCH 8 - PROGRESS: at 27.08% examples, 60344 words/s, in_qsize 7, out_qsize 0\n",
      "INFO - 14:58:32: EPOCH 8 - PROGRESS: at 27.25% examples, 60028 words/s, in_qsize 7, out_qsize 0\n",
      "INFO - 14:58:33: EPOCH 8 - PROGRESS: at 27.53% examples, 59928 words/s, in_qsize 7, out_qsize 0\n",
      "INFO - 14:58:34: EPOCH 8 - PROGRESS: at 27.77% examples, 59683 words/s, in_qsize 7, out_qsize 0\n",
      "INFO - 14:58:35: EPOCH 8 - PROGRESS: at 28.12% examples, 59532 words/s, in_qsize 7, out_qsize 0\n",
      "INFO - 14:58:37: EPOCH 8 - PROGRESS: at 28.43% examples, 59556 words/s, in_qsize 7, out_qsize 0\n",
      "INFO - 14:58:38: EPOCH 8 - PROGRESS: at 28.74% examples, 59590 words/s, in_qsize 7, out_qsize 0\n",
      "INFO - 14:58:39: EPOCH 8 - PROGRESS: at 29.13% examples, 59613 words/s, in_qsize 7, out_qsize 0\n",
      "INFO - 14:58:40: EPOCH 8 - PROGRESS: at 29.50% examples, 59709 words/s, in_qsize 7, out_qsize 0\n",
      "INFO - 14:58:41: EPOCH 8 - PROGRESS: at 29.99% examples, 59825 words/s, in_qsize 7, out_qsize 0\n",
      "INFO - 14:58:42: EPOCH 8 - PROGRESS: at 30.48% examples, 59908 words/s, in_qsize 7, out_qsize 0\n",
      "INFO - 14:58:43: EPOCH 8 - PROGRESS: at 30.92% examples, 60057 words/s, in_qsize 7, out_qsize 0\n",
      "INFO - 14:58:44: EPOCH 8 - PROGRESS: at 31.31% examples, 60065 words/s, in_qsize 7, out_qsize 0\n",
      "INFO - 14:58:45: EPOCH 8 - PROGRESS: at 31.76% examples, 60159 words/s, in_qsize 7, out_qsize 0\n",
      "INFO - 14:58:46: EPOCH 8 - PROGRESS: at 32.09% examples, 60373 words/s, in_qsize 7, out_qsize 0\n",
      "INFO - 14:58:47: EPOCH 8 - PROGRESS: at 32.37% examples, 60503 words/s, in_qsize 7, out_qsize 0\n"
     ]
    },
    {
     "name": "stderr",
     "output_type": "stream",
     "text": [
      "INFO - 14:58:48: EPOCH 8 - PROGRESS: at 32.70% examples, 60463 words/s, in_qsize 7, out_qsize 0\n",
      "INFO - 14:58:49: EPOCH 8 - PROGRESS: at 32.85% examples, 60167 words/s, in_qsize 7, out_qsize 0\n",
      "INFO - 14:58:50: EPOCH 8 - PROGRESS: at 33.19% examples, 60094 words/s, in_qsize 7, out_qsize 0\n",
      "INFO - 14:58:51: EPOCH 8 - PROGRESS: at 33.57% examples, 60059 words/s, in_qsize 7, out_qsize 0\n",
      "INFO - 14:58:52: EPOCH 8 - PROGRESS: at 33.81% examples, 59985 words/s, in_qsize 7, out_qsize 0\n",
      "INFO - 14:58:53: EPOCH 8 - PROGRESS: at 34.23% examples, 60089 words/s, in_qsize 7, out_qsize 0\n",
      "INFO - 14:58:54: EPOCH 8 - PROGRESS: at 34.47% examples, 60218 words/s, in_qsize 7, out_qsize 0\n",
      "INFO - 14:58:56: EPOCH 8 - PROGRESS: at 34.73% examples, 60192 words/s, in_qsize 7, out_qsize 0\n",
      "INFO - 14:58:57: EPOCH 8 - PROGRESS: at 34.99% examples, 60240 words/s, in_qsize 7, out_qsize 0\n",
      "INFO - 14:58:58: EPOCH 8 - PROGRESS: at 35.35% examples, 60294 words/s, in_qsize 7, out_qsize 0\n",
      "INFO - 14:58:59: EPOCH 8 - PROGRESS: at 35.68% examples, 60204 words/s, in_qsize 7, out_qsize 0\n",
      "INFO - 14:59:00: EPOCH 8 - PROGRESS: at 36.05% examples, 60147 words/s, in_qsize 7, out_qsize 0\n",
      "INFO - 14:59:01: EPOCH 8 - PROGRESS: at 36.49% examples, 60263 words/s, in_qsize 7, out_qsize 0\n",
      "INFO - 14:59:02: EPOCH 8 - PROGRESS: at 36.90% examples, 60307 words/s, in_qsize 7, out_qsize 0\n",
      "INFO - 14:59:03: EPOCH 8 - PROGRESS: at 37.24% examples, 60333 words/s, in_qsize 7, out_qsize 0\n",
      "INFO - 14:59:04: EPOCH 8 - PROGRESS: at 37.56% examples, 60277 words/s, in_qsize 7, out_qsize 0\n",
      "INFO - 14:59:05: EPOCH 8 - PROGRESS: at 37.80% examples, 60267 words/s, in_qsize 7, out_qsize 0\n",
      "INFO - 14:59:06: EPOCH 8 - PROGRESS: at 38.17% examples, 60290 words/s, in_qsize 7, out_qsize 0\n",
      "INFO - 14:59:08: EPOCH 8 - PROGRESS: at 38.56% examples, 60244 words/s, in_qsize 7, out_qsize 0\n",
      "INFO - 14:59:09: EPOCH 8 - PROGRESS: at 39.03% examples, 60257 words/s, in_qsize 7, out_qsize 0\n",
      "INFO - 14:59:10: EPOCH 8 - PROGRESS: at 39.44% examples, 60325 words/s, in_qsize 7, out_qsize 0\n",
      "INFO - 14:59:11: EPOCH 8 - PROGRESS: at 39.84% examples, 60322 words/s, in_qsize 7, out_qsize 0\n",
      "INFO - 14:59:12: EPOCH 8 - PROGRESS: at 40.26% examples, 60376 words/s, in_qsize 7, out_qsize 0\n",
      "INFO - 14:59:13: EPOCH 8 - PROGRESS: at 40.66% examples, 60427 words/s, in_qsize 7, out_qsize 0\n",
      "INFO - 14:59:14: EPOCH 8 - PROGRESS: at 41.17% examples, 60482 words/s, in_qsize 8, out_qsize 0\n",
      "INFO - 14:59:15: EPOCH 8 - PROGRESS: at 41.56% examples, 60550 words/s, in_qsize 7, out_qsize 0\n",
      "INFO - 14:59:16: EPOCH 8 - PROGRESS: at 41.81% examples, 60542 words/s, in_qsize 8, out_qsize 0\n",
      "INFO - 14:59:17: EPOCH 8 - PROGRESS: at 42.15% examples, 60389 words/s, in_qsize 7, out_qsize 0\n",
      "INFO - 14:59:18: EPOCH 8 - PROGRESS: at 42.55% examples, 60372 words/s, in_qsize 7, out_qsize 0\n",
      "INFO - 14:59:19: EPOCH 8 - PROGRESS: at 42.89% examples, 60389 words/s, in_qsize 7, out_qsize 0\n",
      "INFO - 14:59:20: EPOCH 8 - PROGRESS: at 43.33% examples, 60438 words/s, in_qsize 7, out_qsize 0\n",
      "INFO - 14:59:21: EPOCH 8 - PROGRESS: at 43.77% examples, 60501 words/s, in_qsize 7, out_qsize 0\n",
      "INFO - 14:59:22: EPOCH 8 - PROGRESS: at 44.24% examples, 60625 words/s, in_qsize 7, out_qsize 0\n",
      "INFO - 14:59:23: EPOCH 8 - PROGRESS: at 44.64% examples, 60643 words/s, in_qsize 7, out_qsize 0\n",
      "INFO - 14:59:24: EPOCH 8 - PROGRESS: at 44.99% examples, 60662 words/s, in_qsize 7, out_qsize 0\n",
      "INFO - 14:59:26: EPOCH 8 - PROGRESS: at 45.54% examples, 60766 words/s, in_qsize 7, out_qsize 0\n",
      "INFO - 14:59:27: EPOCH 8 - PROGRESS: at 45.88% examples, 60831 words/s, in_qsize 7, out_qsize 0\n",
      "INFO - 14:59:28: EPOCH 8 - PROGRESS: at 46.35% examples, 60992 words/s, in_qsize 7, out_qsize 0\n",
      "INFO - 14:59:29: EPOCH 8 - PROGRESS: at 46.70% examples, 60898 words/s, in_qsize 7, out_qsize 0\n",
      "INFO - 14:59:30: EPOCH 8 - PROGRESS: at 46.97% examples, 60913 words/s, in_qsize 7, out_qsize 0\n",
      "INFO - 14:59:31: EPOCH 8 - PROGRESS: at 47.43% examples, 60960 words/s, in_qsize 7, out_qsize 0\n",
      "INFO - 14:59:32: EPOCH 8 - PROGRESS: at 47.83% examples, 61034 words/s, in_qsize 7, out_qsize 0\n",
      "INFO - 14:59:33: EPOCH 8 - PROGRESS: at 48.12% examples, 61070 words/s, in_qsize 7, out_qsize 0\n",
      "INFO - 14:59:34: EPOCH 8 - PROGRESS: at 48.54% examples, 61091 words/s, in_qsize 7, out_qsize 0\n",
      "INFO - 14:59:35: EPOCH 8 - PROGRESS: at 48.96% examples, 61148 words/s, in_qsize 7, out_qsize 0\n",
      "INFO - 14:59:36: EPOCH 8 - PROGRESS: at 49.33% examples, 61169 words/s, in_qsize 7, out_qsize 0\n",
      "INFO - 14:59:37: EPOCH 8 - PROGRESS: at 49.70% examples, 61163 words/s, in_qsize 7, out_qsize 0\n",
      "INFO - 14:59:38: EPOCH 8 - PROGRESS: at 50.06% examples, 61152 words/s, in_qsize 7, out_qsize 0\n",
      "INFO - 14:59:39: EPOCH 8 - PROGRESS: at 50.29% examples, 61040 words/s, in_qsize 8, out_qsize 0\n",
      "INFO - 14:59:40: EPOCH 8 - PROGRESS: at 50.77% examples, 61040 words/s, in_qsize 7, out_qsize 0\n",
      "INFO - 14:59:41: EPOCH 8 - PROGRESS: at 51.08% examples, 61060 words/s, in_qsize 8, out_qsize 0\n",
      "INFO - 14:59:43: EPOCH 8 - PROGRESS: at 51.56% examples, 61104 words/s, in_qsize 7, out_qsize 0\n",
      "INFO - 14:59:44: EPOCH 8 - PROGRESS: at 51.98% examples, 61113 words/s, in_qsize 7, out_qsize 0\n",
      "INFO - 14:59:45: EPOCH 8 - PROGRESS: at 52.41% examples, 61108 words/s, in_qsize 7, out_qsize 0\n",
      "INFO - 14:59:46: EPOCH 8 - PROGRESS: at 52.74% examples, 61089 words/s, in_qsize 7, out_qsize 0\n",
      "INFO - 14:59:47: EPOCH 8 - PROGRESS: at 53.03% examples, 60993 words/s, in_qsize 7, out_qsize 0\n",
      "INFO - 14:59:48: EPOCH 8 - PROGRESS: at 53.45% examples, 61041 words/s, in_qsize 7, out_qsize 0\n",
      "INFO - 14:59:49: EPOCH 8 - PROGRESS: at 53.79% examples, 61082 words/s, in_qsize 7, out_qsize 0\n",
      "INFO - 14:59:50: EPOCH 8 - PROGRESS: at 54.22% examples, 61077 words/s, in_qsize 7, out_qsize 0\n",
      "INFO - 14:59:51: EPOCH 8 - PROGRESS: at 54.70% examples, 61075 words/s, in_qsize 7, out_qsize 0\n",
      "INFO - 14:59:52: EPOCH 8 - PROGRESS: at 55.10% examples, 61119 words/s, in_qsize 7, out_qsize 0\n",
      "INFO - 14:59:53: EPOCH 8 - PROGRESS: at 55.49% examples, 61139 words/s, in_qsize 7, out_qsize 0\n",
      "INFO - 14:59:54: EPOCH 8 - PROGRESS: at 55.86% examples, 61168 words/s, in_qsize 7, out_qsize 0\n",
      "INFO - 14:59:55: EPOCH 8 - PROGRESS: at 56.32% examples, 61163 words/s, in_qsize 7, out_qsize 0\n",
      "INFO - 14:59:56: EPOCH 8 - PROGRESS: at 56.79% examples, 61276 words/s, in_qsize 7, out_qsize 0\n",
      "INFO - 14:59:57: EPOCH 8 - PROGRESS: at 57.23% examples, 61273 words/s, in_qsize 7, out_qsize 0\n",
      "INFO - 14:59:58: EPOCH 8 - PROGRESS: at 57.53% examples, 61281 words/s, in_qsize 7, out_qsize 0\n",
      "INFO - 14:59:59: EPOCH 8 - PROGRESS: at 57.84% examples, 61221 words/s, in_qsize 7, out_qsize 0\n",
      "INFO - 15:00:00: EPOCH 8 - PROGRESS: at 58.14% examples, 61106 words/s, in_qsize 8, out_qsize 0\n",
      "INFO - 15:00:01: EPOCH 8 - PROGRESS: at 58.48% examples, 61069 words/s, in_qsize 7, out_qsize 0\n",
      "INFO - 15:00:03: EPOCH 8 - PROGRESS: at 58.80% examples, 60999 words/s, in_qsize 7, out_qsize 0\n",
      "INFO - 15:00:04: EPOCH 8 - PROGRESS: at 59.20% examples, 60894 words/s, in_qsize 7, out_qsize 0\n",
      "INFO - 15:00:05: EPOCH 8 - PROGRESS: at 59.54% examples, 60858 words/s, in_qsize 8, out_qsize 0\n",
      "INFO - 15:00:06: EPOCH 8 - PROGRESS: at 59.87% examples, 60767 words/s, in_qsize 7, out_qsize 0\n",
      "INFO - 15:00:07: EPOCH 8 - PROGRESS: at 60.23% examples, 60689 words/s, in_qsize 7, out_qsize 0\n",
      "INFO - 15:00:08: EPOCH 8 - PROGRESS: at 60.71% examples, 60686 words/s, in_qsize 7, out_qsize 0\n",
      "INFO - 15:00:10: EPOCH 8 - PROGRESS: at 61.09% examples, 60654 words/s, in_qsize 7, out_qsize 0\n",
      "INFO - 15:00:11: EPOCH 8 - PROGRESS: at 61.50% examples, 60686 words/s, in_qsize 7, out_qsize 0\n",
      "INFO - 15:00:12: EPOCH 8 - PROGRESS: at 61.84% examples, 60628 words/s, in_qsize 7, out_qsize 0\n",
      "INFO - 15:00:13: EPOCH 8 - PROGRESS: at 62.38% examples, 60710 words/s, in_qsize 7, out_qsize 0\n",
      "INFO - 15:00:14: EPOCH 8 - PROGRESS: at 62.62% examples, 60636 words/s, in_qsize 7, out_qsize 0\n",
      "INFO - 15:00:15: EPOCH 8 - PROGRESS: at 63.05% examples, 60666 words/s, in_qsize 7, out_qsize 0\n",
      "INFO - 15:00:16: EPOCH 8 - PROGRESS: at 63.42% examples, 60665 words/s, in_qsize 7, out_qsize 0\n",
      "INFO - 15:00:17: EPOCH 8 - PROGRESS: at 63.89% examples, 60646 words/s, in_qsize 7, out_qsize 0\n",
      "INFO - 15:00:18: EPOCH 8 - PROGRESS: at 64.27% examples, 60615 words/s, in_qsize 7, out_qsize 0\n",
      "INFO - 15:00:19: EPOCH 8 - PROGRESS: at 64.68% examples, 60612 words/s, in_qsize 7, out_qsize 0\n"
     ]
    },
    {
     "name": "stderr",
     "output_type": "stream",
     "text": [
      "INFO - 15:00:20: EPOCH 8 - PROGRESS: at 65.11% examples, 60665 words/s, in_qsize 7, out_qsize 0\n",
      "INFO - 15:00:21: EPOCH 8 - PROGRESS: at 65.56% examples, 60710 words/s, in_qsize 7, out_qsize 0\n",
      "INFO - 15:00:22: EPOCH 8 - PROGRESS: at 66.03% examples, 60744 words/s, in_qsize 7, out_qsize 0\n",
      "INFO - 15:00:23: EPOCH 8 - PROGRESS: at 66.42% examples, 60764 words/s, in_qsize 8, out_qsize 1\n",
      "INFO - 15:00:24: EPOCH 8 - PROGRESS: at 66.70% examples, 60794 words/s, in_qsize 8, out_qsize 0\n",
      "INFO - 15:00:25: EPOCH 8 - PROGRESS: at 67.10% examples, 60864 words/s, in_qsize 7, out_qsize 0\n",
      "INFO - 15:00:26: EPOCH 8 - PROGRESS: at 67.38% examples, 60849 words/s, in_qsize 7, out_qsize 0\n",
      "INFO - 15:00:27: EPOCH 8 - PROGRESS: at 67.73% examples, 60845 words/s, in_qsize 7, out_qsize 0\n",
      "INFO - 15:00:28: EPOCH 8 - PROGRESS: at 68.07% examples, 60872 words/s, in_qsize 7, out_qsize 0\n",
      "INFO - 15:00:30: EPOCH 8 - PROGRESS: at 68.46% examples, 60891 words/s, in_qsize 7, out_qsize 0\n",
      "INFO - 15:00:31: EPOCH 8 - PROGRESS: at 68.75% examples, 60887 words/s, in_qsize 7, out_qsize 0\n",
      "INFO - 15:00:32: EPOCH 8 - PROGRESS: at 68.98% examples, 60831 words/s, in_qsize 7, out_qsize 0\n",
      "INFO - 15:00:33: EPOCH 8 - PROGRESS: at 69.28% examples, 60781 words/s, in_qsize 8, out_qsize 0\n",
      "INFO - 15:00:34: EPOCH 8 - PROGRESS: at 69.72% examples, 60705 words/s, in_qsize 7, out_qsize 0\n",
      "INFO - 15:00:35: EPOCH 8 - PROGRESS: at 70.08% examples, 60731 words/s, in_qsize 7, out_qsize 0\n",
      "INFO - 15:00:36: EPOCH 8 - PROGRESS: at 70.50% examples, 60755 words/s, in_qsize 7, out_qsize 0\n",
      "INFO - 15:00:37: EPOCH 8 - PROGRESS: at 70.88% examples, 60720 words/s, in_qsize 7, out_qsize 0\n",
      "INFO - 15:00:38: EPOCH 8 - PROGRESS: at 71.08% examples, 60637 words/s, in_qsize 7, out_qsize 0\n",
      "INFO - 15:00:39: EPOCH 8 - PROGRESS: at 71.26% examples, 60566 words/s, in_qsize 7, out_qsize 0\n",
      "INFO - 15:00:40: EPOCH 8 - PROGRESS: at 71.64% examples, 60556 words/s, in_qsize 7, out_qsize 0\n",
      "INFO - 15:00:41: EPOCH 8 - PROGRESS: at 71.91% examples, 60522 words/s, in_qsize 7, out_qsize 0\n",
      "INFO - 15:00:43: EPOCH 8 - PROGRESS: at 72.23% examples, 60464 words/s, in_qsize 7, out_qsize 0\n",
      "INFO - 15:00:44: EPOCH 8 - PROGRESS: at 72.46% examples, 60312 words/s, in_qsize 8, out_qsize 0\n",
      "INFO - 15:00:45: EPOCH 8 - PROGRESS: at 72.75% examples, 60229 words/s, in_qsize 8, out_qsize 0\n",
      "INFO - 15:00:46: EPOCH 8 - PROGRESS: at 73.11% examples, 60188 words/s, in_qsize 7, out_qsize 0\n",
      "INFO - 15:00:47: EPOCH 8 - PROGRESS: at 73.31% examples, 60087 words/s, in_qsize 7, out_qsize 0\n",
      "INFO - 15:00:48: EPOCH 8 - PROGRESS: at 73.51% examples, 60055 words/s, in_qsize 8, out_qsize 0\n",
      "INFO - 15:00:49: EPOCH 8 - PROGRESS: at 73.82% examples, 60008 words/s, in_qsize 8, out_qsize 0\n",
      "INFO - 15:00:50: EPOCH 8 - PROGRESS: at 74.17% examples, 59941 words/s, in_qsize 7, out_qsize 0\n",
      "INFO - 15:00:51: EPOCH 8 - PROGRESS: at 74.67% examples, 59928 words/s, in_qsize 7, out_qsize 0\n",
      "INFO - 15:00:52: EPOCH 8 - PROGRESS: at 74.95% examples, 59842 words/s, in_qsize 7, out_qsize 0\n",
      "INFO - 15:00:53: EPOCH 8 - PROGRESS: at 75.25% examples, 59742 words/s, in_qsize 7, out_qsize 0\n",
      "INFO - 15:00:54: EPOCH 8 - PROGRESS: at 75.60% examples, 59737 words/s, in_qsize 7, out_qsize 0\n",
      "INFO - 15:00:55: EPOCH 8 - PROGRESS: at 75.87% examples, 59781 words/s, in_qsize 7, out_qsize 0\n",
      "INFO - 15:00:56: EPOCH 8 - PROGRESS: at 76.29% examples, 59816 words/s, in_qsize 7, out_qsize 0\n",
      "INFO - 15:00:57: EPOCH 8 - PROGRESS: at 76.70% examples, 59828 words/s, in_qsize 7, out_qsize 0\n",
      "INFO - 15:00:59: EPOCH 8 - PROGRESS: at 77.11% examples, 59802 words/s, in_qsize 7, out_qsize 0\n",
      "INFO - 15:01:00: EPOCH 8 - PROGRESS: at 77.59% examples, 59812 words/s, in_qsize 7, out_qsize 0\n",
      "INFO - 15:01:01: EPOCH 8 - PROGRESS: at 78.03% examples, 59832 words/s, in_qsize 7, out_qsize 0\n",
      "INFO - 15:01:02: EPOCH 8 - PROGRESS: at 78.54% examples, 59846 words/s, in_qsize 7, out_qsize 0\n",
      "INFO - 15:01:03: EPOCH 8 - PROGRESS: at 78.92% examples, 59846 words/s, in_qsize 7, out_qsize 0\n",
      "INFO - 15:01:04: EPOCH 8 - PROGRESS: at 79.24% examples, 59848 words/s, in_qsize 7, out_qsize 0\n",
      "INFO - 15:01:05: EPOCH 8 - PROGRESS: at 79.73% examples, 59916 words/s, in_qsize 7, out_qsize 0\n",
      "INFO - 15:01:06: EPOCH 8 - PROGRESS: at 80.14% examples, 59911 words/s, in_qsize 7, out_qsize 0\n",
      "INFO - 15:01:07: EPOCH 8 - PROGRESS: at 80.50% examples, 59933 words/s, in_qsize 7, out_qsize 0\n",
      "INFO - 15:01:08: EPOCH 8 - PROGRESS: at 80.63% examples, 59939 words/s, in_qsize 7, out_qsize 0\n",
      "INFO - 15:01:09: EPOCH 8 - PROGRESS: at 80.95% examples, 59907 words/s, in_qsize 7, out_qsize 0\n",
      "INFO - 15:01:10: EPOCH 8 - PROGRESS: at 81.35% examples, 59942 words/s, in_qsize 7, out_qsize 0\n",
      "INFO - 15:01:11: EPOCH 8 - PROGRESS: at 81.74% examples, 59938 words/s, in_qsize 7, out_qsize 0\n",
      "INFO - 15:01:12: EPOCH 8 - PROGRESS: at 82.07% examples, 59947 words/s, in_qsize 7, out_qsize 0\n",
      "INFO - 15:01:13: EPOCH 8 - PROGRESS: at 82.50% examples, 59953 words/s, in_qsize 7, out_qsize 0\n",
      "INFO - 15:01:14: EPOCH 8 - PROGRESS: at 82.98% examples, 59980 words/s, in_qsize 7, out_qsize 0\n",
      "INFO - 15:01:15: EPOCH 8 - PROGRESS: at 83.39% examples, 60032 words/s, in_qsize 7, out_qsize 0\n",
      "INFO - 15:01:16: EPOCH 8 - PROGRESS: at 83.74% examples, 60058 words/s, in_qsize 7, out_qsize 0\n",
      "INFO - 15:01:17: EPOCH 8 - PROGRESS: at 84.23% examples, 60068 words/s, in_qsize 7, out_qsize 0\n",
      "INFO - 15:01:18: EPOCH 8 - PROGRESS: at 84.74% examples, 60129 words/s, in_qsize 7, out_qsize 0\n",
      "INFO - 15:01:20: EPOCH 8 - PROGRESS: at 85.19% examples, 60127 words/s, in_qsize 7, out_qsize 0\n",
      "INFO - 15:01:21: EPOCH 8 - PROGRESS: at 85.44% examples, 60151 words/s, in_qsize 7, out_qsize 0\n",
      "INFO - 15:01:22: EPOCH 8 - PROGRESS: at 85.91% examples, 60170 words/s, in_qsize 8, out_qsize 0\n",
      "INFO - 15:01:23: EPOCH 8 - PROGRESS: at 86.30% examples, 60173 words/s, in_qsize 7, out_qsize 0\n",
      "INFO - 15:01:24: EPOCH 8 - PROGRESS: at 86.49% examples, 60168 words/s, in_qsize 7, out_qsize 0\n",
      "INFO - 15:01:25: EPOCH 8 - PROGRESS: at 86.62% examples, 60186 words/s, in_qsize 7, out_qsize 0\n",
      "INFO - 15:01:26: EPOCH 8 - PROGRESS: at 87.04% examples, 60232 words/s, in_qsize 7, out_qsize 0\n",
      "INFO - 15:01:27: EPOCH 8 - PROGRESS: at 87.48% examples, 60246 words/s, in_qsize 7, out_qsize 0\n",
      "INFO - 15:01:28: EPOCH 8 - PROGRESS: at 87.95% examples, 60312 words/s, in_qsize 7, out_qsize 0\n",
      "INFO - 15:01:29: EPOCH 8 - PROGRESS: at 88.41% examples, 60327 words/s, in_qsize 7, out_qsize 0\n",
      "INFO - 15:01:30: EPOCH 8 - PROGRESS: at 88.89% examples, 60357 words/s, in_qsize 7, out_qsize 0\n",
      "INFO - 15:01:31: EPOCH 8 - PROGRESS: at 89.30% examples, 60394 words/s, in_qsize 7, out_qsize 0\n",
      "INFO - 15:01:32: EPOCH 8 - PROGRESS: at 89.87% examples, 60439 words/s, in_qsize 7, out_qsize 0\n",
      "INFO - 15:01:33: EPOCH 8 - PROGRESS: at 90.35% examples, 60501 words/s, in_qsize 8, out_qsize 0\n",
      "INFO - 15:01:34: EPOCH 8 - PROGRESS: at 90.81% examples, 60518 words/s, in_qsize 7, out_qsize 0\n",
      "INFO - 15:01:35: EPOCH 8 - PROGRESS: at 91.20% examples, 60541 words/s, in_qsize 7, out_qsize 0\n",
      "INFO - 15:01:37: EPOCH 8 - PROGRESS: at 91.63% examples, 60564 words/s, in_qsize 7, out_qsize 0\n",
      "INFO - 15:01:38: EPOCH 8 - PROGRESS: at 92.11% examples, 60628 words/s, in_qsize 7, out_qsize 0\n",
      "INFO - 15:01:39: EPOCH 8 - PROGRESS: at 92.55% examples, 60648 words/s, in_qsize 7, out_qsize 0\n",
      "INFO - 15:01:40: EPOCH 8 - PROGRESS: at 92.95% examples, 60651 words/s, in_qsize 7, out_qsize 0\n",
      "INFO - 15:01:41: EPOCH 8 - PROGRESS: at 93.43% examples, 60708 words/s, in_qsize 7, out_qsize 0\n",
      "INFO - 15:01:42: EPOCH 8 - PROGRESS: at 93.88% examples, 60722 words/s, in_qsize 7, out_qsize 0\n",
      "INFO - 15:01:43: EPOCH 8 - PROGRESS: at 94.32% examples, 60775 words/s, in_qsize 8, out_qsize 0\n",
      "INFO - 15:01:44: EPOCH 8 - PROGRESS: at 94.61% examples, 60817 words/s, in_qsize 7, out_qsize 0\n",
      "INFO - 15:01:45: EPOCH 8 - PROGRESS: at 94.94% examples, 60835 words/s, in_qsize 7, out_qsize 0\n",
      "INFO - 15:01:46: EPOCH 8 - PROGRESS: at 95.35% examples, 60847 words/s, in_qsize 7, out_qsize 0\n",
      "INFO - 15:01:47: EPOCH 8 - PROGRESS: at 95.60% examples, 60868 words/s, in_qsize 7, out_qsize 0\n",
      "INFO - 15:01:48: EPOCH 8 - PROGRESS: at 95.87% examples, 60900 words/s, in_qsize 7, out_qsize 0\n",
      "INFO - 15:01:49: EPOCH 8 - PROGRESS: at 96.22% examples, 60904 words/s, in_qsize 7, out_qsize 0\n",
      "INFO - 15:01:50: EPOCH 8 - PROGRESS: at 96.70% examples, 60974 words/s, in_qsize 7, out_qsize 0\n"
     ]
    },
    {
     "name": "stderr",
     "output_type": "stream",
     "text": [
      "INFO - 15:01:51: EPOCH 8 - PROGRESS: at 97.03% examples, 60976 words/s, in_qsize 7, out_qsize 0\n",
      "INFO - 15:01:52: EPOCH 8 - PROGRESS: at 97.41% examples, 61005 words/s, in_qsize 7, out_qsize 0\n",
      "INFO - 15:01:53: EPOCH 8 - PROGRESS: at 97.88% examples, 61050 words/s, in_qsize 7, out_qsize 0\n",
      "INFO - 15:01:54: EPOCH 8 - PROGRESS: at 98.27% examples, 61050 words/s, in_qsize 7, out_qsize 0\n",
      "INFO - 15:01:55: EPOCH 8 - PROGRESS: at 98.70% examples, 61076 words/s, in_qsize 7, out_qsize 0\n",
      "INFO - 15:01:56: EPOCH 8 - PROGRESS: at 99.01% examples, 61106 words/s, in_qsize 7, out_qsize 0\n",
      "INFO - 15:01:57: EPOCH 8 - PROGRESS: at 99.38% examples, 61117 words/s, in_qsize 7, out_qsize 0\n",
      "INFO - 15:01:58: EPOCH 8 - PROGRESS: at 99.76% examples, 61125 words/s, in_qsize 6, out_qsize 0\n",
      "INFO - 15:01:59: worker thread finished; awaiting finish of 3 more threads\n",
      "INFO - 15:01:59: worker thread finished; awaiting finish of 2 more threads\n",
      "INFO - 15:01:59: worker thread finished; awaiting finish of 1 more threads\n",
      "INFO - 15:01:59: worker thread finished; awaiting finish of 0 more threads\n",
      "INFO - 15:01:59: EPOCH - 8 : training on 31973755 raw words (17364021 effective words) took 284.0s, 61138 effective words/s\n",
      "INFO - 15:02:00: EPOCH 9 - PROGRESS: at 0.20% examples, 53074 words/s, in_qsize 7, out_qsize 0\n",
      "INFO - 15:02:01: EPOCH 9 - PROGRESS: at 0.54% examples, 56026 words/s, in_qsize 7, out_qsize 0\n",
      "INFO - 15:02:02: EPOCH 9 - PROGRESS: at 0.91% examples, 53514 words/s, in_qsize 7, out_qsize 0\n",
      "INFO - 15:02:03: EPOCH 9 - PROGRESS: at 1.38% examples, 54549 words/s, in_qsize 7, out_qsize 0\n",
      "INFO - 15:02:04: EPOCH 9 - PROGRESS: at 1.88% examples, 54801 words/s, in_qsize 7, out_qsize 0\n",
      "INFO - 15:02:06: EPOCH 9 - PROGRESS: at 2.24% examples, 55617 words/s, in_qsize 7, out_qsize 0\n",
      "INFO - 15:02:07: EPOCH 9 - PROGRESS: at 2.47% examples, 54331 words/s, in_qsize 7, out_qsize 0\n",
      "INFO - 15:02:08: EPOCH 9 - PROGRESS: at 2.88% examples, 55297 words/s, in_qsize 7, out_qsize 0\n",
      "INFO - 15:02:09: EPOCH 9 - PROGRESS: at 3.34% examples, 56952 words/s, in_qsize 7, out_qsize 0\n",
      "INFO - 15:02:10: EPOCH 9 - PROGRESS: at 3.90% examples, 58427 words/s, in_qsize 7, out_qsize 0\n",
      "INFO - 15:02:11: EPOCH 9 - PROGRESS: at 4.33% examples, 58589 words/s, in_qsize 7, out_qsize 0\n",
      "INFO - 15:02:12: EPOCH 9 - PROGRESS: at 4.78% examples, 59375 words/s, in_qsize 7, out_qsize 0\n",
      "INFO - 15:02:13: EPOCH 9 - PROGRESS: at 5.06% examples, 58389 words/s, in_qsize 7, out_qsize 0\n",
      "INFO - 15:02:14: EPOCH 9 - PROGRESS: at 5.39% examples, 58135 words/s, in_qsize 7, out_qsize 0\n",
      "INFO - 15:02:15: EPOCH 9 - PROGRESS: at 5.70% examples, 58513 words/s, in_qsize 7, out_qsize 0\n",
      "INFO - 15:02:17: EPOCH 9 - PROGRESS: at 6.06% examples, 58806 words/s, in_qsize 8, out_qsize 0\n",
      "INFO - 15:02:18: EPOCH 9 - PROGRESS: at 6.34% examples, 59334 words/s, in_qsize 7, out_qsize 0\n",
      "INFO - 15:02:19: EPOCH 9 - PROGRESS: at 6.85% examples, 59722 words/s, in_qsize 7, out_qsize 0\n",
      "INFO - 15:02:20: EPOCH 9 - PROGRESS: at 7.35% examples, 60170 words/s, in_qsize 7, out_qsize 0\n",
      "INFO - 15:02:21: EPOCH 9 - PROGRESS: at 7.67% examples, 60288 words/s, in_qsize 7, out_qsize 0\n",
      "INFO - 15:02:22: EPOCH 9 - PROGRESS: at 8.04% examples, 59717 words/s, in_qsize 7, out_qsize 0\n",
      "INFO - 15:02:23: EPOCH 9 - PROGRESS: at 8.53% examples, 59957 words/s, in_qsize 7, out_qsize 0\n",
      "INFO - 15:02:24: EPOCH 9 - PROGRESS: at 8.99% examples, 60150 words/s, in_qsize 7, out_qsize 0\n",
      "INFO - 15:02:25: EPOCH 9 - PROGRESS: at 9.13% examples, 60110 words/s, in_qsize 7, out_qsize 0\n",
      "INFO - 15:02:26: EPOCH 9 - PROGRESS: at 9.59% examples, 60464 words/s, in_qsize 7, out_qsize 0\n",
      "INFO - 15:02:27: EPOCH 9 - PROGRESS: at 10.04% examples, 60802 words/s, in_qsize 7, out_qsize 0\n",
      "INFO - 15:02:28: EPOCH 9 - PROGRESS: at 10.54% examples, 61078 words/s, in_qsize 7, out_qsize 0\n",
      "INFO - 15:02:29: EPOCH 9 - PROGRESS: at 11.04% examples, 61190 words/s, in_qsize 7, out_qsize 0\n",
      "INFO - 15:02:30: EPOCH 9 - PROGRESS: at 11.32% examples, 61553 words/s, in_qsize 7, out_qsize 0\n",
      "INFO - 15:02:31: EPOCH 9 - PROGRESS: at 11.59% examples, 61477 words/s, in_qsize 7, out_qsize 0\n",
      "INFO - 15:02:32: EPOCH 9 - PROGRESS: at 11.93% examples, 61872 words/s, in_qsize 7, out_qsize 0\n",
      "INFO - 15:02:33: EPOCH 9 - PROGRESS: at 12.44% examples, 61866 words/s, in_qsize 7, out_qsize 0\n",
      "INFO - 15:02:34: EPOCH 9 - PROGRESS: at 12.88% examples, 61829 words/s, in_qsize 7, out_qsize 0\n",
      "INFO - 15:02:35: EPOCH 9 - PROGRESS: at 13.31% examples, 62058 words/s, in_qsize 7, out_qsize 0\n",
      "INFO - 15:02:37: EPOCH 9 - PROGRESS: at 13.81% examples, 62099 words/s, in_qsize 7, out_qsize 0\n",
      "INFO - 15:02:38: EPOCH 9 - PROGRESS: at 14.15% examples, 62081 words/s, in_qsize 7, out_qsize 0\n",
      "INFO - 15:02:39: EPOCH 9 - PROGRESS: at 14.54% examples, 62009 words/s, in_qsize 7, out_qsize 0\n",
      "INFO - 15:02:40: EPOCH 9 - PROGRESS: at 14.77% examples, 62091 words/s, in_qsize 7, out_qsize 0\n",
      "INFO - 15:02:41: EPOCH 9 - PROGRESS: at 15.08% examples, 62234 words/s, in_qsize 7, out_qsize 0\n",
      "INFO - 15:02:42: EPOCH 9 - PROGRESS: at 15.44% examples, 62271 words/s, in_qsize 7, out_qsize 0\n",
      "INFO - 15:02:43: EPOCH 9 - PROGRESS: at 15.74% examples, 62031 words/s, in_qsize 7, out_qsize 0\n",
      "INFO - 15:02:44: EPOCH 9 - PROGRESS: at 16.06% examples, 62103 words/s, in_qsize 7, out_qsize 0\n",
      "INFO - 15:02:45: EPOCH 9 - PROGRESS: at 16.56% examples, 62242 words/s, in_qsize 7, out_qsize 0\n",
      "INFO - 15:02:46: EPOCH 9 - PROGRESS: at 17.00% examples, 62133 words/s, in_qsize 7, out_qsize 0\n",
      "INFO - 15:02:47: EPOCH 9 - PROGRESS: at 17.46% examples, 62240 words/s, in_qsize 7, out_qsize 0\n",
      "INFO - 15:02:48: EPOCH 9 - PROGRESS: at 17.74% examples, 62185 words/s, in_qsize 7, out_qsize 0\n",
      "INFO - 15:02:49: EPOCH 9 - PROGRESS: at 18.22% examples, 62170 words/s, in_qsize 7, out_qsize 0\n",
      "INFO - 15:02:50: EPOCH 9 - PROGRESS: at 18.66% examples, 62175 words/s, in_qsize 7, out_qsize 0\n",
      "INFO - 15:02:51: EPOCH 9 - PROGRESS: at 19.07% examples, 62148 words/s, in_qsize 7, out_qsize 0\n",
      "INFO - 15:02:53: EPOCH 9 - PROGRESS: at 19.55% examples, 62318 words/s, in_qsize 7, out_qsize 0\n",
      "INFO - 15:02:54: EPOCH 9 - PROGRESS: at 19.80% examples, 62276 words/s, in_qsize 8, out_qsize 0\n",
      "INFO - 15:02:55: EPOCH 9 - PROGRESS: at 20.19% examples, 62193 words/s, in_qsize 7, out_qsize 0\n",
      "INFO - 15:02:56: EPOCH 9 - PROGRESS: at 20.62% examples, 62252 words/s, in_qsize 7, out_qsize 0\n",
      "INFO - 15:02:57: EPOCH 9 - PROGRESS: at 21.07% examples, 62419 words/s, in_qsize 7, out_qsize 0\n",
      "INFO - 15:02:58: EPOCH 9 - PROGRESS: at 21.46% examples, 62459 words/s, in_qsize 7, out_qsize 0\n",
      "INFO - 15:02:59: EPOCH 9 - PROGRESS: at 21.84% examples, 62383 words/s, in_qsize 7, out_qsize 0\n",
      "INFO - 15:03:00: EPOCH 9 - PROGRESS: at 22.14% examples, 62314 words/s, in_qsize 7, out_qsize 0\n",
      "INFO - 15:03:01: EPOCH 9 - PROGRESS: at 22.45% examples, 62356 words/s, in_qsize 7, out_qsize 0\n",
      "INFO - 15:03:02: EPOCH 9 - PROGRESS: at 22.79% examples, 62355 words/s, in_qsize 7, out_qsize 0\n",
      "INFO - 15:03:03: EPOCH 9 - PROGRESS: at 23.15% examples, 62302 words/s, in_qsize 7, out_qsize 0\n",
      "INFO - 15:03:04: EPOCH 9 - PROGRESS: at 23.49% examples, 62069 words/s, in_qsize 7, out_qsize 0\n",
      "INFO - 15:03:05: EPOCH 9 - PROGRESS: at 23.95% examples, 61920 words/s, in_qsize 7, out_qsize 0\n",
      "INFO - 15:03:06: EPOCH 9 - PROGRESS: at 24.33% examples, 61879 words/s, in_qsize 7, out_qsize 0\n",
      "INFO - 15:03:08: EPOCH 9 - PROGRESS: at 24.86% examples, 62105 words/s, in_qsize 8, out_qsize 0\n",
      "INFO - 15:03:09: EPOCH 9 - PROGRESS: at 25.28% examples, 62132 words/s, in_qsize 7, out_qsize 0\n",
      "INFO - 15:03:10: EPOCH 9 - PROGRESS: at 25.71% examples, 62047 words/s, in_qsize 7, out_qsize 0\n",
      "INFO - 15:03:11: EPOCH 9 - PROGRESS: at 25.99% examples, 61869 words/s, in_qsize 7, out_qsize 0\n",
      "INFO - 15:03:12: EPOCH 9 - PROGRESS: at 26.25% examples, 61631 words/s, in_qsize 8, out_qsize 1\n",
      "INFO - 15:03:13: EPOCH 9 - PROGRESS: at 26.74% examples, 61654 words/s, in_qsize 7, out_qsize 0\n",
      "INFO - 15:03:14: EPOCH 9 - PROGRESS: at 27.11% examples, 61621 words/s, in_qsize 7, out_qsize 0\n",
      "INFO - 15:03:15: EPOCH 9 - PROGRESS: at 27.35% examples, 61380 words/s, in_qsize 7, out_qsize 0\n",
      "INFO - 15:03:16: EPOCH 9 - PROGRESS: at 27.73% examples, 61262 words/s, in_qsize 7, out_qsize 0\n",
      "INFO - 15:03:17: EPOCH 9 - PROGRESS: at 28.12% examples, 61159 words/s, in_qsize 7, out_qsize 0\n",
      "INFO - 15:03:18: EPOCH 9 - PROGRESS: at 28.43% examples, 61139 words/s, in_qsize 7, out_qsize 0\n"
     ]
    },
    {
     "name": "stderr",
     "output_type": "stream",
     "text": [
      "INFO - 15:03:20: EPOCH 9 - PROGRESS: at 28.74% examples, 61064 words/s, in_qsize 7, out_qsize 0\n",
      "INFO - 15:03:21: EPOCH 9 - PROGRESS: at 29.11% examples, 60953 words/s, in_qsize 7, out_qsize 0\n",
      "INFO - 15:03:22: EPOCH 9 - PROGRESS: at 29.39% examples, 60826 words/s, in_qsize 7, out_qsize 0\n",
      "INFO - 15:03:23: EPOCH 9 - PROGRESS: at 29.83% examples, 60819 words/s, in_qsize 7, out_qsize 0\n",
      "INFO - 15:03:24: EPOCH 9 - PROGRESS: at 30.18% examples, 60767 words/s, in_qsize 7, out_qsize 0\n",
      "INFO - 15:03:25: EPOCH 9 - PROGRESS: at 30.59% examples, 60828 words/s, in_qsize 7, out_qsize 0\n",
      "INFO - 15:03:26: EPOCH 9 - PROGRESS: at 31.06% examples, 60965 words/s, in_qsize 7, out_qsize 0\n",
      "INFO - 15:03:27: EPOCH 9 - PROGRESS: at 31.48% examples, 60954 words/s, in_qsize 7, out_qsize 0\n",
      "INFO - 15:03:28: EPOCH 9 - PROGRESS: at 31.81% examples, 61041 words/s, in_qsize 7, out_qsize 0\n",
      "INFO - 15:03:29: EPOCH 9 - PROGRESS: at 32.11% examples, 61051 words/s, in_qsize 7, out_qsize 0\n",
      "INFO - 15:03:30: EPOCH 9 - PROGRESS: at 32.40% examples, 61083 words/s, in_qsize 8, out_qsize 0\n",
      "INFO - 15:03:31: EPOCH 9 - PROGRESS: at 32.78% examples, 61144 words/s, in_qsize 7, out_qsize 0\n",
      "INFO - 15:03:32: EPOCH 9 - PROGRESS: at 33.19% examples, 61274 words/s, in_qsize 7, out_qsize 0\n",
      "INFO - 15:03:33: EPOCH 9 - PROGRESS: at 33.59% examples, 61313 words/s, in_qsize 7, out_qsize 0\n",
      "INFO - 15:03:35: EPOCH 9 - PROGRESS: at 33.91% examples, 61296 words/s, in_qsize 7, out_qsize 0\n",
      "INFO - 15:03:36: EPOCH 9 - PROGRESS: at 34.31% examples, 61454 words/s, in_qsize 7, out_qsize 0\n",
      "INFO - 15:03:37: EPOCH 9 - PROGRESS: at 34.48% examples, 61388 words/s, in_qsize 7, out_qsize 0\n",
      "INFO - 15:03:38: EPOCH 9 - PROGRESS: at 34.73% examples, 61416 words/s, in_qsize 7, out_qsize 0\n",
      "INFO - 15:03:39: EPOCH 9 - PROGRESS: at 34.99% examples, 61386 words/s, in_qsize 7, out_qsize 0\n",
      "INFO - 15:03:40: EPOCH 9 - PROGRESS: at 35.35% examples, 61414 words/s, in_qsize 7, out_qsize 0\n",
      "INFO - 15:03:41: EPOCH 9 - PROGRESS: at 35.80% examples, 61413 words/s, in_qsize 7, out_qsize 0\n",
      "INFO - 15:03:42: EPOCH 9 - PROGRESS: at 36.16% examples, 61430 words/s, in_qsize 7, out_qsize 0\n",
      "INFO - 15:03:43: EPOCH 9 - PROGRESS: at 36.63% examples, 61508 words/s, in_qsize 7, out_qsize 0\n",
      "INFO - 15:03:44: EPOCH 9 - PROGRESS: at 36.95% examples, 61497 words/s, in_qsize 7, out_qsize 0\n",
      "INFO - 15:03:45: EPOCH 9 - PROGRESS: at 37.36% examples, 61557 words/s, in_qsize 7, out_qsize 0\n",
      "INFO - 15:03:46: EPOCH 9 - PROGRESS: at 37.70% examples, 61595 words/s, in_qsize 7, out_qsize 0\n",
      "INFO - 15:03:47: EPOCH 9 - PROGRESS: at 38.01% examples, 61667 words/s, in_qsize 7, out_qsize 0\n",
      "INFO - 15:03:48: EPOCH 9 - PROGRESS: at 38.44% examples, 61722 words/s, in_qsize 7, out_qsize 0\n",
      "INFO - 15:03:49: EPOCH 9 - PROGRESS: at 38.73% examples, 61620 words/s, in_qsize 7, out_qsize 0\n",
      "INFO - 15:03:50: EPOCH 9 - PROGRESS: at 39.17% examples, 61634 words/s, in_qsize 7, out_qsize 0\n",
      "INFO - 15:03:51: EPOCH 9 - PROGRESS: at 39.56% examples, 61621 words/s, in_qsize 7, out_qsize 0\n",
      "INFO - 15:03:52: EPOCH 9 - PROGRESS: at 39.99% examples, 61700 words/s, in_qsize 7, out_qsize 0\n",
      "INFO - 15:03:54: EPOCH 9 - PROGRESS: at 40.47% examples, 61705 words/s, in_qsize 8, out_qsize 0\n",
      "INFO - 15:03:55: EPOCH 9 - PROGRESS: at 40.80% examples, 61682 words/s, in_qsize 7, out_qsize 0\n",
      "INFO - 15:03:56: EPOCH 9 - PROGRESS: at 41.32% examples, 61704 words/s, in_qsize 7, out_qsize 0\n",
      "INFO - 15:03:57: EPOCH 9 - PROGRESS: at 41.67% examples, 61747 words/s, in_qsize 7, out_qsize 0\n",
      "INFO - 15:03:58: EPOCH 9 - PROGRESS: at 41.96% examples, 61832 words/s, in_qsize 7, out_qsize 0\n",
      "INFO - 15:03:59: EPOCH 9 - PROGRESS: at 42.43% examples, 61804 words/s, in_qsize 7, out_qsize 0\n",
      "INFO - 15:04:00: EPOCH 9 - PROGRESS: at 42.81% examples, 61845 words/s, in_qsize 7, out_qsize 0\n",
      "INFO - 15:04:01: EPOCH 9 - PROGRESS: at 43.26% examples, 61921 words/s, in_qsize 7, out_qsize 0\n",
      "INFO - 15:04:02: EPOCH 9 - PROGRESS: at 43.70% examples, 61985 words/s, in_qsize 7, out_qsize 0\n",
      "INFO - 15:04:03: EPOCH 9 - PROGRESS: at 44.15% examples, 62040 words/s, in_qsize 7, out_qsize 0\n",
      "INFO - 15:04:04: EPOCH 9 - PROGRESS: at 44.51% examples, 62059 words/s, in_qsize 7, out_qsize 0\n",
      "INFO - 15:04:05: EPOCH 9 - PROGRESS: at 44.81% examples, 62059 words/s, in_qsize 7, out_qsize 0\n",
      "INFO - 15:04:06: EPOCH 9 - PROGRESS: at 45.25% examples, 62032 words/s, in_qsize 7, out_qsize 0\n",
      "INFO - 15:04:07: EPOCH 9 - PROGRESS: at 45.54% examples, 61918 words/s, in_qsize 8, out_qsize 0\n",
      "INFO - 15:04:08: EPOCH 9 - PROGRESS: at 45.97% examples, 62052 words/s, in_qsize 7, out_qsize 0\n",
      "INFO - 15:04:09: EPOCH 9 - PROGRESS: at 46.30% examples, 62018 words/s, in_qsize 7, out_qsize 0\n",
      "INFO - 15:04:10: EPOCH 9 - PROGRESS: at 46.71% examples, 62017 words/s, in_qsize 7, out_qsize 0\n",
      "INFO - 15:04:11: EPOCH 9 - PROGRESS: at 46.98% examples, 62087 words/s, in_qsize 7, out_qsize 0\n",
      "INFO - 15:04:12: EPOCH 9 - PROGRESS: at 47.43% examples, 62115 words/s, in_qsize 7, out_qsize 0\n",
      "INFO - 15:04:13: EPOCH 9 - PROGRESS: at 47.68% examples, 62033 words/s, in_qsize 7, out_qsize 0\n",
      "INFO - 15:04:15: EPOCH 9 - PROGRESS: at 48.05% examples, 61966 words/s, in_qsize 7, out_qsize 0\n",
      "INFO - 15:04:16: EPOCH 9 - PROGRESS: at 48.24% examples, 61847 words/s, in_qsize 7, out_qsize 0\n",
      "INFO - 15:04:17: EPOCH 9 - PROGRESS: at 48.69% examples, 61896 words/s, in_qsize 7, out_qsize 0\n",
      "INFO - 15:04:18: EPOCH 9 - PROGRESS: at 49.12% examples, 61909 words/s, in_qsize 7, out_qsize 0\n",
      "INFO - 15:04:19: EPOCH 9 - PROGRESS: at 49.49% examples, 61923 words/s, in_qsize 7, out_qsize 0\n",
      "INFO - 15:04:20: EPOCH 9 - PROGRESS: at 49.83% examples, 61890 words/s, in_qsize 7, out_qsize 0\n",
      "INFO - 15:04:21: EPOCH 9 - PROGRESS: at 50.18% examples, 61916 words/s, in_qsize 7, out_qsize 0\n",
      "INFO - 15:04:22: EPOCH 9 - PROGRESS: at 50.62% examples, 61944 words/s, in_qsize 8, out_qsize 0\n",
      "INFO - 15:04:23: EPOCH 9 - PROGRESS: at 51.01% examples, 61854 words/s, in_qsize 8, out_qsize 0\n",
      "INFO - 15:04:24: EPOCH 9 - PROGRESS: at 51.24% examples, 61766 words/s, in_qsize 8, out_qsize 0\n",
      "INFO - 15:04:25: EPOCH 9 - PROGRESS: at 51.51% examples, 61685 words/s, in_qsize 7, out_qsize 0\n",
      "INFO - 15:04:26: EPOCH 9 - PROGRESS: at 51.87% examples, 61612 words/s, in_qsize 7, out_qsize 0\n",
      "INFO - 15:04:27: EPOCH 9 - PROGRESS: at 52.28% examples, 61564 words/s, in_qsize 7, out_qsize 0\n",
      "INFO - 15:04:28: EPOCH 9 - PROGRESS: at 52.55% examples, 61459 words/s, in_qsize 7, out_qsize 0\n",
      "INFO - 15:04:29: EPOCH 9 - PROGRESS: at 52.80% examples, 61333 words/s, in_qsize 7, out_qsize 0\n",
      "INFO - 15:04:31: EPOCH 9 - PROGRESS: at 53.16% examples, 61241 words/s, in_qsize 7, out_qsize 0\n",
      "INFO - 15:04:32: EPOCH 9 - PROGRESS: at 53.45% examples, 61196 words/s, in_qsize 8, out_qsize 0\n",
      "INFO - 15:04:33: EPOCH 9 - PROGRESS: at 53.74% examples, 61129 words/s, in_qsize 7, out_qsize 0\n",
      "INFO - 15:04:34: EPOCH 9 - PROGRESS: at 54.00% examples, 60983 words/s, in_qsize 7, out_qsize 0\n",
      "INFO - 15:04:35: EPOCH 9 - PROGRESS: at 54.37% examples, 60881 words/s, in_qsize 7, out_qsize 0\n",
      "INFO - 15:04:36: EPOCH 9 - PROGRESS: at 54.70% examples, 60763 words/s, in_qsize 7, out_qsize 0\n",
      "INFO - 15:04:37: EPOCH 9 - PROGRESS: at 55.06% examples, 60752 words/s, in_qsize 7, out_qsize 0\n",
      "INFO - 15:04:38: EPOCH 9 - PROGRESS: at 55.40% examples, 60681 words/s, in_qsize 8, out_qsize 0\n",
      "INFO - 15:04:39: EPOCH 9 - PROGRESS: at 55.69% examples, 60558 words/s, in_qsize 7, out_qsize 0\n",
      "INFO - 15:04:40: EPOCH 9 - PROGRESS: at 56.04% examples, 60521 words/s, in_qsize 7, out_qsize 0\n",
      "INFO - 15:04:41: EPOCH 9 - PROGRESS: at 56.45% examples, 60490 words/s, in_qsize 7, out_qsize 0\n",
      "INFO - 15:04:42: EPOCH 9 - PROGRESS: at 56.85% examples, 60537 words/s, in_qsize 7, out_qsize 0\n",
      "INFO - 15:04:44: EPOCH 9 - PROGRESS: at 57.23% examples, 60495 words/s, in_qsize 7, out_qsize 0\n",
      "INFO - 15:04:45: EPOCH 9 - PROGRESS: at 57.44% examples, 60371 words/s, in_qsize 7, out_qsize 0\n",
      "INFO - 15:04:46: EPOCH 9 - PROGRESS: at 57.68% examples, 60232 words/s, in_qsize 7, out_qsize 0\n",
      "INFO - 15:04:47: EPOCH 9 - PROGRESS: at 58.07% examples, 60190 words/s, in_qsize 7, out_qsize 0\n",
      "INFO - 15:04:48: EPOCH 9 - PROGRESS: at 58.40% examples, 60142 words/s, in_qsize 7, out_qsize 0\n",
      "INFO - 15:04:49: EPOCH 9 - PROGRESS: at 58.76% examples, 60117 words/s, in_qsize 7, out_qsize 0\n",
      "INFO - 15:04:50: EPOCH 9 - PROGRESS: at 59.17% examples, 60133 words/s, in_qsize 7, out_qsize 0\n"
     ]
    },
    {
     "name": "stderr",
     "output_type": "stream",
     "text": [
      "INFO - 15:04:51: EPOCH 9 - PROGRESS: at 59.57% examples, 60187 words/s, in_qsize 7, out_qsize 0\n",
      "INFO - 15:04:52: EPOCH 9 - PROGRESS: at 60.03% examples, 60216 words/s, in_qsize 7, out_qsize 0\n",
      "INFO - 15:04:53: EPOCH 9 - PROGRESS: at 60.43% examples, 60230 words/s, in_qsize 7, out_qsize 0\n",
      "INFO - 15:04:54: EPOCH 9 - PROGRESS: at 60.90% examples, 60221 words/s, in_qsize 8, out_qsize 0\n",
      "INFO - 15:04:55: EPOCH 9 - PROGRESS: at 61.29% examples, 60212 words/s, in_qsize 7, out_qsize 0\n",
      "INFO - 15:04:57: EPOCH 9 - PROGRESS: at 61.69% examples, 60226 words/s, in_qsize 7, out_qsize 0\n",
      "INFO - 15:04:58: EPOCH 9 - PROGRESS: at 62.19% examples, 60216 words/s, in_qsize 7, out_qsize 0\n",
      "INFO - 15:04:59: EPOCH 9 - PROGRESS: at 62.52% examples, 60223 words/s, in_qsize 7, out_qsize 0\n",
      "INFO - 15:05:00: EPOCH 9 - PROGRESS: at 62.94% examples, 60254 words/s, in_qsize 7, out_qsize 0\n",
      "INFO - 15:05:01: EPOCH 9 - PROGRESS: at 63.28% examples, 60244 words/s, in_qsize 7, out_qsize 0\n",
      "INFO - 15:05:02: EPOCH 9 - PROGRESS: at 63.89% examples, 60303 words/s, in_qsize 7, out_qsize 0\n",
      "INFO - 15:05:03: EPOCH 9 - PROGRESS: at 64.34% examples, 60346 words/s, in_qsize 7, out_qsize 0\n",
      "INFO - 15:05:04: EPOCH 9 - PROGRESS: at 64.72% examples, 60348 words/s, in_qsize 7, out_qsize 0\n",
      "INFO - 15:05:05: EPOCH 9 - PROGRESS: at 65.19% examples, 60398 words/s, in_qsize 7, out_qsize 0\n",
      "INFO - 15:05:06: EPOCH 9 - PROGRESS: at 65.60% examples, 60462 words/s, in_qsize 7, out_qsize 0\n",
      "INFO - 15:05:07: EPOCH 9 - PROGRESS: at 66.10% examples, 60468 words/s, in_qsize 7, out_qsize 0\n",
      "INFO - 15:05:08: EPOCH 9 - PROGRESS: at 66.55% examples, 60538 words/s, in_qsize 7, out_qsize 0\n",
      "INFO - 15:05:10: EPOCH 9 - PROGRESS: at 66.77% examples, 60544 words/s, in_qsize 7, out_qsize 0\n",
      "INFO - 15:05:11: EPOCH 9 - PROGRESS: at 67.21% examples, 60606 words/s, in_qsize 7, out_qsize 0\n",
      "INFO - 15:05:12: EPOCH 9 - PROGRESS: at 67.52% examples, 60638 words/s, in_qsize 7, out_qsize 0\n",
      "INFO - 15:05:13: EPOCH 9 - PROGRESS: at 67.96% examples, 60661 words/s, in_qsize 7, out_qsize 0\n",
      "INFO - 15:05:14: EPOCH 9 - PROGRESS: at 68.39% examples, 60682 words/s, in_qsize 7, out_qsize 0\n",
      "INFO - 15:05:15: EPOCH 9 - PROGRESS: at 68.66% examples, 60723 words/s, in_qsize 7, out_qsize 0\n",
      "INFO - 15:05:16: EPOCH 9 - PROGRESS: at 68.98% examples, 60737 words/s, in_qsize 7, out_qsize 0\n",
      "INFO - 15:05:17: EPOCH 9 - PROGRESS: at 69.28% examples, 60758 words/s, in_qsize 8, out_qsize 0\n",
      "INFO - 15:05:18: EPOCH 9 - PROGRESS: at 69.81% examples, 60855 words/s, in_qsize 7, out_qsize 0\n",
      "INFO - 15:05:19: EPOCH 9 - PROGRESS: at 70.17% examples, 60876 words/s, in_qsize 7, out_qsize 0\n",
      "INFO - 15:05:20: EPOCH 9 - PROGRESS: at 70.60% examples, 60888 words/s, in_qsize 7, out_qsize 0\n",
      "INFO - 15:05:21: EPOCH 9 - PROGRESS: at 70.99% examples, 60928 words/s, in_qsize 7, out_qsize 0\n",
      "INFO - 15:05:22: EPOCH 9 - PROGRESS: at 71.26% examples, 60931 words/s, in_qsize 7, out_qsize 0\n",
      "INFO - 15:05:23: EPOCH 9 - PROGRESS: at 71.69% examples, 60953 words/s, in_qsize 7, out_qsize 0\n",
      "INFO - 15:05:25: EPOCH 9 - PROGRESS: at 72.13% examples, 60994 words/s, in_qsize 8, out_qsize 0\n",
      "INFO - 15:05:26: EPOCH 9 - PROGRESS: at 72.58% examples, 61031 words/s, in_qsize 7, out_qsize 0\n",
      "INFO - 15:05:27: EPOCH 9 - PROGRESS: at 72.84% examples, 60959 words/s, in_qsize 7, out_qsize 0\n",
      "INFO - 15:05:28: EPOCH 9 - PROGRESS: at 73.19% examples, 60954 words/s, in_qsize 7, out_qsize 0\n",
      "INFO - 15:05:29: EPOCH 9 - PROGRESS: at 73.39% examples, 60867 words/s, in_qsize 7, out_qsize 0\n",
      "INFO - 15:05:30: EPOCH 9 - PROGRESS: at 73.72% examples, 60821 words/s, in_qsize 8, out_qsize 0\n",
      "INFO - 15:05:31: EPOCH 9 - PROGRESS: at 74.06% examples, 60781 words/s, in_qsize 7, out_qsize 0\n",
      "INFO - 15:05:32: EPOCH 9 - PROGRESS: at 74.51% examples, 60731 words/s, in_qsize 7, out_qsize 0\n",
      "INFO - 15:05:33: EPOCH 9 - PROGRESS: at 74.98% examples, 60734 words/s, in_qsize 7, out_qsize 0\n",
      "INFO - 15:05:34: EPOCH 9 - PROGRESS: at 75.33% examples, 60709 words/s, in_qsize 7, out_qsize 0\n",
      "INFO - 15:05:35: EPOCH 9 - PROGRESS: at 75.71% examples, 60721 words/s, in_qsize 7, out_qsize 0\n",
      "INFO - 15:05:36: EPOCH 9 - PROGRESS: at 76.06% examples, 60752 words/s, in_qsize 7, out_qsize 0\n",
      "INFO - 15:05:37: EPOCH 9 - PROGRESS: at 76.43% examples, 60745 words/s, in_qsize 7, out_qsize 0\n",
      "INFO - 15:05:39: EPOCH 9 - PROGRESS: at 76.81% examples, 60740 words/s, in_qsize 7, out_qsize 0\n",
      "INFO - 15:05:40: EPOCH 9 - PROGRESS: at 77.14% examples, 60687 words/s, in_qsize 8, out_qsize 0\n",
      "INFO - 15:05:41: EPOCH 9 - PROGRESS: at 77.59% examples, 60649 words/s, in_qsize 7, out_qsize 0\n",
      "INFO - 15:05:42: EPOCH 9 - PROGRESS: at 78.00% examples, 60631 words/s, in_qsize 7, out_qsize 0\n",
      "INFO - 15:05:43: EPOCH 9 - PROGRESS: at 78.44% examples, 60594 words/s, in_qsize 7, out_qsize 0\n",
      "INFO - 15:05:44: EPOCH 9 - PROGRESS: at 78.76% examples, 60479 words/s, in_qsize 7, out_qsize 0\n",
      "INFO - 15:05:45: EPOCH 9 - PROGRESS: at 79.10% examples, 60447 words/s, in_qsize 7, out_qsize 0\n",
      "INFO - 15:05:46: EPOCH 9 - PROGRESS: at 79.37% examples, 60434 words/s, in_qsize 8, out_qsize 0\n",
      "INFO - 15:05:47: EPOCH 9 - PROGRESS: at 79.76% examples, 60430 words/s, in_qsize 8, out_qsize 1\n",
      "INFO - 15:05:48: EPOCH 9 - PROGRESS: at 80.26% examples, 60472 words/s, in_qsize 7, out_qsize 0\n",
      "INFO - 15:05:49: EPOCH 9 - PROGRESS: at 80.55% examples, 60475 words/s, in_qsize 7, out_qsize 0\n",
      "INFO - 15:05:50: EPOCH 9 - PROGRESS: at 80.80% examples, 60521 words/s, in_qsize 7, out_qsize 0\n",
      "INFO - 15:05:51: EPOCH 9 - PROGRESS: at 81.28% examples, 60584 words/s, in_qsize 7, out_qsize 0\n",
      "INFO - 15:05:53: EPOCH 9 - PROGRESS: at 81.74% examples, 60592 words/s, in_qsize 7, out_qsize 0\n",
      "INFO - 15:05:54: EPOCH 9 - PROGRESS: at 82.17% examples, 60682 words/s, in_qsize 7, out_qsize 0\n",
      "INFO - 15:05:55: EPOCH 9 - PROGRESS: at 82.63% examples, 60667 words/s, in_qsize 7, out_qsize 0\n",
      "INFO - 15:05:56: EPOCH 9 - PROGRESS: at 83.05% examples, 60712 words/s, in_qsize 7, out_qsize 0\n",
      "INFO - 15:05:57: EPOCH 9 - PROGRESS: at 83.52% examples, 60774 words/s, in_qsize 7, out_qsize 0\n",
      "INFO - 15:05:58: EPOCH 9 - PROGRESS: at 83.93% examples, 60782 words/s, in_qsize 7, out_qsize 0\n",
      "INFO - 15:05:59: EPOCH 9 - PROGRESS: at 84.35% examples, 60786 words/s, in_qsize 7, out_qsize 0\n",
      "INFO - 15:06:00: EPOCH 9 - PROGRESS: at 84.88% examples, 60814 words/s, in_qsize 8, out_qsize 0\n",
      "INFO - 15:06:01: EPOCH 9 - PROGRESS: at 85.23% examples, 60810 words/s, in_qsize 7, out_qsize 0\n",
      "INFO - 15:06:02: EPOCH 9 - PROGRESS: at 85.53% examples, 60803 words/s, in_qsize 7, out_qsize 0\n",
      "INFO - 15:06:03: EPOCH 9 - PROGRESS: at 85.91% examples, 60784 words/s, in_qsize 8, out_qsize 0\n",
      "INFO - 15:06:04: EPOCH 9 - PROGRESS: at 86.24% examples, 60741 words/s, in_qsize 7, out_qsize 0\n",
      "INFO - 15:06:05: EPOCH 9 - PROGRESS: at 86.49% examples, 60759 words/s, in_qsize 8, out_qsize 0\n",
      "INFO - 15:06:06: EPOCH 9 - PROGRESS: at 86.62% examples, 60785 words/s, in_qsize 7, out_qsize 0\n",
      "INFO - 15:06:07: EPOCH 9 - PROGRESS: at 87.04% examples, 60826 words/s, in_qsize 7, out_qsize 0\n",
      "INFO - 15:06:09: EPOCH 9 - PROGRESS: at 87.45% examples, 60856 words/s, in_qsize 7, out_qsize 0\n",
      "INFO - 15:06:10: EPOCH 9 - PROGRESS: at 87.88% examples, 60848 words/s, in_qsize 7, out_qsize 0\n",
      "INFO - 15:06:11: EPOCH 9 - PROGRESS: at 88.34% examples, 60881 words/s, in_qsize 7, out_qsize 0\n",
      "INFO - 15:06:12: EPOCH 9 - PROGRESS: at 88.78% examples, 60894 words/s, in_qsize 7, out_qsize 0\n",
      "INFO - 15:06:13: EPOCH 9 - PROGRESS: at 89.18% examples, 60924 words/s, in_qsize 7, out_qsize 0\n",
      "INFO - 15:06:14: EPOCH 9 - PROGRESS: at 89.64% examples, 60959 words/s, in_qsize 7, out_qsize 0\n",
      "INFO - 15:06:15: EPOCH 9 - PROGRESS: at 90.04% examples, 60953 words/s, in_qsize 7, out_qsize 0\n",
      "INFO - 15:06:16: EPOCH 9 - PROGRESS: at 90.51% examples, 61002 words/s, in_qsize 7, out_qsize 0\n",
      "INFO - 15:06:17: EPOCH 9 - PROGRESS: at 91.00% examples, 61031 words/s, in_qsize 7, out_qsize 0\n",
      "INFO - 15:06:18: EPOCH 9 - PROGRESS: at 91.52% examples, 61069 words/s, in_qsize 7, out_qsize 0\n",
      "INFO - 15:06:19: EPOCH 9 - PROGRESS: at 91.87% examples, 61062 words/s, in_qsize 7, out_qsize 0\n",
      "INFO - 15:06:20: EPOCH 9 - PROGRESS: at 92.40% examples, 61115 words/s, in_qsize 7, out_qsize 0\n",
      "INFO - 15:06:21: EPOCH 9 - PROGRESS: at 92.90% examples, 61137 words/s, in_qsize 7, out_qsize 0\n",
      "INFO - 15:06:22: EPOCH 9 - PROGRESS: at 93.27% examples, 61163 words/s, in_qsize 7, out_qsize 0\n"
     ]
    },
    {
     "name": "stderr",
     "output_type": "stream",
     "text": [
      "INFO - 15:06:23: EPOCH 9 - PROGRESS: at 93.75% examples, 61180 words/s, in_qsize 8, out_qsize 0\n",
      "INFO - 15:06:24: EPOCH 9 - PROGRESS: at 94.03% examples, 61174 words/s, in_qsize 7, out_qsize 0\n",
      "INFO - 15:06:26: EPOCH 9 - PROGRESS: at 94.39% examples, 61202 words/s, in_qsize 7, out_qsize 0\n",
      "INFO - 15:06:27: EPOCH 9 - PROGRESS: at 94.78% examples, 61213 words/s, in_qsize 7, out_qsize 0\n",
      "INFO - 15:06:28: EPOCH 9 - PROGRESS: at 95.17% examples, 61251 words/s, in_qsize 7, out_qsize 0\n",
      "INFO - 15:06:29: EPOCH 9 - PROGRESS: at 95.50% examples, 61222 words/s, in_qsize 7, out_qsize 0\n",
      "INFO - 15:06:30: EPOCH 9 - PROGRESS: at 95.60% examples, 61133 words/s, in_qsize 7, out_qsize 0\n",
      "INFO - 15:06:31: EPOCH 9 - PROGRESS: at 95.83% examples, 61117 words/s, in_qsize 7, out_qsize 0\n",
      "INFO - 15:06:32: EPOCH 9 - PROGRESS: at 96.22% examples, 61143 words/s, in_qsize 7, out_qsize 0\n",
      "INFO - 15:06:33: EPOCH 9 - PROGRESS: at 96.67% examples, 61190 words/s, in_qsize 7, out_qsize 0\n",
      "INFO - 15:06:34: EPOCH 9 - PROGRESS: at 97.00% examples, 61215 words/s, in_qsize 7, out_qsize 0\n",
      "INFO - 15:06:35: EPOCH 9 - PROGRESS: at 97.33% examples, 61237 words/s, in_qsize 7, out_qsize 0\n",
      "INFO - 15:06:36: EPOCH 9 - PROGRESS: at 97.66% examples, 61217 words/s, in_qsize 7, out_qsize 0\n",
      "INFO - 15:06:37: EPOCH 9 - PROGRESS: at 98.02% examples, 61181 words/s, in_qsize 7, out_qsize 0\n",
      "INFO - 15:06:38: EPOCH 9 - PROGRESS: at 98.39% examples, 61159 words/s, in_qsize 8, out_qsize 0\n",
      "INFO - 15:06:39: EPOCH 9 - PROGRESS: at 98.74% examples, 61137 words/s, in_qsize 8, out_qsize 0\n",
      "INFO - 15:06:40: EPOCH 9 - PROGRESS: at 99.04% examples, 61172 words/s, in_qsize 7, out_qsize 0\n",
      "INFO - 15:06:41: EPOCH 9 - PROGRESS: at 99.38% examples, 61174 words/s, in_qsize 7, out_qsize 0\n",
      "INFO - 15:06:42: EPOCH 9 - PROGRESS: at 99.81% examples, 61200 words/s, in_qsize 5, out_qsize 0\n",
      "INFO - 15:06:42: worker thread finished; awaiting finish of 3 more threads\n",
      "INFO - 15:06:42: worker thread finished; awaiting finish of 2 more threads\n",
      "INFO - 15:06:43: worker thread finished; awaiting finish of 1 more threads\n",
      "INFO - 15:06:43: worker thread finished; awaiting finish of 0 more threads\n",
      "INFO - 15:06:43: EPOCH - 9 : training on 31973755 raw words (17367121 effective words) took 283.7s, 61216 effective words/s\n",
      "INFO - 15:06:44: EPOCH 10 - PROGRESS: at 0.29% examples, 57283 words/s, in_qsize 7, out_qsize 0\n",
      "INFO - 15:06:45: EPOCH 10 - PROGRESS: at 0.63% examples, 59863 words/s, in_qsize 7, out_qsize 0\n",
      "INFO - 15:06:46: EPOCH 10 - PROGRESS: at 1.22% examples, 63184 words/s, in_qsize 7, out_qsize 0\n",
      "INFO - 15:06:47: EPOCH 10 - PROGRESS: at 1.83% examples, 67007 words/s, in_qsize 7, out_qsize 0\n",
      "INFO - 15:06:48: EPOCH 10 - PROGRESS: at 2.23% examples, 66388 words/s, in_qsize 7, out_qsize 0\n",
      "INFO - 15:06:49: EPOCH 10 - PROGRESS: at 2.47% examples, 64921 words/s, in_qsize 8, out_qsize 0\n",
      "INFO - 15:06:50: EPOCH 10 - PROGRESS: at 2.90% examples, 65260 words/s, in_qsize 7, out_qsize 0\n",
      "INFO - 15:06:51: EPOCH 10 - PROGRESS: at 3.45% examples, 66091 words/s, in_qsize 7, out_qsize 0\n",
      "INFO - 15:06:53: EPOCH 10 - PROGRESS: at 4.04% examples, 66435 words/s, in_qsize 7, out_qsize 0\n",
      "INFO - 15:06:54: EPOCH 10 - PROGRESS: at 4.43% examples, 66572 words/s, in_qsize 8, out_qsize 0\n",
      "INFO - 15:06:55: EPOCH 10 - PROGRESS: at 4.84% examples, 65971 words/s, in_qsize 7, out_qsize 0\n",
      "INFO - 15:06:56: EPOCH 10 - PROGRESS: at 5.25% examples, 66761 words/s, in_qsize 7, out_qsize 0\n",
      "INFO - 15:06:57: EPOCH 10 - PROGRESS: at 5.56% examples, 66397 words/s, in_qsize 7, out_qsize 0\n",
      "INFO - 15:06:58: EPOCH 10 - PROGRESS: at 5.99% examples, 67192 words/s, in_qsize 7, out_qsize 0\n",
      "INFO - 15:06:59: EPOCH 10 - PROGRESS: at 6.28% examples, 67232 words/s, in_qsize 7, out_qsize 0\n",
      "INFO - 15:07:00: EPOCH 10 - PROGRESS: at 6.80% examples, 67045 words/s, in_qsize 7, out_qsize 0\n",
      "INFO - 15:07:01: EPOCH 10 - PROGRESS: at 7.29% examples, 67294 words/s, in_qsize 7, out_qsize 0\n",
      "INFO - 15:07:02: EPOCH 10 - PROGRESS: at 7.62% examples, 66775 words/s, in_qsize 7, out_qsize 0\n",
      "INFO - 15:07:03: EPOCH 10 - PROGRESS: at 8.01% examples, 66048 words/s, in_qsize 7, out_qsize 0\n",
      "INFO - 15:07:04: EPOCH 10 - PROGRESS: at 8.40% examples, 65378 words/s, in_qsize 7, out_qsize 0\n",
      "INFO - 15:07:05: EPOCH 10 - PROGRESS: at 8.88% examples, 65249 words/s, in_qsize 7, out_qsize 0\n",
      "INFO - 15:07:06: EPOCH 10 - PROGRESS: at 9.08% examples, 64372 words/s, in_qsize 7, out_qsize 0\n",
      "INFO - 15:07:07: EPOCH 10 - PROGRESS: at 9.23% examples, 63933 words/s, in_qsize 7, out_qsize 0\n",
      "INFO - 15:07:09: EPOCH 10 - PROGRESS: at 9.56% examples, 63101 words/s, in_qsize 7, out_qsize 0\n",
      "INFO - 15:07:10: EPOCH 10 - PROGRESS: at 9.92% examples, 62639 words/s, in_qsize 7, out_qsize 0\n",
      "INFO - 15:07:11: EPOCH 10 - PROGRESS: at 10.35% examples, 62633 words/s, in_qsize 7, out_qsize 0\n",
      "INFO - 15:07:12: EPOCH 10 - PROGRESS: at 10.81% examples, 62674 words/s, in_qsize 7, out_qsize 0\n",
      "INFO - 15:07:13: EPOCH 10 - PROGRESS: at 11.17% examples, 62684 words/s, in_qsize 7, out_qsize 0\n",
      "INFO - 15:07:14: EPOCH 10 - PROGRESS: at 11.55% examples, 62743 words/s, in_qsize 7, out_qsize 0\n",
      "INFO - 15:07:15: EPOCH 10 - PROGRESS: at 11.76% examples, 62755 words/s, in_qsize 7, out_qsize 0\n",
      "INFO - 15:07:16: EPOCH 10 - PROGRESS: at 12.25% examples, 62990 words/s, in_qsize 7, out_qsize 0\n",
      "INFO - 15:07:17: EPOCH 10 - PROGRESS: at 12.80% examples, 62998 words/s, in_qsize 7, out_qsize 0\n",
      "INFO - 15:07:18: EPOCH 10 - PROGRESS: at 13.21% examples, 63276 words/s, in_qsize 7, out_qsize 0\n",
      "INFO - 15:07:19: EPOCH 10 - PROGRESS: at 13.71% examples, 63192 words/s, in_qsize 7, out_qsize 0\n",
      "INFO - 15:07:20: EPOCH 10 - PROGRESS: at 14.02% examples, 63277 words/s, in_qsize 7, out_qsize 0\n",
      "INFO - 15:07:21: EPOCH 10 - PROGRESS: at 14.53% examples, 63623 words/s, in_qsize 7, out_qsize 0\n",
      "INFO - 15:07:22: EPOCH 10 - PROGRESS: at 14.69% examples, 63480 words/s, in_qsize 7, out_qsize 0\n",
      "INFO - 15:07:23: EPOCH 10 - PROGRESS: at 14.99% examples, 63564 words/s, in_qsize 7, out_qsize 0\n",
      "INFO - 15:07:25: EPOCH 10 - PROGRESS: at 15.41% examples, 63444 words/s, in_qsize 7, out_qsize 0\n",
      "INFO - 15:07:26: EPOCH 10 - PROGRESS: at 15.76% examples, 63611 words/s, in_qsize 7, out_qsize 0\n",
      "INFO - 15:07:27: EPOCH 10 - PROGRESS: at 16.05% examples, 63635 words/s, in_qsize 7, out_qsize 0\n",
      "INFO - 15:07:28: EPOCH 10 - PROGRESS: at 16.60% examples, 63791 words/s, in_qsize 7, out_qsize 0\n",
      "INFO - 15:07:29: EPOCH 10 - PROGRESS: at 17.03% examples, 63724 words/s, in_qsize 7, out_qsize 0\n",
      "INFO - 15:07:30: EPOCH 10 - PROGRESS: at 17.46% examples, 63707 words/s, in_qsize 7, out_qsize 0\n",
      "INFO - 15:07:31: EPOCH 10 - PROGRESS: at 17.82% examples, 63796 words/s, in_qsize 7, out_qsize 0\n",
      "INFO - 15:07:32: EPOCH 10 - PROGRESS: at 18.40% examples, 63800 words/s, in_qsize 7, out_qsize 0\n",
      "INFO - 15:07:33: EPOCH 10 - PROGRESS: at 18.79% examples, 63834 words/s, in_qsize 7, out_qsize 0\n",
      "INFO - 15:07:34: EPOCH 10 - PROGRESS: at 19.15% examples, 63680 words/s, in_qsize 7, out_qsize 0\n",
      "INFO - 15:07:35: EPOCH 10 - PROGRESS: at 19.52% examples, 63305 words/s, in_qsize 7, out_qsize 0\n",
      "INFO - 15:07:36: EPOCH 10 - PROGRESS: at 19.77% examples, 63312 words/s, in_qsize 7, out_qsize 0\n",
      "INFO - 15:07:37: EPOCH 10 - PROGRESS: at 20.21% examples, 63468 words/s, in_qsize 7, out_qsize 0\n",
      "INFO - 15:07:38: EPOCH 10 - PROGRESS: at 20.53% examples, 63195 words/s, in_qsize 7, out_qsize 0\n",
      "INFO - 15:07:39: EPOCH 10 - PROGRESS: at 20.90% examples, 63046 words/s, in_qsize 7, out_qsize 0\n",
      "INFO - 15:07:41: EPOCH 10 - PROGRESS: at 21.33% examples, 63068 words/s, in_qsize 7, out_qsize 0\n",
      "INFO - 15:07:42: EPOCH 10 - PROGRESS: at 21.60% examples, 62853 words/s, in_qsize 7, out_qsize 0\n",
      "INFO - 15:07:43: EPOCH 10 - PROGRESS: at 21.91% examples, 62530 words/s, in_qsize 7, out_qsize 0\n",
      "INFO - 15:07:44: EPOCH 10 - PROGRESS: at 22.16% examples, 62472 words/s, in_qsize 7, out_qsize 0\n",
      "INFO - 15:07:45: EPOCH 10 - PROGRESS: at 22.45% examples, 62253 words/s, in_qsize 7, out_qsize 0\n",
      "INFO - 15:07:46: EPOCH 10 - PROGRESS: at 22.78% examples, 62274 words/s, in_qsize 7, out_qsize 0\n",
      "INFO - 15:07:47: EPOCH 10 - PROGRESS: at 23.15% examples, 62124 words/s, in_qsize 7, out_qsize 0\n",
      "INFO - 15:07:48: EPOCH 10 - PROGRESS: at 23.52% examples, 62017 words/s, in_qsize 7, out_qsize 0\n",
      "INFO - 15:07:49: EPOCH 10 - PROGRESS: at 24.01% examples, 62042 words/s, in_qsize 8, out_qsize 0\n"
     ]
    },
    {
     "name": "stderr",
     "output_type": "stream",
     "text": [
      "INFO - 15:07:50: EPOCH 10 - PROGRESS: at 24.33% examples, 61966 words/s, in_qsize 7, out_qsize 0\n",
      "INFO - 15:07:51: EPOCH 10 - PROGRESS: at 24.82% examples, 62081 words/s, in_qsize 7, out_qsize 0\n",
      "INFO - 15:07:52: EPOCH 10 - PROGRESS: at 25.16% examples, 61946 words/s, in_qsize 7, out_qsize 0\n",
      "INFO - 15:07:53: EPOCH 10 - PROGRESS: at 25.55% examples, 61839 words/s, in_qsize 7, out_qsize 0\n",
      "INFO - 15:07:54: EPOCH 10 - PROGRESS: at 25.96% examples, 61733 words/s, in_qsize 7, out_qsize 0\n",
      "INFO - 15:07:55: EPOCH 10 - PROGRESS: at 26.39% examples, 61891 words/s, in_qsize 7, out_qsize 0\n",
      "INFO - 15:07:57: EPOCH 10 - PROGRESS: at 26.78% examples, 61678 words/s, in_qsize 7, out_qsize 0\n",
      "INFO - 15:07:58: EPOCH 10 - PROGRESS: at 27.17% examples, 61715 words/s, in_qsize 8, out_qsize 0\n",
      "INFO - 15:07:59: EPOCH 10 - PROGRESS: at 27.53% examples, 61796 words/s, in_qsize 7, out_qsize 0\n",
      "INFO - 15:08:00: EPOCH 10 - PROGRESS: at 27.84% examples, 61693 words/s, in_qsize 7, out_qsize 0\n",
      "INFO - 15:08:01: EPOCH 10 - PROGRESS: at 28.26% examples, 61698 words/s, in_qsize 7, out_qsize 0\n",
      "INFO - 15:08:02: EPOCH 10 - PROGRESS: at 28.53% examples, 61642 words/s, in_qsize 7, out_qsize 0\n",
      "INFO - 15:08:03: EPOCH 10 - PROGRESS: at 28.95% examples, 61841 words/s, in_qsize 7, out_qsize 0\n",
      "INFO - 15:08:04: EPOCH 10 - PROGRESS: at 29.36% examples, 61871 words/s, in_qsize 7, out_qsize 0\n",
      "INFO - 15:08:05: EPOCH 10 - PROGRESS: at 29.79% examples, 61840 words/s, in_qsize 7, out_qsize 0\n",
      "INFO - 15:08:06: EPOCH 10 - PROGRESS: at 30.18% examples, 61843 words/s, in_qsize 7, out_qsize 0\n",
      "INFO - 15:08:07: EPOCH 10 - PROGRESS: at 30.54% examples, 61742 words/s, in_qsize 7, out_qsize 0\n",
      "INFO - 15:08:08: EPOCH 10 - PROGRESS: at 30.88% examples, 61709 words/s, in_qsize 7, out_qsize 0\n",
      "INFO - 15:08:09: EPOCH 10 - PROGRESS: at 31.24% examples, 61643 words/s, in_qsize 7, out_qsize 0\n",
      "INFO - 15:08:10: EPOCH 10 - PROGRESS: at 31.61% examples, 61614 words/s, in_qsize 7, out_qsize 0\n",
      "INFO - 15:08:11: EPOCH 10 - PROGRESS: at 31.81% examples, 61466 words/s, in_qsize 7, out_qsize 0\n",
      "INFO - 15:08:12: EPOCH 10 - PROGRESS: at 32.10% examples, 61430 words/s, in_qsize 7, out_qsize 0\n",
      "INFO - 15:08:13: EPOCH 10 - PROGRESS: at 32.25% examples, 61250 words/s, in_qsize 7, out_qsize 0\n",
      "INFO - 15:08:14: EPOCH 10 - PROGRESS: at 32.64% examples, 61234 words/s, in_qsize 7, out_qsize 0\n",
      "INFO - 15:08:15: EPOCH 10 - PROGRESS: at 32.92% examples, 61253 words/s, in_qsize 7, out_qsize 0\n",
      "INFO - 15:08:16: EPOCH 10 - PROGRESS: at 33.27% examples, 61204 words/s, in_qsize 7, out_qsize 0\n",
      "INFO - 15:08:17: EPOCH 10 - PROGRESS: at 33.60% examples, 61173 words/s, in_qsize 7, out_qsize 0\n",
      "INFO - 15:08:18: EPOCH 10 - PROGRESS: at 34.03% examples, 61302 words/s, in_qsize 7, out_qsize 0\n",
      "INFO - 15:08:20: EPOCH 10 - PROGRESS: at 34.29% examples, 61231 words/s, in_qsize 7, out_qsize 0\n",
      "INFO - 15:08:21: EPOCH 10 - PROGRESS: at 34.48% examples, 61193 words/s, in_qsize 7, out_qsize 0\n",
      "INFO - 15:08:22: EPOCH 10 - PROGRESS: at 34.73% examples, 61167 words/s, in_qsize 8, out_qsize 0\n",
      "INFO - 15:08:23: EPOCH 10 - PROGRESS: at 34.99% examples, 61201 words/s, in_qsize 7, out_qsize 0\n",
      "INFO - 15:08:24: EPOCH 10 - PROGRESS: at 35.33% examples, 61214 words/s, in_qsize 7, out_qsize 0\n",
      "INFO - 15:08:25: EPOCH 10 - PROGRESS: at 35.73% examples, 61208 words/s, in_qsize 7, out_qsize 0\n",
      "INFO - 15:08:26: EPOCH 10 - PROGRESS: at 36.16% examples, 61295 words/s, in_qsize 7, out_qsize 0\n",
      "INFO - 15:08:27: EPOCH 10 - PROGRESS: at 36.56% examples, 61357 words/s, in_qsize 7, out_qsize 0\n",
      "INFO - 15:08:28: EPOCH 10 - PROGRESS: at 36.93% examples, 61359 words/s, in_qsize 7, out_qsize 0\n",
      "INFO - 15:08:29: EPOCH 10 - PROGRESS: at 37.30% examples, 61343 words/s, in_qsize 7, out_qsize 0\n",
      "INFO - 15:08:30: EPOCH 10 - PROGRESS: at 37.60% examples, 61331 words/s, in_qsize 7, out_qsize 0\n",
      "INFO - 15:08:31: EPOCH 10 - PROGRESS: at 37.93% examples, 61345 words/s, in_qsize 7, out_qsize 0\n",
      "INFO - 15:08:32: EPOCH 10 - PROGRESS: at 38.29% examples, 61341 words/s, in_qsize 7, out_qsize 0\n",
      "INFO - 15:08:34: EPOCH 10 - PROGRESS: at 38.73% examples, 61411 words/s, in_qsize 7, out_qsize 0\n",
      "INFO - 15:08:35: EPOCH 10 - PROGRESS: at 39.17% examples, 61385 words/s, in_qsize 7, out_qsize 0\n",
      "INFO - 15:08:36: EPOCH 10 - PROGRESS: at 39.67% examples, 61520 words/s, in_qsize 7, out_qsize 0\n",
      "INFO - 15:08:37: EPOCH 10 - PROGRESS: at 40.06% examples, 61533 words/s, in_qsize 7, out_qsize 0\n",
      "INFO - 15:08:38: EPOCH 10 - PROGRESS: at 40.47% examples, 61523 words/s, in_qsize 8, out_qsize 0\n",
      "INFO - 15:08:39: EPOCH 10 - PROGRESS: at 40.85% examples, 61550 words/s, in_qsize 7, out_qsize 0\n",
      "INFO - 15:08:40: EPOCH 10 - PROGRESS: at 41.32% examples, 61467 words/s, in_qsize 7, out_qsize 0\n",
      "INFO - 15:08:41: EPOCH 10 - PROGRESS: at 41.67% examples, 61425 words/s, in_qsize 7, out_qsize 0\n",
      "INFO - 15:08:42: EPOCH 10 - PROGRESS: at 41.87% examples, 61409 words/s, in_qsize 7, out_qsize 0\n",
      "INFO - 15:08:43: EPOCH 10 - PROGRESS: at 42.21% examples, 61320 words/s, in_qsize 7, out_qsize 0\n",
      "INFO - 15:08:44: EPOCH 10 - PROGRESS: at 42.53% examples, 61222 words/s, in_qsize 7, out_qsize 0\n",
      "INFO - 15:08:45: EPOCH 10 - PROGRESS: at 42.91% examples, 61229 words/s, in_qsize 7, out_qsize 0\n",
      "INFO - 15:08:46: EPOCH 10 - PROGRESS: at 43.30% examples, 61189 words/s, in_qsize 7, out_qsize 0\n",
      "INFO - 15:08:47: EPOCH 10 - PROGRESS: at 43.64% examples, 61089 words/s, in_qsize 7, out_qsize 0\n",
      "INFO - 15:08:48: EPOCH 10 - PROGRESS: at 43.97% examples, 61040 words/s, in_qsize 7, out_qsize 0\n",
      "INFO - 15:08:49: EPOCH 10 - PROGRESS: at 44.31% examples, 61000 words/s, in_qsize 7, out_qsize 0\n",
      "INFO - 15:08:50: EPOCH 10 - PROGRESS: at 44.74% examples, 61112 words/s, in_qsize 7, out_qsize 0\n",
      "INFO - 15:08:52: EPOCH 10 - PROGRESS: at 45.14% examples, 61130 words/s, in_qsize 7, out_qsize 0\n",
      "INFO - 15:08:53: EPOCH 10 - PROGRESS: at 45.56% examples, 61309 words/s, in_qsize 7, out_qsize 0\n",
      "INFO - 15:08:54: EPOCH 10 - PROGRESS: at 46.02% examples, 61293 words/s, in_qsize 7, out_qsize 0\n",
      "INFO - 15:08:55: EPOCH 10 - PROGRESS: at 46.40% examples, 61344 words/s, in_qsize 7, out_qsize 0\n",
      "INFO - 15:08:56: EPOCH 10 - PROGRESS: at 46.78% examples, 61366 words/s, in_qsize 7, out_qsize 0\n",
      "INFO - 15:08:57: EPOCH 10 - PROGRESS: at 47.05% examples, 61376 words/s, in_qsize 7, out_qsize 0\n",
      "INFO - 15:08:58: EPOCH 10 - PROGRESS: at 47.45% examples, 61405 words/s, in_qsize 8, out_qsize 0\n",
      "INFO - 15:08:59: EPOCH 10 - PROGRESS: at 47.87% examples, 61432 words/s, in_qsize 7, out_qsize 0\n",
      "INFO - 15:09:00: EPOCH 10 - PROGRESS: at 48.12% examples, 61365 words/s, in_qsize 7, out_qsize 0\n",
      "INFO - 15:09:01: EPOCH 10 - PROGRESS: at 48.54% examples, 61394 words/s, in_qsize 7, out_qsize 0\n",
      "INFO - 15:09:02: EPOCH 10 - PROGRESS: at 48.96% examples, 61423 words/s, in_qsize 7, out_qsize 0\n",
      "INFO - 15:09:03: EPOCH 10 - PROGRESS: at 49.33% examples, 61428 words/s, in_qsize 7, out_qsize 0\n",
      "INFO - 15:09:04: EPOCH 10 - PROGRESS: at 49.69% examples, 61398 words/s, in_qsize 7, out_qsize 0\n",
      "INFO - 15:09:05: EPOCH 10 - PROGRESS: at 50.12% examples, 61487 words/s, in_qsize 7, out_qsize 0\n",
      "INFO - 15:09:06: EPOCH 10 - PROGRESS: at 50.51% examples, 61529 words/s, in_qsize 7, out_qsize 0\n",
      "INFO - 15:09:08: EPOCH 10 - PROGRESS: at 50.93% examples, 61464 words/s, in_qsize 7, out_qsize 0\n",
      "INFO - 15:09:09: EPOCH 10 - PROGRESS: at 51.16% examples, 61399 words/s, in_qsize 7, out_qsize 0\n",
      "INFO - 15:09:10: EPOCH 10 - PROGRESS: at 51.54% examples, 61300 words/s, in_qsize 8, out_qsize 0\n",
      "INFO - 15:09:11: EPOCH 10 - PROGRESS: at 51.98% examples, 61306 words/s, in_qsize 7, out_qsize 0\n",
      "INFO - 15:09:12: EPOCH 10 - PROGRESS: at 52.41% examples, 61285 words/s, in_qsize 7, out_qsize 0\n",
      "INFO - 15:09:13: EPOCH 10 - PROGRESS: at 52.78% examples, 61288 words/s, in_qsize 7, out_qsize 0\n",
      "INFO - 15:09:14: EPOCH 10 - PROGRESS: at 53.16% examples, 61267 words/s, in_qsize 7, out_qsize 0\n",
      "INFO - 15:09:15: EPOCH 10 - PROGRESS: at 53.46% examples, 61256 words/s, in_qsize 7, out_qsize 0\n",
      "INFO - 15:09:16: EPOCH 10 - PROGRESS: at 53.85% examples, 61311 words/s, in_qsize 7, out_qsize 0\n",
      "INFO - 15:09:17: EPOCH 10 - PROGRESS: at 54.30% examples, 61296 words/s, in_qsize 7, out_qsize 0\n",
      "INFO - 15:09:18: EPOCH 10 - PROGRESS: at 54.71% examples, 61269 words/s, in_qsize 7, out_qsize 0\n",
      "INFO - 15:09:19: EPOCH 10 - PROGRESS: at 55.06% examples, 61249 words/s, in_qsize 7, out_qsize 0\n"
     ]
    },
    {
     "name": "stderr",
     "output_type": "stream",
     "text": [
      "INFO - 15:09:21: EPOCH 10 - PROGRESS: at 55.52% examples, 61279 words/s, in_qsize 8, out_qsize 0\n",
      "INFO - 15:09:22: EPOCH 10 - PROGRESS: at 55.95% examples, 61343 words/s, in_qsize 7, out_qsize 0\n",
      "INFO - 15:09:23: EPOCH 10 - PROGRESS: at 56.44% examples, 61362 words/s, in_qsize 7, out_qsize 0\n",
      "INFO - 15:09:24: EPOCH 10 - PROGRESS: at 56.81% examples, 61342 words/s, in_qsize 7, out_qsize 0\n",
      "INFO - 15:09:25: EPOCH 10 - PROGRESS: at 56.98% examples, 61104 words/s, in_qsize 7, out_qsize 0\n",
      "INFO - 15:09:26: EPOCH 10 - PROGRESS: at 57.28% examples, 61025 words/s, in_qsize 7, out_qsize 0\n",
      "INFO - 15:09:27: EPOCH 10 - PROGRESS: at 57.55% examples, 60994 words/s, in_qsize 7, out_qsize 0\n",
      "INFO - 15:09:28: EPOCH 10 - PROGRESS: at 58.01% examples, 61052 words/s, in_qsize 7, out_qsize 0\n",
      "INFO - 15:09:29: EPOCH 10 - PROGRESS: at 58.39% examples, 61040 words/s, in_qsize 7, out_qsize 0\n",
      "INFO - 15:09:30: EPOCH 10 - PROGRESS: at 58.76% examples, 61003 words/s, in_qsize 8, out_qsize 0\n",
      "INFO - 15:09:31: EPOCH 10 - PROGRESS: at 59.11% examples, 60957 words/s, in_qsize 7, out_qsize 0\n",
      "INFO - 15:09:32: EPOCH 10 - PROGRESS: at 59.39% examples, 60863 words/s, in_qsize 7, out_qsize 0\n",
      "INFO - 15:09:34: EPOCH 10 - PROGRESS: at 59.82% examples, 60848 words/s, in_qsize 7, out_qsize 0\n",
      "INFO - 15:09:35: EPOCH 10 - PROGRESS: at 60.23% examples, 60844 words/s, in_qsize 7, out_qsize 0\n",
      "INFO - 15:09:36: EPOCH 10 - PROGRESS: at 60.73% examples, 60910 words/s, in_qsize 7, out_qsize 0\n",
      "INFO - 15:09:37: EPOCH 10 - PROGRESS: at 61.16% examples, 60918 words/s, in_qsize 7, out_qsize 0\n",
      "INFO - 15:09:38: EPOCH 10 - PROGRESS: at 61.53% examples, 60926 words/s, in_qsize 7, out_qsize 0\n",
      "INFO - 15:09:39: EPOCH 10 - PROGRESS: at 61.89% examples, 60889 words/s, in_qsize 7, out_qsize 0\n",
      "INFO - 15:09:40: EPOCH 10 - PROGRESS: at 62.32% examples, 60841 words/s, in_qsize 7, out_qsize 0\n",
      "INFO - 15:09:41: EPOCH 10 - PROGRESS: at 62.62% examples, 60853 words/s, in_qsize 7, out_qsize 0\n",
      "INFO - 15:09:42: EPOCH 10 - PROGRESS: at 63.07% examples, 60890 words/s, in_qsize 7, out_qsize 0\n",
      "INFO - 15:09:43: EPOCH 10 - PROGRESS: at 63.55% examples, 60943 words/s, in_qsize 7, out_qsize 0\n",
      "INFO - 15:09:44: EPOCH 10 - PROGRESS: at 64.02% examples, 60931 words/s, in_qsize 7, out_qsize 0\n",
      "INFO - 15:09:45: EPOCH 10 - PROGRESS: at 64.46% examples, 60965 words/s, in_qsize 7, out_qsize 0\n",
      "INFO - 15:09:46: EPOCH 10 - PROGRESS: at 64.91% examples, 61006 words/s, in_qsize 7, out_qsize 0\n",
      "INFO - 15:09:48: EPOCH 10 - PROGRESS: at 65.28% examples, 60949 words/s, in_qsize 7, out_qsize 0\n",
      "INFO - 15:09:49: EPOCH 10 - PROGRESS: at 65.63% examples, 60898 words/s, in_qsize 7, out_qsize 0\n",
      "INFO - 15:09:50: EPOCH 10 - PROGRESS: at 66.02% examples, 60873 words/s, in_qsize 7, out_qsize 0\n",
      "INFO - 15:09:51: EPOCH 10 - PROGRESS: at 66.42% examples, 60899 words/s, in_qsize 7, out_qsize 0\n",
      "INFO - 15:09:52: EPOCH 10 - PROGRESS: at 66.70% examples, 60924 words/s, in_qsize 7, out_qsize 0\n",
      "INFO - 15:09:53: EPOCH 10 - PROGRESS: at 67.04% examples, 60901 words/s, in_qsize 7, out_qsize 0\n",
      "INFO - 15:09:54: EPOCH 10 - PROGRESS: at 67.38% examples, 60882 words/s, in_qsize 7, out_qsize 0\n",
      "INFO - 15:09:55: EPOCH 10 - PROGRESS: at 67.70% examples, 60866 words/s, in_qsize 7, out_qsize 0\n",
      "INFO - 15:09:56: EPOCH 10 - PROGRESS: at 68.04% examples, 60892 words/s, in_qsize 7, out_qsize 0\n",
      "INFO - 15:09:57: EPOCH 10 - PROGRESS: at 68.45% examples, 60926 words/s, in_qsize 7, out_qsize 0\n",
      "INFO - 15:09:58: EPOCH 10 - PROGRESS: at 68.76% examples, 60959 words/s, in_qsize 7, out_qsize 0\n",
      "INFO - 15:09:59: EPOCH 10 - PROGRESS: at 69.10% examples, 60958 words/s, in_qsize 8, out_qsize 0\n",
      "INFO - 15:10:00: EPOCH 10 - PROGRESS: at 69.46% examples, 61003 words/s, in_qsize 7, out_qsize 0\n",
      "INFO - 15:10:02: EPOCH 10 - PROGRESS: at 69.94% examples, 61039 words/s, in_qsize 7, out_qsize 0\n",
      "INFO - 15:10:03: EPOCH 10 - PROGRESS: at 70.43% examples, 61116 words/s, in_qsize 7, out_qsize 0\n",
      "INFO - 15:10:04: EPOCH 10 - PROGRESS: at 70.85% examples, 61151 words/s, in_qsize 7, out_qsize 0\n",
      "INFO - 15:10:05: EPOCH 10 - PROGRESS: at 71.12% examples, 61146 words/s, in_qsize 7, out_qsize 0\n",
      "INFO - 15:10:06: EPOCH 10 - PROGRESS: at 71.47% examples, 61171 words/s, in_qsize 7, out_qsize 0\n",
      "INFO - 15:10:07: EPOCH 10 - PROGRESS: at 71.91% examples, 61205 words/s, in_qsize 7, out_qsize 0\n",
      "INFO - 15:10:08: EPOCH 10 - PROGRESS: at 72.29% examples, 61216 words/s, in_qsize 7, out_qsize 0\n",
      "INFO - 15:10:09: EPOCH 10 - PROGRESS: at 72.73% examples, 61245 words/s, in_qsize 7, out_qsize 0\n",
      "INFO - 15:10:10: EPOCH 10 - PROGRESS: at 73.11% examples, 61174 words/s, in_qsize 7, out_qsize 0\n",
      "INFO - 15:10:11: EPOCH 10 - PROGRESS: at 73.31% examples, 61085 words/s, in_qsize 7, out_qsize 0\n",
      "INFO - 15:10:13: EPOCH 10 - PROGRESS: at 73.62% examples, 61122 words/s, in_qsize 7, out_qsize 0\n",
      "INFO - 15:10:14: EPOCH 10 - PROGRESS: at 74.00% examples, 61063 words/s, in_qsize 7, out_qsize 0\n",
      "INFO - 15:10:15: EPOCH 10 - PROGRESS: at 74.61% examples, 61100 words/s, in_qsize 7, out_qsize 0\n",
      "INFO - 15:10:16: EPOCH 10 - PROGRESS: at 75.05% examples, 61094 words/s, in_qsize 7, out_qsize 0\n",
      "INFO - 15:10:17: EPOCH 10 - PROGRESS: at 75.42% examples, 61130 words/s, in_qsize 7, out_qsize 0\n",
      "INFO - 15:10:18: EPOCH 10 - PROGRESS: at 75.79% examples, 61147 words/s, in_qsize 7, out_qsize 0\n",
      "INFO - 15:10:19: EPOCH 10 - PROGRESS: at 76.10% examples, 61137 words/s, in_qsize 7, out_qsize 0\n",
      "INFO - 15:10:20: EPOCH 10 - PROGRESS: at 76.50% examples, 61136 words/s, in_qsize 8, out_qsize 0\n",
      "INFO - 15:10:21: EPOCH 10 - PROGRESS: at 76.88% examples, 61160 words/s, in_qsize 7, out_qsize 0\n",
      "INFO - 15:10:22: EPOCH 10 - PROGRESS: at 77.33% examples, 61178 words/s, in_qsize 7, out_qsize 0\n",
      "INFO - 15:10:23: EPOCH 10 - PROGRESS: at 77.83% examples, 61216 words/s, in_qsize 7, out_qsize 0\n",
      "INFO - 15:10:24: EPOCH 10 - PROGRESS: at 78.27% examples, 61207 words/s, in_qsize 7, out_qsize 0\n",
      "INFO - 15:10:25: EPOCH 10 - PROGRESS: at 78.80% examples, 61233 words/s, in_qsize 7, out_qsize 0\n",
      "INFO - 15:10:26: EPOCH 10 - PROGRESS: at 79.19% examples, 61268 words/s, in_qsize 7, out_qsize 0\n",
      "INFO - 15:10:27: EPOCH 10 - PROGRESS: at 79.62% examples, 61299 words/s, in_qsize 7, out_qsize 0\n",
      "INFO - 15:10:28: EPOCH 10 - PROGRESS: at 80.10% examples, 61362 words/s, in_qsize 7, out_qsize 0\n",
      "INFO - 15:10:29: EPOCH 10 - PROGRESS: at 80.42% examples, 61331 words/s, in_qsize 7, out_qsize 0\n",
      "INFO - 15:10:30: EPOCH 10 - PROGRESS: at 80.61% examples, 61349 words/s, in_qsize 7, out_qsize 0\n",
      "INFO - 15:10:31: EPOCH 10 - PROGRESS: at 81.04% examples, 61424 words/s, in_qsize 7, out_qsize 0\n",
      "INFO - 15:10:32: EPOCH 10 - PROGRESS: at 81.46% examples, 61449 words/s, in_qsize 7, out_qsize 0\n",
      "INFO - 15:10:33: EPOCH 10 - PROGRESS: at 81.87% examples, 61485 words/s, in_qsize 8, out_qsize 0\n",
      "INFO - 15:10:34: EPOCH 10 - PROGRESS: at 82.29% examples, 61507 words/s, in_qsize 7, out_qsize 0\n",
      "INFO - 15:10:36: EPOCH 10 - PROGRESS: at 82.81% examples, 61519 words/s, in_qsize 7, out_qsize 0\n",
      "INFO - 15:10:37: EPOCH 10 - PROGRESS: at 83.24% examples, 61591 words/s, in_qsize 7, out_qsize 0\n",
      "INFO - 15:10:38: EPOCH 10 - PROGRESS: at 83.64% examples, 61601 words/s, in_qsize 7, out_qsize 0\n",
      "INFO - 15:10:39: EPOCH 10 - PROGRESS: at 84.08% examples, 61617 words/s, in_qsize 7, out_qsize 0\n",
      "INFO - 15:10:40: EPOCH 10 - PROGRESS: at 84.60% examples, 61662 words/s, in_qsize 7, out_qsize 0\n",
      "INFO - 15:10:41: EPOCH 10 - PROGRESS: at 85.09% examples, 61689 words/s, in_qsize 7, out_qsize 0\n",
      "INFO - 15:10:42: EPOCH 10 - PROGRESS: at 85.30% examples, 61662 words/s, in_qsize 7, out_qsize 0\n",
      "INFO - 15:10:43: EPOCH 10 - PROGRESS: at 85.78% examples, 61690 words/s, in_qsize 7, out_qsize 0\n",
      "INFO - 15:10:44: EPOCH 10 - PROGRESS: at 86.21% examples, 61724 words/s, in_qsize 7, out_qsize 0\n",
      "INFO - 15:10:45: EPOCH 10 - PROGRESS: at 86.47% examples, 61730 words/s, in_qsize 7, out_qsize 0\n",
      "INFO - 15:10:46: EPOCH 10 - PROGRESS: at 86.60% examples, 61742 words/s, in_qsize 7, out_qsize 0\n",
      "INFO - 15:10:47: EPOCH 10 - PROGRESS: at 86.96% examples, 61786 words/s, in_qsize 7, out_qsize 0\n",
      "INFO - 15:10:48: EPOCH 10 - PROGRESS: at 87.42% examples, 61817 words/s, in_qsize 7, out_qsize 0\n",
      "INFO - 15:10:49: EPOCH 10 - PROGRESS: at 87.80% examples, 61797 words/s, in_qsize 7, out_qsize 0\n",
      "INFO - 15:10:50: EPOCH 10 - PROGRESS: at 88.30% examples, 61846 words/s, in_qsize 7, out_qsize 0\n"
     ]
    },
    {
     "name": "stderr",
     "output_type": "stream",
     "text": [
      "INFO - 15:10:51: EPOCH 10 - PROGRESS: at 88.78% examples, 61863 words/s, in_qsize 7, out_qsize 0\n",
      "INFO - 15:10:52: EPOCH 10 - PROGRESS: at 89.15% examples, 61874 words/s, in_qsize 7, out_qsize 0\n",
      "INFO - 15:10:53: EPOCH 10 - PROGRESS: at 89.64% examples, 61925 words/s, in_qsize 7, out_qsize 0\n",
      "INFO - 15:10:55: EPOCH 10 - PROGRESS: at 89.99% examples, 61867 words/s, in_qsize 7, out_qsize 0\n",
      "INFO - 15:10:56: EPOCH 10 - PROGRESS: at 90.42% examples, 61867 words/s, in_qsize 7, out_qsize 0\n",
      "INFO - 15:10:57: EPOCH 10 - PROGRESS: at 90.85% examples, 61852 words/s, in_qsize 7, out_qsize 0\n",
      "INFO - 15:10:58: EPOCH 10 - PROGRESS: at 91.36% examples, 61913 words/s, in_qsize 7, out_qsize 0\n",
      "INFO - 15:10:59: EPOCH 10 - PROGRESS: at 91.73% examples, 61914 words/s, in_qsize 8, out_qsize 0\n",
      "INFO - 15:11:00: EPOCH 10 - PROGRESS: at 92.20% examples, 61930 words/s, in_qsize 7, out_qsize 0\n",
      "INFO - 15:11:01: EPOCH 10 - PROGRESS: at 92.66% examples, 61965 words/s, in_qsize 7, out_qsize 0\n",
      "INFO - 15:11:02: EPOCH 10 - PROGRESS: at 93.04% examples, 61972 words/s, in_qsize 7, out_qsize 0\n",
      "INFO - 15:11:03: EPOCH 10 - PROGRESS: at 93.57% examples, 62003 words/s, in_qsize 7, out_qsize 0\n",
      "INFO - 15:11:04: EPOCH 10 - PROGRESS: at 93.95% examples, 62000 words/s, in_qsize 7, out_qsize 0\n",
      "INFO - 15:11:05: EPOCH 10 - PROGRESS: at 94.35% examples, 62051 words/s, in_qsize 7, out_qsize 0\n",
      "INFO - 15:11:06: EPOCH 10 - PROGRESS: at 94.74% examples, 62099 words/s, in_qsize 7, out_qsize 0\n",
      "INFO - 15:11:07: EPOCH 10 - PROGRESS: at 95.09% examples, 62111 words/s, in_qsize 7, out_qsize 0\n",
      "INFO - 15:11:08: EPOCH 10 - PROGRESS: at 95.50% examples, 62140 words/s, in_qsize 7, out_qsize 0\n",
      "INFO - 15:11:10: EPOCH 10 - PROGRESS: at 95.65% examples, 62128 words/s, in_qsize 7, out_qsize 0\n",
      "INFO - 15:11:11: EPOCH 10 - PROGRESS: at 96.07% examples, 62193 words/s, in_qsize 7, out_qsize 0\n",
      "INFO - 15:11:12: EPOCH 10 - PROGRESS: at 96.48% examples, 62188 words/s, in_qsize 8, out_qsize 0\n",
      "INFO - 15:11:13: EPOCH 10 - PROGRESS: at 96.90% examples, 62251 words/s, in_qsize 7, out_qsize 0\n",
      "INFO - 15:11:14: EPOCH 10 - PROGRESS: at 97.20% examples, 62276 words/s, in_qsize 7, out_qsize 0\n",
      "INFO - 15:11:15: EPOCH 10 - PROGRESS: at 97.53% examples, 62250 words/s, in_qsize 7, out_qsize 0\n",
      "INFO - 15:11:16: EPOCH 10 - PROGRESS: at 98.02% examples, 62289 words/s, in_qsize 7, out_qsize 0\n",
      "INFO - 15:11:17: EPOCH 10 - PROGRESS: at 98.45% examples, 62314 words/s, in_qsize 8, out_qsize 0\n",
      "INFO - 15:11:18: EPOCH 10 - PROGRESS: at 98.81% examples, 62328 words/s, in_qsize 7, out_qsize 0\n",
      "INFO - 15:11:19: EPOCH 10 - PROGRESS: at 99.17% examples, 62371 words/s, in_qsize 7, out_qsize 0\n",
      "INFO - 15:11:20: EPOCH 10 - PROGRESS: at 99.48% examples, 62358 words/s, in_qsize 7, out_qsize 0\n",
      "INFO - 15:11:21: worker thread finished; awaiting finish of 3 more threads\n",
      "INFO - 15:11:21: worker thread finished; awaiting finish of 2 more threads\n",
      "INFO - 15:11:21: worker thread finished; awaiting finish of 1 more threads\n",
      "INFO - 15:11:21: worker thread finished; awaiting finish of 0 more threads\n",
      "INFO - 15:11:21: EPOCH - 10 : training on 31973755 raw words (17369099 effective words) took 278.4s, 62392 effective words/s\n",
      "INFO - 15:11:21: training on a 319737550 raw words (173669529 effective words) took 2746.1s, 63242 effective words/s\n"
     ]
    },
    {
     "name": "stdout",
     "output_type": "stream",
     "text": [
      "Time to train the model: 45.77 mins\n"
     ]
    }
   ],
   "source": [
    "# t = time()\n",
    "\n",
    "# w2v_model.train(sentences, total_examples=w2v_model.corpus_count, epochs=10, report_delay=1)\n",
    "\n",
    "# print('Time to train the model: {} mins'.format(round((time() - t) / 60, 2)))"
   ]
  },
  {
   "cell_type": "code",
   "execution_count": 24,
   "metadata": {
    "ExecuteTime": {
     "end_time": "2020-09-02T12:11:50.349236Z",
     "start_time": "2020-09-02T12:11:50.299236Z"
    },
    "scrolled": true
   },
   "outputs": [
    {
     "name": "stderr",
     "output_type": "stream",
     "text": [
      "INFO - 15:11:50: precomputing L2-norms of word weight vectors\n"
     ]
    }
   ],
   "source": [
    "# w2v_model.init_sims(replace=True)"
   ]
  },
  {
   "cell_type": "code",
   "execution_count": 25,
   "metadata": {
    "ExecuteTime": {
     "end_time": "2020-09-02T12:13:19.566636Z",
     "start_time": "2020-09-02T12:13:19.159635Z"
    }
   },
   "outputs": [
    {
     "name": "stderr",
     "output_type": "stream",
     "text": [
      "INFO - 15:13:19: saving Word2Vec object under word2vec.model, separately None\n",
      "INFO - 15:13:19: storing np array 'vectors' to word2vec.model.wv.vectors.npy\n",
      "INFO - 15:13:19: not storing attribute vectors_norm\n",
      "INFO - 15:13:19: storing np array 'syn1neg' to word2vec.model.trainables.syn1neg.npy\n",
      "INFO - 15:13:19: not storing attribute cum_table\n",
      "INFO - 15:13:19: saved word2vec.model\n"
     ]
    }
   ],
   "source": [
    "# w2v_model.save('word2vec.model')"
   ]
  },
  {
   "cell_type": "code",
   "execution_count": null,
   "metadata": {},
   "outputs": [],
   "source": [
    "w2v_model.load(\"models/word2vec.model\")"
   ]
  },
  {
   "cell_type": "markdown",
   "metadata": {},
   "source": [
    "### Review most similar words\n",
    "Get initial evaluation of the word vectors by analyzing the most similar words for a few interesting words in the text. \n",
    "\n",
    "Choose words yourself, and find the most similar words to them."
   ]
  },
  {
   "cell_type": "code",
   "execution_count": 26,
   "metadata": {
    "ExecuteTime": {
     "end_time": "2020-09-02T12:17:26.135423Z",
     "start_time": "2020-09-02T12:17:26.085435Z"
    }
   },
   "outputs": [
    {
     "data": {
      "text/plain": [
       "[('girl', 0.6949691772460938),\n",
       " ('love', 0.6704144477844238),\n",
       " ('know', 0.6557329297065735),\n",
       " ('want', 0.6288506388664246),\n",
       " ('babe', 0.6166412830352783),\n",
       " ('cause', 0.6115379333496094),\n",
       " ('got', 0.6070839166641235),\n",
       " ('yeah', 0.5904284715652466),\n",
       " ('wanna', 0.5876810550689697),\n",
       " ('gonna', 0.5848056077957153)]"
      ]
     },
     "execution_count": 26,
     "metadata": {},
     "output_type": "execute_result"
    }
   ],
   "source": [
    "w2v_model.wv.similar_by_word('baby')"
   ]
  },
  {
   "cell_type": "code",
   "execution_count": 27,
   "metadata": {
    "ExecuteTime": {
     "end_time": "2020-09-02T12:17:51.745950Z",
     "start_time": "2020-09-02T12:17:51.725949Z"
    }
   },
   "outputs": [
    {
     "data": {
      "text/plain": [
       "[('know', 0.6707613468170166),\n",
       " ('baby', 0.6704143285751343),\n",
       " ('true', 0.6474128365516663),\n",
       " ('cause', 0.6252959966659546),\n",
       " ('always', 0.624932050704956),\n",
       " ('want', 0.621464729309082),\n",
       " ('need', 0.6161238551139832),\n",
       " ('never', 0.6112415790557861),\n",
       " ('heart', 0.607477068901062),\n",
       " ('girl', 0.5954786539077759)]"
      ]
     },
     "execution_count": 27,
     "metadata": {},
     "output_type": "execute_result"
    }
   ],
   "source": [
    "w2v_model.wv.similar_by_word('love')"
   ]
  },
  {
   "cell_type": "code",
   "execution_count": 28,
   "metadata": {
    "ExecuteTime": {
     "end_time": "2020-09-02T12:17:54.757408Z",
     "start_time": "2020-09-02T12:17:54.744409Z"
    }
   },
   "outputs": [
    {
     "data": {
      "text/plain": [
       "[('roll', 0.641488790512085),\n",
       " ('rockin', 0.49690937995910645),\n",
       " ('rocking', 0.4732968807220459),\n",
       " ('poping', 0.4618346691131592),\n",
       " ('rocked', 0.43347880244255066),\n",
       " ('riggity', 0.4320051670074463),\n",
       " ('gonna', 0.4264519512653351),\n",
       " ('plymouth', 0.4228554368019104),\n",
       " ('hop', 0.4198492765426636),\n",
       " ('knockers', 0.418967068195343)]"
      ]
     },
     "execution_count": 28,
     "metadata": {},
     "output_type": "execute_result"
    }
   ],
   "source": [
    "w2v_model.wv.similar_by_word('rock')"
   ]
  },
  {
   "cell_type": "code",
   "execution_count": 32,
   "metadata": {
    "ExecuteTime": {
     "end_time": "2020-09-02T12:22:24.029329Z",
     "start_time": "2020-09-02T12:22:24.009330Z"
    }
   },
   "outputs": [
    {
     "data": {
      "text/plain": [
       "[('heard', 0.5951169729232788),\n",
       " ('words', 0.5909407138824463),\n",
       " ('say', 0.54148930311203),\n",
       " ('speak', 0.5131803750991821),\n",
       " ('single', 0.5049841403961182),\n",
       " ('saying', 0.5022016763687134),\n",
       " ('bond', 0.4942132830619812),\n",
       " ('said', 0.49314767122268677),\n",
       " ('spoken', 0.49181339144706726),\n",
       " ('every', 0.48852837085723877)]"
      ]
     },
     "execution_count": 32,
     "metadata": {},
     "output_type": "execute_result"
    }
   ],
   "source": [
    "w2v_model.wv.similar_by_word('word')"
   ]
  },
  {
   "cell_type": "markdown",
   "metadata": {},
   "source": [
    "### Word Vectors Algebra\n",
    "We've seen in class examples of algebraic games on the word vectors (e.g. man - woman + king = queen ). \n",
    "\n",
    "Try a few vector algebra terms, and evaluate how well they work. Try to use the Cosine distance and compare it to the Euclidean distance."
   ]
  },
  {
   "cell_type": "code",
   "execution_count": 30,
   "metadata": {
    "ExecuteTime": {
     "end_time": "2020-09-02T12:18:17.995031Z",
     "start_time": "2020-09-02T12:18:17.980033Z"
    }
   },
   "outputs": [
    {
     "data": {
      "text/plain": [
       "[('queen', 0.46669062972068787),\n",
       " ('matchless', 0.4206172823905945),\n",
       " ('throne', 0.41855382919311523),\n",
       " ('enthrone', 0.3949975371360779),\n",
       " ('rouser', 0.3897181749343872),\n",
       " ('crown', 0.38753968477249146),\n",
       " ('herod', 0.38384175300598145),\n",
       " ('kings', 0.37932804226875305),\n",
       " ('angels', 0.374597430229187),\n",
       " ('uncrowned', 0.36562561988830566)]"
      ]
     },
     "execution_count": 30,
     "metadata": {},
     "output_type": "execute_result"
    }
   ],
   "source": [
    "w2v_model.wv.most_similar(positive=['king','woman'], negative=['man'])"
   ]
  },
  {
   "cell_type": "code",
   "execution_count": 31,
   "metadata": {
    "ExecuteTime": {
     "end_time": "2020-09-02T12:18:29.977449Z",
     "start_time": "2020-09-02T12:18:29.965447Z"
    }
   },
   "outputs": [
    {
     "data": {
      "text/plain": [
       "[('life', 0.6802177429199219),\n",
       " ('cause', 0.6477228403091431),\n",
       " ('never', 0.6474776268005371),\n",
       " ('know', 0.6437287926673889),\n",
       " ('fear', 0.6294887065887451),\n",
       " ('always', 0.6253932118415833),\n",
       " ('ever', 0.6039737462997437),\n",
       " ('one', 0.6032689213752747),\n",
       " ('forever', 0.6027883291244507),\n",
       " ('still', 0.6022353172302246)]"
      ]
     },
     "execution_count": 31,
     "metadata": {},
     "output_type": "execute_result"
    }
   ],
   "source": [
    "w2v_model.wv.most_similar(positive=['death', 'love'])"
   ]
  },
  {
   "cell_type": "code",
   "execution_count": 34,
   "metadata": {
    "ExecuteTime": {
     "end_time": "2020-09-02T13:14:34.798191Z",
     "start_time": "2020-09-02T13:14:34.769193Z"
    }
   },
   "outputs": [
    {
     "data": {
      "text/plain": [
       "[('three', 0.7689757943153381),\n",
       " ('cause', 0.6481500864028931),\n",
       " ('know', 0.6417772769927979),\n",
       " ('five', 0.633783757686615),\n",
       " ('four', 0.6227216124534607),\n",
       " ('another', 0.5935692191123962),\n",
       " ('right', 0.58751380443573),\n",
       " ('like', 0.5860652923583984),\n",
       " ('every', 0.5850352644920349),\n",
       " ('sure', 0.5813806056976318)]"
      ]
     },
     "execution_count": 34,
     "metadata": {},
     "output_type": "execute_result"
    }
   ],
   "source": [
    "w2v_model.wv.most_similar(positive=['one', 'two'])"
   ]
  },
  {
   "cell_type": "markdown",
   "metadata": {},
   "source": [
    "## Sentiment Analysis\n",
    "Estimate sentiment of words using word vectors.  \n",
    "In this section, we'll use the SemEval-2015 English Twitter Sentiment Lexicon.  \n",
    "The lexicon was used as an official test set in the SemEval-2015 shared Task #10: Subtask E, and contains a polarity score for words in range -1 (negative) to 1 (positive) - http://saifmohammad.com/WebPages/SCL.html#OPP"
   ]
  },
  {
   "cell_type": "markdown",
   "metadata": {},
   "source": [
    "Build a classifier for the sentiment of a word given its word vector. Split the data to a train and test sets, and report the model performance on both sets."
   ]
  },
  {
   "cell_type": "code",
   "execution_count": 36,
   "metadata": {
    "ExecuteTime": {
     "end_time": "2020-09-02T13:20:17.359471Z",
     "start_time": "2020-09-02T13:20:17.339471Z"
    }
   },
   "outputs": [],
   "source": [
    "twitter_df = pd.read_csv('data/SemEval2015-English-Twitter-Lexicon/SemEval2015-English-Twitter-Lexicon.txt', delimiter='\\t', header=None, names=('Score', 'Word'))"
   ]
  },
  {
   "cell_type": "code",
   "execution_count": 37,
   "metadata": {
    "ExecuteTime": {
     "end_time": "2020-09-02T13:20:18.853274Z",
     "start_time": "2020-09-02T13:20:18.835258Z"
    }
   },
   "outputs": [
    {
     "data": {
      "text/html": [
       "<div>\n",
       "<style scoped>\n",
       "    .dataframe tbody tr th:only-of-type {\n",
       "        vertical-align: middle;\n",
       "    }\n",
       "\n",
       "    .dataframe tbody tr th {\n",
       "        vertical-align: top;\n",
       "    }\n",
       "\n",
       "    .dataframe thead th {\n",
       "        text-align: right;\n",
       "    }\n",
       "</style>\n",
       "<table border=\"1\" class=\"dataframe\">\n",
       "  <thead>\n",
       "    <tr style=\"text-align: right;\">\n",
       "      <th></th>\n",
       "      <th>Score</th>\n",
       "      <th>Word</th>\n",
       "    </tr>\n",
       "  </thead>\n",
       "  <tbody>\n",
       "    <tr>\n",
       "      <th>1510</th>\n",
       "      <td>-0.969</td>\n",
       "      <td>abuse</td>\n",
       "    </tr>\n",
       "    <tr>\n",
       "      <th>1511</th>\n",
       "      <td>-0.969</td>\n",
       "      <td>#failure</td>\n",
       "    </tr>\n",
       "    <tr>\n",
       "      <th>1512</th>\n",
       "      <td>-0.982</td>\n",
       "      <td>kill</td>\n",
       "    </tr>\n",
       "    <tr>\n",
       "      <th>1513</th>\n",
       "      <td>-0.984</td>\n",
       "      <td>bitches</td>\n",
       "    </tr>\n",
       "    <tr>\n",
       "      <th>1514</th>\n",
       "      <td>-0.984</td>\n",
       "      <td>#disappointment</td>\n",
       "    </tr>\n",
       "  </tbody>\n",
       "</table>\n",
       "</div>"
      ],
      "text/plain": [
       "      Score             Word\n",
       "1510 -0.969            abuse\n",
       "1511 -0.969         #failure\n",
       "1512 -0.982             kill\n",
       "1513 -0.984          bitches\n",
       "1514 -0.984  #disappointment"
      ]
     },
     "execution_count": 37,
     "metadata": {},
     "output_type": "execute_result"
    }
   ],
   "source": [
    "twitter_df.tail()"
   ]
  },
  {
   "cell_type": "code",
   "execution_count": 38,
   "metadata": {
    "ExecuteTime": {
     "end_time": "2020-09-02T13:20:32.673048Z",
     "start_time": "2020-09-02T13:20:32.653040Z"
    }
   },
   "outputs": [],
   "source": [
    "twitter_df['Clean Word'] = twitter_df.Word.apply(lambda x: re.sub(\"[^a-zA-Z]\", \"\", x))"
   ]
  },
  {
   "cell_type": "code",
   "execution_count": 39,
   "metadata": {
    "ExecuteTime": {
     "end_time": "2020-09-02T13:20:33.607340Z",
     "start_time": "2020-09-02T13:20:33.595357Z"
    }
   },
   "outputs": [
    {
     "data": {
      "text/html": [
       "<div>\n",
       "<style scoped>\n",
       "    .dataframe tbody tr th:only-of-type {\n",
       "        vertical-align: middle;\n",
       "    }\n",
       "\n",
       "    .dataframe tbody tr th {\n",
       "        vertical-align: top;\n",
       "    }\n",
       "\n",
       "    .dataframe thead th {\n",
       "        text-align: right;\n",
       "    }\n",
       "</style>\n",
       "<table border=\"1\" class=\"dataframe\">\n",
       "  <thead>\n",
       "    <tr style=\"text-align: right;\">\n",
       "      <th></th>\n",
       "      <th>Score</th>\n",
       "      <th>Word</th>\n",
       "      <th>Clean Word</th>\n",
       "    </tr>\n",
       "  </thead>\n",
       "  <tbody>\n",
       "    <tr>\n",
       "      <th>0</th>\n",
       "      <td>0.984</td>\n",
       "      <td>loves</td>\n",
       "      <td>loves</td>\n",
       "    </tr>\n",
       "    <tr>\n",
       "      <th>1</th>\n",
       "      <td>0.984</td>\n",
       "      <td>#inspirational</td>\n",
       "      <td>inspirational</td>\n",
       "    </tr>\n",
       "    <tr>\n",
       "      <th>2</th>\n",
       "      <td>0.969</td>\n",
       "      <td>amazing</td>\n",
       "      <td>amazing</td>\n",
       "    </tr>\n",
       "    <tr>\n",
       "      <th>3</th>\n",
       "      <td>0.969</td>\n",
       "      <td>#peaceful</td>\n",
       "      <td>peaceful</td>\n",
       "    </tr>\n",
       "    <tr>\n",
       "      <th>4</th>\n",
       "      <td>0.953</td>\n",
       "      <td>#greatness</td>\n",
       "      <td>greatness</td>\n",
       "    </tr>\n",
       "  </tbody>\n",
       "</table>\n",
       "</div>"
      ],
      "text/plain": [
       "   Score            Word     Clean Word\n",
       "0  0.984           loves          loves\n",
       "1  0.984  #inspirational  inspirational\n",
       "2  0.969         amazing        amazing\n",
       "3  0.969       #peaceful       peaceful\n",
       "4  0.953      #greatness      greatness"
      ]
     },
     "execution_count": 39,
     "metadata": {},
     "output_type": "execute_result"
    }
   ],
   "source": [
    "twitter_df.head()"
   ]
  },
  {
   "cell_type": "code",
   "execution_count": 40,
   "metadata": {
    "ExecuteTime": {
     "end_time": "2020-09-02T13:21:43.564922Z",
     "start_time": "2020-09-02T13:21:43.548911Z"
    }
   },
   "outputs": [],
   "source": [
    "twitter_df['Vector'] = twitter_df['Clean Word'].apply(lambda x: w2v_model.wv[x] if x in w2v_model.wv.vocab else None)"
   ]
  },
  {
   "cell_type": "code",
   "execution_count": 45,
   "metadata": {
    "ExecuteTime": {
     "end_time": "2020-09-02T13:23:14.708055Z",
     "start_time": "2020-09-02T13:23:14.697044Z"
    }
   },
   "outputs": [],
   "source": [
    "twitter_df.dropna(subset=['Vector'], inplace=True)"
   ]
  },
  {
   "cell_type": "code",
   "execution_count": 65,
   "metadata": {
    "ExecuteTime": {
     "end_time": "2020-09-02T13:50:49.904024Z",
     "start_time": "2020-09-02T13:50:49.685025Z"
    }
   },
   "outputs": [
    {
     "data": {
      "text/plain": [
       "<matplotlib.axes._subplots.AxesSubplot at 0x17fad3a3438>"
      ]
     },
     "execution_count": 65,
     "metadata": {},
     "output_type": "execute_result"
    },
    {
     "data": {
      "image/png": "[encoded data removed]",
      "text/plain": [
       "<Figure size 432x288 with 1 Axes>"
      ]
     },
     "metadata": {
      "needs_background": "light"
     },
     "output_type": "display_data"
    }
   ],
   "source": [
    "twitter_df.Score.hist()"
   ]
  },
  {
   "cell_type": "code",
   "execution_count": 46,
   "metadata": {
    "ExecuteTime": {
     "end_time": "2020-09-02T13:23:23.811571Z",
     "start_time": "2020-09-02T13:23:23.449557Z"
    }
   },
   "outputs": [],
   "source": [
    "from sklearn.ensemble import RandomForestRegressor"
   ]
  },
  {
   "cell_type": "code",
   "execution_count": 70,
   "metadata": {
    "ExecuteTime": {
     "end_time": "2020-09-02T13:54:15.876916Z",
     "start_time": "2020-09-02T13:54:15.868933Z"
    }
   },
   "outputs": [],
   "source": [
    "forest = RandomForestRegressor(n_estimators=100)"
   ]
  },
  {
   "cell_type": "code",
   "execution_count": 48,
   "metadata": {
    "ExecuteTime": {
     "end_time": "2020-09-02T13:23:31.058004Z",
     "start_time": "2020-09-02T13:23:31.049006Z"
    }
   },
   "outputs": [],
   "source": [
    "y = twitter_df.Score.to_numpy()"
   ]
  },
  {
   "cell_type": "code",
   "execution_count": 49,
   "metadata": {
    "ExecuteTime": {
     "end_time": "2020-09-02T13:23:45.259122Z",
     "start_time": "2020-09-02T13:23:45.249123Z"
    }
   },
   "outputs": [],
   "source": [
    "X = np.array(twitter_df.Vector.to_list())"
   ]
  },
  {
   "cell_type": "code",
   "execution_count": 50,
   "metadata": {
    "ExecuteTime": {
     "end_time": "2020-09-02T13:23:46.108216Z",
     "start_time": "2020-09-02T13:23:46.091216Z"
    }
   },
   "outputs": [
    {
     "data": {
      "text/plain": [
       "(1024, 300)"
      ]
     },
     "execution_count": 50,
     "metadata": {},
     "output_type": "execute_result"
    }
   ],
   "source": [
    "X.shape"
   ]
  },
  {
   "cell_type": "code",
   "execution_count": 51,
   "metadata": {
    "ExecuteTime": {
     "end_time": "2020-09-02T13:23:46.666229Z",
     "start_time": "2020-09-02T13:23:46.658213Z"
    }
   },
   "outputs": [
    {
     "data": {
      "text/plain": [
       "(1024,)"
      ]
     },
     "execution_count": 51,
     "metadata": {},
     "output_type": "execute_result"
    }
   ],
   "source": [
    "y.shape"
   ]
  },
  {
   "cell_type": "code",
   "execution_count": 54,
   "metadata": {
    "ExecuteTime": {
     "end_time": "2020-09-02T13:24:18.557606Z",
     "start_time": "2020-09-02T13:24:18.548595Z"
    }
   },
   "outputs": [],
   "source": [
    "from sklearn.model_selection import train_test_split"
   ]
  },
  {
   "cell_type": "code",
   "execution_count": 55,
   "metadata": {
    "ExecuteTime": {
     "end_time": "2020-09-02T13:25:01.761540Z",
     "start_time": "2020-09-02T13:25:01.752539Z"
    }
   },
   "outputs": [],
   "source": [
    "X_train, X_test, y_train, y_test = train_test_split(X, y, test_size=0.1, random_state=42)"
   ]
  },
  {
   "cell_type": "code",
   "execution_count": 71,
   "metadata": {
    "ExecuteTime": {
     "end_time": "2020-09-02T13:54:35.999084Z",
     "start_time": "2020-09-02T13:54:23.882565Z"
    },
    "scrolled": true
   },
   "outputs": [
    {
     "data": {
      "text/plain": [
       "RandomForestRegressor(bootstrap=True, ccp_alpha=0.0, criterion='mse',\n",
       "                      max_depth=None, max_features='auto', max_leaf_nodes=None,\n",
       "                      max_samples=None, min_impurity_decrease=0.0,\n",
       "                      min_impurity_split=None, min_samples_leaf=1,\n",
       "                      min_samples_split=2, min_weight_fraction_leaf=0.0,\n",
       "                      n_estimators=100, n_jobs=None, oob_score=False,\n",
       "                      random_state=None, verbose=0, warm_start=False)"
      ]
     },
     "execution_count": 71,
     "metadata": {},
     "output_type": "execute_result"
    }
   ],
   "source": [
    "forest.fit(X_train, y_train)"
   ]
  },
  {
   "cell_type": "code",
   "execution_count": 72,
   "metadata": {
    "ExecuteTime": {
     "end_time": "2020-09-02T13:54:36.029082Z",
     "start_time": "2020-09-02T13:54:36.002066Z"
    }
   },
   "outputs": [],
   "source": [
    "y_pred = forest.predict(X_test)"
   ]
  },
  {
   "cell_type": "code",
   "execution_count": 73,
   "metadata": {
    "ExecuteTime": {
     "end_time": "2020-09-02T13:54:36.093066Z",
     "start_time": "2020-09-02T13:54:36.034066Z"
    }
   },
   "outputs": [
    {
     "data": {
      "text/plain": [
       "(0.9157880292959414, 0.3305543411737105)"
      ]
     },
     "execution_count": 73,
     "metadata": {},
     "output_type": "execute_result"
    }
   ],
   "source": [
    "forest.score(X_train,y_train), forest.score(X_test,y_test)"
   ]
  },
  {
   "cell_type": "code",
   "execution_count": 60,
   "metadata": {
    "ExecuteTime": {
     "end_time": "2020-09-02T13:31:13.067406Z",
     "start_time": "2020-09-02T13:31:12.776378Z"
    }
   },
   "outputs": [],
   "source": [
    "import matplotlib.pyplot as plt"
   ]
  },
  {
   "cell_type": "code",
   "execution_count": 74,
   "metadata": {
    "ExecuteTime": {
     "end_time": "2020-09-02T13:54:56.188424Z",
     "start_time": "2020-09-02T13:54:55.993417Z"
    }
   },
   "outputs": [
    {
     "data": {
      "image/png": "[encoded data removed]",
      "text/plain": [
       "<Figure size 432x288 with 1 Axes>"
      ]
     },
     "metadata": {
      "needs_background": "light"
     },
     "output_type": "display_data"
    }
   ],
   "source": [
    "plt.scatter(y_test,y_pred)\n",
    "plt.xlabel('true values')\n",
    "plt.ylabel('prediction')\n",
    "plt.xlim([-1, 1])\n",
    "plt.ylim([-1, 1]);"
   ]
  },
  {
   "cell_type": "markdown",
   "metadata": {},
   "source": [
    "Use your trained model from the previous question to predict the sentiment score of words in the lyrics corpus that are not part of the original sentiment dataset. Review the words with the highest positive and negative sentiment. Do the results make sense?"
   ]
  },
  {
   "cell_type": "code",
   "execution_count": 77,
   "metadata": {
    "ExecuteTime": {
     "end_time": "2020-09-02T13:57:56.862363Z",
     "start_time": "2020-09-02T13:57:56.750362Z"
    }
   },
   "outputs": [],
   "source": [
    "my_dict = {word:w2v_model.wv[word] for word in w2v_model.wv.vocab.keys()}"
   ]
  },
  {
   "cell_type": "code",
   "execution_count": 78,
   "metadata": {
    "ExecuteTime": {
     "end_time": "2020-09-02T13:58:09.153564Z",
     "start_time": "2020-09-02T13:58:03.485519Z"
    }
   },
   "outputs": [],
   "source": [
    "df = pd.DataFrame.from_dict(my_dict, orient='index')"
   ]
  },
  {
   "cell_type": "code",
   "execution_count": 79,
   "metadata": {
    "ExecuteTime": {
     "end_time": "2020-09-02T13:58:09.168566Z",
     "start_time": "2020-09-02T13:58:09.155566Z"
    }
   },
   "outputs": [],
   "source": [
    "df['sentiment_score'] = None"
   ]
  },
  {
   "cell_type": "code",
   "execution_count": 81,
   "metadata": {
    "ExecuteTime": {
     "end_time": "2020-09-02T14:07:25.855642Z",
     "start_time": "2020-09-02T13:59:02.191349Z"
    }
   },
   "outputs": [],
   "source": [
    "for index, row in df.iterrows():\n",
    "    if index not in twitter_df['Clean Word'].values:\n",
    "        df.loc[index,'sentiment_score'] = forest.predict(row[:-1].to_numpy().reshape(1,-1))"
   ]
  },
  {
   "cell_type": "code",
   "execution_count": 82,
   "metadata": {
    "ExecuteTime": {
     "end_time": "2020-09-02T14:07:26.109642Z",
     "start_time": "2020-09-02T14:07:25.857631Z"
    }
   },
   "outputs": [
    {
     "data": {
      "text/plain": [
       "arianrhod      0.543155\n",
       "paganini       0.519407\n",
       "areumdaun      0.512455\n",
       "kissable       0.507527\n",
       "kibo           0.486825\n",
       "                 ...   \n",
       "reviled       -0.538996\n",
       "remorseless     -0.5594\n",
       "decayed       -0.592835\n",
       "sadism        -0.601613\n",
       "castration    -0.614951\n",
       "Name: sentiment_score, Length: 44574, dtype: object"
      ]
     },
     "execution_count": 82,
     "metadata": {},
     "output_type": "execute_result"
    }
   ],
   "source": [
    "df[df.sentiment_score.notnull()].sort_values(by=['sentiment_score'], ascending=False).sentiment_score"
   ]
  },
  {
   "cell_type": "markdown",
   "metadata": {},
   "source": [
    "Sentiment analysis kind of worked. The negative sentiment seems to make sense, the positive less so. However, the word areumdaun actually means 'beautiful' in korean :)"
   ]
  },
  {
   "cell_type": "markdown",
   "metadata": {},
   "source": [
    "### Visualize Word Vectors\n",
    "In this section, you'll plot words on a 2D grid based on their inner similarity. We'll use the tSNE transformation to reduce dimensions from 300 to 2. You can get sample code from https://www.kaggle.com/pierremegret/gensim-word2vec-tutorial or other tutorials online.\n",
    "\n",
    "Perform the following:\n",
    "- Keep only the 3,000 most frequent words (after removing stopwords)\n",
    "- For this list, compute for each word its relative abundance in each of the genres\n",
    "- Compute the ratio between the proportion of each word in each genre and the proportion of the word in the entire corpus (the background distribution)\n",
    "- Pick the top 50 words for each genre. These words give good indication for that genre. Join the words from all genres into a single list of top significant words. \n",
    "- Compute tSNE transformation to 2D for all words, based on their word vectors\n",
    "- Plot the list of the top significant words in 2D. Next to each word output its text. The color of each point should indicate the genre for which it is most significant.\n",
    "\n",
    "You might prefer to use a different number of points or a slightly different methodology for improved results.  \n",
    "Analyze the results."
   ]
  },
  {
   "cell_type": "code",
   "execution_count": 83,
   "metadata": {
    "ExecuteTime": {
     "end_time": "2020-09-02T17:15:08.141887Z",
     "start_time": "2020-09-02T17:15:07.803876Z"
    }
   },
   "outputs": [
    {
     "name": "stderr",
     "output_type": "stream",
     "text": [
      "INFO - 20:15:07: loading Word2Vec object from models/word2vec.model\n",
      "INFO - 20:15:07: loading wv recursively from models/word2vec.model.wv.* with mmap=None\n",
      "INFO - 20:15:07: loading vectors from models/word2vec.model.wv.vectors.npy with mmap=None\n",
      "INFO - 20:15:07: setting ignored attribute vectors_norm to None\n",
      "INFO - 20:15:07: loading vocabulary recursively from models/word2vec.model.vocabulary.* with mmap=None\n",
      "INFO - 20:15:07: loading trainables recursively from models/word2vec.model.trainables.* with mmap=None\n",
      "INFO - 20:15:07: loading syn1neg from models/word2vec.model.trainables.syn1neg.npy with mmap=None\n",
      "INFO - 20:15:07: setting ignored attribute cum_table to None\n",
      "INFO - 20:15:07: loaded models/word2vec.model\n"
     ]
    }
   ],
   "source": [
    "w2v_model = Word2Vec.load('models/word2vec.model')"
   ]
  },
  {
   "cell_type": "code",
   "execution_count": 95,
   "metadata": {
    "ExecuteTime": {
     "end_time": "2020-09-02T17:18:48.781884Z",
     "start_time": "2020-09-02T17:18:48.615873Z"
    }
   },
   "outputs": [],
   "source": [
    "genres = np.unique(train.genre.values)"
   ]
  },
  {
   "cell_type": "code",
   "execution_count": 96,
   "metadata": {
    "ExecuteTime": {
     "end_time": "2020-09-02T17:18:50.071154Z",
     "start_time": "2020-09-02T17:18:50.065156Z"
    }
   },
   "outputs": [],
   "source": [
    "from sklearn.feature_extraction.text import CountVectorizer"
   ]
  },
  {
   "cell_type": "code",
   "execution_count": 98,
   "metadata": {
    "ExecuteTime": {
     "end_time": "2020-09-02T17:19:34.999202Z",
     "start_time": "2020-09-02T17:19:06.264191Z"
    }
   },
   "outputs": [],
   "source": [
    "vectorizer = CountVectorizer(stop_words='english', max_features=3000)\n",
    "mostFreqWords = vectorizer.fit_transform(train.clean_lyrics.apply(lambda x: (' '.join(x))).values)"
   ]
  },
  {
   "cell_type": "code",
   "execution_count": 99,
   "metadata": {
    "ExecuteTime": {
     "end_time": "2020-09-02T17:19:49.036697Z",
     "start_time": "2020-09-02T17:19:35.001190Z"
    }
   },
   "outputs": [],
   "source": [
    "mostFreqWords = mostFreqWords.toarray()"
   ]
  },
  {
   "cell_type": "code",
   "execution_count": 100,
   "metadata": {
    "ExecuteTime": {
     "end_time": "2020-09-02T17:19:49.065697Z",
     "start_time": "2020-09-02T17:19:49.047698Z"
    }
   },
   "outputs": [
    {
     "data": {
      "text/plain": [
       "(266557, 3000)"
      ]
     },
     "execution_count": 100,
     "metadata": {},
     "output_type": "execute_result"
    }
   ],
   "source": [
    "mostFreqWords.shape"
   ]
  },
  {
   "cell_type": "code",
   "execution_count": 101,
   "metadata": {
    "ExecuteTime": {
     "end_time": "2020-09-02T17:19:59.382738Z",
     "start_time": "2020-09-02T17:19:52.498214Z"
    }
   },
   "outputs": [],
   "source": [
    "wordAbundancePerGenre = np.zeros((len(genres),mostFreqWords.shape[1]))\n",
    "wordAbundanceTotal = mostFreqWords.sum(axis=0)\n",
    "\n",
    "for i, genre in enumerate(genres):\n",
    "    idx = np.argwhere(train.genre.values == genre)\n",
    "    wordAbundancePerGenre[i,:] = mostFreqWords[idx,:].sum(axis=0) / wordAbundanceTotal"
   ]
  },
  {
   "cell_type": "code",
   "execution_count": 102,
   "metadata": {
    "ExecuteTime": {
     "end_time": "2020-09-02T17:20:00.570188Z",
     "start_time": "2020-09-02T17:20:00.551191Z"
    },
    "scrolled": true
   },
   "outputs": [
    {
     "data": {
      "text/plain": [
       "(12, 3000)"
      ]
     },
     "execution_count": 102,
     "metadata": {},
     "output_type": "execute_result"
    }
   ],
   "source": [
    "wordAbundancePerGenre.shape"
   ]
  },
  {
   "cell_type": "code",
   "execution_count": 103,
   "metadata": {
    "ExecuteTime": {
     "end_time": "2020-09-02T17:20:06.451591Z",
     "start_time": "2020-09-02T17:20:06.424696Z"
    }
   },
   "outputs": [],
   "source": [
    "Words = np.array(list(vectorizer.vocabulary_.keys()))"
   ]
  },
  {
   "cell_type": "code",
   "execution_count": 104,
   "metadata": {
    "ExecuteTime": {
     "end_time": "2020-09-02T17:20:07.125055Z",
     "start_time": "2020-09-02T17:20:07.108927Z"
    }
   },
   "outputs": [
    {
     "data": {
      "text/plain": [
       "(3000,)"
      ]
     },
     "execution_count": 104,
     "metadata": {},
     "output_type": "execute_result"
    }
   ],
   "source": [
    "Words.shape"
   ]
  },
  {
   "cell_type": "code",
   "execution_count": 105,
   "metadata": {
    "ExecuteTime": {
     "end_time": "2020-09-02T17:20:10.808920Z",
     "start_time": "2020-09-02T17:20:10.777766Z"
    }
   },
   "outputs": [],
   "source": [
    "top50idx = np.argsort(wordAbundancePerGenre)\n",
    "top50WordsPerGenre = Words[top50idx[:,-50:]]"
   ]
  },
  {
   "cell_type": "code",
   "execution_count": 106,
   "metadata": {
    "ExecuteTime": {
     "end_time": "2020-09-02T17:20:15.419954Z",
     "start_time": "2020-09-02T17:20:15.407955Z"
    }
   },
   "outputs": [
    {
     "data": {
      "text/plain": [
       "(12, 50)"
      ]
     },
     "execution_count": 106,
     "metadata": {},
     "output_type": "execute_result"
    }
   ],
   "source": [
    "top50WordsPerGenre.shape"
   ]
  },
  {
   "cell_type": "code",
   "execution_count": 107,
   "metadata": {
    "ExecuteTime": {
     "end_time": "2020-09-02T17:20:20.858148Z",
     "start_time": "2020-09-02T17:20:20.842139Z"
    }
   },
   "outputs": [],
   "source": [
    "topSignificantWords = top50WordsPerGenre.flatten()"
   ]
  },
  {
   "cell_type": "code",
   "execution_count": 108,
   "metadata": {
    "ExecuteTime": {
     "end_time": "2020-09-02T17:20:26.820916Z",
     "start_time": "2020-09-02T17:20:26.726883Z"
    }
   },
   "outputs": [],
   "source": [
    "topSignificantVectors = []\n",
    "\n",
    "for word in topSignificantWords:\n",
    "    if word in w2v_model.wv.vocab:\n",
    "        topSignificantVectors.append(w2v_model.wv[word])"
   ]
  },
  {
   "cell_type": "code",
   "execution_count": 109,
   "metadata": {
    "ExecuteTime": {
     "end_time": "2020-09-02T17:21:05.923571Z",
     "start_time": "2020-09-02T17:21:05.882573Z"
    }
   },
   "outputs": [],
   "source": [
    "topSignificantVectors = np.array(topSignificantVectors)"
   ]
  },
  {
   "cell_type": "code",
   "execution_count": 110,
   "metadata": {
    "ExecuteTime": {
     "end_time": "2020-09-02T17:21:07.564410Z",
     "start_time": "2020-09-02T17:21:07.556411Z"
    }
   },
   "outputs": [
    {
     "data": {
      "text/plain": [
       "(600, 300)"
      ]
     },
     "execution_count": 110,
     "metadata": {},
     "output_type": "execute_result"
    }
   ],
   "source": [
    "topSignificantVectors.shape"
   ]
  },
  {
   "cell_type": "code",
   "execution_count": 111,
   "metadata": {
    "ExecuteTime": {
     "end_time": "2020-09-02T17:21:23.081798Z",
     "start_time": "2020-09-02T17:21:19.824608Z"
    }
   },
   "outputs": [],
   "source": [
    "import seaborn as sns\n",
    "sns.set_style(\"darkgrid\")\n",
    "\n",
    "from sklearn.decomposition import PCA\n",
    "from sklearn.manifold import TSNE\n",
    "\n",
    "reduc = PCA(n_components=50).fit_transform(topSignificantVectors)\n",
    "np.set_printoptions(suppress=True)\n",
    "Y = TSNE(n_components=2, random_state=0, perplexity=15).fit_transform(reduc)"
   ]
  },
  {
   "cell_type": "code",
   "execution_count": 112,
   "metadata": {
    "ExecuteTime": {
     "end_time": "2020-09-02T17:21:32.631171Z",
     "start_time": "2020-09-02T17:21:29.549804Z"
    }
   },
   "outputs": [
    {
     "data": {
      "text/plain": [
       "<matplotlib.legend.Legend at 0x1808b31f470>"
      ]
     },
     "execution_count": 112,
     "metadata": {},
     "output_type": "execute_result"
    },
    {
     "data": {
      "image/png": "[encoded data removed]",
      "text/plain": [
       "<Figure size 864x864 with 1 Axes>"
      ]
     },
     "metadata": {},
     "output_type": "display_data"
    }
   ],
   "source": [
    "plt.figure(figsize=(12,12))\n",
    "\n",
    "for i,genre in enumerate(genres):\n",
    "    Y_curr = Y[i*50:(i+1)*50,:]\n",
    "    p1 = sns.regplot(Y_curr[:,0],Y_curr[:,1], fit_reg=False)\n",
    "    for line in range(0, Y_curr.shape[0]):\n",
    "        p1.text(Y_curr[line,0],Y_curr[line,1],'  ' + top50WordsPerGenre[i,line],\n",
    "                horizontalalignment='left',\n",
    "                verticalalignment='bottom', size='medium',weight='normal').set_size(15)\n",
    "plt.legend(genres)"
   ]
  },
  {
   "cell_type": "markdown",
   "metadata": {},
   "source": [
    "Not sure what to make of it, but there seem to be a few blobs, a big one and a few small ones down to the right. But it doesn't seem there is any clustering by genre"
   ]
  },
  {
   "cell_type": "markdown",
   "metadata": {},
   "source": [
    "## Text Classification\n",
    "In this section, you'll build a text classifier, determining the genre of a song based on its lyrics."
   ]
  },
  {
   "cell_type": "markdown",
   "metadata": {},
   "source": [
    "### Text classification using Bag-of-Words\n",
    "Build a Naive Bayes classifier based on the bag of Words.  \n",
    "You will need to divide your dataset into a train and test sets."
   ]
  },
  {
   "cell_type": "code",
   "execution_count": 113,
   "metadata": {
    "ExecuteTime": {
     "end_time": "2020-09-02T17:23:24.838492Z",
     "start_time": "2020-09-02T17:23:22.718495Z"
    }
   },
   "outputs": [],
   "source": [
    "data = train[train.clean_lyrics.map(lambda d: len(d))>0]"
   ]
  },
  {
   "cell_type": "code",
   "execution_count": 119,
   "metadata": {
    "ExecuteTime": {
     "end_time": "2020-09-02T17:24:34.297042Z",
     "start_time": "2020-09-02T17:24:34.152037Z"
    }
   },
   "outputs": [],
   "source": [
    "trainset, testset = train_test_split(data, test_size=0.1)"
   ]
  },
  {
   "cell_type": "code",
   "execution_count": 120,
   "metadata": {
    "ExecuteTime": {
     "end_time": "2020-09-02T17:25:19.070474Z",
     "start_time": "2020-09-02T17:24:48.363120Z"
    }
   },
   "outputs": [],
   "source": [
    "vectorizer = CountVectorizer(stop_words='english', max_features=3000)\n",
    "trainFreqWords = vectorizer.fit_transform(trainset.clean_lyrics.apply(lambda x: (' '.join(x))).values)\n",
    "testFreqWords= vectorizer.transform(testset.clean_lyrics.apply(lambda x: (' '.join(x))).values)"
   ]
  },
  {
   "cell_type": "code",
   "execution_count": 121,
   "metadata": {
    "ExecuteTime": {
     "end_time": "2020-09-02T17:25:20.211323Z",
     "start_time": "2020-09-02T17:25:19.072447Z"
    }
   },
   "outputs": [
    {
     "data": {
      "text/plain": [
       "MultinomialNB(alpha=1.0, class_prior=None, fit_prior=True)"
      ]
     },
     "execution_count": 121,
     "metadata": {},
     "output_type": "execute_result"
    }
   ],
   "source": [
    "from sklearn.naive_bayes import MultinomialNB\n",
    "\n",
    "clf = MultinomialNB()\n",
    "clf.fit(trainFreqWords,trainset.genre.values)"
   ]
  },
  {
   "cell_type": "code",
   "execution_count": 122,
   "metadata": {
    "ExecuteTime": {
     "end_time": "2020-09-02T17:25:20.275308Z",
     "start_time": "2020-09-02T17:25:20.213311Z"
    }
   },
   "outputs": [
    {
     "data": {
      "text/plain": [
       "0.3352306996381182"
      ]
     },
     "execution_count": 122,
     "metadata": {},
     "output_type": "execute_result"
    }
   ],
   "source": [
    "clf.score(testFreqWords,testset.genre.values)"
   ]
  },
  {
   "cell_type": "markdown",
   "metadata": {},
   "source": [
    "Show the confusion matrix."
   ]
  },
  {
   "cell_type": "code",
   "execution_count": 123,
   "metadata": {
    "ExecuteTime": {
     "end_time": "2020-09-02T17:26:08.857803Z",
     "start_time": "2020-09-02T17:26:08.406802Z"
    }
   },
   "outputs": [
    {
     "data": {
      "text/plain": [
       "<matplotlib.colorbar.Colorbar at 0x1807e065c18>"
      ]
     },
     "execution_count": 123,
     "metadata": {},
     "output_type": "execute_result"
    },
    {
     "data": {
      "image/png": "[encoded data removed]",
      "text/plain": [
       "<Figure size 432x288 with 2 Axes>"
      ]
     },
     "metadata": {},
     "output_type": "display_data"
    }
   ],
   "source": [
    "from sklearn.metrics import confusion_matrix\n",
    "import matplotlib.pyplot as plt\n",
    "y_pred = clf.predict(testFreqWords)\n",
    "plt.imshow(confusion_matrix(testset.genre.values, y_pred))\n",
    "plt.colorbar()"
   ]
  },
  {
   "cell_type": "markdown",
   "metadata": {},
   "source": [
    "Show the classification report - precision, recall, f1 for each class."
   ]
  },
  {
   "cell_type": "code",
   "execution_count": 124,
   "metadata": {
    "ExecuteTime": {
     "end_time": "2020-09-02T17:26:27.466438Z",
     "start_time": "2020-09-02T17:26:26.875624Z"
    }
   },
   "outputs": [
    {
     "name": "stdout",
     "output_type": "stream",
     "text": [
      "               precision    recall  f1-score   support\n",
      "\n",
      "      Country       0.20      0.63      0.30      1414\n",
      "   Electronic       0.12      0.15      0.13       791\n",
      "         Folk       0.09      0.22      0.13       217\n",
      "      Hip-Hop       0.66      0.67      0.66      2511\n",
      "        Indie       0.04      0.11      0.06       320\n",
      "         Jazz       0.21      0.27      0.24       753\n",
      "        Metal       0.37      0.68      0.48      2327\n",
      "Not Available       0.24      0.08      0.12      2326\n",
      "        Other       0.07      0.19      0.11       551\n",
      "          Pop       0.39      0.05      0.09      4053\n",
      "          R&B       0.04      0.34      0.07       346\n",
      "         Rock       0.59      0.34      0.43     10919\n",
      "\n",
      "     accuracy                           0.34     26528\n",
      "    macro avg       0.25      0.31      0.24     26528\n",
      " weighted avg       0.44      0.34      0.34     26528\n",
      "\n"
     ]
    }
   ],
   "source": [
    "from sklearn.metrics import classification_report\n",
    "print(classification_report(testset.genre.values, y_pred))"
   ]
  },
  {
   "cell_type": "markdown",
   "metadata": {},
   "source": [
    "Pretty poor results on most genres, aside from hip hop and rock. They might be most distinguishable in terms of lyrics than the rest. Also the set is imbalanced..."
   ]
  },
  {
   "cell_type": "markdown",
   "metadata": {},
   "source": [
    "### Text classification using Word Vectors\n",
    "#### Average word vectors\n",
    "Do the same, using a classifier that averages the word vectors of words in the document."
   ]
  },
  {
   "cell_type": "code",
   "execution_count": 125,
   "metadata": {
    "ExecuteTime": {
     "end_time": "2020-09-02T17:26:59.971798Z",
     "start_time": "2020-09-02T17:26:59.950798Z"
    }
   },
   "outputs": [],
   "source": [
    "def makeFeatureVec(words, model, num_features):\n",
    "\n",
    "    featureVec = np.zeros((num_features,))\n",
    "\n",
    "    nwords = 0\n",
    "    \n",
    "    index2word_set = set(model.wv.index2word)\n",
    "    \n",
    "    for word in words:\n",
    "        if word in index2word_set: \n",
    "            nwords = nwords + 1\n",
    "            featureVec = np.add(featureVec,model.wv[word])\n",
    "\n",
    "    if featureVec.sum()!=0:\n",
    "        featureVec = np.divide(featureVec,nwords)\n",
    "    return featureVec\n",
    "\n",
    "\n",
    "def getAvgFeatureVecs(reviews, model, num_features):\n",
    "\n",
    "    reviewFeatureVecs = np.zeros((len(reviews),num_features))\n",
    "\n",
    "    for i, review in enumerate(reviews):\n",
    "\n",
    "        if i%1000 == 0:\n",
    "            print (\"Review %d of %d\" % (i, len(reviews)))\n",
    "       \n",
    "        reviewFeatureVecs[i] = makeFeatureVec(review, model, num_features)\n",
    "\n",
    "    return reviewFeatureVecs"
   ]
  },
  {
   "cell_type": "code",
   "execution_count": 126,
   "metadata": {
    "ExecuteTime": {
     "end_time": "2020-09-02T17:48:50.123254Z",
     "start_time": "2020-09-02T17:27:12.798400Z"
    },
    "scrolled": true
   },
   "outputs": [
    {
     "name": "stdout",
     "output_type": "stream",
     "text": [
      "Review 0 of 238749\n",
      "Review 1000 of 238749\n",
      "Review 2000 of 238749\n",
      "Review 3000 of 238749\n",
      "Review 4000 of 238749\n",
      "Review 5000 of 238749\n",
      "Review 6000 of 238749\n",
      "Review 7000 of 238749\n",
      "Review 8000 of 238749\n",
      "Review 9000 of 238749\n",
      "Review 10000 of 238749\n",
      "Review 11000 of 238749\n",
      "Review 12000 of 238749\n",
      "Review 13000 of 238749\n",
      "Review 14000 of 238749\n",
      "Review 15000 of 238749\n",
      "Review 16000 of 238749\n",
      "Review 17000 of 238749\n",
      "Review 18000 of 238749\n",
      "Review 19000 of 238749\n",
      "Review 20000 of 238749\n",
      "Review 21000 of 238749\n",
      "Review 22000 of 238749\n",
      "Review 23000 of 238749\n",
      "Review 24000 of 238749\n",
      "Review 25000 of 238749\n",
      "Review 26000 of 238749\n",
      "Review 27000 of 238749\n",
      "Review 28000 of 238749\n",
      "Review 29000 of 238749\n",
      "Review 30000 of 238749\n",
      "Review 31000 of 238749\n",
      "Review 32000 of 238749\n",
      "Review 33000 of 238749\n",
      "Review 34000 of 238749\n",
      "Review 35000 of 238749\n",
      "Review 36000 of 238749\n",
      "Review 37000 of 238749\n",
      "Review 38000 of 238749\n",
      "Review 39000 of 238749\n",
      "Review 40000 of 238749\n",
      "Review 41000 of 238749\n",
      "Review 42000 of 238749\n",
      "Review 43000 of 238749\n",
      "Review 44000 of 238749\n",
      "Review 45000 of 238749\n",
      "Review 46000 of 238749\n",
      "Review 47000 of 238749\n",
      "Review 48000 of 238749\n",
      "Review 49000 of 238749\n",
      "Review 50000 of 238749\n",
      "Review 51000 of 238749\n",
      "Review 52000 of 238749\n",
      "Review 53000 of 238749\n",
      "Review 54000 of 238749\n",
      "Review 55000 of 238749\n",
      "Review 56000 of 238749\n",
      "Review 57000 of 238749\n",
      "Review 58000 of 238749\n",
      "Review 59000 of 238749\n",
      "Review 60000 of 238749\n",
      "Review 61000 of 238749\n",
      "Review 62000 of 238749\n",
      "Review 63000 of 238749\n",
      "Review 64000 of 238749\n",
      "Review 65000 of 238749\n",
      "Review 66000 of 238749\n",
      "Review 67000 of 238749\n",
      "Review 68000 of 238749\n",
      "Review 69000 of 238749\n",
      "Review 70000 of 238749\n",
      "Review 71000 of 238749\n",
      "Review 72000 of 238749\n",
      "Review 73000 of 238749\n",
      "Review 74000 of 238749\n",
      "Review 75000 of 238749\n",
      "Review 76000 of 238749\n",
      "Review 77000 of 238749\n",
      "Review 78000 of 238749\n",
      "Review 79000 of 238749\n",
      "Review 80000 of 238749\n",
      "Review 81000 of 238749\n",
      "Review 82000 of 238749\n",
      "Review 83000 of 238749\n",
      "Review 84000 of 238749\n",
      "Review 85000 of 238749\n",
      "Review 86000 of 238749\n",
      "Review 87000 of 238749\n",
      "Review 88000 of 238749\n",
      "Review 89000 of 238749\n",
      "Review 90000 of 238749\n",
      "Review 91000 of 238749\n",
      "Review 92000 of 238749\n",
      "Review 93000 of 238749\n",
      "Review 94000 of 238749\n",
      "Review 95000 of 238749\n",
      "Review 96000 of 238749\n",
      "Review 97000 of 238749\n",
      "Review 98000 of 238749\n",
      "Review 99000 of 238749\n",
      "Review 100000 of 238749\n",
      "Review 101000 of 238749\n",
      "Review 102000 of 238749\n",
      "Review 103000 of 238749\n",
      "Review 104000 of 238749\n",
      "Review 105000 of 238749\n",
      "Review 106000 of 238749\n",
      "Review 107000 of 238749\n",
      "Review 108000 of 238749\n",
      "Review 109000 of 238749\n",
      "Review 110000 of 238749\n",
      "Review 111000 of 238749\n",
      "Review 112000 of 238749\n",
      "Review 113000 of 238749\n",
      "Review 114000 of 238749\n",
      "Review 115000 of 238749\n",
      "Review 116000 of 238749\n",
      "Review 117000 of 238749\n",
      "Review 118000 of 238749\n",
      "Review 119000 of 238749\n",
      "Review 120000 of 238749\n",
      "Review 121000 of 238749\n",
      "Review 122000 of 238749\n",
      "Review 123000 of 238749\n",
      "Review 124000 of 238749\n",
      "Review 125000 of 238749\n",
      "Review 126000 of 238749\n",
      "Review 127000 of 238749\n",
      "Review 128000 of 238749\n",
      "Review 129000 of 238749\n",
      "Review 130000 of 238749\n",
      "Review 131000 of 238749\n",
      "Review 132000 of 238749\n",
      "Review 133000 of 238749\n",
      "Review 134000 of 238749\n",
      "Review 135000 of 238749\n",
      "Review 136000 of 238749\n",
      "Review 137000 of 238749\n",
      "Review 138000 of 238749\n",
      "Review 139000 of 238749\n",
      "Review 140000 of 238749\n",
      "Review 141000 of 238749\n",
      "Review 142000 of 238749\n",
      "Review 143000 of 238749\n",
      "Review 144000 of 238749\n",
      "Review 145000 of 238749\n",
      "Review 146000 of 238749\n",
      "Review 147000 of 238749\n",
      "Review 148000 of 238749\n",
      "Review 149000 of 238749\n",
      "Review 150000 of 238749\n",
      "Review 151000 of 238749\n",
      "Review 152000 of 238749\n",
      "Review 153000 of 238749\n",
      "Review 154000 of 238749\n",
      "Review 155000 of 238749\n",
      "Review 156000 of 238749\n",
      "Review 157000 of 238749\n",
      "Review 158000 of 238749\n",
      "Review 159000 of 238749\n",
      "Review 160000 of 238749\n",
      "Review 161000 of 238749\n",
      "Review 162000 of 238749\n",
      "Review 163000 of 238749\n",
      "Review 164000 of 238749\n",
      "Review 165000 of 238749\n",
      "Review 166000 of 238749\n",
      "Review 167000 of 238749\n",
      "Review 168000 of 238749\n",
      "Review 169000 of 238749\n",
      "Review 170000 of 238749\n",
      "Review 171000 of 238749\n",
      "Review 172000 of 238749\n",
      "Review 173000 of 238749\n",
      "Review 174000 of 238749\n",
      "Review 175000 of 238749\n",
      "Review 176000 of 238749\n",
      "Review 177000 of 238749\n",
      "Review 178000 of 238749\n",
      "Review 179000 of 238749\n",
      "Review 180000 of 238749\n",
      "Review 181000 of 238749\n",
      "Review 182000 of 238749\n",
      "Review 183000 of 238749\n",
      "Review 184000 of 238749\n",
      "Review 185000 of 238749\n",
      "Review 186000 of 238749\n",
      "Review 187000 of 238749\n",
      "Review 188000 of 238749\n",
      "Review 189000 of 238749\n",
      "Review 190000 of 238749\n",
      "Review 191000 of 238749\n",
      "Review 192000 of 238749\n",
      "Review 193000 of 238749\n",
      "Review 194000 of 238749\n",
      "Review 195000 of 238749\n",
      "Review 196000 of 238749\n",
      "Review 197000 of 238749\n",
      "Review 198000 of 238749\n",
      "Review 199000 of 238749\n",
      "Review 200000 of 238749\n",
      "Review 201000 of 238749\n",
      "Review 202000 of 238749\n",
      "Review 203000 of 238749\n",
      "Review 204000 of 238749\n",
      "Review 205000 of 238749\n",
      "Review 206000 of 238749\n",
      "Review 207000 of 238749\n",
      "Review 208000 of 238749\n",
      "Review 209000 of 238749\n",
      "Review 210000 of 238749\n",
      "Review 211000 of 238749\n",
      "Review 212000 of 238749\n",
      "Review 213000 of 238749\n",
      "Review 214000 of 238749\n",
      "Review 215000 of 238749\n",
      "Review 216000 of 238749\n",
      "Review 217000 of 238749\n",
      "Review 218000 of 238749\n",
      "Review 219000 of 238749\n",
      "Review 220000 of 238749\n",
      "Review 221000 of 238749\n",
      "Review 222000 of 238749\n",
      "Review 223000 of 238749\n",
      "Review 224000 of 238749\n",
      "Review 225000 of 238749\n",
      "Review 226000 of 238749\n",
      "Review 227000 of 238749\n",
      "Review 228000 of 238749\n",
      "Review 229000 of 238749\n",
      "Review 230000 of 238749\n",
      "Review 231000 of 238749\n",
      "Review 232000 of 238749\n",
      "Review 233000 of 238749\n",
      "Review 234000 of 238749\n",
      "Review 235000 of 238749\n",
      "Review 236000 of 238749\n",
      "Review 237000 of 238749\n",
      "Review 238000 of 238749\n"
     ]
    }
   ],
   "source": [
    "trainDataVecs = getAvgFeatureVecs(trainset.clean_lyrics, w2v_model, 300)"
   ]
  },
  {
   "cell_type": "code",
   "execution_count": 127,
   "metadata": {
    "ExecuteTime": {
     "end_time": "2020-09-02T17:51:49.334136Z",
     "start_time": "2020-09-02T17:49:34.682061Z"
    }
   },
   "outputs": [
    {
     "name": "stdout",
     "output_type": "stream",
     "text": [
      "Review 0 of 26528\n",
      "Review 1000 of 26528\n",
      "Review 2000 of 26528\n",
      "Review 3000 of 26528\n",
      "Review 4000 of 26528\n",
      "Review 5000 of 26528\n",
      "Review 6000 of 26528\n",
      "Review 7000 of 26528\n",
      "Review 8000 of 26528\n",
      "Review 9000 of 26528\n",
      "Review 10000 of 26528\n",
      "Review 11000 of 26528\n",
      "Review 12000 of 26528\n",
      "Review 13000 of 26528\n",
      "Review 14000 of 26528\n",
      "Review 15000 of 26528\n",
      "Review 16000 of 26528\n",
      "Review 17000 of 26528\n",
      "Review 18000 of 26528\n",
      "Review 19000 of 26528\n",
      "Review 20000 of 26528\n",
      "Review 21000 of 26528\n",
      "Review 22000 of 26528\n",
      "Review 23000 of 26528\n",
      "Review 24000 of 26528\n",
      "Review 25000 of 26528\n",
      "Review 26000 of 26528\n"
     ]
    }
   ],
   "source": [
    "testDataVecs = getAvgFeatureVecs(testset.clean_lyrics, w2v_model, 300)"
   ]
  },
  {
   "cell_type": "code",
   "execution_count": 129,
   "metadata": {
    "ExecuteTime": {
     "end_time": "2020-09-02T18:11:48.066550Z",
     "start_time": "2020-09-02T17:57:30.953653Z"
    },
    "scrolled": false
   },
   "outputs": [
    {
     "data": {
      "text/plain": [
       "RandomForestClassifier(bootstrap=True, ccp_alpha=0.0, class_weight=None,\n",
       "                       criterion='gini', max_depth=None, max_features='auto',\n",
       "                       max_leaf_nodes=None, max_samples=None,\n",
       "                       min_impurity_decrease=0.0, min_impurity_split=None,\n",
       "                       min_samples_leaf=1, min_samples_split=2,\n",
       "                       min_weight_fraction_leaf=0.0, n_estimators=100,\n",
       "                       n_jobs=None, oob_score=False, random_state=None,\n",
       "                       verbose=0, warm_start=False)"
      ]
     },
     "execution_count": 129,
     "metadata": {},
     "output_type": "execute_result"
    }
   ],
   "source": [
    "from sklearn.ensemble import RandomForestClassifier\n",
    "clf = RandomForestClassifier(n_estimators=100)\n",
    "clf.fit(trainDataVecs,trainset.genre.values)"
   ]
  },
  {
   "cell_type": "markdown",
   "metadata": {},
   "source": [
    "Show the confusion matrix."
   ]
  },
  {
   "cell_type": "code",
   "execution_count": 130,
   "metadata": {
    "ExecuteTime": {
     "end_time": "2020-09-02T18:11:56.838704Z",
     "start_time": "2020-09-02T18:11:54.483694Z"
    }
   },
   "outputs": [
    {
     "data": {
      "text/plain": [
       "<matplotlib.colorbar.Colorbar at 0x18089f94400>"
      ]
     },
     "execution_count": 130,
     "metadata": {},
     "output_type": "execute_result"
    },
    {
     "data": {
      "image/png": "[encoded data removed]",
      "text/plain": [
       "<Figure size 432x288 with 2 Axes>"
      ]
     },
     "metadata": {},
     "output_type": "display_data"
    }
   ],
   "source": [
    "from sklearn.metrics import confusion_matrix\n",
    "import matplotlib.pyplot as plt\n",
    "y_pred = clf.predict(testDataVecs)\n",
    "plt.imshow(confusion_matrix(testset.genre.values, y_pred))\n",
    "plt.colorbar()"
   ]
  },
  {
   "cell_type": "markdown",
   "metadata": {},
   "source": [
    "Show the classification report - precision, recall, f1 for each class."
   ]
  },
  {
   "cell_type": "code",
   "execution_count": 131,
   "metadata": {
    "ExecuteTime": {
     "end_time": "2020-09-02T18:11:58.603468Z",
     "start_time": "2020-09-02T18:11:57.770365Z"
    }
   },
   "outputs": [
    {
     "name": "stdout",
     "output_type": "stream",
     "text": [
      "               precision    recall  f1-score   support\n",
      "\n",
      "      Country       0.70      0.14      0.23      1414\n",
      "   Electronic       0.83      0.12      0.21       791\n",
      "         Folk       0.74      0.09      0.16       217\n",
      "      Hip-Hop       0.84      0.72      0.78      2511\n",
      "        Indie       0.75      0.07      0.12       320\n",
      "         Jazz       0.51      0.22      0.30       753\n",
      "        Metal       0.72      0.46      0.56      2327\n",
      "Not Available       0.47      0.16      0.24      2326\n",
      "        Other       0.29      0.07      0.11       551\n",
      "          Pop       0.54      0.32      0.40      4053\n",
      "          R&B       0.59      0.12      0.19       346\n",
      "         Rock       0.53      0.91      0.67     10919\n",
      "\n",
      "     accuracy                           0.57     26528\n",
      "    macro avg       0.63      0.28      0.33     26528\n",
      " weighted avg       0.59      0.57      0.52     26528\n",
      "\n"
     ]
    }
   ],
   "source": [
    "from sklearn.metrics import classification_report\n",
    "print(classification_report(testset.genre.values, y_pred))"
   ]
  },
  {
   "cell_type": "markdown",
   "metadata": {},
   "source": [
    "#### TfIdf Weighting\n",
    "Do the same, using a classifier that averages the word vectors of words in the document, weighting each word by its TfIdf.\n"
   ]
  },
  {
   "cell_type": "code",
   "execution_count": 132,
   "metadata": {
    "ExecuteTime": {
     "end_time": "2020-09-02T18:12:03.713049Z",
     "start_time": "2020-09-02T18:12:03.704047Z"
    }
   },
   "outputs": [],
   "source": [
    "from sklearn.feature_extraction.text import TfidfVectorizer"
   ]
  },
  {
   "cell_type": "code",
   "execution_count": 133,
   "metadata": {
    "ExecuteTime": {
     "end_time": "2020-09-02T18:12:14.840705Z",
     "start_time": "2020-09-02T18:12:14.831689Z"
    }
   },
   "outputs": [],
   "source": [
    "num_features = 3000"
   ]
  },
  {
   "cell_type": "code",
   "execution_count": 134,
   "metadata": {
    "ExecuteTime": {
     "end_time": "2020-09-02T18:12:59.153003Z",
     "start_time": "2020-09-02T18:12:16.523286Z"
    }
   },
   "outputs": [],
   "source": [
    "tfidf = TfidfVectorizer(vocabulary=w2v_model.wv.index2entity[:num_features], stop_words='english')\n",
    "tf = tfidf.fit_transform(trainset.clean_lyrics.apply(lambda x: (' '.join(x))).values)\n",
    "embeddings = w2v_model.wv.vectors[:num_features]\n",
    "\n",
    "temp = tf.toarray()\n",
    "valid_rows = ~(temp==0).all(1)\n",
    "\n",
    "avg = (tf[valid_rows] @ embeddings) / np.sum(tf[valid_rows], axis=1)"
   ]
  },
  {
   "cell_type": "code",
   "execution_count": 135,
   "metadata": {
    "ExecuteTime": {
     "end_time": "2020-09-02T18:13:03.546007Z",
     "start_time": "2020-09-02T18:13:03.527005Z"
    }
   },
   "outputs": [
    {
     "data": {
      "text/plain": [
       "(238372, 300)"
      ]
     },
     "execution_count": 135,
     "metadata": {},
     "output_type": "execute_result"
    }
   ],
   "source": [
    "avg.shape"
   ]
  },
  {
   "cell_type": "code",
   "execution_count": 136,
   "metadata": {
    "ExecuteTime": {
     "end_time": "2020-09-02T18:27:23.234129Z",
     "start_time": "2020-09-02T18:13:06.066005Z"
    }
   },
   "outputs": [
    {
     "data": {
      "text/plain": [
       "RandomForestClassifier(bootstrap=True, ccp_alpha=0.0, class_weight=None,\n",
       "                       criterion='gini', max_depth=None, max_features='auto',\n",
       "                       max_leaf_nodes=None, max_samples=None,\n",
       "                       min_impurity_decrease=0.0, min_impurity_split=None,\n",
       "                       min_samples_leaf=1, min_samples_split=2,\n",
       "                       min_weight_fraction_leaf=0.0, n_estimators=100,\n",
       "                       n_jobs=None, oob_score=False, random_state=None,\n",
       "                       verbose=0, warm_start=False)"
      ]
     },
     "execution_count": 136,
     "metadata": {},
     "output_type": "execute_result"
    }
   ],
   "source": [
    "clf = RandomForestClassifier(n_estimators=100)\n",
    "clf.fit(avg,trainset[valid_rows].genre.values)"
   ]
  },
  {
   "cell_type": "code",
   "execution_count": 137,
   "metadata": {
    "ExecuteTime": {
     "end_time": "2020-09-02T18:27:37.533264Z",
     "start_time": "2020-09-02T18:27:23.241130Z"
    }
   },
   "outputs": [],
   "source": [
    "tf = tfidf.fit_transform(testset.clean_lyrics.apply(lambda x: (' '.join(x))).values)\n",
    "temp = tf.toarray()\n",
    "valid_rows = ~(temp==0).all(1)\n",
    "\n",
    "avg_test = (tf[valid_rows] @ embeddings) / np.sum(tf[valid_rows], axis=1)"
   ]
  },
  {
   "cell_type": "code",
   "execution_count": 138,
   "metadata": {
    "ExecuteTime": {
     "end_time": "2020-09-02T18:27:40.856829Z",
     "start_time": "2020-09-02T18:27:37.538270Z"
    }
   },
   "outputs": [
    {
     "data": {
      "text/plain": [
       "<matplotlib.colorbar.Colorbar at 0x1808b083710>"
      ]
     },
     "execution_count": 138,
     "metadata": {},
     "output_type": "execute_result"
    },
    {
     "data": {
      "image/png": "[encoded data removed]",
      "text/plain": [
       "<Figure size 432x288 with 2 Axes>"
      ]
     },
     "metadata": {},
     "output_type": "display_data"
    }
   ],
   "source": [
    "from sklearn.metrics import confusion_matrix\n",
    "import matplotlib.pyplot as plt\n",
    "y_pred = clf.predict(avg_test)\n",
    "plt.imshow(confusion_matrix(testset[valid_rows].genre.values, y_pred))\n",
    "plt.colorbar()"
   ]
  },
  {
   "cell_type": "code",
   "execution_count": 139,
   "metadata": {
    "ExecuteTime": {
     "end_time": "2020-09-02T18:27:41.892826Z",
     "start_time": "2020-09-02T18:27:40.858828Z"
    }
   },
   "outputs": [
    {
     "name": "stdout",
     "output_type": "stream",
     "text": [
      "               precision    recall  f1-score   support\n",
      "\n",
      "      Country       0.64      0.12      0.21      1414\n",
      "   Electronic       0.82      0.12      0.21       788\n",
      "         Folk       0.67      0.08      0.15       217\n",
      "      Hip-Hop       0.84      0.70      0.76      2509\n",
      "        Indie       0.77      0.06      0.12       320\n",
      "         Jazz       0.49      0.20      0.29       753\n",
      "        Metal       0.72      0.44      0.55      2311\n",
      "Not Available       0.45      0.16      0.23      2319\n",
      "        Other       0.28      0.05      0.09       551\n",
      "          Pop       0.53      0.29      0.38      4050\n",
      "          R&B       0.69      0.12      0.20       346\n",
      "         Rock       0.52      0.91      0.67     10902\n",
      "\n",
      "     accuracy                           0.56     26480\n",
      "    macro avg       0.62      0.27      0.32     26480\n",
      " weighted avg       0.58      0.56      0.50     26480\n",
      "\n"
     ]
    }
   ],
   "source": [
    "print(classification_report(testset[valid_rows].genre.values, y_pred))"
   ]
  },
  {
   "cell_type": "markdown",
   "metadata": {},
   "source": [
    "### Text classification using ConvNet\n",
    "Do the same, using a ConvNet.  \n",
    "The ConvNet should get as input a 2D matrix where each column is an embedding vector of a single word, and words are in order. Use zero padding so that all matrices have a similar length.  \n",
    "Some songs might be very long. Trim them so you keep a maximum of 128 words (after cleaning stop words and rare words).  \n",
    "Initialize the embedding layer using the word vectors that you've trained before, but allow them to change during training.  \n",
    "\n",
    "Extra: Try training the ConvNet with 2 slight modifications:\n",
    "1. freezing the the weights trained using Word2vec (preventing it from updating)\n",
    "1. random initialization of the embedding layer"
   ]
  },
  {
   "cell_type": "markdown",
   "metadata": {},
   "source": [
    "You are encouraged to try this question on your own.  \n",
    "\n",
    "You might prefer to get ideas from the paper \"Convolutional Neural Networks for Sentence Classification\" (Kim 2014, [link](https://arxiv.org/abs/1408.5882)).\n",
    "\n",
    "There are several implementations of the paper code in PyTorch online (see for example [this repo](https://github.com/prakashpandey9/Text-Classification-Pytorch) for a PyTorch implementation of CNN and other architectures for text classification). If you get stuck, they might provide you with a reference for your own code."
   ]
  },
  {
   "cell_type": "code",
   "execution_count": null,
   "metadata": {},
   "outputs": [],
   "source": []
  }
 ],
 "metadata": {
  "kernelspec": {
   "display_name": "Python 3",
   "language": "python",
   "name": "python3"
  },
  "language_info": {
   "codemirror_mode": {
    "name": "ipython",
    "version": 3
   },
   "file_extension": ".py",
   "mimetype": "text/x-python",
   "name": "python",
   "nbconvert_exporter": "python",
   "pygments_lexer": "ipython3",
   "version": "3.6.10"
  }
 },
 "nbformat": 4,
 "nbformat_minor": 2
}
