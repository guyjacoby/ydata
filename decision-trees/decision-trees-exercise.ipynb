{
 "cells": [
  {
   "cell_type": "markdown",
   "metadata": {
    "colab_type": "text",
    "id": "Cg047ujRBmtU"
   },
   "source": [
    "# Decision Trees Exercise\n",
    "In this exercise you will show that ID3 is sub-optimal. Implement a simple version of Random Forest, and will then apply a Decision Tree classsifier and random forest on the MNIST hand written digits dataset that we already saw.\n"
   ]
  },
  {
   "cell_type": "markdown",
   "metadata": {
    "colab_type": "text",
    "id": "osXAmT5y4iM8"
   },
   "source": [
    "## Suboptimality of ID3\n",
    "Consider the following training set, where $\\mathcal{X} = \\{0, 1\\}^3$ and $\\mathcal{Y} =\\{0, 1\\}$:\n",
    "\n",
    "$$\n",
    "\\begin{aligned}\n",
    "((1, 1, 1), 1)\\\\\n",
    "((1, 0, 0), 1)\\\\\n",
    "((1, 1, 0), 0)\\\\\n",
    "((0, 0, 1), 0)\n",
    "\\end{aligned}\n",
    "$$\n",
    "\n",
    "Suppose we wish to use this training set in order to build a decision tree of depth 2 (i.e. for each\n",
    "input we are allowed to ask two questions of the form \"$x_i = 0$?\" before deciding on the label).\n",
    "\n",
    "1. Suppose we run the ID3 algorithm up to depth 2 (namely, we pick the root node and its\n",
    "children according to the algorithm, but instead of keeping on with the recursion, we stop\n",
    "and pick leaves according to the majority label in each subtree, once we reach depth 2). \n",
    "Assume that the subroutine used to measure the quality of each feature is based on the information gain, and that if two features get the same score, one of them is picked arbitrarily. \n",
    "Show that the training error of the resulting decision tree is at least 1/4.\n",
    "2. Find a decision tree of depth 2, which attains zero training error.\n"
   ]
  },
  {
   "cell_type": "markdown",
   "metadata": {
    "colab_type": "text",
    "id": "xC7Anlwu50XD"
   },
   "source": [
    "#### Answer\n",
    "1. When using the Information Gain criterion for the split, the function we want to minimize is the weighted entropy, where entropy is defined by:\n",
    "\n",
    "    $$\n",
    "    H(X_m)=-\\sum_{k} p_{mk}\\log_2(p_{mk})\n",
    "    $$\n",
    "\n",
    "    In the case of feature 1 we get (if all of the samples have the same label in a leaf, the entropy is 0):\n",
    "\n",
    "    $$\n",
    "    H(X_1, feat.  1) = \\frac{3}{4}(-\\frac{2}{3}\\log \\frac{2}{3} - \\frac{1}{3}\\log \\frac{1}{3}) + \\frac{1}{4}(0) \\approx 0.6887\n",
    "    $$\n",
    "\n",
    "    In the case of feature 2 and 3 (same entropy score), we get:\n",
    "\n",
    "    $$\n",
    "    H(X_1, feat.  2/3) = \\frac{1}{2}(-\\frac{1}{2}\\log \\frac{1}{2} - \\frac{1}{2}\\log \\frac{1}{2}) + \\frac{1}{2}(-\\frac{1}{2}\\log \\frac{1}{2} - \\frac{1}{2}\\log \\frac{1}{2}) = 1\n",
    "    $$\n",
    "\n",
    "    So we will split according to feature 1 (lowest weighted entropy).\n",
    "\n",
    "    Now, we consider splitting according to feature 2 or 3:\n",
    "\n",
    "    $$\n",
    "    H(X_2, feat.  2) = H(X_2, feat.  3) = \\frac{2}{3}(-\\frac{1}{2}\\log \\frac{1}{2} - \\frac{1}{2}\\log \\frac{1}{2}) + \\frac{1}{3}(0) = \\frac{2}{3}\n",
    "    $$\n",
    "\n",
    "    Again the split does not matter, so we can randomly choose between feature 2 and 3.\n",
    "\n",
    "    This means that our tree has 3 leaf nodes, 2 of which have only 1 sample so the error is 0, but in the 3rd leaf we have 2 samples, one from each class (0 or 1), so regardless of what we assign to that leaf, we will be mistaken on one of them, which means we will have an error of 1/4.\n",
    "\n",
    "\n",
    "2. If you first split according to feature 2, and then according to feature 3, you get one sample in each of the four leaf nodes, which means 0 training error."
   ]
  },
  {
   "cell_type": "markdown",
   "metadata": {
    "colab_type": "text",
    "id": "tLXpoHg64HlD"
   },
   "source": [
    "## Implementing Random Forest From Scratch\n",
    "In this exercise you will need to implement a simple version of Random Forest Regressor from scratch. Your decision tree will handle **continuous input and output** (this should actually work also for binary input attributes). \n",
    "\n",
    "* Compelete the skeleton class below (hint: you should also create a `DecisionTree` class that the `TreeEnsemble` will use)\n",
    "  - `X` is a matrix of data values (rows are samples, columns are attributes)\n",
    "  - `y` is a vector of corresponding target values\n",
    "  - `n_trees` is the number of trees to create\n",
    "  - `sample_sz` is the size of the sample set to use of each of the trees in the forest (chose the samples randomly, with or without repetition)\n",
    "  - `min_leaf` is the minimal number of samples in each leaf node of each tree in the forest\n",
    "  \n",
    "* For splitting criterion, use either **\"Train Squared Error Minimization (Reduction in Variance)\"** or **\"Train Absolute Error Minimization\"** (choose one). Whatever you choose, make sure you implement the splitting point decision efficiently (in $O(n)$ time).\n",
    "\n",
    "* The `predict` function will use mean of the target values in the leaf node matching each row of the given `X`. The result is a vector of predictions matching the number of rows in `X`.\n",
    "\n",
    "* The `oob_mse` function will compute the mean squared error over all **out of bag (oob)** samples. That is, for each sample calculate the squared error using  predictions from the trees that do not contain x in their respective bootstrap sample, then average this score for all samples. See:  [OOB Errors for Random Forests](https://scikit-learn.org/stable/auto_examples/ensemble/plot_ensemble_oob.html).\n",
    "\n",
    "* To check your random forest implementation, use the bostom dataset (`from sklearn.datasets import load_boston`)\n",
    "\n",
    "  - Use the following to estimate what are the best hyper parameters to use for your model\n",
    "```\n",
    "for n in [1,5,10,20,50,100]:\n",
    "  for sz in [50,100,300,500]:\n",
    "    for min_leaf in [1,5]:\n",
    "      forest = TreeEnsemble(X, y, n, sz, min_leaf)\n",
    "      mse = forest.oob_mse()\n",
    "      print(\"n_trees:{0}, sz:{1}, min_leaf:{2} --- oob mse: {3}\".format(n, sz, min_leaf, mse))\n",
    "```\n",
    "  \n",
    "  - Using your chosen hyperparameters as a final model, plot the predictions vs. true values of all the samples in the training set . Use something like:\n",
    "  ```\n",
    "  y_hat = forest.predict(X)  # forest is the chosen model\n",
    "  plt.scatter(y_hat, y)\n",
    "  ```\n",
    "  \n",
    "\n"
   ]
  },
  {
   "cell_type": "code",
   "execution_count": 1,
   "metadata": {
    "colab": {},
    "colab_type": "code",
    "id": "QA54r4DiQDkM"
   },
   "outputs": [],
   "source": [
    "class TreeEnsemble():\n",
    "    def __init__(self, X, y, n_trees, sample_sz, min_leaf):\n",
    "        np.random.seed(1)\n",
    "        self.X, self.y, self.n_trees, self.sample_sz, self.min_leaf = X, y, n_trees, sample_sz, min_leaf\n",
    "        self.sample_count, self.feature_count = X.shape\n",
    "        self.trees = self._create_trees()\n",
    "        \n",
    "    def _create_trees(self):\n",
    "        trees = []\n",
    "        for i in range(self.n_trees):\n",
    "            ib_index = np.random.choice(self.sample_count, size=self.sample_sz, replace=True)\n",
    "            trees.append(DecisionTree(self.X, self.y, ib_index=ib_index, min_leaf=self.min_leaf))\n",
    "        return trees\n",
    "\n",
    "    def predict(self, X):\n",
    "        return np.mean([tree.predict(X) for tree in self.trees], axis=0)\n",
    "\n",
    "    def oob_mse(self):\n",
    "        oob_mse = []\n",
    "        for i in range(self.sample_count):\n",
    "            oob_vec = []\n",
    "            for tree in self.trees:\n",
    "                if i not in tree.ib_index:\n",
    "                    oob_vec.append(tree._predict_sample(self.X[i]))\n",
    "            if oob_vec:\n",
    "                sample_pred = np.mean(oob_vec)        \n",
    "                oob_mse.append((sample_pred - self.y[i])**2)\n",
    "        return np.mean(oob_mse)\n"
   ]
  },
  {
   "cell_type": "code",
   "execution_count": 2,
   "metadata": {},
   "outputs": [],
   "source": [
    "class DecisionTree():\n",
    "    \n",
    "    def __init__(self, X, y, ib_index, min_leaf):\n",
    "        self.X, self.y, self.ib_index, self.min_leaf = X, y, ib_index, min_leaf\n",
    "        self.sample_count, self.feature_count = len(ib_index), X.shape[1]\n",
    "        self.leaf_value = np.mean(y[ib_index])\n",
    "        self.score = float('inf')\n",
    "        self._split()\n",
    "        \n",
    "    def _split(self):\n",
    "        for i in range(self.feature_count):\n",
    "            self._find_best_split(i)\n",
    "        if self.score == float('inf'):\n",
    "            return\n",
    "        split_col = self.X[self.ib_index, self.feature_index]\n",
    "        left_index = np.nonzero(split_col <= self.split_value)\n",
    "        right_index = np.nonzero(split_col > self.split_value)\n",
    "        self.left_tree = DecisionTree(self.X, self.y, self.ib_index[left_index], self.min_leaf)\n",
    "        self.right_tree = DecisionTree(self.X, self.y, self.ib_index[right_index], self.min_leaf)\n",
    "    \n",
    "    def _find_best_split(self, feature_index):\n",
    "        X = self.X[self.ib_index, feature_index]\n",
    "        y = self.y[self.ib_index]\n",
    "        sorted_X = X[np.argsort(X)]\n",
    "        sorted_y = y[np.argsort(X)]\n",
    "        right_count, left_count = self.sample_count, 0\n",
    "        right_sum, left_sum = sorted_y.sum(), 0.0\n",
    "        right_sum_sqr, left_sum_sqr = (sorted_y**2).sum(), 0.0\n",
    "        \n",
    "        for i in range(self.sample_count-self.min_leaf):\n",
    "            xi, yi = sorted_X[i], sorted_y[i]\n",
    "            \n",
    "            if (xi == sorted_X[i+1]) or (i < self.min_leaf - 1):\n",
    "                continue\n",
    "            \n",
    "            right_count -= 1\n",
    "            left_count += 1\n",
    "            right_sum -= yi\n",
    "            left_sum += yi\n",
    "            right_sum_sqr -= yi**2\n",
    "            left_sum_sqr += yi**2\n",
    "            \n",
    "            right_var = (right_sum_sqr/right_count) - (right_sum/right_count)**2\n",
    "            left_var = (left_sum_sqr/left_count) - (left_sum/left_count)**2\n",
    "            score = right_var * right_count + left_var * left_count\n",
    "            if score < self.score:\n",
    "                self.score = score\n",
    "                self.feature_index = feature_index\n",
    "                self.split_value = xi\n",
    "                \n",
    "    def _predict_sample(self, x):\n",
    "        if self.score == float('inf'):\n",
    "            return self.leaf_value\n",
    "        if x[self.feature_index] <= self.split_value:\n",
    "            next_tree = self.left_tree\n",
    "        else:\n",
    "            next_tree = self.right_tree\n",
    "        return next_tree._predict_sample(x)\n",
    "    \n",
    "    def predict(self, X):\n",
    "        return np.array([self._predict_sample(x) for x in X])"
   ]
  },
  {
   "cell_type": "code",
   "execution_count": 3,
   "metadata": {},
   "outputs": [],
   "source": [
    "import numpy as np\n",
    "from sklearn.datasets import load_boston\n",
    "import matplotlib.pyplot as plt\n",
    "plt.style.use('ggplot')"
   ]
  },
  {
   "cell_type": "code",
   "execution_count": 4,
   "metadata": {},
   "outputs": [],
   "source": [
    "X, y = load_boston(return_X_y=True)"
   ]
  },
  {
   "cell_type": "code",
   "execution_count": 5,
   "metadata": {},
   "outputs": [
    {
     "name": "stdout",
     "output_type": "stream",
     "text": [
      "n_trees:1, sz:50, min_leaf:1 --- oob mse: 68.15687772925764\n",
      "n_trees:1, sz:50, min_leaf:5 --- oob mse: 78.88582494083514\n",
      "n_trees:1, sz:100, min_leaf:1 --- oob mse: 47.369565217391305\n",
      "n_trees:1, sz:100, min_leaf:5 --- oob mse: 44.771466278148395\n",
      "n_trees:1, sz:300, min_leaf:1 --- oob mse: 29.10410256410257\n",
      "n_trees:1, sz:300, min_leaf:5 --- oob mse: 29.612187858167278\n",
      "n_trees:1, sz:500, min_leaf:1 --- oob mse: 28.55426229508196\n",
      "n_trees:1, sz:500, min_leaf:5 --- oob mse: 26.09212331368137\n",
      "n_trees:5, sz:50, min_leaf:1 --- oob mse: 27.331570707070703\n",
      "n_trees:5, sz:50, min_leaf:5 --- oob mse: 42.50607090084376\n",
      "n_trees:5, sz:100, min_leaf:1 --- oob mse: 23.27887650966184\n",
      "n_trees:5, sz:100, min_leaf:5 --- oob mse: 30.224977847399888\n",
      "n_trees:5, sz:300, min_leaf:1 --- oob mse: 16.46714406922043\n",
      "n_trees:5, sz:300, min_leaf:5 --- oob mse: 23.378075094016584\n",
      "n_trees:5, sz:500, min_leaf:1 --- oob mse: 16.83203132581271\n",
      "n_trees:5, sz:500, min_leaf:5 --- oob mse: 21.193335078187836\n",
      "n_trees:10, sz:50, min_leaf:1 --- oob mse: 23.2722859340565\n",
      "n_trees:10, sz:50, min_leaf:5 --- oob mse: 41.41481993447907\n",
      "n_trees:10, sz:100, min_leaf:1 --- oob mse: 16.774981004508007\n",
      "n_trees:10, sz:100, min_leaf:5 --- oob mse: 27.428596711332005\n",
      "n_trees:10, sz:300, min_leaf:1 --- oob mse: 13.09520011490982\n",
      "n_trees:10, sz:300, min_leaf:5 --- oob mse: 18.109227195141077\n",
      "n_trees:10, sz:500, min_leaf:1 --- oob mse: 15.589824221282282\n",
      "n_trees:10, sz:500, min_leaf:5 --- oob mse: 19.077862590959196\n",
      "n_trees:20, sz:50, min_leaf:1 --- oob mse: 19.505643083725385\n",
      "n_trees:20, sz:50, min_leaf:5 --- oob mse: 35.50941565923781\n",
      "n_trees:20, sz:100, min_leaf:1 --- oob mse: 16.970752307418664\n",
      "n_trees:20, sz:100, min_leaf:5 --- oob mse: 24.446527431911996\n",
      "n_trees:20, sz:300, min_leaf:1 --- oob mse: 12.953815731153776\n",
      "n_trees:20, sz:300, min_leaf:5 --- oob mse: 17.612669223573917\n",
      "n_trees:20, sz:500, min_leaf:1 --- oob mse: 13.216892998882571\n",
      "n_trees:20, sz:500, min_leaf:5 --- oob mse: 16.900564013270074\n",
      "n_trees:50, sz:50, min_leaf:1 --- oob mse: 17.834807374224106\n",
      "n_trees:50, sz:50, min_leaf:5 --- oob mse: 34.48444513859408\n",
      "n_trees:50, sz:100, min_leaf:1 --- oob mse: 15.09914366277738\n",
      "n_trees:50, sz:100, min_leaf:5 --- oob mse: 23.42524318554089\n",
      "n_trees:50, sz:300, min_leaf:1 --- oob mse: 12.554716283743458\n",
      "n_trees:50, sz:300, min_leaf:5 --- oob mse: 16.861192849323384\n",
      "n_trees:50, sz:500, min_leaf:1 --- oob mse: 12.398426149836347\n",
      "n_trees:50, sz:500, min_leaf:5 --- oob mse: 16.694566617758642\n",
      "n_trees:100, sz:50, min_leaf:1 --- oob mse: 16.957169132153886\n",
      "n_trees:100, sz:50, min_leaf:5 --- oob mse: 33.87007475618064\n",
      "n_trees:100, sz:100, min_leaf:1 --- oob mse: 14.762571638750586\n",
      "n_trees:100, sz:100, min_leaf:5 --- oob mse: 23.240241009730536\n",
      "n_trees:100, sz:300, min_leaf:1 --- oob mse: 12.445128815270156\n",
      "n_trees:100, sz:300, min_leaf:5 --- oob mse: 16.75941753797533\n",
      "n_trees:100, sz:500, min_leaf:1 --- oob mse: 12.231419236149687\n",
      "n_trees:100, sz:500, min_leaf:5 --- oob mse: 16.26350610484164\n"
     ]
    }
   ],
   "source": [
    "for n in [1,5,10,20,50,100]:\n",
    "    for sz in [50,100,300,500]:\n",
    "        for min_leaf in [1,5]:\n",
    "            forest = TreeEnsemble(X, y, n, sz, min_leaf)\n",
    "            mse = forest.oob_mse()\n",
    "            print(\"n_trees:{0}, sz:{1}, min_leaf:{2} --- oob mse: {3}\".format(n, sz, min_leaf, mse))"
   ]
  },
  {
   "cell_type": "code",
   "execution_count": 6,
   "metadata": {
    "scrolled": true
   },
   "outputs": [],
   "source": [
    "forest = TreeEnsemble(X, y, 100, 500, 1)\n",
    "y_hat = forest.predict(X)"
   ]
  },
  {
   "cell_type": "code",
   "execution_count": 14,
   "metadata": {},
   "outputs": [
    {
     "data": {
      "image/png": "[encoded data removed]",
      "text/plain": [
       "<Figure size 432x288 with 1 Axes>"
      ]
     },
     "metadata": {},
     "output_type": "display_data"
    }
   ],
   "source": [
    "plt.scatter(y_hat, y)\n",
    "plt.ylabel('true value')\n",
    "plt.xlabel('prediction');"
   ]
  },
  {
   "cell_type": "markdown",
   "metadata": {
    "colab_type": "text",
    "id": "TF5TjNuvTKof"
   },
   "source": [
    "## Using Decision Tree and Random Forest for Digits Classification\n",
    "Remeber the MNIST dataset used - you will now test the power of decision trees on this problem.\n",
    "This time you are given a free hand in choosing the test and train set sizes, model parameters (such as gain function and constraints over the trees) and features (whether to use binary pixel values or the original continous gray value).\n",
    "- Choose which model parameters you wish to optimize, explain how would you do that, and find a model which you believe would have the minimal generalization error --- do this for both a single decision tree model, and a random forest.\n",
    "  - You can use `sklearn.tree.DecisionTreeClassifier` and `sklearn.ensemble.RandomForestClassifier`\n",
    "- Once you are satisfied with the model parameters, plot for each of the models (a single decision tree and random forest) the importance of each of the pixels to the final decision.\n",
    "- Last, estimate the class assignment probabilities for all the correctly classified and misclassified examples in your test data.\n",
    "- Discuss your results."
   ]
  },
  {
   "cell_type": "code",
   "execution_count": 8,
   "metadata": {
    "colab": {},
    "colab_type": "code",
    "id": "8-k9WpIV_n7Y"
   },
   "outputs": [],
   "source": [
    "from sklearn import datasets\n",
    "from sklearn.tree import DecisionTreeClassifier\n",
    "from sklearn.ensemble import RandomForestClassifier\n",
    "from sklearn.model_selection import cross_val_score"
   ]
  },
  {
   "cell_type": "code",
   "execution_count": 9,
   "metadata": {},
   "outputs": [],
   "source": [
    "mnist = datasets.fetch_openml('mnist_784')"
   ]
  },
  {
   "cell_type": "code",
   "execution_count": 10,
   "metadata": {},
   "outputs": [],
   "source": [
    "from sklearn.model_selection import train_test_split\n",
    "\n",
    "X_train, X_test, y_train, y_test = train_test_split(mnist.data, mnist.target, test_size=1/7.0, random_state=0)"
   ]
  },
  {
   "cell_type": "markdown",
   "metadata": {},
   "source": [
    "## Decision tree"
   ]
  },
  {
   "cell_type": "code",
   "execution_count": 11,
   "metadata": {},
   "outputs": [
    {
     "name": "stdout",
     "output_type": "stream",
     "text": [
      "citerion:gini, max_depth:5, max_features:100 --- score: 0.5866\n",
      "citerion:gini, max_depth:5, max_features:271 --- score: 0.6474\n",
      "citerion:gini, max_depth:5, max_features:442 --- score: 0.6624\n",
      "citerion:gini, max_depth:5, max_features:613 --- score: 0.6692\n",
      "citerion:gini, max_depth:5, max_features:784 --- score: 0.6752\n",
      "citerion:gini, max_depth:15, max_features:100 --- score: 0.7386\n",
      "citerion:gini, max_depth:15, max_features:271 --- score: 0.7488\n",
      "citerion:gini, max_depth:15, max_features:442 --- score: 0.7644\n",
      "citerion:gini, max_depth:15, max_features:613 --- score: 0.7616\n",
      "citerion:gini, max_depth:15, max_features:784 --- score: 0.7606\n",
      "citerion:gini, max_depth:25, max_features:100 --- score: 0.7310\n",
      "citerion:gini, max_depth:25, max_features:271 --- score: 0.7550\n",
      "citerion:gini, max_depth:25, max_features:442 --- score: 0.7482\n",
      "citerion:gini, max_depth:25, max_features:613 --- score: 0.7536\n",
      "citerion:gini, max_depth:25, max_features:784 --- score: 0.7616\n",
      "citerion:gini, max_depth:35, max_features:100 --- score: 0.7344\n",
      "citerion:gini, max_depth:35, max_features:271 --- score: 0.7374\n",
      "citerion:gini, max_depth:35, max_features:442 --- score: 0.7554\n",
      "citerion:gini, max_depth:35, max_features:613 --- score: 0.7550\n",
      "citerion:gini, max_depth:35, max_features:784 --- score: 0.7578\n",
      "citerion:gini, max_depth:45, max_features:100 --- score: 0.7370\n",
      "citerion:gini, max_depth:45, max_features:271 --- score: 0.7418\n",
      "citerion:gini, max_depth:45, max_features:442 --- score: 0.7522\n",
      "citerion:gini, max_depth:45, max_features:613 --- score: 0.7664\n",
      "citerion:gini, max_depth:45, max_features:784 --- score: 0.7590\n",
      "citerion:entropy, max_depth:5, max_features:100 --- score: 0.6140\n",
      "citerion:entropy, max_depth:5, max_features:271 --- score: 0.6592\n",
      "citerion:entropy, max_depth:5, max_features:442 --- score: 0.6628\n",
      "citerion:entropy, max_depth:5, max_features:613 --- score: 0.6664\n",
      "citerion:entropy, max_depth:5, max_features:784 --- score: 0.6766\n",
      "citerion:entropy, max_depth:15, max_features:100 --- score: 0.7530\n",
      "citerion:entropy, max_depth:15, max_features:271 --- score: 0.7552\n",
      "citerion:entropy, max_depth:15, max_features:442 --- score: 0.7682\n",
      "citerion:entropy, max_depth:15, max_features:613 --- score: 0.7682\n",
      "citerion:entropy, max_depth:15, max_features:784 --- score: 0.7582\n",
      "citerion:entropy, max_depth:25, max_features:100 --- score: 0.7528\n",
      "citerion:entropy, max_depth:25, max_features:271 --- score: 0.7680\n",
      "citerion:entropy, max_depth:25, max_features:442 --- score: 0.7590\n",
      "citerion:entropy, max_depth:25, max_features:613 --- score: 0.7640\n",
      "citerion:entropy, max_depth:25, max_features:784 --- score: 0.7638\n",
      "citerion:entropy, max_depth:35, max_features:100 --- score: 0.7374\n",
      "citerion:entropy, max_depth:35, max_features:271 --- score: 0.7602\n",
      "citerion:entropy, max_depth:35, max_features:442 --- score: 0.7618\n",
      "citerion:entropy, max_depth:35, max_features:613 --- score: 0.7772\n",
      "citerion:entropy, max_depth:35, max_features:784 --- score: 0.7612\n",
      "citerion:entropy, max_depth:45, max_features:100 --- score: 0.7442\n",
      "citerion:entropy, max_depth:45, max_features:271 --- score: 0.7578\n",
      "citerion:entropy, max_depth:45, max_features:442 --- score: 0.7720\n",
      "citerion:entropy, max_depth:45, max_features:613 --- score: 0.7596\n",
      "citerion:entropy, max_depth:45, max_features:784 --- score: 0.7646\n"
     ]
    }
   ],
   "source": [
    "num_feature = np.linspace(100, X_train.shape[1], 5).astype(int)\n",
    "\n",
    "for criterion in ['gini', 'entropy']:\n",
    "    for max_depth in [5, 15, 25, 35, 45]:\n",
    "        for max_features in num_feature:\n",
    "            DT_model = DecisionTreeClassifier(criterion=criterion, max_depth=max_depth, max_features=max_features)\n",
    "            scores = cross_val_score(DT_model,X_train[:5000], y_train[:5000])\n",
    "            print(\"citerion:{0}, max_depth:{1}, max_features:{2} --- score: {3:.4f}\".format(criterion, max_depth, max_features, scores.mean()))"
   ]
  },
  {
   "cell_type": "code",
   "execution_count": 12,
   "metadata": {},
   "outputs": [],
   "source": [
    "DT_model = DecisionTreeClassifier(criterion='entropy', max_depth=15, max_features=613)\n",
    "DT_model.fit(X_train, y_train)"
   ]
  },
  {
   "cell_type": "code",
   "execution_count": 26,
   "metadata": {},
   "outputs": [
    {
     "name": "stdout",
     "output_type": "stream",
     "text": [
      "Mean accuracy: 0.8800\n"
     ]
    }
   ],
   "source": [
    "print('Mean accuracy: {0:.4f}'.format(DT_model.score(X_test, y_test)))"
   ]
  },
  {
   "cell_type": "code",
   "execution_count": 29,
   "metadata": {
    "scrolled": true
   },
   "outputs": [
    {
     "data": {
      "image/png": "[encoded data removed]",
      "text/plain": [
       "<Figure size 288x288 with 2 Axes>"
      ]
     },
     "metadata": {},
     "output_type": "display_data"
    }
   ],
   "source": [
    "importance = DT_model.feature_importances_\n",
    "plt.matshow(importance.reshape(28,28));\n",
    "plt.colorbar()\n",
    "plt.title('Pixel importance\\n', fontsize=16);"
   ]
  },
  {
   "cell_type": "code",
   "execution_count": 48,
   "metadata": {},
   "outputs": [
    {
     "name": "stdout",
     "output_type": "stream",
     "text": [
      "Class probabilities of correctly classified test samples: 0.9958, and misclassified test samples: 0.9857\n"
     ]
    }
   ],
   "source": [
    "y_pred = DT_model.predict(X_test)\n",
    "correct = DT_model.predict_proba(X_test[y_pred == y_test]).max(axis=1)\n",
    "incorrect = DT_model.predict_proba(X_test[y_pred != y_test]).max(axis=1)\n",
    "\n",
    "print('Class probabilities of correctly classified test samples: {0:.4f}, and misclassified test samples: {1:.4f}'.format(correct.mean(), incorrect.mean()))"
   ]
  },
  {
   "cell_type": "markdown",
   "metadata": {},
   "source": [
    "## Random forest"
   ]
  },
  {
   "cell_type": "code",
   "execution_count": 21,
   "metadata": {
    "scrolled": false
   },
   "outputs": [
    {
     "name": "stdout",
     "output_type": "stream",
     "text": [
      "n_estimators:100, citerion:gini, max_depth:10, max_features:100 --- score: 0.6930\n",
      "n_estimators:100, citerion:gini, max_depth:10, max_features:271 --- score: 0.6970\n",
      "n_estimators:100, citerion:gini, max_depth:10, max_features:442 --- score: 0.6895\n",
      "n_estimators:100, citerion:gini, max_depth:10, max_features:613 --- score: 0.6960\n",
      "n_estimators:100, citerion:gini, max_depth:10, max_features:784 --- score: 0.7030\n",
      "n_estimators:100, citerion:gini, max_depth:20, max_features:100 --- score: 0.7060\n",
      "n_estimators:100, citerion:gini, max_depth:20, max_features:271 --- score: 0.6980\n",
      "n_estimators:100, citerion:gini, max_depth:20, max_features:442 --- score: 0.6850\n",
      "n_estimators:100, citerion:gini, max_depth:20, max_features:613 --- score: 0.6790\n",
      "n_estimators:100, citerion:gini, max_depth:20, max_features:784 --- score: 0.7035\n",
      "n_estimators:100, citerion:gini, max_depth:30, max_features:100 --- score: 0.6875\n",
      "n_estimators:100, citerion:gini, max_depth:30, max_features:271 --- score: 0.7125\n",
      "n_estimators:100, citerion:gini, max_depth:30, max_features:442 --- score: 0.7080\n",
      "n_estimators:100, citerion:gini, max_depth:30, max_features:613 --- score: 0.6915\n",
      "n_estimators:100, citerion:gini, max_depth:30, max_features:784 --- score: 0.6930\n",
      "n_estimators:200, citerion:gini, max_depth:10, max_features:100 --- score: 0.6925\n",
      "n_estimators:200, citerion:gini, max_depth:10, max_features:271 --- score: 0.6935\n",
      "n_estimators:200, citerion:gini, max_depth:10, max_features:442 --- score: 0.6775\n",
      "n_estimators:200, citerion:gini, max_depth:10, max_features:613 --- score: 0.6855\n",
      "n_estimators:200, citerion:gini, max_depth:10, max_features:784 --- score: 0.6960\n",
      "n_estimators:200, citerion:gini, max_depth:20, max_features:100 --- score: 0.7005\n",
      "n_estimators:200, citerion:gini, max_depth:20, max_features:271 --- score: 0.6935\n",
      "n_estimators:200, citerion:gini, max_depth:20, max_features:442 --- score: 0.7125\n",
      "n_estimators:200, citerion:gini, max_depth:20, max_features:613 --- score: 0.7020\n",
      "n_estimators:200, citerion:gini, max_depth:20, max_features:784 --- score: 0.6890\n",
      "n_estimators:200, citerion:gini, max_depth:30, max_features:100 --- score: 0.6960\n",
      "n_estimators:200, citerion:gini, max_depth:30, max_features:271 --- score: 0.6955\n",
      "n_estimators:200, citerion:gini, max_depth:30, max_features:442 --- score: 0.7065\n",
      "n_estimators:200, citerion:gini, max_depth:30, max_features:613 --- score: 0.7160\n",
      "n_estimators:200, citerion:gini, max_depth:30, max_features:784 --- score: 0.6785\n",
      "n_estimators:300, citerion:gini, max_depth:10, max_features:100 --- score: 0.6960\n",
      "n_estimators:300, citerion:gini, max_depth:10, max_features:271 --- score: 0.7080\n",
      "n_estimators:300, citerion:gini, max_depth:10, max_features:442 --- score: 0.7115\n",
      "n_estimators:300, citerion:gini, max_depth:10, max_features:613 --- score: 0.6850\n",
      "n_estimators:300, citerion:gini, max_depth:10, max_features:784 --- score: 0.7000\n",
      "n_estimators:300, citerion:gini, max_depth:20, max_features:100 --- score: 0.6945\n",
      "n_estimators:300, citerion:gini, max_depth:20, max_features:271 --- score: 0.6845\n",
      "n_estimators:300, citerion:gini, max_depth:20, max_features:442 --- score: 0.6980\n",
      "n_estimators:300, citerion:gini, max_depth:20, max_features:613 --- score: 0.6825\n",
      "n_estimators:300, citerion:gini, max_depth:20, max_features:784 --- score: 0.7010\n",
      "n_estimators:300, citerion:gini, max_depth:30, max_features:100 --- score: 0.7110\n",
      "n_estimators:300, citerion:gini, max_depth:30, max_features:271 --- score: 0.6945\n",
      "n_estimators:300, citerion:gini, max_depth:30, max_features:442 --- score: 0.6960\n",
      "n_estimators:300, citerion:gini, max_depth:30, max_features:613 --- score: 0.6955\n",
      "n_estimators:300, citerion:gini, max_depth:30, max_features:784 --- score: 0.6970\n",
      "n_estimators:100, citerion:entropy, max_depth:10, max_features:100 --- score: 0.6835\n",
      "n_estimators:100, citerion:entropy, max_depth:10, max_features:271 --- score: 0.7065\n",
      "n_estimators:100, citerion:entropy, max_depth:10, max_features:442 --- score: 0.7085\n",
      "n_estimators:100, citerion:entropy, max_depth:10, max_features:613 --- score: 0.7040\n",
      "n_estimators:100, citerion:entropy, max_depth:10, max_features:784 --- score: 0.6985\n",
      "n_estimators:100, citerion:entropy, max_depth:20, max_features:100 --- score: 0.6960\n",
      "n_estimators:100, citerion:entropy, max_depth:20, max_features:271 --- score: 0.6945\n",
      "n_estimators:100, citerion:entropy, max_depth:20, max_features:442 --- score: 0.7080\n",
      "n_estimators:100, citerion:entropy, max_depth:20, max_features:613 --- score: 0.6920\n",
      "n_estimators:100, citerion:entropy, max_depth:20, max_features:784 --- score: 0.6955\n",
      "n_estimators:100, citerion:entropy, max_depth:30, max_features:100 --- score: 0.7085\n",
      "n_estimators:100, citerion:entropy, max_depth:30, max_features:271 --- score: 0.7230\n",
      "n_estimators:100, citerion:entropy, max_depth:30, max_features:442 --- score: 0.6890\n",
      "n_estimators:100, citerion:entropy, max_depth:30, max_features:613 --- score: 0.7100\n",
      "n_estimators:100, citerion:entropy, max_depth:30, max_features:784 --- score: 0.6905\n",
      "n_estimators:200, citerion:entropy, max_depth:10, max_features:100 --- score: 0.6930\n",
      "n_estimators:200, citerion:entropy, max_depth:10, max_features:271 --- score: 0.7030\n",
      "n_estimators:200, citerion:entropy, max_depth:10, max_features:442 --- score: 0.6905\n",
      "n_estimators:200, citerion:entropy, max_depth:10, max_features:613 --- score: 0.6940\n",
      "n_estimators:200, citerion:entropy, max_depth:10, max_features:784 --- score: 0.6965\n",
      "n_estimators:200, citerion:entropy, max_depth:20, max_features:100 --- score: 0.6950\n",
      "n_estimators:200, citerion:entropy, max_depth:20, max_features:271 --- score: 0.6985\n",
      "n_estimators:200, citerion:entropy, max_depth:20, max_features:442 --- score: 0.6885\n",
      "n_estimators:200, citerion:entropy, max_depth:20, max_features:613 --- score: 0.7065\n",
      "n_estimators:200, citerion:entropy, max_depth:20, max_features:784 --- score: 0.7010\n",
      "n_estimators:200, citerion:entropy, max_depth:30, max_features:100 --- score: 0.6960\n",
      "n_estimators:200, citerion:entropy, max_depth:30, max_features:271 --- score: 0.7135\n",
      "n_estimators:200, citerion:entropy, max_depth:30, max_features:442 --- score: 0.7020\n",
      "n_estimators:200, citerion:entropy, max_depth:30, max_features:613 --- score: 0.6985\n",
      "n_estimators:200, citerion:entropy, max_depth:30, max_features:784 --- score: 0.6975\n",
      "n_estimators:300, citerion:entropy, max_depth:10, max_features:100 --- score: 0.7100\n",
      "n_estimators:300, citerion:entropy, max_depth:10, max_features:271 --- score: 0.6915\n",
      "n_estimators:300, citerion:entropy, max_depth:10, max_features:442 --- score: 0.7010\n",
      "n_estimators:300, citerion:entropy, max_depth:10, max_features:613 --- score: 0.6900\n",
      "n_estimators:300, citerion:entropy, max_depth:10, max_features:784 --- score: 0.6985\n",
      "n_estimators:300, citerion:entropy, max_depth:20, max_features:100 --- score: 0.7035\n",
      "n_estimators:300, citerion:entropy, max_depth:20, max_features:271 --- score: 0.7070\n",
      "n_estimators:300, citerion:entropy, max_depth:20, max_features:442 --- score: 0.6955\n",
      "n_estimators:300, citerion:entropy, max_depth:20, max_features:613 --- score: 0.7100\n",
      "n_estimators:300, citerion:entropy, max_depth:20, max_features:784 --- score: 0.6915\n",
      "n_estimators:300, citerion:entropy, max_depth:30, max_features:100 --- score: 0.6895\n",
      "n_estimators:300, citerion:entropy, max_depth:30, max_features:271 --- score: 0.6895\n",
      "n_estimators:300, citerion:entropy, max_depth:30, max_features:442 --- score: 0.7050\n",
      "n_estimators:300, citerion:entropy, max_depth:30, max_features:613 --- score: 0.7010\n",
      "n_estimators:300, citerion:entropy, max_depth:30, max_features:784 --- score: 0.7065\n"
     ]
    }
   ],
   "source": [
    "num_feature = np.linspace(100, X_train.shape[1], 5).astype(int)\n",
    "\n",
    "for criterion in ['gini', 'entropy']:\n",
    "    for num_trees in [100, 200, 300]:\n",
    "        for max_depth in [10, 20, 30]:\n",
    "            for max_features in num_feature:\n",
    "                RF_model = RandomForestClassifier(n_estimators=num_trees, criterion=criterion, max_depth=max_depth, max_features=max_features)\n",
    "                scores = cross_val_score(DT_model,X_train[:2000], y_train[:2000])\n",
    "                print(\"n_estimators:{4}, citerion:{0}, max_depth:{1}, max_features:{2} --- score: {3:.4f}\".format(criterion, max_depth, max_features, scores.mean(), num_trees))"
   ]
  },
  {
   "cell_type": "code",
   "execution_count": 22,
   "metadata": {},
   "outputs": [],
   "source": [
    "RF_model = RandomForestClassifier(n_estimators=100, criterion='entropy', max_depth=30, max_features=271)\n",
    "RF_model.fit(X_train, y_train)"
   ]
  },
  {
   "cell_type": "code",
   "execution_count": 27,
   "metadata": {},
   "outputs": [
    {
     "name": "stdout",
     "output_type": "stream",
     "text": [
      "Mean accuracy: 0.9660\n"
     ]
    }
   ],
   "source": [
    "print('Mean accuracy: {0:.4f}'.format(RF_model.score(X_test, y_test)))"
   ]
  },
  {
   "cell_type": "code",
   "execution_count": 30,
   "metadata": {
    "scrolled": false
   },
   "outputs": [
    {
     "data": {
      "image/png": "[encoded data removed]",
      "text/plain": [
       "<Figure size 288x288 with 2 Axes>"
      ]
     },
     "metadata": {},
     "output_type": "display_data"
    }
   ],
   "source": [
    "importance = RF_model.feature_importances_\n",
    "plt.matshow(importance.reshape(28,28));\n",
    "plt.colorbar()\n",
    "plt.title('Pixel importance\\n', fontsize=16);"
   ]
  },
  {
   "cell_type": "code",
   "execution_count": 47,
   "metadata": {},
   "outputs": [
    {
     "name": "stdout",
     "output_type": "stream",
     "text": [
      "Class probabilities of correctly classified test samples: 0.8828, and misclassified test samples: 0.4547\n"
     ]
    }
   ],
   "source": [
    "y_pred = RF_model.predict(X_test)\n",
    "correct = RF_model.predict_proba(X_test[y_pred == y_test]).max(axis=1)\n",
    "incorrect = RF_model.predict_proba(X_test[y_pred != y_test]).max(axis=1)\n",
    "\n",
    "print('Class probabilities of correctly classified test samples: {0:.4f}, and misclassified test samples: {1:.4f}'.format(correct.mean(), incorrect.mean()))"
   ]
  },
  {
   "cell_type": "markdown",
   "metadata": {},
   "source": [
    "There are quite a few model parameters to optimize, but we decided on what we think are the major ones: criterion, max depth, max features, and for Random forest also number of estimators. The way to optimise is by grid searching and cross validating at each point. Since this can be very time consuming, we decreased the number of samples to 5000 in the decision tree and 2000 in the random forest.\n",
    "\n",
    "In the decision tree it looks like you need a minimal depth to achieve a relatively similar MSE for both criterions and it really isn't too sensitive to the number of features (even 1/8 of the feature seems to perform quite well).\n",
    "For the forest, it again seems quite insensitive to the parameters, if you choose them to be in a \"working range\" of the model (avoiding too few features, or too shallow of depth etc.).\n",
    "\n",
    "The accuracy of the random forest is clearly superior, not surprising since random forest is a generalization of the decision tree method.\n",
    "\n",
    "In the pixel importance images we can see a similar pattern, although the random forest one looks more detailed. The pixels near the center seem to be more important.\n",
    "\n",
    "Regarding class probabilities for correctly classified and misclassified test samples, we can see that while the random forest is \"not sure\" about the misclassified samples (only about 45% probability), the decision tree is very confident in his misclassifications at 98%. Again, an indication of why the random forest is much better at this classification task."
   ]
  },
  {
   "cell_type": "markdown",
   "metadata": {
    "colab_type": "text",
    "id": "k0GSFGrtOF4B"
   },
   "source": [
    "## References\n",
    "- https://www.analyticsvidhya.com/blog/2014/06/introduction-random-forest-simplified/"
   ]
  }
 ],
 "metadata": {
  "colab": {
   "collapsed_sections": [],
   "name": "Decision Trees - Exercise.ipynb",
   "provenance": [],
   "version": "0.3.2"
  },
  "kernelspec": {
   "display_name": "Python 3",
   "language": "python",
   "name": "python3"
  },
  "language_info": {
   "codemirror_mode": {
    "name": "ipython",
    "version": 3
   },
   "file_extension": ".py",
   "mimetype": "text/x-python",
   "name": "python",
   "nbconvert_exporter": "python",
   "pygments_lexer": "ipython3",
   "version": "3.6.10"
  }
 },
 "nbformat": 4,
 "nbformat_minor": 1
}
